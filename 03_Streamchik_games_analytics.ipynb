{
 "cells": [
  {
   "cell_type": "markdown",
   "id": "d5f56a5d",
   "metadata": {
    "toc": true
   },
   "source": [
    "<h1>Table of Contents<span class=\"tocSkip\"></span></h1>\n",
    "<div class=\"toc\"><ul class=\"toc-item\"><li><span><a href=\"#Загрузка-данных\" data-toc-modified-id=\"Загрузка-данных-1\"><span class=\"toc-item-num\">1&nbsp;&nbsp;</span>Загрузка данных</a></span></li><li><span><a href=\"#Предобработка-данных\" data-toc-modified-id=\"Предобработка-данных-2\"><span class=\"toc-item-num\">2&nbsp;&nbsp;</span>Предобработка данных</a></span><ul class=\"toc-item\"><li><span><a href=\"#Изменение-названия-столбцов\" data-toc-modified-id=\"Изменение-названия-столбцов-2.1\"><span class=\"toc-item-num\">2.1&nbsp;&nbsp;</span>Изменение названия столбцов</a></span></li><li><span><a href=\"#Приведение-данных-к-нужному-типу-и-заполнение-пропусков\" data-toc-modified-id=\"Приведение-данных-к-нужному-типу-и-заполнение-пропусков-2.2\"><span class=\"toc-item-num\">2.2&nbsp;&nbsp;</span>Приведение данных к нужному типу и заполнение пропусков</a></span></li><li><span><a href=\"#Суммарные-продажи-во-всех-регионах\" data-toc-modified-id=\"Суммарные-продажи-во-всех-регионах-2.3\"><span class=\"toc-item-num\">2.3&nbsp;&nbsp;</span>Суммарные продажи во всех регионах</a></span></li><li><span><a href=\"#Поищем-дубликаты-данных-по-играм\" data-toc-modified-id=\"Поищем-дубликаты-данных-по-играм-2.4\"><span class=\"toc-item-num\">2.4&nbsp;&nbsp;</span>Поищем дубликаты данных по играм</a></span></li><li><span><a href=\"#Вывод-по-предобработке-данных\" data-toc-modified-id=\"Вывод-по-предобработке-данных-2.5\"><span class=\"toc-item-num\">2.5&nbsp;&nbsp;</span>Вывод по предобработке данных</a></span></li></ul></li><li><span><a href=\"#Исследовательский-анализ-данных\" data-toc-modified-id=\"Исследовательский-анализ-данных-3\"><span class=\"toc-item-num\">3&nbsp;&nbsp;</span>Исследовательский анализ данных</a></span><ul class=\"toc-item\"><li><span><a href=\"#Выпуск-игр-по-годам\" data-toc-modified-id=\"Выпуск-игр-по-годам-3.1\"><span class=\"toc-item-num\">3.1&nbsp;&nbsp;</span>Выпуск игр по годам</a></span></li><li><span><a href=\"#Анализ-продаж-по-платформам\" data-toc-modified-id=\"Анализ-продаж-по-платформам-3.2\"><span class=\"toc-item-num\">3.2&nbsp;&nbsp;</span>Анализ продаж по платформам</a></span></li><li><span><a href=\"#Выбор-актуального-периода\" data-toc-modified-id=\"Выбор-актуального-периода-3.3\"><span class=\"toc-item-num\">3.3&nbsp;&nbsp;</span>Выбор актуального периода</a></span></li><li><span><a href=\"#Анализ-данных-по-платформам-за-последние-годы\" data-toc-modified-id=\"Анализ-данных-по-платформам-за-последние-годы-3.4\"><span class=\"toc-item-num\">3.4&nbsp;&nbsp;</span>Анализ данных по платформам за последние годы</a></span></li><li><span><a href=\"#Построение-ящиков-с-усами-для-игр-по-платформам\" data-toc-modified-id=\"Построение-ящиков-с-усами-для-игр-по-платформам-3.5\"><span class=\"toc-item-num\">3.5&nbsp;&nbsp;</span>Построение ящиков с усами для игр по платформам</a></span></li><li><span><a href=\"#Оценка-влияния-отзывов-пользователей-и-критиков-внутри-одной-платформы\" data-toc-modified-id=\"Оценка-влияния-отзывов-пользователей-и-критиков-внутри-одной-платформы-3.6\"><span class=\"toc-item-num\">3.6&nbsp;&nbsp;</span>Оценка влияния отзывов пользователей и критиков внутри одной платформы</a></span></li><li><span><a href=\"#Проверка-корреляции-для-других-платформ\" data-toc-modified-id=\"Проверка-корреляции-для-других-платформ-3.7\"><span class=\"toc-item-num\">3.7&nbsp;&nbsp;</span>Проверка корреляции для других платформ</a></span></li><li><span><a href=\"#Распределение-игр-по-жанрам\" data-toc-modified-id=\"Распределение-игр-по-жанрам-3.8\"><span class=\"toc-item-num\">3.8&nbsp;&nbsp;</span>Распределение игр по жанрам</a></span></li></ul></li><li><span><a href=\"#Составление-портрета-пользователя-по-регионам\" data-toc-modified-id=\"Составление-портрета-пользователя-по-регионам-4\"><span class=\"toc-item-num\">4&nbsp;&nbsp;</span>Составление портрета пользователя по регионам</a></span><ul class=\"toc-item\"><li><span><a href=\"#Распределение-игр-по-платформам\" data-toc-modified-id=\"Распределение-игр-по-платформам-4.1\"><span class=\"toc-item-num\">4.1&nbsp;&nbsp;</span>Распределение игр по платформам</a></span></li><li><span><a href=\"#Распределение-игр-по-жанрам\" data-toc-modified-id=\"Распределение-игр-по-жанрам-4.2\"><span class=\"toc-item-num\">4.2&nbsp;&nbsp;</span>Распределение игр по жанрам</a></span></li><li><span><a href=\"#Влияние-ESRB-на-продажи\" data-toc-modified-id=\"Влияние-ESRB-на-продажи-4.3\"><span class=\"toc-item-num\">4.3&nbsp;&nbsp;</span>Влияние ESRB на продажи</a></span></li><li><span><a href=\"#Портреты-пользователей\" data-toc-modified-id=\"Портреты-пользователей-4.4\"><span class=\"toc-item-num\">4.4&nbsp;&nbsp;</span>Портреты пользователей</a></span></li></ul></li><li><span><a href=\"#Проверка-гипотез\" data-toc-modified-id=\"Проверка-гипотез-5\"><span class=\"toc-item-num\">5&nbsp;&nbsp;</span>Проверка гипотез</a></span><ul class=\"toc-item\"><li><span><a href=\"#Средние-пользовательские-рейтинги-платформ-Xbox-One-и-PC-одинаковые\" data-toc-modified-id=\"Средние-пользовательские-рейтинги-платформ-Xbox-One-и-PC-одинаковые-5.1\"><span class=\"toc-item-num\">5.1&nbsp;&nbsp;</span>Средние пользовательские рейтинги платформ Xbox One и PC одинаковые</a></span></li><li><span><a href=\"#Средние-пользовательские-рейтинги-жанров-Action-и-Sports-разные\" data-toc-modified-id=\"Средние-пользовательские-рейтинги-жанров-Action-и-Sports-разные-5.2\"><span class=\"toc-item-num\">5.2&nbsp;&nbsp;</span>Средние пользовательские рейтинги жанров Action и Sports разные</a></span></li></ul></li><li><span><a href=\"#Общий-вывод\" data-toc-modified-id=\"Общий-вывод-6\"><span class=\"toc-item-num\">6&nbsp;&nbsp;</span>Общий вывод</a></span></li></ul></div>"
   ]
  },
  {
   "cell_type": "markdown",
   "id": "aa0e9b72",
   "metadata": {},
   "source": [
    "# Анализ продаж игр магазина \"стримчик\"\n",
    "\n",
    "У нас есть данные по продажам игр из открытых источников. Нам нужно спланировать рекламные компании с целью увеличения продаж.\n",
    "\n",
    "***Цели исследования***:\n",
    "1. Описать и визуализировать информацию об играх\n",
    "2. Изучить и визуализировать информацию по платформам для игр\n",
    "3. Оценить корреляцию между отзывами игроков и продажами\n",
    "4. Построить распределения и проанализировать раздачу промокодов и рассылку push-уведомлений\n",
    "\n",
    "***Ход исследования***:\n",
    "1. Получим данные из исходного датасета об играх (/datasets/games.csv).\n",
    "2. Обработаем исходные данные: поищем в них ошибки, пропуски и дубликаты, в случае необходимости исправим. Приведем данные к нужным типам.\n",
    "3. Проведем исследование: \n",
    "- выпуска игр по годам \n",
    "- рассмотрим изменение продаж игр по платформам по годам\n",
    "- оценим, какие данные стоит использовать для оценки продаж в следующем году\n",
    "- рассмотрим платформы по продажам, выделим из них самые потенциально прибыльные\n",
    "- построим ящик с усами по глобальным продажам для каждой платформы\n",
    "- оценим корреляцию между отзывами и продажами внутри одной платформы\n",
    "- рассмотрим данные и выделим наиболее прибыльный жанр\n",
    "4. Составим портреты пользователей по регионам\n",
    "5. Проверим гипотезы:\n",
    "- Средние пользовательские рейтинги платформ Xbox One и PC одинаковые\n",
    "- Средние пользовательские рейтинги жанров Action (англ. «действие», экшен-игры) и Sports (англ. «спортивные соревнования») разные\n",
    "6. Сделаем общий вывод"
   ]
  },
  {
   "cell_type": "markdown",
   "id": "d8f53aa8",
   "metadata": {},
   "source": [
    "#### Загрузка данных"
   ]
  },
  {
   "cell_type": "code",
   "execution_count": 1,
   "id": "44fe7797",
   "metadata": {},
   "outputs": [],
   "source": [
    "import pandas as pd\n",
    "from scipy import stats as st\n",
    "import numpy as np\n",
    "import matplotlib.pyplot as plt\n",
    "import seaborn as sns"
   ]
  },
  {
   "cell_type": "code",
   "execution_count": 2,
   "id": "2fa3f58a",
   "metadata": {},
   "outputs": [
    {
     "name": "stdout",
     "output_type": "stream",
     "text": [
      "Код выполняется на платформе\n"
     ]
    }
   ],
   "source": [
    "try:\n",
    "    game_data = pd.read_csv('/datasets/games.csv')\n",
    "    print('Код выполняется на платформе')\n",
    "except FileNotFoundError:\n",
    "    game_data = pd.read_csv('datasets/games.csv')\n",
    "    print('Код выполняется локально')"
   ]
  },
  {
   "cell_type": "code",
   "execution_count": 3,
   "id": "c91b1840",
   "metadata": {},
   "outputs": [
    {
     "name": "stdout",
     "output_type": "stream",
     "text": [
      "<class 'pandas.core.frame.DataFrame'>\n",
      "RangeIndex: 16715 entries, 0 to 16714\n",
      "Data columns (total 11 columns):\n",
      " #   Column           Non-Null Count  Dtype  \n",
      "---  ------           --------------  -----  \n",
      " 0   Name             16713 non-null  object \n",
      " 1   Platform         16715 non-null  object \n",
      " 2   Year_of_Release  16446 non-null  float64\n",
      " 3   Genre            16713 non-null  object \n",
      " 4   NA_sales         16715 non-null  float64\n",
      " 5   EU_sales         16715 non-null  float64\n",
      " 6   JP_sales         16715 non-null  float64\n",
      " 7   Other_sales      16715 non-null  float64\n",
      " 8   Critic_Score     8137 non-null   float64\n",
      " 9   User_Score       10014 non-null  object \n",
      " 10  Rating           9949 non-null   object \n",
      "dtypes: float64(6), object(5)\n",
      "memory usage: 1.4+ MB\n",
      "None\n"
     ]
    },
    {
     "data": {
      "text/html": [
       "<div>\n",
       "<style scoped>\n",
       "    .dataframe tbody tr th:only-of-type {\n",
       "        vertical-align: middle;\n",
       "    }\n",
       "\n",
       "    .dataframe tbody tr th {\n",
       "        vertical-align: top;\n",
       "    }\n",
       "\n",
       "    .dataframe thead th {\n",
       "        text-align: right;\n",
       "    }\n",
       "</style>\n",
       "<table border=\"1\" class=\"dataframe\">\n",
       "  <thead>\n",
       "    <tr style=\"text-align: right;\">\n",
       "      <th></th>\n",
       "      <th>Name</th>\n",
       "      <th>Platform</th>\n",
       "      <th>Year_of_Release</th>\n",
       "      <th>Genre</th>\n",
       "      <th>NA_sales</th>\n",
       "      <th>EU_sales</th>\n",
       "      <th>JP_sales</th>\n",
       "      <th>Other_sales</th>\n",
       "      <th>Critic_Score</th>\n",
       "      <th>User_Score</th>\n",
       "      <th>Rating</th>\n",
       "    </tr>\n",
       "  </thead>\n",
       "  <tbody>\n",
       "    <tr>\n",
       "      <th>0</th>\n",
       "      <td>Wii Sports</td>\n",
       "      <td>Wii</td>\n",
       "      <td>2006.0</td>\n",
       "      <td>Sports</td>\n",
       "      <td>41.36</td>\n",
       "      <td>28.96</td>\n",
       "      <td>3.77</td>\n",
       "      <td>8.45</td>\n",
       "      <td>76.0</td>\n",
       "      <td>8</td>\n",
       "      <td>E</td>\n",
       "    </tr>\n",
       "    <tr>\n",
       "      <th>1</th>\n",
       "      <td>Super Mario Bros.</td>\n",
       "      <td>NES</td>\n",
       "      <td>1985.0</td>\n",
       "      <td>Platform</td>\n",
       "      <td>29.08</td>\n",
       "      <td>3.58</td>\n",
       "      <td>6.81</td>\n",
       "      <td>0.77</td>\n",
       "      <td>NaN</td>\n",
       "      <td>NaN</td>\n",
       "      <td>NaN</td>\n",
       "    </tr>\n",
       "    <tr>\n",
       "      <th>2</th>\n",
       "      <td>Mario Kart Wii</td>\n",
       "      <td>Wii</td>\n",
       "      <td>2008.0</td>\n",
       "      <td>Racing</td>\n",
       "      <td>15.68</td>\n",
       "      <td>12.76</td>\n",
       "      <td>3.79</td>\n",
       "      <td>3.29</td>\n",
       "      <td>82.0</td>\n",
       "      <td>8.3</td>\n",
       "      <td>E</td>\n",
       "    </tr>\n",
       "    <tr>\n",
       "      <th>3</th>\n",
       "      <td>Wii Sports Resort</td>\n",
       "      <td>Wii</td>\n",
       "      <td>2009.0</td>\n",
       "      <td>Sports</td>\n",
       "      <td>15.61</td>\n",
       "      <td>10.93</td>\n",
       "      <td>3.28</td>\n",
       "      <td>2.95</td>\n",
       "      <td>80.0</td>\n",
       "      <td>8</td>\n",
       "      <td>E</td>\n",
       "    </tr>\n",
       "    <tr>\n",
       "      <th>4</th>\n",
       "      <td>Pokemon Red/Pokemon Blue</td>\n",
       "      <td>GB</td>\n",
       "      <td>1996.0</td>\n",
       "      <td>Role-Playing</td>\n",
       "      <td>11.27</td>\n",
       "      <td>8.89</td>\n",
       "      <td>10.22</td>\n",
       "      <td>1.00</td>\n",
       "      <td>NaN</td>\n",
       "      <td>NaN</td>\n",
       "      <td>NaN</td>\n",
       "    </tr>\n",
       "    <tr>\n",
       "      <th>...</th>\n",
       "      <td>...</td>\n",
       "      <td>...</td>\n",
       "      <td>...</td>\n",
       "      <td>...</td>\n",
       "      <td>...</td>\n",
       "      <td>...</td>\n",
       "      <td>...</td>\n",
       "      <td>...</td>\n",
       "      <td>...</td>\n",
       "      <td>...</td>\n",
       "      <td>...</td>\n",
       "    </tr>\n",
       "    <tr>\n",
       "      <th>16710</th>\n",
       "      <td>Samurai Warriors: Sanada Maru</td>\n",
       "      <td>PS3</td>\n",
       "      <td>2016.0</td>\n",
       "      <td>Action</td>\n",
       "      <td>0.00</td>\n",
       "      <td>0.00</td>\n",
       "      <td>0.01</td>\n",
       "      <td>0.00</td>\n",
       "      <td>NaN</td>\n",
       "      <td>NaN</td>\n",
       "      <td>NaN</td>\n",
       "    </tr>\n",
       "    <tr>\n",
       "      <th>16711</th>\n",
       "      <td>LMA Manager 2007</td>\n",
       "      <td>X360</td>\n",
       "      <td>2006.0</td>\n",
       "      <td>Sports</td>\n",
       "      <td>0.00</td>\n",
       "      <td>0.01</td>\n",
       "      <td>0.00</td>\n",
       "      <td>0.00</td>\n",
       "      <td>NaN</td>\n",
       "      <td>NaN</td>\n",
       "      <td>NaN</td>\n",
       "    </tr>\n",
       "    <tr>\n",
       "      <th>16712</th>\n",
       "      <td>Haitaka no Psychedelica</td>\n",
       "      <td>PSV</td>\n",
       "      <td>2016.0</td>\n",
       "      <td>Adventure</td>\n",
       "      <td>0.00</td>\n",
       "      <td>0.00</td>\n",
       "      <td>0.01</td>\n",
       "      <td>0.00</td>\n",
       "      <td>NaN</td>\n",
       "      <td>NaN</td>\n",
       "      <td>NaN</td>\n",
       "    </tr>\n",
       "    <tr>\n",
       "      <th>16713</th>\n",
       "      <td>Spirits &amp; Spells</td>\n",
       "      <td>GBA</td>\n",
       "      <td>2003.0</td>\n",
       "      <td>Platform</td>\n",
       "      <td>0.01</td>\n",
       "      <td>0.00</td>\n",
       "      <td>0.00</td>\n",
       "      <td>0.00</td>\n",
       "      <td>NaN</td>\n",
       "      <td>NaN</td>\n",
       "      <td>NaN</td>\n",
       "    </tr>\n",
       "    <tr>\n",
       "      <th>16714</th>\n",
       "      <td>Winning Post 8 2016</td>\n",
       "      <td>PSV</td>\n",
       "      <td>2016.0</td>\n",
       "      <td>Simulation</td>\n",
       "      <td>0.00</td>\n",
       "      <td>0.00</td>\n",
       "      <td>0.01</td>\n",
       "      <td>0.00</td>\n",
       "      <td>NaN</td>\n",
       "      <td>NaN</td>\n",
       "      <td>NaN</td>\n",
       "    </tr>\n",
       "  </tbody>\n",
       "</table>\n",
       "<p>16715 rows × 11 columns</p>\n",
       "</div>"
      ],
      "text/plain": [
       "                                Name Platform  Year_of_Release         Genre  \\\n",
       "0                         Wii Sports      Wii           2006.0        Sports   \n",
       "1                  Super Mario Bros.      NES           1985.0      Platform   \n",
       "2                     Mario Kart Wii      Wii           2008.0        Racing   \n",
       "3                  Wii Sports Resort      Wii           2009.0        Sports   \n",
       "4           Pokemon Red/Pokemon Blue       GB           1996.0  Role-Playing   \n",
       "...                              ...      ...              ...           ...   \n",
       "16710  Samurai Warriors: Sanada Maru      PS3           2016.0        Action   \n",
       "16711               LMA Manager 2007     X360           2006.0        Sports   \n",
       "16712        Haitaka no Psychedelica      PSV           2016.0     Adventure   \n",
       "16713               Spirits & Spells      GBA           2003.0      Platform   \n",
       "16714            Winning Post 8 2016      PSV           2016.0    Simulation   \n",
       "\n",
       "       NA_sales  EU_sales  JP_sales  Other_sales  Critic_Score User_Score  \\\n",
       "0         41.36     28.96      3.77         8.45          76.0          8   \n",
       "1         29.08      3.58      6.81         0.77           NaN        NaN   \n",
       "2         15.68     12.76      3.79         3.29          82.0        8.3   \n",
       "3         15.61     10.93      3.28         2.95          80.0          8   \n",
       "4         11.27      8.89     10.22         1.00           NaN        NaN   \n",
       "...         ...       ...       ...          ...           ...        ...   \n",
       "16710      0.00      0.00      0.01         0.00           NaN        NaN   \n",
       "16711      0.00      0.01      0.00         0.00           NaN        NaN   \n",
       "16712      0.00      0.00      0.01         0.00           NaN        NaN   \n",
       "16713      0.01      0.00      0.00         0.00           NaN        NaN   \n",
       "16714      0.00      0.00      0.01         0.00           NaN        NaN   \n",
       "\n",
       "      Rating  \n",
       "0          E  \n",
       "1        NaN  \n",
       "2          E  \n",
       "3          E  \n",
       "4        NaN  \n",
       "...      ...  \n",
       "16710    NaN  \n",
       "16711    NaN  \n",
       "16712    NaN  \n",
       "16713    NaN  \n",
       "16714    NaN  \n",
       "\n",
       "[16715 rows x 11 columns]"
      ]
     },
     "execution_count": 3,
     "metadata": {},
     "output_type": "execute_result"
    }
   ],
   "source": [
    "print(game_data.info())\n",
    "game_data"
   ]
  },
  {
   "cell_type": "markdown",
   "id": "6c834bc7",
   "metadata": {},
   "source": [
    "Информация из файлов прочиталась, но видны пропуски в данных, требуется их предобработка."
   ]
  },
  {
   "cell_type": "markdown",
   "id": "e1b71ed8",
   "metadata": {},
   "source": [
    "#### Предобработка данных"
   ]
  },
  {
   "cell_type": "markdown",
   "id": "a093e5cf",
   "metadata": {},
   "source": [
    "##### Изменение названия столбцов"
   ]
  },
  {
   "cell_type": "code",
   "execution_count": 4,
   "id": "a7541a74",
   "metadata": {},
   "outputs": [
    {
     "data": {
      "text/html": [
       "<div>\n",
       "<style scoped>\n",
       "    .dataframe tbody tr th:only-of-type {\n",
       "        vertical-align: middle;\n",
       "    }\n",
       "\n",
       "    .dataframe tbody tr th {\n",
       "        vertical-align: top;\n",
       "    }\n",
       "\n",
       "    .dataframe thead th {\n",
       "        text-align: right;\n",
       "    }\n",
       "</style>\n",
       "<table border=\"1\" class=\"dataframe\">\n",
       "  <thead>\n",
       "    <tr style=\"text-align: right;\">\n",
       "      <th></th>\n",
       "      <th>name</th>\n",
       "      <th>platform</th>\n",
       "      <th>year_of_release</th>\n",
       "      <th>genre</th>\n",
       "      <th>na_sales</th>\n",
       "      <th>eu_sales</th>\n",
       "      <th>jp_sales</th>\n",
       "      <th>other_sales</th>\n",
       "      <th>critic_score</th>\n",
       "      <th>user_score</th>\n",
       "      <th>rating</th>\n",
       "    </tr>\n",
       "  </thead>\n",
       "  <tbody>\n",
       "    <tr>\n",
       "      <th>0</th>\n",
       "      <td>Wii Sports</td>\n",
       "      <td>Wii</td>\n",
       "      <td>2006.0</td>\n",
       "      <td>Sports</td>\n",
       "      <td>41.36</td>\n",
       "      <td>28.96</td>\n",
       "      <td>3.77</td>\n",
       "      <td>8.45</td>\n",
       "      <td>76.0</td>\n",
       "      <td>8</td>\n",
       "      <td>E</td>\n",
       "    </tr>\n",
       "    <tr>\n",
       "      <th>1</th>\n",
       "      <td>Super Mario Bros.</td>\n",
       "      <td>NES</td>\n",
       "      <td>1985.0</td>\n",
       "      <td>Platform</td>\n",
       "      <td>29.08</td>\n",
       "      <td>3.58</td>\n",
       "      <td>6.81</td>\n",
       "      <td>0.77</td>\n",
       "      <td>NaN</td>\n",
       "      <td>NaN</td>\n",
       "      <td>NaN</td>\n",
       "    </tr>\n",
       "    <tr>\n",
       "      <th>2</th>\n",
       "      <td>Mario Kart Wii</td>\n",
       "      <td>Wii</td>\n",
       "      <td>2008.0</td>\n",
       "      <td>Racing</td>\n",
       "      <td>15.68</td>\n",
       "      <td>12.76</td>\n",
       "      <td>3.79</td>\n",
       "      <td>3.29</td>\n",
       "      <td>82.0</td>\n",
       "      <td>8.3</td>\n",
       "      <td>E</td>\n",
       "    </tr>\n",
       "    <tr>\n",
       "      <th>3</th>\n",
       "      <td>Wii Sports Resort</td>\n",
       "      <td>Wii</td>\n",
       "      <td>2009.0</td>\n",
       "      <td>Sports</td>\n",
       "      <td>15.61</td>\n",
       "      <td>10.93</td>\n",
       "      <td>3.28</td>\n",
       "      <td>2.95</td>\n",
       "      <td>80.0</td>\n",
       "      <td>8</td>\n",
       "      <td>E</td>\n",
       "    </tr>\n",
       "    <tr>\n",
       "      <th>4</th>\n",
       "      <td>Pokemon Red/Pokemon Blue</td>\n",
       "      <td>GB</td>\n",
       "      <td>1996.0</td>\n",
       "      <td>Role-Playing</td>\n",
       "      <td>11.27</td>\n",
       "      <td>8.89</td>\n",
       "      <td>10.22</td>\n",
       "      <td>1.00</td>\n",
       "      <td>NaN</td>\n",
       "      <td>NaN</td>\n",
       "      <td>NaN</td>\n",
       "    </tr>\n",
       "    <tr>\n",
       "      <th>...</th>\n",
       "      <td>...</td>\n",
       "      <td>...</td>\n",
       "      <td>...</td>\n",
       "      <td>...</td>\n",
       "      <td>...</td>\n",
       "      <td>...</td>\n",
       "      <td>...</td>\n",
       "      <td>...</td>\n",
       "      <td>...</td>\n",
       "      <td>...</td>\n",
       "      <td>...</td>\n",
       "    </tr>\n",
       "    <tr>\n",
       "      <th>16710</th>\n",
       "      <td>Samurai Warriors: Sanada Maru</td>\n",
       "      <td>PS3</td>\n",
       "      <td>2016.0</td>\n",
       "      <td>Action</td>\n",
       "      <td>0.00</td>\n",
       "      <td>0.00</td>\n",
       "      <td>0.01</td>\n",
       "      <td>0.00</td>\n",
       "      <td>NaN</td>\n",
       "      <td>NaN</td>\n",
       "      <td>NaN</td>\n",
       "    </tr>\n",
       "    <tr>\n",
       "      <th>16711</th>\n",
       "      <td>LMA Manager 2007</td>\n",
       "      <td>X360</td>\n",
       "      <td>2006.0</td>\n",
       "      <td>Sports</td>\n",
       "      <td>0.00</td>\n",
       "      <td>0.01</td>\n",
       "      <td>0.00</td>\n",
       "      <td>0.00</td>\n",
       "      <td>NaN</td>\n",
       "      <td>NaN</td>\n",
       "      <td>NaN</td>\n",
       "    </tr>\n",
       "    <tr>\n",
       "      <th>16712</th>\n",
       "      <td>Haitaka no Psychedelica</td>\n",
       "      <td>PSV</td>\n",
       "      <td>2016.0</td>\n",
       "      <td>Adventure</td>\n",
       "      <td>0.00</td>\n",
       "      <td>0.00</td>\n",
       "      <td>0.01</td>\n",
       "      <td>0.00</td>\n",
       "      <td>NaN</td>\n",
       "      <td>NaN</td>\n",
       "      <td>NaN</td>\n",
       "    </tr>\n",
       "    <tr>\n",
       "      <th>16713</th>\n",
       "      <td>Spirits &amp; Spells</td>\n",
       "      <td>GBA</td>\n",
       "      <td>2003.0</td>\n",
       "      <td>Platform</td>\n",
       "      <td>0.01</td>\n",
       "      <td>0.00</td>\n",
       "      <td>0.00</td>\n",
       "      <td>0.00</td>\n",
       "      <td>NaN</td>\n",
       "      <td>NaN</td>\n",
       "      <td>NaN</td>\n",
       "    </tr>\n",
       "    <tr>\n",
       "      <th>16714</th>\n",
       "      <td>Winning Post 8 2016</td>\n",
       "      <td>PSV</td>\n",
       "      <td>2016.0</td>\n",
       "      <td>Simulation</td>\n",
       "      <td>0.00</td>\n",
       "      <td>0.00</td>\n",
       "      <td>0.01</td>\n",
       "      <td>0.00</td>\n",
       "      <td>NaN</td>\n",
       "      <td>NaN</td>\n",
       "      <td>NaN</td>\n",
       "    </tr>\n",
       "  </tbody>\n",
       "</table>\n",
       "<p>16715 rows × 11 columns</p>\n",
       "</div>"
      ],
      "text/plain": [
       "                                name platform  year_of_release         genre  \\\n",
       "0                         Wii Sports      Wii           2006.0        Sports   \n",
       "1                  Super Mario Bros.      NES           1985.0      Platform   \n",
       "2                     Mario Kart Wii      Wii           2008.0        Racing   \n",
       "3                  Wii Sports Resort      Wii           2009.0        Sports   \n",
       "4           Pokemon Red/Pokemon Blue       GB           1996.0  Role-Playing   \n",
       "...                              ...      ...              ...           ...   \n",
       "16710  Samurai Warriors: Sanada Maru      PS3           2016.0        Action   \n",
       "16711               LMA Manager 2007     X360           2006.0        Sports   \n",
       "16712        Haitaka no Psychedelica      PSV           2016.0     Adventure   \n",
       "16713               Spirits & Spells      GBA           2003.0      Platform   \n",
       "16714            Winning Post 8 2016      PSV           2016.0    Simulation   \n",
       "\n",
       "       na_sales  eu_sales  jp_sales  other_sales  critic_score user_score  \\\n",
       "0         41.36     28.96      3.77         8.45          76.0          8   \n",
       "1         29.08      3.58      6.81         0.77           NaN        NaN   \n",
       "2         15.68     12.76      3.79         3.29          82.0        8.3   \n",
       "3         15.61     10.93      3.28         2.95          80.0          8   \n",
       "4         11.27      8.89     10.22         1.00           NaN        NaN   \n",
       "...         ...       ...       ...          ...           ...        ...   \n",
       "16710      0.00      0.00      0.01         0.00           NaN        NaN   \n",
       "16711      0.00      0.01      0.00         0.00           NaN        NaN   \n",
       "16712      0.00      0.00      0.01         0.00           NaN        NaN   \n",
       "16713      0.01      0.00      0.00         0.00           NaN        NaN   \n",
       "16714      0.00      0.00      0.01         0.00           NaN        NaN   \n",
       "\n",
       "      rating  \n",
       "0          E  \n",
       "1        NaN  \n",
       "2          E  \n",
       "3          E  \n",
       "4        NaN  \n",
       "...      ...  \n",
       "16710    NaN  \n",
       "16711    NaN  \n",
       "16712    NaN  \n",
       "16713    NaN  \n",
       "16714    NaN  \n",
       "\n",
       "[16715 rows x 11 columns]"
      ]
     },
     "execution_count": 4,
     "metadata": {},
     "output_type": "execute_result"
    }
   ],
   "source": [
    "game_data.columns = [x.lower() for x in game_data.columns]\n",
    "game_data"
   ]
  },
  {
   "cell_type": "markdown",
   "id": "1f51ad23",
   "metadata": {},
   "source": [
    "##### Приведение данных к нужному типу и заполнение пропусков"
   ]
  },
  {
   "cell_type": "code",
   "execution_count": 5,
   "id": "4b33790b",
   "metadata": {},
   "outputs": [
    {
     "name": "stdout",
     "output_type": "stream",
     "text": [
      "<class 'pandas.core.frame.DataFrame'>\n",
      "RangeIndex: 16715 entries, 0 to 16714\n",
      "Data columns (total 11 columns):\n",
      " #   Column           Non-Null Count  Dtype  \n",
      "---  ------           --------------  -----  \n",
      " 0   name             16713 non-null  object \n",
      " 1   platform         16715 non-null  object \n",
      " 2   year_of_release  16446 non-null  float64\n",
      " 3   genre            16713 non-null  object \n",
      " 4   na_sales         16715 non-null  float64\n",
      " 5   eu_sales         16715 non-null  float64\n",
      " 6   jp_sales         16715 non-null  float64\n",
      " 7   other_sales      16715 non-null  float64\n",
      " 8   critic_score     8137 non-null   float64\n",
      " 9   user_score       10014 non-null  object \n",
      " 10  rating           9949 non-null   object \n",
      "dtypes: float64(6), object(5)\n",
      "memory usage: 1.4+ MB\n"
     ]
    }
   ],
   "source": [
    "game_data['year_of_release'] = game_data['year_of_release'].astype('int32', errors='ignore')\n",
    "game_data['user_score'] = game_data['user_score'].astype('float64', errors='ignore')\n",
    "game_data.info()"
   ]
  },
  {
   "cell_type": "code",
   "execution_count": 6,
   "id": "48ade0b3",
   "metadata": {},
   "outputs": [
    {
     "data": {
      "text/html": [
       "<div>\n",
       "<style scoped>\n",
       "    .dataframe tbody tr th:only-of-type {\n",
       "        vertical-align: middle;\n",
       "    }\n",
       "\n",
       "    .dataframe tbody tr th {\n",
       "        vertical-align: top;\n",
       "    }\n",
       "\n",
       "    .dataframe thead th {\n",
       "        text-align: right;\n",
       "    }\n",
       "</style>\n",
       "<table border=\"1\" class=\"dataframe\">\n",
       "  <thead>\n",
       "    <tr style=\"text-align: right;\">\n",
       "      <th></th>\n",
       "      <th>name</th>\n",
       "      <th>platform</th>\n",
       "      <th>year_of_release</th>\n",
       "      <th>genre</th>\n",
       "      <th>na_sales</th>\n",
       "      <th>eu_sales</th>\n",
       "      <th>jp_sales</th>\n",
       "      <th>other_sales</th>\n",
       "      <th>critic_score</th>\n",
       "      <th>user_score</th>\n",
       "      <th>rating</th>\n",
       "    </tr>\n",
       "  </thead>\n",
       "  <tbody>\n",
       "    <tr>\n",
       "      <th>183</th>\n",
       "      <td>Madden NFL 2004</td>\n",
       "      <td>PS2</td>\n",
       "      <td>NaN</td>\n",
       "      <td>Sports</td>\n",
       "      <td>4.26</td>\n",
       "      <td>0.26</td>\n",
       "      <td>0.01</td>\n",
       "      <td>0.71</td>\n",
       "      <td>94.0</td>\n",
       "      <td>8.5</td>\n",
       "      <td>E</td>\n",
       "    </tr>\n",
       "    <tr>\n",
       "      <th>377</th>\n",
       "      <td>FIFA Soccer 2004</td>\n",
       "      <td>PS2</td>\n",
       "      <td>NaN</td>\n",
       "      <td>Sports</td>\n",
       "      <td>0.59</td>\n",
       "      <td>2.36</td>\n",
       "      <td>0.04</td>\n",
       "      <td>0.51</td>\n",
       "      <td>84.0</td>\n",
       "      <td>6.4</td>\n",
       "      <td>E</td>\n",
       "    </tr>\n",
       "    <tr>\n",
       "      <th>456</th>\n",
       "      <td>LEGO Batman: The Videogame</td>\n",
       "      <td>Wii</td>\n",
       "      <td>NaN</td>\n",
       "      <td>Action</td>\n",
       "      <td>1.80</td>\n",
       "      <td>0.97</td>\n",
       "      <td>0.00</td>\n",
       "      <td>0.29</td>\n",
       "      <td>74.0</td>\n",
       "      <td>7.9</td>\n",
       "      <td>E10+</td>\n",
       "    </tr>\n",
       "    <tr>\n",
       "      <th>475</th>\n",
       "      <td>wwe Smackdown vs. Raw 2006</td>\n",
       "      <td>PS2</td>\n",
       "      <td>NaN</td>\n",
       "      <td>Fighting</td>\n",
       "      <td>1.57</td>\n",
       "      <td>1.02</td>\n",
       "      <td>0.00</td>\n",
       "      <td>0.41</td>\n",
       "      <td>NaN</td>\n",
       "      <td>NaN</td>\n",
       "      <td>NaN</td>\n",
       "    </tr>\n",
       "    <tr>\n",
       "      <th>609</th>\n",
       "      <td>Space Invaders</td>\n",
       "      <td>2600</td>\n",
       "      <td>NaN</td>\n",
       "      <td>Shooter</td>\n",
       "      <td>2.36</td>\n",
       "      <td>0.14</td>\n",
       "      <td>0.00</td>\n",
       "      <td>0.03</td>\n",
       "      <td>NaN</td>\n",
       "      <td>NaN</td>\n",
       "      <td>NaN</td>\n",
       "    </tr>\n",
       "    <tr>\n",
       "      <th>...</th>\n",
       "      <td>...</td>\n",
       "      <td>...</td>\n",
       "      <td>...</td>\n",
       "      <td>...</td>\n",
       "      <td>...</td>\n",
       "      <td>...</td>\n",
       "      <td>...</td>\n",
       "      <td>...</td>\n",
       "      <td>...</td>\n",
       "      <td>...</td>\n",
       "      <td>...</td>\n",
       "    </tr>\n",
       "    <tr>\n",
       "      <th>16373</th>\n",
       "      <td>PDC World Championship Darts 2008</td>\n",
       "      <td>PSP</td>\n",
       "      <td>NaN</td>\n",
       "      <td>Sports</td>\n",
       "      <td>0.01</td>\n",
       "      <td>0.00</td>\n",
       "      <td>0.00</td>\n",
       "      <td>0.00</td>\n",
       "      <td>43.0</td>\n",
       "      <td>tbd</td>\n",
       "      <td>E10+</td>\n",
       "    </tr>\n",
       "    <tr>\n",
       "      <th>16405</th>\n",
       "      <td>Freaky Flyers</td>\n",
       "      <td>GC</td>\n",
       "      <td>NaN</td>\n",
       "      <td>Racing</td>\n",
       "      <td>0.01</td>\n",
       "      <td>0.00</td>\n",
       "      <td>0.00</td>\n",
       "      <td>0.00</td>\n",
       "      <td>69.0</td>\n",
       "      <td>6.5</td>\n",
       "      <td>T</td>\n",
       "    </tr>\n",
       "    <tr>\n",
       "      <th>16448</th>\n",
       "      <td>Inversion</td>\n",
       "      <td>PC</td>\n",
       "      <td>NaN</td>\n",
       "      <td>Shooter</td>\n",
       "      <td>0.01</td>\n",
       "      <td>0.00</td>\n",
       "      <td>0.00</td>\n",
       "      <td>0.00</td>\n",
       "      <td>59.0</td>\n",
       "      <td>6.7</td>\n",
       "      <td>M</td>\n",
       "    </tr>\n",
       "    <tr>\n",
       "      <th>16458</th>\n",
       "      <td>Hakuouki: Shinsengumi Kitan</td>\n",
       "      <td>PS3</td>\n",
       "      <td>NaN</td>\n",
       "      <td>Adventure</td>\n",
       "      <td>0.01</td>\n",
       "      <td>0.00</td>\n",
       "      <td>0.00</td>\n",
       "      <td>0.00</td>\n",
       "      <td>NaN</td>\n",
       "      <td>NaN</td>\n",
       "      <td>NaN</td>\n",
       "    </tr>\n",
       "    <tr>\n",
       "      <th>16522</th>\n",
       "      <td>Virtua Quest</td>\n",
       "      <td>GC</td>\n",
       "      <td>NaN</td>\n",
       "      <td>Role-Playing</td>\n",
       "      <td>0.01</td>\n",
       "      <td>0.00</td>\n",
       "      <td>0.00</td>\n",
       "      <td>0.00</td>\n",
       "      <td>55.0</td>\n",
       "      <td>5.5</td>\n",
       "      <td>T</td>\n",
       "    </tr>\n",
       "  </tbody>\n",
       "</table>\n",
       "<p>269 rows × 11 columns</p>\n",
       "</div>"
      ],
      "text/plain": [
       "                                    name platform  year_of_release  \\\n",
       "183                      Madden NFL 2004      PS2              NaN   \n",
       "377                     FIFA Soccer 2004      PS2              NaN   \n",
       "456           LEGO Batman: The Videogame      Wii              NaN   \n",
       "475           wwe Smackdown vs. Raw 2006      PS2              NaN   \n",
       "609                       Space Invaders     2600              NaN   \n",
       "...                                  ...      ...              ...   \n",
       "16373  PDC World Championship Darts 2008      PSP              NaN   \n",
       "16405                      Freaky Flyers       GC              NaN   \n",
       "16448                          Inversion       PC              NaN   \n",
       "16458        Hakuouki: Shinsengumi Kitan      PS3              NaN   \n",
       "16522                       Virtua Quest       GC              NaN   \n",
       "\n",
       "              genre  na_sales  eu_sales  jp_sales  other_sales  critic_score  \\\n",
       "183          Sports      4.26      0.26      0.01         0.71          94.0   \n",
       "377          Sports      0.59      2.36      0.04         0.51          84.0   \n",
       "456          Action      1.80      0.97      0.00         0.29          74.0   \n",
       "475        Fighting      1.57      1.02      0.00         0.41           NaN   \n",
       "609         Shooter      2.36      0.14      0.00         0.03           NaN   \n",
       "...             ...       ...       ...       ...          ...           ...   \n",
       "16373        Sports      0.01      0.00      0.00         0.00          43.0   \n",
       "16405        Racing      0.01      0.00      0.00         0.00          69.0   \n",
       "16448       Shooter      0.01      0.00      0.00         0.00          59.0   \n",
       "16458     Adventure      0.01      0.00      0.00         0.00           NaN   \n",
       "16522  Role-Playing      0.01      0.00      0.00         0.00          55.0   \n",
       "\n",
       "      user_score rating  \n",
       "183          8.5      E  \n",
       "377          6.4      E  \n",
       "456          7.9   E10+  \n",
       "475          NaN    NaN  \n",
       "609          NaN    NaN  \n",
       "...          ...    ...  \n",
       "16373        tbd   E10+  \n",
       "16405        6.5      T  \n",
       "16448        6.7      M  \n",
       "16458        NaN    NaN  \n",
       "16522        5.5      T  \n",
       "\n",
       "[269 rows x 11 columns]"
      ]
     },
     "execution_count": 6,
     "metadata": {},
     "output_type": "execute_result"
    }
   ],
   "source": [
    "game_data[game_data['year_of_release'].isna()]"
   ]
  },
  {
   "cell_type": "markdown",
   "id": "82ffe624",
   "metadata": {},
   "source": [
    "Тип данных в графе user_score остался объектом, значит там не только nan и float, посмотрим что это за значения.\n",
    "Тип данных в графе year_of_release остался float, так как там есть nan значения, заменим их на -1, обозначив таким образом неизвестную информацию. "
   ]
  },
  {
   "cell_type": "code",
   "execution_count": 7,
   "id": "2e5602e1",
   "metadata": {},
   "outputs": [],
   "source": [
    "game_data = game_data.dropna(subset=['year_of_release']).reset_index(drop=True)"
   ]
  },
  {
   "cell_type": "code",
   "execution_count": 8,
   "id": "22f05681",
   "metadata": {},
   "outputs": [],
   "source": [
    "game_data['year_of_release'] = game_data['year_of_release'].astype('int32', errors='ignore')"
   ]
  },
  {
   "cell_type": "code",
   "execution_count": 9,
   "id": "b5208840",
   "metadata": {},
   "outputs": [
    {
     "name": "stdout",
     "output_type": "stream",
     "text": [
      "tbd\n"
     ]
    }
   ],
   "source": [
    "user_scores = list(game_data['user_score'].unique())\n",
    "for el in user_scores:\n",
    "    try:\n",
    "        float(el)\n",
    "    except:\n",
    "        print(el)"
   ]
  },
  {
   "cell_type": "markdown",
   "id": "f107208c",
   "metadata": {},
   "source": [
    "У нас есть значение tbd (to be determined), которое не дает преобразовать данные. Посмотрим, сколько их что они из себя представляют"
   ]
  },
  {
   "cell_type": "code",
   "execution_count": 10,
   "id": "efddbfea",
   "metadata": {},
   "outputs": [
    {
     "data": {
      "text/html": [
       "<div>\n",
       "<style scoped>\n",
       "    .dataframe tbody tr th:only-of-type {\n",
       "        vertical-align: middle;\n",
       "    }\n",
       "\n",
       "    .dataframe tbody tr th {\n",
       "        vertical-align: top;\n",
       "    }\n",
       "\n",
       "    .dataframe thead th {\n",
       "        text-align: right;\n",
       "    }\n",
       "</style>\n",
       "<table border=\"1\" class=\"dataframe\">\n",
       "  <thead>\n",
       "    <tr style=\"text-align: right;\">\n",
       "      <th></th>\n",
       "      <th>name</th>\n",
       "      <th>platform</th>\n",
       "      <th>year_of_release</th>\n",
       "      <th>genre</th>\n",
       "      <th>na_sales</th>\n",
       "      <th>eu_sales</th>\n",
       "      <th>jp_sales</th>\n",
       "      <th>other_sales</th>\n",
       "      <th>critic_score</th>\n",
       "      <th>user_score</th>\n",
       "      <th>rating</th>\n",
       "    </tr>\n",
       "  </thead>\n",
       "  <tbody>\n",
       "    <tr>\n",
       "      <th>119</th>\n",
       "      <td>Zumba Fitness</td>\n",
       "      <td>Wii</td>\n",
       "      <td>2010</td>\n",
       "      <td>Sports</td>\n",
       "      <td>3.45</td>\n",
       "      <td>2.59</td>\n",
       "      <td>0.0</td>\n",
       "      <td>0.66</td>\n",
       "      <td>NaN</td>\n",
       "      <td>tbd</td>\n",
       "      <td>E</td>\n",
       "    </tr>\n",
       "    <tr>\n",
       "      <th>300</th>\n",
       "      <td>Namco Museum: 50th Anniversary</td>\n",
       "      <td>PS2</td>\n",
       "      <td>2005</td>\n",
       "      <td>Misc</td>\n",
       "      <td>2.08</td>\n",
       "      <td>1.35</td>\n",
       "      <td>0.0</td>\n",
       "      <td>0.54</td>\n",
       "      <td>61.0</td>\n",
       "      <td>tbd</td>\n",
       "      <td>E10+</td>\n",
       "    </tr>\n",
       "    <tr>\n",
       "      <th>516</th>\n",
       "      <td>Zumba Fitness 2</td>\n",
       "      <td>Wii</td>\n",
       "      <td>2011</td>\n",
       "      <td>Sports</td>\n",
       "      <td>1.51</td>\n",
       "      <td>1.03</td>\n",
       "      <td>0.0</td>\n",
       "      <td>0.27</td>\n",
       "      <td>NaN</td>\n",
       "      <td>tbd</td>\n",
       "      <td>T</td>\n",
       "    </tr>\n",
       "    <tr>\n",
       "      <th>639</th>\n",
       "      <td>uDraw Studio</td>\n",
       "      <td>Wii</td>\n",
       "      <td>2010</td>\n",
       "      <td>Misc</td>\n",
       "      <td>1.65</td>\n",
       "      <td>0.57</td>\n",
       "      <td>0.0</td>\n",
       "      <td>0.20</td>\n",
       "      <td>71.0</td>\n",
       "      <td>tbd</td>\n",
       "      <td>E</td>\n",
       "    </tr>\n",
       "    <tr>\n",
       "      <th>710</th>\n",
       "      <td>Just Dance Kids</td>\n",
       "      <td>Wii</td>\n",
       "      <td>2010</td>\n",
       "      <td>Misc</td>\n",
       "      <td>1.52</td>\n",
       "      <td>0.54</td>\n",
       "      <td>0.0</td>\n",
       "      <td>0.18</td>\n",
       "      <td>NaN</td>\n",
       "      <td>tbd</td>\n",
       "      <td>E</td>\n",
       "    </tr>\n",
       "    <tr>\n",
       "      <th>...</th>\n",
       "      <td>...</td>\n",
       "      <td>...</td>\n",
       "      <td>...</td>\n",
       "      <td>...</td>\n",
       "      <td>...</td>\n",
       "      <td>...</td>\n",
       "      <td>...</td>\n",
       "      <td>...</td>\n",
       "      <td>...</td>\n",
       "      <td>...</td>\n",
       "      <td>...</td>\n",
       "    </tr>\n",
       "    <tr>\n",
       "      <th>16426</th>\n",
       "      <td>Planet Monsters</td>\n",
       "      <td>GBA</td>\n",
       "      <td>2001</td>\n",
       "      <td>Action</td>\n",
       "      <td>0.01</td>\n",
       "      <td>0.00</td>\n",
       "      <td>0.0</td>\n",
       "      <td>0.00</td>\n",
       "      <td>67.0</td>\n",
       "      <td>tbd</td>\n",
       "      <td>E</td>\n",
       "    </tr>\n",
       "    <tr>\n",
       "      <th>16428</th>\n",
       "      <td>Bust-A-Move 3000</td>\n",
       "      <td>GC</td>\n",
       "      <td>2003</td>\n",
       "      <td>Puzzle</td>\n",
       "      <td>0.01</td>\n",
       "      <td>0.00</td>\n",
       "      <td>0.0</td>\n",
       "      <td>0.00</td>\n",
       "      <td>53.0</td>\n",
       "      <td>tbd</td>\n",
       "      <td>E</td>\n",
       "    </tr>\n",
       "    <tr>\n",
       "      <th>16429</th>\n",
       "      <td>Mega Brain Boost</td>\n",
       "      <td>DS</td>\n",
       "      <td>2008</td>\n",
       "      <td>Puzzle</td>\n",
       "      <td>0.01</td>\n",
       "      <td>0.00</td>\n",
       "      <td>0.0</td>\n",
       "      <td>0.00</td>\n",
       "      <td>48.0</td>\n",
       "      <td>tbd</td>\n",
       "      <td>E</td>\n",
       "    </tr>\n",
       "    <tr>\n",
       "      <th>16435</th>\n",
       "      <td>Plushees</td>\n",
       "      <td>DS</td>\n",
       "      <td>2008</td>\n",
       "      <td>Simulation</td>\n",
       "      <td>0.01</td>\n",
       "      <td>0.00</td>\n",
       "      <td>0.0</td>\n",
       "      <td>0.00</td>\n",
       "      <td>NaN</td>\n",
       "      <td>tbd</td>\n",
       "      <td>E</td>\n",
       "    </tr>\n",
       "    <tr>\n",
       "      <th>16437</th>\n",
       "      <td>Men in Black II: Alien Escape</td>\n",
       "      <td>GC</td>\n",
       "      <td>2003</td>\n",
       "      <td>Shooter</td>\n",
       "      <td>0.01</td>\n",
       "      <td>0.00</td>\n",
       "      <td>0.0</td>\n",
       "      <td>0.00</td>\n",
       "      <td>NaN</td>\n",
       "      <td>tbd</td>\n",
       "      <td>T</td>\n",
       "    </tr>\n",
       "  </tbody>\n",
       "</table>\n",
       "<p>2376 rows × 11 columns</p>\n",
       "</div>"
      ],
      "text/plain": [
       "                                 name platform  year_of_release       genre  \\\n",
       "119                     Zumba Fitness      Wii             2010      Sports   \n",
       "300    Namco Museum: 50th Anniversary      PS2             2005        Misc   \n",
       "516                   Zumba Fitness 2      Wii             2011      Sports   \n",
       "639                      uDraw Studio      Wii             2010        Misc   \n",
       "710                   Just Dance Kids      Wii             2010        Misc   \n",
       "...                               ...      ...              ...         ...   \n",
       "16426                 Planet Monsters      GBA             2001      Action   \n",
       "16428                Bust-A-Move 3000       GC             2003      Puzzle   \n",
       "16429                Mega Brain Boost       DS             2008      Puzzle   \n",
       "16435                        Plushees       DS             2008  Simulation   \n",
       "16437   Men in Black II: Alien Escape       GC             2003     Shooter   \n",
       "\n",
       "       na_sales  eu_sales  jp_sales  other_sales  critic_score user_score  \\\n",
       "119        3.45      2.59       0.0         0.66           NaN        tbd   \n",
       "300        2.08      1.35       0.0         0.54          61.0        tbd   \n",
       "516        1.51      1.03       0.0         0.27           NaN        tbd   \n",
       "639        1.65      0.57       0.0         0.20          71.0        tbd   \n",
       "710        1.52      0.54       0.0         0.18           NaN        tbd   \n",
       "...         ...       ...       ...          ...           ...        ...   \n",
       "16426      0.01      0.00       0.0         0.00          67.0        tbd   \n",
       "16428      0.01      0.00       0.0         0.00          53.0        tbd   \n",
       "16429      0.01      0.00       0.0         0.00          48.0        tbd   \n",
       "16435      0.01      0.00       0.0         0.00           NaN        tbd   \n",
       "16437      0.01      0.00       0.0         0.00           NaN        tbd   \n",
       "\n",
       "      rating  \n",
       "119        E  \n",
       "300     E10+  \n",
       "516        T  \n",
       "639        E  \n",
       "710        E  \n",
       "...      ...  \n",
       "16426      E  \n",
       "16428      E  \n",
       "16429      E  \n",
       "16435      E  \n",
       "16437      T  \n",
       "\n",
       "[2376 rows x 11 columns]"
      ]
     },
     "execution_count": 10,
     "metadata": {},
     "output_type": "execute_result"
    }
   ],
   "source": [
    "game_data[game_data['user_score'] == 'tbd']"
   ]
  },
  {
   "cell_type": "markdown",
   "id": "f60b62f7",
   "metadata": {},
   "source": [
    "Их довольно много, 2376 строк. Так как этой оценки пока нет, заменим на nan, чтобы тип данных был float."
   ]
  },
  {
   "cell_type": "code",
   "execution_count": 11,
   "id": "033593a7",
   "metadata": {},
   "outputs": [
    {
     "name": "stdout",
     "output_type": "stream",
     "text": [
      "<class 'pandas.core.frame.DataFrame'>\n",
      "RangeIndex: 16446 entries, 0 to 16445\n",
      "Data columns (total 11 columns):\n",
      " #   Column           Non-Null Count  Dtype  \n",
      "---  ------           --------------  -----  \n",
      " 0   name             16444 non-null  object \n",
      " 1   platform         16446 non-null  object \n",
      " 2   year_of_release  16446 non-null  int32  \n",
      " 3   genre            16444 non-null  object \n",
      " 4   na_sales         16446 non-null  float64\n",
      " 5   eu_sales         16446 non-null  float64\n",
      " 6   jp_sales         16446 non-null  float64\n",
      " 7   other_sales      16446 non-null  float64\n",
      " 8   critic_score     7983 non-null   float64\n",
      " 9   user_score       7463 non-null   float64\n",
      " 10  rating           9768 non-null   object \n",
      "dtypes: float64(6), int32(1), object(4)\n",
      "memory usage: 1.3+ MB\n"
     ]
    }
   ],
   "source": [
    "game_data.loc[game_data['user_score'] == 'tbd', 'user_score'] = np.nan\n",
    "game_data['user_score'] = game_data['user_score'].astype('float64', errors='ignore')\n",
    "game_data.info()"
   ]
  },
  {
   "cell_type": "markdown",
   "id": "0f3a7331",
   "metadata": {},
   "source": [
    "Поменяли типы данных, пропуски в рейтинге и годе выпуска оставим, так как их заполнить мы не сможем. Игры могли быть выпущены когда угодно. Их оценка также зависит от конкретной игры, также не заполняем. А вот для возрастной категории данные стоит заполнить. Если данные отсутствуют, значит оценка еще не проведена. Здесь заполним значением tbd (to be determined - будет определено позже)."
   ]
  },
  {
   "cell_type": "code",
   "execution_count": 12,
   "id": "520cbfc4",
   "metadata": {},
   "outputs": [
    {
     "data": {
      "text/plain": [
       "array(['E', nan, 'M', 'T', 'E10+', 'K-A', 'AO', 'EC', 'RP'], dtype=object)"
      ]
     },
     "execution_count": 12,
     "metadata": {},
     "output_type": "execute_result"
    }
   ],
   "source": [
    "game_data['rating'].unique()"
   ]
  },
  {
   "cell_type": "code",
   "execution_count": 13,
   "id": "0166669a",
   "metadata": {},
   "outputs": [
    {
     "name": "stdout",
     "output_type": "stream",
     "text": [
      "<class 'pandas.core.frame.DataFrame'>\n",
      "RangeIndex: 16446 entries, 0 to 16445\n",
      "Data columns (total 11 columns):\n",
      " #   Column           Non-Null Count  Dtype  \n",
      "---  ------           --------------  -----  \n",
      " 0   name             16444 non-null  object \n",
      " 1   platform         16446 non-null  object \n",
      " 2   year_of_release  16446 non-null  int32  \n",
      " 3   genre            16444 non-null  object \n",
      " 4   na_sales         16446 non-null  float64\n",
      " 5   eu_sales         16446 non-null  float64\n",
      " 6   jp_sales         16446 non-null  float64\n",
      " 7   other_sales      16446 non-null  float64\n",
      " 8   critic_score     7983 non-null   float64\n",
      " 9   user_score       7463 non-null   float64\n",
      " 10  rating           16446 non-null  object \n",
      "dtypes: float64(6), int32(1), object(4)\n",
      "memory usage: 1.3+ MB\n"
     ]
    }
   ],
   "source": [
    "game_data.loc[game_data['rating'].isna(), 'rating'] = 'tbd'\n",
    "game_data.info()"
   ]
  },
  {
   "cell_type": "code",
   "execution_count": 14,
   "id": "c47f1023",
   "metadata": {},
   "outputs": [
    {
     "data": {
      "text/plain": [
       "array(['E', 'tbd', 'M', 'T', 'E10+', 'K-A', 'AO', 'EC', 'RP'],\n",
       "      dtype=object)"
      ]
     },
     "execution_count": 14,
     "metadata": {},
     "output_type": "execute_result"
    }
   ],
   "source": [
    "game_data['rating'].unique()"
   ]
  },
  {
   "cell_type": "code",
   "execution_count": 15,
   "id": "76a856bb",
   "metadata": {},
   "outputs": [
    {
     "data": {
      "text/html": [
       "<div>\n",
       "<style scoped>\n",
       "    .dataframe tbody tr th:only-of-type {\n",
       "        vertical-align: middle;\n",
       "    }\n",
       "\n",
       "    .dataframe tbody tr th {\n",
       "        vertical-align: top;\n",
       "    }\n",
       "\n",
       "    .dataframe thead th {\n",
       "        text-align: right;\n",
       "    }\n",
       "</style>\n",
       "<table border=\"1\" class=\"dataframe\">\n",
       "  <thead>\n",
       "    <tr style=\"text-align: right;\">\n",
       "      <th></th>\n",
       "      <th>name</th>\n",
       "      <th>platform</th>\n",
       "      <th>year_of_release</th>\n",
       "      <th>genre</th>\n",
       "      <th>na_sales</th>\n",
       "      <th>eu_sales</th>\n",
       "      <th>jp_sales</th>\n",
       "      <th>other_sales</th>\n",
       "      <th>critic_score</th>\n",
       "      <th>user_score</th>\n",
       "      <th>rating</th>\n",
       "    </tr>\n",
       "  </thead>\n",
       "  <tbody>\n",
       "    <tr>\n",
       "      <th>652</th>\n",
       "      <td>NaN</td>\n",
       "      <td>GEN</td>\n",
       "      <td>1993</td>\n",
       "      <td>NaN</td>\n",
       "      <td>1.78</td>\n",
       "      <td>0.53</td>\n",
       "      <td>0.00</td>\n",
       "      <td>0.08</td>\n",
       "      <td>NaN</td>\n",
       "      <td>NaN</td>\n",
       "      <td>tbd</td>\n",
       "    </tr>\n",
       "    <tr>\n",
       "      <th>14022</th>\n",
       "      <td>NaN</td>\n",
       "      <td>GEN</td>\n",
       "      <td>1993</td>\n",
       "      <td>NaN</td>\n",
       "      <td>0.00</td>\n",
       "      <td>0.00</td>\n",
       "      <td>0.03</td>\n",
       "      <td>0.00</td>\n",
       "      <td>NaN</td>\n",
       "      <td>NaN</td>\n",
       "      <td>tbd</td>\n",
       "    </tr>\n",
       "  </tbody>\n",
       "</table>\n",
       "</div>"
      ],
      "text/plain": [
       "      name platform  year_of_release genre  na_sales  eu_sales  jp_sales  \\\n",
       "652    NaN      GEN             1993   NaN      1.78      0.53      0.00   \n",
       "14022  NaN      GEN             1993   NaN      0.00      0.00      0.03   \n",
       "\n",
       "       other_sales  critic_score  user_score rating  \n",
       "652           0.08           NaN         NaN    tbd  \n",
       "14022         0.00           NaN         NaN    tbd  "
      ]
     },
     "execution_count": 15,
     "metadata": {},
     "output_type": "execute_result"
    }
   ],
   "source": [
    "game_data[game_data['name'].isna()]"
   ]
  },
  {
   "cell_type": "markdown",
   "id": "3c44de1d",
   "metadata": {},
   "source": [
    "Как можем выдеть, по 2 играм почти нет никаких данных, но продажи по ним имеются. Переименуем их, чтобы не было NaN значений."
   ]
  },
  {
   "cell_type": "code",
   "execution_count": 16,
   "id": "42d66c19",
   "metadata": {},
   "outputs": [],
   "source": [
    "game_data.loc[652, 'name'] = 'No_name_game_1'\n",
    "game_data.loc[14022, 'name'] = 'No_name_game_2'"
   ]
  },
  {
   "cell_type": "code",
   "execution_count": 17,
   "id": "e41a3544",
   "metadata": {},
   "outputs": [
    {
     "data": {
      "text/html": [
       "<div>\n",
       "<style scoped>\n",
       "    .dataframe tbody tr th:only-of-type {\n",
       "        vertical-align: middle;\n",
       "    }\n",
       "\n",
       "    .dataframe tbody tr th {\n",
       "        vertical-align: top;\n",
       "    }\n",
       "\n",
       "    .dataframe thead th {\n",
       "        text-align: right;\n",
       "    }\n",
       "</style>\n",
       "<table border=\"1\" class=\"dataframe\">\n",
       "  <thead>\n",
       "    <tr style=\"text-align: right;\">\n",
       "      <th></th>\n",
       "      <th>name</th>\n",
       "      <th>platform</th>\n",
       "      <th>year_of_release</th>\n",
       "      <th>genre</th>\n",
       "      <th>na_sales</th>\n",
       "      <th>eu_sales</th>\n",
       "      <th>jp_sales</th>\n",
       "      <th>other_sales</th>\n",
       "      <th>critic_score</th>\n",
       "      <th>user_score</th>\n",
       "      <th>rating</th>\n",
       "    </tr>\n",
       "  </thead>\n",
       "  <tbody>\n",
       "    <tr>\n",
       "      <th>652</th>\n",
       "      <td>No_name_game_1</td>\n",
       "      <td>GEN</td>\n",
       "      <td>1993</td>\n",
       "      <td>NaN</td>\n",
       "      <td>1.78</td>\n",
       "      <td>0.53</td>\n",
       "      <td>0.00</td>\n",
       "      <td>0.08</td>\n",
       "      <td>NaN</td>\n",
       "      <td>NaN</td>\n",
       "      <td>tbd</td>\n",
       "    </tr>\n",
       "    <tr>\n",
       "      <th>14022</th>\n",
       "      <td>No_name_game_2</td>\n",
       "      <td>GEN</td>\n",
       "      <td>1993</td>\n",
       "      <td>NaN</td>\n",
       "      <td>0.00</td>\n",
       "      <td>0.00</td>\n",
       "      <td>0.03</td>\n",
       "      <td>0.00</td>\n",
       "      <td>NaN</td>\n",
       "      <td>NaN</td>\n",
       "      <td>tbd</td>\n",
       "    </tr>\n",
       "  </tbody>\n",
       "</table>\n",
       "</div>"
      ],
      "text/plain": [
       "                 name platform  year_of_release genre  na_sales  eu_sales  \\\n",
       "652    No_name_game_1      GEN             1993   NaN      1.78      0.53   \n",
       "14022  No_name_game_2      GEN             1993   NaN      0.00      0.00   \n",
       "\n",
       "       jp_sales  other_sales  critic_score  user_score rating  \n",
       "652        0.00         0.08           NaN         NaN    tbd  \n",
       "14022      0.03         0.00           NaN         NaN    tbd  "
      ]
     },
     "execution_count": 17,
     "metadata": {},
     "output_type": "execute_result"
    }
   ],
   "source": [
    "game_data.iloc[[652, 14022]]"
   ]
  },
  {
   "cell_type": "markdown",
   "id": "e09e6405",
   "metadata": {},
   "source": [
    "##### Суммарные продажи во всех регионах"
   ]
  },
  {
   "cell_type": "code",
   "execution_count": 18,
   "id": "6a96137c",
   "metadata": {},
   "outputs": [],
   "source": [
    "game_data['world_sales'] = game_data['na_sales'] + game_data['eu_sales'] + game_data['jp_sales'] + game_data['other_sales']"
   ]
  },
  {
   "cell_type": "code",
   "execution_count": 19,
   "id": "13cc6730",
   "metadata": {},
   "outputs": [
    {
     "name": "stdout",
     "output_type": "stream",
     "text": [
      "<class 'pandas.core.frame.DataFrame'>\n",
      "RangeIndex: 16446 entries, 0 to 16445\n",
      "Data columns (total 12 columns):\n",
      " #   Column           Non-Null Count  Dtype  \n",
      "---  ------           --------------  -----  \n",
      " 0   name             16446 non-null  object \n",
      " 1   platform         16446 non-null  object \n",
      " 2   year_of_release  16446 non-null  int32  \n",
      " 3   genre            16444 non-null  object \n",
      " 4   na_sales         16446 non-null  float64\n",
      " 5   eu_sales         16446 non-null  float64\n",
      " 6   jp_sales         16446 non-null  float64\n",
      " 7   other_sales      16446 non-null  float64\n",
      " 8   critic_score     7983 non-null   float64\n",
      " 9   user_score       7463 non-null   float64\n",
      " 10  rating           16446 non-null  object \n",
      " 11  world_sales      16446 non-null  float64\n",
      "dtypes: float64(7), int32(1), object(4)\n",
      "memory usage: 1.4+ MB\n",
      "None\n"
     ]
    },
    {
     "data": {
      "text/html": [
       "<div>\n",
       "<style scoped>\n",
       "    .dataframe tbody tr th:only-of-type {\n",
       "        vertical-align: middle;\n",
       "    }\n",
       "\n",
       "    .dataframe tbody tr th {\n",
       "        vertical-align: top;\n",
       "    }\n",
       "\n",
       "    .dataframe thead th {\n",
       "        text-align: right;\n",
       "    }\n",
       "</style>\n",
       "<table border=\"1\" class=\"dataframe\">\n",
       "  <thead>\n",
       "    <tr style=\"text-align: right;\">\n",
       "      <th></th>\n",
       "      <th>name</th>\n",
       "      <th>platform</th>\n",
       "      <th>year_of_release</th>\n",
       "      <th>genre</th>\n",
       "      <th>na_sales</th>\n",
       "      <th>eu_sales</th>\n",
       "      <th>jp_sales</th>\n",
       "      <th>other_sales</th>\n",
       "      <th>critic_score</th>\n",
       "      <th>user_score</th>\n",
       "      <th>rating</th>\n",
       "      <th>world_sales</th>\n",
       "    </tr>\n",
       "  </thead>\n",
       "  <tbody>\n",
       "    <tr>\n",
       "      <th>0</th>\n",
       "      <td>Wii Sports</td>\n",
       "      <td>Wii</td>\n",
       "      <td>2006</td>\n",
       "      <td>Sports</td>\n",
       "      <td>41.36</td>\n",
       "      <td>28.96</td>\n",
       "      <td>3.77</td>\n",
       "      <td>8.45</td>\n",
       "      <td>76.0</td>\n",
       "      <td>8.0</td>\n",
       "      <td>E</td>\n",
       "      <td>82.54</td>\n",
       "    </tr>\n",
       "    <tr>\n",
       "      <th>1</th>\n",
       "      <td>Super Mario Bros.</td>\n",
       "      <td>NES</td>\n",
       "      <td>1985</td>\n",
       "      <td>Platform</td>\n",
       "      <td>29.08</td>\n",
       "      <td>3.58</td>\n",
       "      <td>6.81</td>\n",
       "      <td>0.77</td>\n",
       "      <td>NaN</td>\n",
       "      <td>NaN</td>\n",
       "      <td>tbd</td>\n",
       "      <td>40.24</td>\n",
       "    </tr>\n",
       "    <tr>\n",
       "      <th>2</th>\n",
       "      <td>Mario Kart Wii</td>\n",
       "      <td>Wii</td>\n",
       "      <td>2008</td>\n",
       "      <td>Racing</td>\n",
       "      <td>15.68</td>\n",
       "      <td>12.76</td>\n",
       "      <td>3.79</td>\n",
       "      <td>3.29</td>\n",
       "      <td>82.0</td>\n",
       "      <td>8.3</td>\n",
       "      <td>E</td>\n",
       "      <td>35.52</td>\n",
       "    </tr>\n",
       "    <tr>\n",
       "      <th>3</th>\n",
       "      <td>Wii Sports Resort</td>\n",
       "      <td>Wii</td>\n",
       "      <td>2009</td>\n",
       "      <td>Sports</td>\n",
       "      <td>15.61</td>\n",
       "      <td>10.93</td>\n",
       "      <td>3.28</td>\n",
       "      <td>2.95</td>\n",
       "      <td>80.0</td>\n",
       "      <td>8.0</td>\n",
       "      <td>E</td>\n",
       "      <td>32.77</td>\n",
       "    </tr>\n",
       "    <tr>\n",
       "      <th>4</th>\n",
       "      <td>Pokemon Red/Pokemon Blue</td>\n",
       "      <td>GB</td>\n",
       "      <td>1996</td>\n",
       "      <td>Role-Playing</td>\n",
       "      <td>11.27</td>\n",
       "      <td>8.89</td>\n",
       "      <td>10.22</td>\n",
       "      <td>1.00</td>\n",
       "      <td>NaN</td>\n",
       "      <td>NaN</td>\n",
       "      <td>tbd</td>\n",
       "      <td>31.38</td>\n",
       "    </tr>\n",
       "    <tr>\n",
       "      <th>...</th>\n",
       "      <td>...</td>\n",
       "      <td>...</td>\n",
       "      <td>...</td>\n",
       "      <td>...</td>\n",
       "      <td>...</td>\n",
       "      <td>...</td>\n",
       "      <td>...</td>\n",
       "      <td>...</td>\n",
       "      <td>...</td>\n",
       "      <td>...</td>\n",
       "      <td>...</td>\n",
       "      <td>...</td>\n",
       "    </tr>\n",
       "    <tr>\n",
       "      <th>16441</th>\n",
       "      <td>Samurai Warriors: Sanada Maru</td>\n",
       "      <td>PS3</td>\n",
       "      <td>2016</td>\n",
       "      <td>Action</td>\n",
       "      <td>0.00</td>\n",
       "      <td>0.00</td>\n",
       "      <td>0.01</td>\n",
       "      <td>0.00</td>\n",
       "      <td>NaN</td>\n",
       "      <td>NaN</td>\n",
       "      <td>tbd</td>\n",
       "      <td>0.01</td>\n",
       "    </tr>\n",
       "    <tr>\n",
       "      <th>16442</th>\n",
       "      <td>LMA Manager 2007</td>\n",
       "      <td>X360</td>\n",
       "      <td>2006</td>\n",
       "      <td>Sports</td>\n",
       "      <td>0.00</td>\n",
       "      <td>0.01</td>\n",
       "      <td>0.00</td>\n",
       "      <td>0.00</td>\n",
       "      <td>NaN</td>\n",
       "      <td>NaN</td>\n",
       "      <td>tbd</td>\n",
       "      <td>0.01</td>\n",
       "    </tr>\n",
       "    <tr>\n",
       "      <th>16443</th>\n",
       "      <td>Haitaka no Psychedelica</td>\n",
       "      <td>PSV</td>\n",
       "      <td>2016</td>\n",
       "      <td>Adventure</td>\n",
       "      <td>0.00</td>\n",
       "      <td>0.00</td>\n",
       "      <td>0.01</td>\n",
       "      <td>0.00</td>\n",
       "      <td>NaN</td>\n",
       "      <td>NaN</td>\n",
       "      <td>tbd</td>\n",
       "      <td>0.01</td>\n",
       "    </tr>\n",
       "    <tr>\n",
       "      <th>16444</th>\n",
       "      <td>Spirits &amp; Spells</td>\n",
       "      <td>GBA</td>\n",
       "      <td>2003</td>\n",
       "      <td>Platform</td>\n",
       "      <td>0.01</td>\n",
       "      <td>0.00</td>\n",
       "      <td>0.00</td>\n",
       "      <td>0.00</td>\n",
       "      <td>NaN</td>\n",
       "      <td>NaN</td>\n",
       "      <td>tbd</td>\n",
       "      <td>0.01</td>\n",
       "    </tr>\n",
       "    <tr>\n",
       "      <th>16445</th>\n",
       "      <td>Winning Post 8 2016</td>\n",
       "      <td>PSV</td>\n",
       "      <td>2016</td>\n",
       "      <td>Simulation</td>\n",
       "      <td>0.00</td>\n",
       "      <td>0.00</td>\n",
       "      <td>0.01</td>\n",
       "      <td>0.00</td>\n",
       "      <td>NaN</td>\n",
       "      <td>NaN</td>\n",
       "      <td>tbd</td>\n",
       "      <td>0.01</td>\n",
       "    </tr>\n",
       "  </tbody>\n",
       "</table>\n",
       "<p>16446 rows × 12 columns</p>\n",
       "</div>"
      ],
      "text/plain": [
       "                                name platform  year_of_release         genre  \\\n",
       "0                         Wii Sports      Wii             2006        Sports   \n",
       "1                  Super Mario Bros.      NES             1985      Platform   \n",
       "2                     Mario Kart Wii      Wii             2008        Racing   \n",
       "3                  Wii Sports Resort      Wii             2009        Sports   \n",
       "4           Pokemon Red/Pokemon Blue       GB             1996  Role-Playing   \n",
       "...                              ...      ...              ...           ...   \n",
       "16441  Samurai Warriors: Sanada Maru      PS3             2016        Action   \n",
       "16442               LMA Manager 2007     X360             2006        Sports   \n",
       "16443        Haitaka no Psychedelica      PSV             2016     Adventure   \n",
       "16444               Spirits & Spells      GBA             2003      Platform   \n",
       "16445            Winning Post 8 2016      PSV             2016    Simulation   \n",
       "\n",
       "       na_sales  eu_sales  jp_sales  other_sales  critic_score  user_score  \\\n",
       "0         41.36     28.96      3.77         8.45          76.0         8.0   \n",
       "1         29.08      3.58      6.81         0.77           NaN         NaN   \n",
       "2         15.68     12.76      3.79         3.29          82.0         8.3   \n",
       "3         15.61     10.93      3.28         2.95          80.0         8.0   \n",
       "4         11.27      8.89     10.22         1.00           NaN         NaN   \n",
       "...         ...       ...       ...          ...           ...         ...   \n",
       "16441      0.00      0.00      0.01         0.00           NaN         NaN   \n",
       "16442      0.00      0.01      0.00         0.00           NaN         NaN   \n",
       "16443      0.00      0.00      0.01         0.00           NaN         NaN   \n",
       "16444      0.01      0.00      0.00         0.00           NaN         NaN   \n",
       "16445      0.00      0.00      0.01         0.00           NaN         NaN   \n",
       "\n",
       "      rating  world_sales  \n",
       "0          E        82.54  \n",
       "1        tbd        40.24  \n",
       "2          E        35.52  \n",
       "3          E        32.77  \n",
       "4        tbd        31.38  \n",
       "...      ...          ...  \n",
       "16441    tbd         0.01  \n",
       "16442    tbd         0.01  \n",
       "16443    tbd         0.01  \n",
       "16444    tbd         0.01  \n",
       "16445    tbd         0.01  \n",
       "\n",
       "[16446 rows x 12 columns]"
      ]
     },
     "execution_count": 19,
     "metadata": {},
     "output_type": "execute_result"
    }
   ],
   "source": [
    "print(game_data.info())\n",
    "game_data"
   ]
  },
  {
   "cell_type": "markdown",
   "id": "37c8b099",
   "metadata": {},
   "source": [
    "##### Поищем дубликаты данных по играм"
   ]
  },
  {
   "cell_type": "code",
   "execution_count": 20,
   "id": "68bbfd19",
   "metadata": {},
   "outputs": [
    {
     "data": {
      "text/html": [
       "<div>\n",
       "<style scoped>\n",
       "    .dataframe tbody tr th:only-of-type {\n",
       "        vertical-align: middle;\n",
       "    }\n",
       "\n",
       "    .dataframe tbody tr th {\n",
       "        vertical-align: top;\n",
       "    }\n",
       "\n",
       "    .dataframe thead th {\n",
       "        text-align: right;\n",
       "    }\n",
       "</style>\n",
       "<table border=\"1\" class=\"dataframe\">\n",
       "  <thead>\n",
       "    <tr style=\"text-align: right;\">\n",
       "      <th></th>\n",
       "      <th>name</th>\n",
       "      <th>platform</th>\n",
       "      <th>year_of_release</th>\n",
       "      <th>genre</th>\n",
       "      <th>na_sales</th>\n",
       "      <th>eu_sales</th>\n",
       "      <th>jp_sales</th>\n",
       "      <th>other_sales</th>\n",
       "      <th>critic_score</th>\n",
       "      <th>user_score</th>\n",
       "      <th>rating</th>\n",
       "      <th>world_sales</th>\n",
       "    </tr>\n",
       "  </thead>\n",
       "  <tbody>\n",
       "    <tr>\n",
       "      <th>600</th>\n",
       "      <td>Madden NFL 13</td>\n",
       "      <td>PS3</td>\n",
       "      <td>2012</td>\n",
       "      <td>Sports</td>\n",
       "      <td>2.11</td>\n",
       "      <td>0.22</td>\n",
       "      <td>0.0</td>\n",
       "      <td>0.23</td>\n",
       "      <td>83.0</td>\n",
       "      <td>5.5</td>\n",
       "      <td>E</td>\n",
       "      <td>2.56</td>\n",
       "    </tr>\n",
       "    <tr>\n",
       "      <th>15971</th>\n",
       "      <td>Madden NFL 13</td>\n",
       "      <td>PS3</td>\n",
       "      <td>2012</td>\n",
       "      <td>Sports</td>\n",
       "      <td>0.00</td>\n",
       "      <td>0.01</td>\n",
       "      <td>0.0</td>\n",
       "      <td>0.00</td>\n",
       "      <td>83.0</td>\n",
       "      <td>5.5</td>\n",
       "      <td>E</td>\n",
       "      <td>0.01</td>\n",
       "    </tr>\n",
       "  </tbody>\n",
       "</table>\n",
       "</div>"
      ],
      "text/plain": [
       "                name platform  year_of_release   genre  na_sales  eu_sales  \\\n",
       "600    Madden NFL 13      PS3             2012  Sports      2.11      0.22   \n",
       "15971  Madden NFL 13      PS3             2012  Sports      0.00      0.01   \n",
       "\n",
       "       jp_sales  other_sales  critic_score  user_score rating  world_sales  \n",
       "600         0.0         0.23          83.0         5.5      E         2.56  \n",
       "15971       0.0         0.00          83.0         5.5      E         0.01  "
      ]
     },
     "execution_count": 20,
     "metadata": {},
     "output_type": "execute_result"
    }
   ],
   "source": [
    "game_data[game_data[['name', 'platform', 'year_of_release', 'genre', 'rating']].duplicated(keep=False)]"
   ]
  },
  {
   "cell_type": "markdown",
   "id": "eb563179",
   "metadata": {},
   "source": [
    "Нашелся один дубликат с игрой, но по нему разная статистика продаж, причем по второй строке есть информация только о продажах в европейском регионе. Это могут быть разные версии одной игры, например какое-нибудь коллекционное издание. Поэтому проданные копии добавим к первой строке."
   ]
  },
  {
   "cell_type": "code",
   "execution_count": 21,
   "id": "2592d642",
   "metadata": {
    "scrolled": false
   },
   "outputs": [
    {
     "data": {
      "text/html": [
       "<div>\n",
       "<style scoped>\n",
       "    .dataframe tbody tr th:only-of-type {\n",
       "        vertical-align: middle;\n",
       "    }\n",
       "\n",
       "    .dataframe tbody tr th {\n",
       "        vertical-align: top;\n",
       "    }\n",
       "\n",
       "    .dataframe thead th {\n",
       "        text-align: right;\n",
       "    }\n",
       "</style>\n",
       "<table border=\"1\" class=\"dataframe\">\n",
       "  <thead>\n",
       "    <tr style=\"text-align: right;\">\n",
       "      <th></th>\n",
       "      <th>name</th>\n",
       "      <th>platform</th>\n",
       "      <th>year_of_release</th>\n",
       "      <th>genre</th>\n",
       "      <th>na_sales</th>\n",
       "      <th>eu_sales</th>\n",
       "      <th>jp_sales</th>\n",
       "      <th>other_sales</th>\n",
       "      <th>critic_score</th>\n",
       "      <th>user_score</th>\n",
       "      <th>rating</th>\n",
       "      <th>world_sales</th>\n",
       "    </tr>\n",
       "  </thead>\n",
       "  <tbody>\n",
       "    <tr>\n",
       "      <th>0</th>\n",
       "      <td>Madden NFL 13</td>\n",
       "      <td>PS3</td>\n",
       "      <td>2012</td>\n",
       "      <td>Sports</td>\n",
       "      <td>2.11</td>\n",
       "      <td>0.23</td>\n",
       "      <td>0.0</td>\n",
       "      <td>0.23</td>\n",
       "      <td>166.0</td>\n",
       "      <td>11.0</td>\n",
       "      <td>E</td>\n",
       "      <td>2.57</td>\n",
       "    </tr>\n",
       "  </tbody>\n",
       "</table>\n",
       "</div>"
      ],
      "text/plain": [
       "            name platform  year_of_release   genre  na_sales  eu_sales  \\\n",
       "0  Madden NFL 13      PS3             2012  Sports      2.11      0.23   \n",
       "\n",
       "   jp_sales  other_sales  critic_score  user_score rating  world_sales  \n",
       "0       0.0         0.23         166.0        11.0      E         2.57  "
      ]
     },
     "execution_count": 21,
     "metadata": {},
     "output_type": "execute_result"
    }
   ],
   "source": [
    "sum_game_data = (game_data[game_data[['name', 'platform', 'year_of_release', 'genre', 'rating']]\n",
    "                           .duplicated(keep=False)]\n",
    "                           .groupby(['name', 'platform', 'year_of_release', 'genre', 'rating'])\n",
    "                           .sum()\n",
    "                           .reset_index()\n",
    ")\n",
    "sum_game_data = sum_game_data[game_data.columns]\n",
    "sum_game_data"
   ]
  },
  {
   "cell_type": "code",
   "execution_count": 22,
   "id": "06535bc4",
   "metadata": {},
   "outputs": [
    {
     "data": {
      "text/html": [
       "<div>\n",
       "<style scoped>\n",
       "    .dataframe tbody tr th:only-of-type {\n",
       "        vertical-align: middle;\n",
       "    }\n",
       "\n",
       "    .dataframe tbody tr th {\n",
       "        vertical-align: top;\n",
       "    }\n",
       "\n",
       "    .dataframe thead th {\n",
       "        text-align: right;\n",
       "    }\n",
       "</style>\n",
       "<table border=\"1\" class=\"dataframe\">\n",
       "  <thead>\n",
       "    <tr style=\"text-align: right;\">\n",
       "      <th></th>\n",
       "      <th>name</th>\n",
       "      <th>platform</th>\n",
       "      <th>year_of_release</th>\n",
       "      <th>genre</th>\n",
       "      <th>na_sales</th>\n",
       "      <th>eu_sales</th>\n",
       "      <th>jp_sales</th>\n",
       "      <th>other_sales</th>\n",
       "      <th>critic_score</th>\n",
       "      <th>user_score</th>\n",
       "      <th>rating</th>\n",
       "      <th>world_sales</th>\n",
       "    </tr>\n",
       "  </thead>\n",
       "  <tbody>\n",
       "    <tr>\n",
       "      <th>0</th>\n",
       "      <td>Wii Sports</td>\n",
       "      <td>Wii</td>\n",
       "      <td>2006</td>\n",
       "      <td>Sports</td>\n",
       "      <td>41.36</td>\n",
       "      <td>28.96</td>\n",
       "      <td>3.77</td>\n",
       "      <td>8.45</td>\n",
       "      <td>76.0</td>\n",
       "      <td>8.0</td>\n",
       "      <td>E</td>\n",
       "      <td>82.54</td>\n",
       "    </tr>\n",
       "    <tr>\n",
       "      <th>1</th>\n",
       "      <td>Super Mario Bros.</td>\n",
       "      <td>NES</td>\n",
       "      <td>1985</td>\n",
       "      <td>Platform</td>\n",
       "      <td>29.08</td>\n",
       "      <td>3.58</td>\n",
       "      <td>6.81</td>\n",
       "      <td>0.77</td>\n",
       "      <td>NaN</td>\n",
       "      <td>NaN</td>\n",
       "      <td>tbd</td>\n",
       "      <td>40.24</td>\n",
       "    </tr>\n",
       "    <tr>\n",
       "      <th>2</th>\n",
       "      <td>Mario Kart Wii</td>\n",
       "      <td>Wii</td>\n",
       "      <td>2008</td>\n",
       "      <td>Racing</td>\n",
       "      <td>15.68</td>\n",
       "      <td>12.76</td>\n",
       "      <td>3.79</td>\n",
       "      <td>3.29</td>\n",
       "      <td>82.0</td>\n",
       "      <td>8.3</td>\n",
       "      <td>E</td>\n",
       "      <td>35.52</td>\n",
       "    </tr>\n",
       "    <tr>\n",
       "      <th>3</th>\n",
       "      <td>Wii Sports Resort</td>\n",
       "      <td>Wii</td>\n",
       "      <td>2009</td>\n",
       "      <td>Sports</td>\n",
       "      <td>15.61</td>\n",
       "      <td>10.93</td>\n",
       "      <td>3.28</td>\n",
       "      <td>2.95</td>\n",
       "      <td>80.0</td>\n",
       "      <td>8.0</td>\n",
       "      <td>E</td>\n",
       "      <td>32.77</td>\n",
       "    </tr>\n",
       "    <tr>\n",
       "      <th>4</th>\n",
       "      <td>Pokemon Red/Pokemon Blue</td>\n",
       "      <td>GB</td>\n",
       "      <td>1996</td>\n",
       "      <td>Role-Playing</td>\n",
       "      <td>11.27</td>\n",
       "      <td>8.89</td>\n",
       "      <td>10.22</td>\n",
       "      <td>1.00</td>\n",
       "      <td>NaN</td>\n",
       "      <td>NaN</td>\n",
       "      <td>tbd</td>\n",
       "      <td>31.38</td>\n",
       "    </tr>\n",
       "    <tr>\n",
       "      <th>...</th>\n",
       "      <td>...</td>\n",
       "      <td>...</td>\n",
       "      <td>...</td>\n",
       "      <td>...</td>\n",
       "      <td>...</td>\n",
       "      <td>...</td>\n",
       "      <td>...</td>\n",
       "      <td>...</td>\n",
       "      <td>...</td>\n",
       "      <td>...</td>\n",
       "      <td>...</td>\n",
       "      <td>...</td>\n",
       "    </tr>\n",
       "    <tr>\n",
       "      <th>16440</th>\n",
       "      <td>LMA Manager 2007</td>\n",
       "      <td>X360</td>\n",
       "      <td>2006</td>\n",
       "      <td>Sports</td>\n",
       "      <td>0.00</td>\n",
       "      <td>0.01</td>\n",
       "      <td>0.00</td>\n",
       "      <td>0.00</td>\n",
       "      <td>NaN</td>\n",
       "      <td>NaN</td>\n",
       "      <td>tbd</td>\n",
       "      <td>0.01</td>\n",
       "    </tr>\n",
       "    <tr>\n",
       "      <th>16441</th>\n",
       "      <td>Haitaka no Psychedelica</td>\n",
       "      <td>PSV</td>\n",
       "      <td>2016</td>\n",
       "      <td>Adventure</td>\n",
       "      <td>0.00</td>\n",
       "      <td>0.00</td>\n",
       "      <td>0.01</td>\n",
       "      <td>0.00</td>\n",
       "      <td>NaN</td>\n",
       "      <td>NaN</td>\n",
       "      <td>tbd</td>\n",
       "      <td>0.01</td>\n",
       "    </tr>\n",
       "    <tr>\n",
       "      <th>16442</th>\n",
       "      <td>Spirits &amp; Spells</td>\n",
       "      <td>GBA</td>\n",
       "      <td>2003</td>\n",
       "      <td>Platform</td>\n",
       "      <td>0.01</td>\n",
       "      <td>0.00</td>\n",
       "      <td>0.00</td>\n",
       "      <td>0.00</td>\n",
       "      <td>NaN</td>\n",
       "      <td>NaN</td>\n",
       "      <td>tbd</td>\n",
       "      <td>0.01</td>\n",
       "    </tr>\n",
       "    <tr>\n",
       "      <th>16443</th>\n",
       "      <td>Winning Post 8 2016</td>\n",
       "      <td>PSV</td>\n",
       "      <td>2016</td>\n",
       "      <td>Simulation</td>\n",
       "      <td>0.00</td>\n",
       "      <td>0.00</td>\n",
       "      <td>0.01</td>\n",
       "      <td>0.00</td>\n",
       "      <td>NaN</td>\n",
       "      <td>NaN</td>\n",
       "      <td>tbd</td>\n",
       "      <td>0.01</td>\n",
       "    </tr>\n",
       "    <tr>\n",
       "      <th>16444</th>\n",
       "      <td>Madden NFL 13</td>\n",
       "      <td>PS3</td>\n",
       "      <td>2012</td>\n",
       "      <td>Sports</td>\n",
       "      <td>2.11</td>\n",
       "      <td>0.23</td>\n",
       "      <td>0.00</td>\n",
       "      <td>0.23</td>\n",
       "      <td>166.0</td>\n",
       "      <td>11.0</td>\n",
       "      <td>E</td>\n",
       "      <td>2.57</td>\n",
       "    </tr>\n",
       "  </tbody>\n",
       "</table>\n",
       "<p>16445 rows × 12 columns</p>\n",
       "</div>"
      ],
      "text/plain": [
       "                           name platform  year_of_release         genre  \\\n",
       "0                    Wii Sports      Wii             2006        Sports   \n",
       "1             Super Mario Bros.      NES             1985      Platform   \n",
       "2                Mario Kart Wii      Wii             2008        Racing   \n",
       "3             Wii Sports Resort      Wii             2009        Sports   \n",
       "4      Pokemon Red/Pokemon Blue       GB             1996  Role-Playing   \n",
       "...                         ...      ...              ...           ...   \n",
       "16440          LMA Manager 2007     X360             2006        Sports   \n",
       "16441   Haitaka no Psychedelica      PSV             2016     Adventure   \n",
       "16442          Spirits & Spells      GBA             2003      Platform   \n",
       "16443       Winning Post 8 2016      PSV             2016    Simulation   \n",
       "16444             Madden NFL 13      PS3             2012        Sports   \n",
       "\n",
       "       na_sales  eu_sales  jp_sales  other_sales  critic_score  user_score  \\\n",
       "0         41.36     28.96      3.77         8.45          76.0         8.0   \n",
       "1         29.08      3.58      6.81         0.77           NaN         NaN   \n",
       "2         15.68     12.76      3.79         3.29          82.0         8.3   \n",
       "3         15.61     10.93      3.28         2.95          80.0         8.0   \n",
       "4         11.27      8.89     10.22         1.00           NaN         NaN   \n",
       "...         ...       ...       ...          ...           ...         ...   \n",
       "16440      0.00      0.01      0.00         0.00           NaN         NaN   \n",
       "16441      0.00      0.00      0.01         0.00           NaN         NaN   \n",
       "16442      0.01      0.00      0.00         0.00           NaN         NaN   \n",
       "16443      0.00      0.00      0.01         0.00           NaN         NaN   \n",
       "16444      2.11      0.23      0.00         0.23         166.0        11.0   \n",
       "\n",
       "      rating  world_sales  \n",
       "0          E        82.54  \n",
       "1        tbd        40.24  \n",
       "2          E        35.52  \n",
       "3          E        32.77  \n",
       "4        tbd        31.38  \n",
       "...      ...          ...  \n",
       "16440    tbd         0.01  \n",
       "16441    tbd         0.01  \n",
       "16442    tbd         0.01  \n",
       "16443    tbd         0.01  \n",
       "16444      E         2.57  \n",
       "\n",
       "[16445 rows x 12 columns]"
      ]
     },
     "execution_count": 22,
     "metadata": {},
     "output_type": "execute_result"
    }
   ],
   "source": [
    "game_data = game_data.drop_duplicates(subset=['name', 'platform', 'year_of_release', 'genre', 'rating'], keep=False)\n",
    "game_data = pd.concat([game_data, sum_game_data]).reset_index(drop=True)\n",
    "game_data"
   ]
  },
  {
   "cell_type": "code",
   "execution_count": 23,
   "id": "45966885",
   "metadata": {},
   "outputs": [
    {
     "data": {
      "text/html": [
       "<div>\n",
       "<style scoped>\n",
       "    .dataframe tbody tr th:only-of-type {\n",
       "        vertical-align: middle;\n",
       "    }\n",
       "\n",
       "    .dataframe tbody tr th {\n",
       "        vertical-align: top;\n",
       "    }\n",
       "\n",
       "    .dataframe thead th {\n",
       "        text-align: right;\n",
       "    }\n",
       "</style>\n",
       "<table border=\"1\" class=\"dataframe\">\n",
       "  <thead>\n",
       "    <tr style=\"text-align: right;\">\n",
       "      <th></th>\n",
       "      <th>name</th>\n",
       "      <th>platform</th>\n",
       "      <th>year_of_release</th>\n",
       "      <th>genre</th>\n",
       "      <th>na_sales</th>\n",
       "      <th>eu_sales</th>\n",
       "      <th>jp_sales</th>\n",
       "      <th>other_sales</th>\n",
       "      <th>critic_score</th>\n",
       "      <th>user_score</th>\n",
       "      <th>rating</th>\n",
       "      <th>world_sales</th>\n",
       "    </tr>\n",
       "  </thead>\n",
       "  <tbody>\n",
       "  </tbody>\n",
       "</table>\n",
       "</div>"
      ],
      "text/plain": [
       "Empty DataFrame\n",
       "Columns: [name, platform, year_of_release, genre, na_sales, eu_sales, jp_sales, other_sales, critic_score, user_score, rating, world_sales]\n",
       "Index: []"
      ]
     },
     "execution_count": 23,
     "metadata": {},
     "output_type": "execute_result"
    }
   ],
   "source": [
    "game_data[game_data[['name', 'platform', 'year_of_release', 'genre', 'rating']].duplicated(keep=False)]"
   ]
  },
  {
   "cell_type": "markdown",
   "id": "5742c633",
   "metadata": {},
   "source": [
    "Удалили все дуюлируещиеся строки, предварительно записав суммарные продажи в другой датафрейм, а затем добавили к нашему датафрейму строки с суммарными продажами. Проверили на дубликаты, их не осталось."
   ]
  },
  {
   "cell_type": "markdown",
   "id": "cb21a0c7",
   "metadata": {},
   "source": [
    "##### Вывод по предобработке данных\n",
    "Поменяли типы данных и заполнили пропуски, где возможно. В колонках рейтинга игр оставили nan, так как это тип данных float, а в колонке с возрастным рейтигн наоборот, убрали nan и поставили tbd, так как  рейтинг должен быть определен в дальнейшем. В колонке с годом выпуска пришлось поставить -1, так как для игр без известно года выпуска надо было заполнить данные типом int, так float не удобен в данном случае. Также была добавлена колонка по мировым продажам. Далее перейдем к анализу данных."
   ]
  },
  {
   "cell_type": "markdown",
   "id": "ac896fe7",
   "metadata": {},
   "source": [
    "#### Исследовательский анализ данных"
   ]
  },
  {
   "cell_type": "markdown",
   "id": "eae26d63",
   "metadata": {},
   "source": [
    "##### Выпуск игр по годам"
   ]
  },
  {
   "cell_type": "code",
   "execution_count": 24,
   "id": "d15630ec",
   "metadata": {},
   "outputs": [
    {
     "data": {
      "text/plain": [
       "Text(0, 0.5, 'Число игр')"
      ]
     },
     "execution_count": 24,
     "metadata": {},
     "output_type": "execute_result"
    },
    {
     "data": {
      "image/png": "[encoded data removed]",
      "text/plain": [
       "<Figure size 720x360 with 1 Axes>"
      ]
     },
     "metadata": {
      "needs_background": "light"
     },
     "output_type": "display_data"
    }
   ],
   "source": [
    "game_data['year_of_release'].value_counts().sort_index().plot(kind='bar', figsize=(10,5)).grid(axis='y')\n",
    "plt.title(\"Число игр по годам\")\n",
    "plt.xlabel('год', fontsize=14)\n",
    "plt.ylabel('Число игр', fontsize=14)"
   ]
  },
  {
   "cell_type": "markdown",
   "id": "0b604789",
   "metadata": {},
   "source": [
    "Как мы можем видеть, большинство игр выпускалось в 2008-2009 годах, при этом можно наблюдать начало резкого роста количества выпускаемых игр в 1993 году. Важны данные за недавние периоды, так как качество игр и возможность покупки игри может сильно отличатся в течении десяти лет, так как возможно установить себе игру также зависит от наличия и доступности устройств для этих игр."
   ]
  },
  {
   "cell_type": "markdown",
   "id": "70767a68",
   "metadata": {},
   "source": [
    "##### Анализ продаж по платформам"
   ]
  },
  {
   "cell_type": "code",
   "execution_count": 25,
   "id": "dda316cb",
   "metadata": {},
   "outputs": [
    {
     "data": {
      "text/html": [
       "<div>\n",
       "<style scoped>\n",
       "    .dataframe tbody tr th:only-of-type {\n",
       "        vertical-align: middle;\n",
       "    }\n",
       "\n",
       "    .dataframe tbody tr th {\n",
       "        vertical-align: top;\n",
       "    }\n",
       "\n",
       "    .dataframe thead th {\n",
       "        text-align: right;\n",
       "    }\n",
       "</style>\n",
       "<table border=\"1\" class=\"dataframe\">\n",
       "  <thead>\n",
       "    <tr style=\"text-align: right;\">\n",
       "      <th></th>\n",
       "      <th>world_sales</th>\n",
       "    </tr>\n",
       "    <tr>\n",
       "      <th>platform</th>\n",
       "      <th></th>\n",
       "    </tr>\n",
       "  </thead>\n",
       "  <tbody>\n",
       "    <tr>\n",
       "      <th>PS2</th>\n",
       "      <td>1233.56</td>\n",
       "    </tr>\n",
       "    <tr>\n",
       "      <th>X360</th>\n",
       "      <td>961.24</td>\n",
       "    </tr>\n",
       "    <tr>\n",
       "      <th>PS3</th>\n",
       "      <td>931.34</td>\n",
       "    </tr>\n",
       "    <tr>\n",
       "      <th>Wii</th>\n",
       "      <td>891.18</td>\n",
       "    </tr>\n",
       "    <tr>\n",
       "      <th>DS</th>\n",
       "      <td>802.78</td>\n",
       "    </tr>\n",
       "    <tr>\n",
       "      <th>PS</th>\n",
       "      <td>727.58</td>\n",
       "    </tr>\n",
       "    <tr>\n",
       "      <th>PS4</th>\n",
       "      <td>314.14</td>\n",
       "    </tr>\n",
       "    <tr>\n",
       "      <th>GBA</th>\n",
       "      <td>312.88</td>\n",
       "    </tr>\n",
       "    <tr>\n",
       "      <th>PSP</th>\n",
       "      <td>289.53</td>\n",
       "    </tr>\n",
       "    <tr>\n",
       "      <th>3DS</th>\n",
       "      <td>257.81</td>\n",
       "    </tr>\n",
       "  </tbody>\n",
       "</table>\n",
       "</div>"
      ],
      "text/plain": [
       "          world_sales\n",
       "platform             \n",
       "PS2           1233.56\n",
       "X360           961.24\n",
       "PS3            931.34\n",
       "Wii            891.18\n",
       "DS             802.78\n",
       "PS             727.58\n",
       "PS4            314.14\n",
       "GBA            312.88\n",
       "PSP            289.53\n",
       "3DS            257.81"
      ]
     },
     "execution_count": 25,
     "metadata": {},
     "output_type": "execute_result"
    }
   ],
   "source": [
    "game_data[['platform', 'world_sales']].groupby(by='platform').sum().sort_values(by='world_sales', ascending=False).head(10)"
   ]
  },
  {
   "cell_type": "markdown",
   "id": "e2c274cd",
   "metadata": {},
   "source": [
    "Получили платформы с наибольшим количесвом продаж игр. Построим для 5 лучших из них графики по годам."
   ]
  },
  {
   "cell_type": "code",
   "execution_count": 26,
   "id": "ec493e6a",
   "metadata": {},
   "outputs": [
    {
     "data": {
      "text/plain": [
       "Text(0, 0.5, 'Число игр')"
      ]
     },
     "execution_count": 26,
     "metadata": {},
     "output_type": "execute_result"
    },
    {
     "data": {
      "image/png": "[encoded data removed]",
      "text/plain": [
       "<Figure size 432x288 with 1 Axes>"
      ]
     },
     "metadata": {
      "needs_background": "light"
     },
     "output_type": "display_data"
    }
   ],
   "source": [
    "game_data[game_data['platform'] == 'PS2']['year_of_release'].value_counts().sort_index().plot(kind='bar').grid(axis='y')\n",
    "plt.title(\"Продажи игр по годам для платформы PS2\")\n",
    "plt.xlabel('год', fontsize=14)\n",
    "plt.ylabel('Число игр', fontsize=14)"
   ]
  },
  {
   "cell_type": "code",
   "execution_count": 27,
   "id": "f2294b3f",
   "metadata": {},
   "outputs": [
    {
     "data": {
      "text/plain": [
       "Text(0, 0.5, 'Число игр')"
      ]
     },
     "execution_count": 27,
     "metadata": {},
     "output_type": "execute_result"
    },
    {
     "data": {
      "image/png": "[encoded data removed]",
      "text/plain": [
       "<Figure size 432x288 with 1 Axes>"
      ]
     },
     "metadata": {
      "needs_background": "light"
     },
     "output_type": "display_data"
    }
   ],
   "source": [
    "game_data[game_data['platform'] == 'X360']['year_of_release'].value_counts().sort_index().plot(kind='bar').grid(axis='y')\n",
    "plt.title(\"Продажи игр по годам для платформы X360\")\n",
    "plt.xlabel('год', fontsize=14)\n",
    "plt.ylabel('Число игр', fontsize=14)"
   ]
  },
  {
   "cell_type": "code",
   "execution_count": 28,
   "id": "ed09733f",
   "metadata": {},
   "outputs": [
    {
     "data": {
      "text/plain": [
       "Text(0, 0.5, 'Число игр')"
      ]
     },
     "execution_count": 28,
     "metadata": {},
     "output_type": "execute_result"
    },
    {
     "data": {
      "image/png": "[encoded data removed]",
      "text/plain": [
       "<Figure size 432x288 with 1 Axes>"
      ]
     },
     "metadata": {
      "needs_background": "light"
     },
     "output_type": "display_data"
    }
   ],
   "source": [
    "game_data[game_data['platform'] == 'Wii']['year_of_release'].value_counts().sort_index().plot(kind='bar').grid(axis='y')\n",
    "plt.title(\"Продажи игр по годам для платформы Wii\")\n",
    "plt.xlabel('год', fontsize=14)\n",
    "plt.ylabel('Число игр', fontsize=14)"
   ]
  },
  {
   "cell_type": "code",
   "execution_count": 29,
   "id": "9b98035d",
   "metadata": {},
   "outputs": [
    {
     "data": {
      "text/plain": [
       "Text(0, 0.5, 'Число игр')"
      ]
     },
     "execution_count": 29,
     "metadata": {},
     "output_type": "execute_result"
    },
    {
     "data": {
      "image/png": "[encoded data removed]",
      "text/plain": [
       "<Figure size 432x288 with 1 Axes>"
      ]
     },
     "metadata": {
      "needs_background": "light"
     },
     "output_type": "display_data"
    }
   ],
   "source": [
    "game_data[game_data['platform'] == 'PS3']['year_of_release'].value_counts().sort_index().plot(kind='bar').grid(axis='y')\n",
    "plt.title(\"Продажи игр по годам для платформы PS3\")\n",
    "plt.xlabel('год', fontsize=14)\n",
    "plt.ylabel('Число игр', fontsize=14)"
   ]
  },
  {
   "cell_type": "code",
   "execution_count": 30,
   "id": "58d3bcdc",
   "metadata": {},
   "outputs": [
    {
     "data": {
      "text/plain": [
       "Text(0, 0.5, 'Число игр')"
      ]
     },
     "execution_count": 30,
     "metadata": {},
     "output_type": "execute_result"
    },
    {
     "data": {
      "image/png": "[encoded data removed]",
      "text/plain": [
       "<Figure size 432x288 with 1 Axes>"
      ]
     },
     "metadata": {
      "needs_background": "light"
     },
     "output_type": "display_data"
    }
   ],
   "source": [
    "game_data[game_data['platform'] == 'DS']['year_of_release'].value_counts().sort_index().plot(kind='bar').grid(axis='y')\n",
    "plt.title(\"Продажи игр по годам для платформы DS\")\n",
    "plt.xlabel('год', fontsize=14)\n",
    "plt.ylabel('Число игр', fontsize=14)"
   ]
  },
  {
   "cell_type": "markdown",
   "id": "af1a3fbc",
   "metadata": {},
   "source": [
    "Построили графики продаж игр по годам на разных платформах. В основном появляются новые и исчезают старые платформы за 6-10 лет. Это видно на предоставленных выше графиках. На последнем графике есть игры 1985 года, что довольно странно, рассмотрим, что это за значения."
   ]
  },
  {
   "cell_type": "code",
   "execution_count": 31,
   "id": "3203ba6c",
   "metadata": {},
   "outputs": [
    {
     "data": {
      "text/html": [
       "<div>\n",
       "<style scoped>\n",
       "    .dataframe tbody tr th:only-of-type {\n",
       "        vertical-align: middle;\n",
       "    }\n",
       "\n",
       "    .dataframe tbody tr th {\n",
       "        vertical-align: top;\n",
       "    }\n",
       "\n",
       "    .dataframe thead th {\n",
       "        text-align: right;\n",
       "    }\n",
       "</style>\n",
       "<table border=\"1\" class=\"dataframe\">\n",
       "  <thead>\n",
       "    <tr style=\"text-align: right;\">\n",
       "      <th></th>\n",
       "      <th>name</th>\n",
       "      <th>platform</th>\n",
       "      <th>year_of_release</th>\n",
       "      <th>genre</th>\n",
       "      <th>na_sales</th>\n",
       "      <th>eu_sales</th>\n",
       "      <th>jp_sales</th>\n",
       "      <th>other_sales</th>\n",
       "      <th>critic_score</th>\n",
       "      <th>user_score</th>\n",
       "      <th>rating</th>\n",
       "      <th>world_sales</th>\n",
       "    </tr>\n",
       "  </thead>\n",
       "  <tbody>\n",
       "    <tr>\n",
       "      <th>15705</th>\n",
       "      <td>Strongest Tokyo University Shogi DS</td>\n",
       "      <td>DS</td>\n",
       "      <td>1985</td>\n",
       "      <td>Action</td>\n",
       "      <td>0.0</td>\n",
       "      <td>0.0</td>\n",
       "      <td>0.02</td>\n",
       "      <td>0.0</td>\n",
       "      <td>NaN</td>\n",
       "      <td>NaN</td>\n",
       "      <td>tbd</td>\n",
       "      <td>0.02</td>\n",
       "    </tr>\n",
       "  </tbody>\n",
       "</table>\n",
       "</div>"
      ],
      "text/plain": [
       "                                      name platform  year_of_release   genre  \\\n",
       "15705  Strongest Tokyo University Shogi DS       DS             1985  Action   \n",
       "\n",
       "       na_sales  eu_sales  jp_sales  other_sales  critic_score  user_score  \\\n",
       "15705       0.0       0.0      0.02          0.0           NaN         NaN   \n",
       "\n",
       "      rating  world_sales  \n",
       "15705    tbd         0.02  "
      ]
     },
     "execution_count": 31,
     "metadata": {},
     "output_type": "execute_result"
    }
   ],
   "source": [
    "game_data.query('platform == \"DS\" & year_of_release == 1985')"
   ]
  },
  {
   "cell_type": "markdown",
   "id": "12e96aab",
   "metadata": {},
   "source": [
    "Это всего лишь одно значение, так что скорее всего это ошибка в данных. Попробуем найти ее в списке отдельно."
   ]
  },
  {
   "cell_type": "code",
   "execution_count": 32,
   "id": "76392989",
   "metadata": {},
   "outputs": [
    {
     "data": {
      "text/html": [
       "<div>\n",
       "<style scoped>\n",
       "    .dataframe tbody tr th:only-of-type {\n",
       "        vertical-align: middle;\n",
       "    }\n",
       "\n",
       "    .dataframe tbody tr th {\n",
       "        vertical-align: top;\n",
       "    }\n",
       "\n",
       "    .dataframe thead th {\n",
       "        text-align: right;\n",
       "    }\n",
       "</style>\n",
       "<table border=\"1\" class=\"dataframe\">\n",
       "  <thead>\n",
       "    <tr style=\"text-align: right;\">\n",
       "      <th></th>\n",
       "      <th>name</th>\n",
       "      <th>platform</th>\n",
       "      <th>year_of_release</th>\n",
       "      <th>genre</th>\n",
       "      <th>na_sales</th>\n",
       "      <th>eu_sales</th>\n",
       "      <th>jp_sales</th>\n",
       "      <th>other_sales</th>\n",
       "      <th>critic_score</th>\n",
       "      <th>user_score</th>\n",
       "      <th>rating</th>\n",
       "      <th>world_sales</th>\n",
       "    </tr>\n",
       "  </thead>\n",
       "  <tbody>\n",
       "    <tr>\n",
       "      <th>15705</th>\n",
       "      <td>Strongest Tokyo University Shogi DS</td>\n",
       "      <td>DS</td>\n",
       "      <td>1985</td>\n",
       "      <td>Action</td>\n",
       "      <td>0.0</td>\n",
       "      <td>0.0</td>\n",
       "      <td>0.02</td>\n",
       "      <td>0.0</td>\n",
       "      <td>NaN</td>\n",
       "      <td>NaN</td>\n",
       "      <td>tbd</td>\n",
       "      <td>0.02</td>\n",
       "    </tr>\n",
       "  </tbody>\n",
       "</table>\n",
       "</div>"
      ],
      "text/plain": [
       "                                      name platform  year_of_release   genre  \\\n",
       "15705  Strongest Tokyo University Shogi DS       DS             1985  Action   \n",
       "\n",
       "       na_sales  eu_sales  jp_sales  other_sales  critic_score  user_score  \\\n",
       "15705       0.0       0.0      0.02          0.0           NaN         NaN   \n",
       "\n",
       "      rating  world_sales  \n",
       "15705    tbd         0.02  "
      ]
     },
     "execution_count": 32,
     "metadata": {},
     "output_type": "execute_result"
    }
   ],
   "source": [
    "game_data.query('platform == \"DS\" & name == \"Strongest Tokyo University Shogi DS\"')"
   ]
  },
  {
   "cell_type": "markdown",
   "id": "5fbb7702",
   "metadata": {},
   "source": [
    "Она все также одна, так что видимо придется оставить, как есть, так как она и не сильно повлияет на изучаемые данные."
   ]
  },
  {
   "cell_type": "markdown",
   "id": "eea89d8d",
   "metadata": {},
   "source": [
    "##### Выбор актуального периода"
   ]
  },
  {
   "cell_type": "markdown",
   "id": "aa89452d",
   "metadata": {},
   "source": [
    "Актуальным периодом для анализа будем считать 3 прошлых года, так как за данный период можно наблюдать тенденцию к росту/снижению популярности платформы, так же как неизменную популярность в течении некторого времени, как было например у PS2 в 2002-2006 годах. К тому же за 2016г данные могут быть неполные, что может привести к ошибкам при рассмотрении только 2 последних лет. При этом не будем включать набор данных платформы, на которых ничего не продано за последний год."
   ]
  },
  {
   "cell_type": "code",
   "execution_count": 33,
   "id": "07e3bb40",
   "metadata": {},
   "outputs": [
    {
     "name": "stdout",
     "output_type": "stream",
     "text": [
      "{'WiiU', 'PS3', 'PC', 'XOne', 'PS4', 'X360', 'Wii', 'PSV', '3DS'} \n",
      "\n",
      "<class 'pandas.core.frame.DataFrame'>\n",
      "Int64Index: 1676 entries, 31 to 16443\n",
      "Data columns (total 12 columns):\n",
      " #   Column           Non-Null Count  Dtype  \n",
      "---  ------           --------------  -----  \n",
      " 0   name             1676 non-null   object \n",
      " 1   platform         1676 non-null   object \n",
      " 2   year_of_release  1676 non-null   int64  \n",
      " 3   genre            1676 non-null   object \n",
      " 4   na_sales         1676 non-null   float64\n",
      " 5   eu_sales         1676 non-null   float64\n",
      " 6   jp_sales         1676 non-null   float64\n",
      " 7   other_sales      1676 non-null   float64\n",
      " 8   critic_score     718 non-null    float64\n",
      " 9   user_score       888 non-null    float64\n",
      " 10  rating           1676 non-null   object \n",
      " 11  world_sales      1676 non-null   float64\n",
      "dtypes: float64(7), int64(1), object(4)\n",
      "memory usage: 170.2+ KB\n",
      "None\n"
     ]
    },
    {
     "data": {
      "text/html": [
       "<div>\n",
       "<style scoped>\n",
       "    .dataframe tbody tr th:only-of-type {\n",
       "        vertical-align: middle;\n",
       "    }\n",
       "\n",
       "    .dataframe tbody tr th {\n",
       "        vertical-align: top;\n",
       "    }\n",
       "\n",
       "    .dataframe thead th {\n",
       "        text-align: right;\n",
       "    }\n",
       "</style>\n",
       "<table border=\"1\" class=\"dataframe\">\n",
       "  <thead>\n",
       "    <tr style=\"text-align: right;\">\n",
       "      <th></th>\n",
       "      <th>name</th>\n",
       "      <th>platform</th>\n",
       "      <th>year_of_release</th>\n",
       "      <th>genre</th>\n",
       "      <th>na_sales</th>\n",
       "      <th>eu_sales</th>\n",
       "      <th>jp_sales</th>\n",
       "      <th>other_sales</th>\n",
       "      <th>critic_score</th>\n",
       "      <th>user_score</th>\n",
       "      <th>rating</th>\n",
       "      <th>world_sales</th>\n",
       "    </tr>\n",
       "  </thead>\n",
       "  <tbody>\n",
       "    <tr>\n",
       "      <th>31</th>\n",
       "      <td>Call of Duty: Black Ops 3</td>\n",
       "      <td>PS4</td>\n",
       "      <td>2015</td>\n",
       "      <td>Shooter</td>\n",
       "      <td>6.03</td>\n",
       "      <td>5.86</td>\n",
       "      <td>0.36</td>\n",
       "      <td>2.38</td>\n",
       "      <td>NaN</td>\n",
       "      <td>NaN</td>\n",
       "      <td>tbd</td>\n",
       "      <td>14.63</td>\n",
       "    </tr>\n",
       "    <tr>\n",
       "      <th>42</th>\n",
       "      <td>Grand Theft Auto V</td>\n",
       "      <td>PS4</td>\n",
       "      <td>2014</td>\n",
       "      <td>Action</td>\n",
       "      <td>3.96</td>\n",
       "      <td>6.31</td>\n",
       "      <td>0.38</td>\n",
       "      <td>1.97</td>\n",
       "      <td>97.0</td>\n",
       "      <td>8.3</td>\n",
       "      <td>M</td>\n",
       "      <td>12.62</td>\n",
       "    </tr>\n",
       "    <tr>\n",
       "      <th>47</th>\n",
       "      <td>Pokemon Omega Ruby/Pokemon Alpha Sapphire</td>\n",
       "      <td>3DS</td>\n",
       "      <td>2014</td>\n",
       "      <td>Role-Playing</td>\n",
       "      <td>4.35</td>\n",
       "      <td>3.49</td>\n",
       "      <td>3.10</td>\n",
       "      <td>0.74</td>\n",
       "      <td>NaN</td>\n",
       "      <td>NaN</td>\n",
       "      <td>tbd</td>\n",
       "      <td>11.68</td>\n",
       "    </tr>\n",
       "    <tr>\n",
       "      <th>77</th>\n",
       "      <td>FIFA 16</td>\n",
       "      <td>PS4</td>\n",
       "      <td>2015</td>\n",
       "      <td>Sports</td>\n",
       "      <td>1.12</td>\n",
       "      <td>6.12</td>\n",
       "      <td>0.06</td>\n",
       "      <td>1.28</td>\n",
       "      <td>82.0</td>\n",
       "      <td>4.3</td>\n",
       "      <td>E</td>\n",
       "      <td>8.58</td>\n",
       "    </tr>\n",
       "    <tr>\n",
       "      <th>87</th>\n",
       "      <td>Star Wars Battlefront (2015)</td>\n",
       "      <td>PS4</td>\n",
       "      <td>2015</td>\n",
       "      <td>Shooter</td>\n",
       "      <td>2.99</td>\n",
       "      <td>3.49</td>\n",
       "      <td>0.22</td>\n",
       "      <td>1.28</td>\n",
       "      <td>NaN</td>\n",
       "      <td>NaN</td>\n",
       "      <td>tbd</td>\n",
       "      <td>7.98</td>\n",
       "    </tr>\n",
       "    <tr>\n",
       "      <th>...</th>\n",
       "      <td>...</td>\n",
       "      <td>...</td>\n",
       "      <td>...</td>\n",
       "      <td>...</td>\n",
       "      <td>...</td>\n",
       "      <td>...</td>\n",
       "      <td>...</td>\n",
       "      <td>...</td>\n",
       "      <td>...</td>\n",
       "      <td>...</td>\n",
       "      <td>...</td>\n",
       "      <td>...</td>\n",
       "    </tr>\n",
       "    <tr>\n",
       "      <th>16432</th>\n",
       "      <td>Strawberry Nauts</td>\n",
       "      <td>PSV</td>\n",
       "      <td>2016</td>\n",
       "      <td>Adventure</td>\n",
       "      <td>0.00</td>\n",
       "      <td>0.00</td>\n",
       "      <td>0.01</td>\n",
       "      <td>0.00</td>\n",
       "      <td>NaN</td>\n",
       "      <td>NaN</td>\n",
       "      <td>tbd</td>\n",
       "      <td>0.01</td>\n",
       "    </tr>\n",
       "    <tr>\n",
       "      <th>16436</th>\n",
       "      <td>Aiyoku no Eustia</td>\n",
       "      <td>PSV</td>\n",
       "      <td>2014</td>\n",
       "      <td>Misc</td>\n",
       "      <td>0.00</td>\n",
       "      <td>0.00</td>\n",
       "      <td>0.01</td>\n",
       "      <td>0.00</td>\n",
       "      <td>NaN</td>\n",
       "      <td>NaN</td>\n",
       "      <td>tbd</td>\n",
       "      <td>0.01</td>\n",
       "    </tr>\n",
       "    <tr>\n",
       "      <th>16439</th>\n",
       "      <td>Samurai Warriors: Sanada Maru</td>\n",
       "      <td>PS3</td>\n",
       "      <td>2016</td>\n",
       "      <td>Action</td>\n",
       "      <td>0.00</td>\n",
       "      <td>0.00</td>\n",
       "      <td>0.01</td>\n",
       "      <td>0.00</td>\n",
       "      <td>NaN</td>\n",
       "      <td>NaN</td>\n",
       "      <td>tbd</td>\n",
       "      <td>0.01</td>\n",
       "    </tr>\n",
       "    <tr>\n",
       "      <th>16441</th>\n",
       "      <td>Haitaka no Psychedelica</td>\n",
       "      <td>PSV</td>\n",
       "      <td>2016</td>\n",
       "      <td>Adventure</td>\n",
       "      <td>0.00</td>\n",
       "      <td>0.00</td>\n",
       "      <td>0.01</td>\n",
       "      <td>0.00</td>\n",
       "      <td>NaN</td>\n",
       "      <td>NaN</td>\n",
       "      <td>tbd</td>\n",
       "      <td>0.01</td>\n",
       "    </tr>\n",
       "    <tr>\n",
       "      <th>16443</th>\n",
       "      <td>Winning Post 8 2016</td>\n",
       "      <td>PSV</td>\n",
       "      <td>2016</td>\n",
       "      <td>Simulation</td>\n",
       "      <td>0.00</td>\n",
       "      <td>0.00</td>\n",
       "      <td>0.01</td>\n",
       "      <td>0.00</td>\n",
       "      <td>NaN</td>\n",
       "      <td>NaN</td>\n",
       "      <td>tbd</td>\n",
       "      <td>0.01</td>\n",
       "    </tr>\n",
       "  </tbody>\n",
       "</table>\n",
       "<p>1676 rows × 12 columns</p>\n",
       "</div>"
      ],
      "text/plain": [
       "                                            name platform  year_of_release  \\\n",
       "31                     Call of Duty: Black Ops 3      PS4             2015   \n",
       "42                            Grand Theft Auto V      PS4             2014   \n",
       "47     Pokemon Omega Ruby/Pokemon Alpha Sapphire      3DS             2014   \n",
       "77                                       FIFA 16      PS4             2015   \n",
       "87                  Star Wars Battlefront (2015)      PS4             2015   \n",
       "...                                          ...      ...              ...   \n",
       "16432                           Strawberry Nauts      PSV             2016   \n",
       "16436                           Aiyoku no Eustia      PSV             2014   \n",
       "16439              Samurai Warriors: Sanada Maru      PS3             2016   \n",
       "16441                    Haitaka no Psychedelica      PSV             2016   \n",
       "16443                        Winning Post 8 2016      PSV             2016   \n",
       "\n",
       "              genre  na_sales  eu_sales  jp_sales  other_sales  critic_score  \\\n",
       "31          Shooter      6.03      5.86      0.36         2.38           NaN   \n",
       "42           Action      3.96      6.31      0.38         1.97          97.0   \n",
       "47     Role-Playing      4.35      3.49      3.10         0.74           NaN   \n",
       "77           Sports      1.12      6.12      0.06         1.28          82.0   \n",
       "87          Shooter      2.99      3.49      0.22         1.28           NaN   \n",
       "...             ...       ...       ...       ...          ...           ...   \n",
       "16432     Adventure      0.00      0.00      0.01         0.00           NaN   \n",
       "16436          Misc      0.00      0.00      0.01         0.00           NaN   \n",
       "16439        Action      0.00      0.00      0.01         0.00           NaN   \n",
       "16441     Adventure      0.00      0.00      0.01         0.00           NaN   \n",
       "16443    Simulation      0.00      0.00      0.01         0.00           NaN   \n",
       "\n",
       "       user_score rating  world_sales  \n",
       "31            NaN    tbd        14.63  \n",
       "42            8.3      M        12.62  \n",
       "47            NaN    tbd        11.68  \n",
       "77            4.3      E         8.58  \n",
       "87            NaN    tbd         7.98  \n",
       "...           ...    ...          ...  \n",
       "16432         NaN    tbd         0.01  \n",
       "16436         NaN    tbd         0.01  \n",
       "16439         NaN    tbd         0.01  \n",
       "16441         NaN    tbd         0.01  \n",
       "16443         NaN    tbd         0.01  \n",
       "\n",
       "[1676 rows x 12 columns]"
      ]
     },
     "execution_count": 33,
     "metadata": {},
     "output_type": "execute_result"
    }
   ],
   "source": [
    "last_year_platforms = set(game_data.query('year_of_release == 2016')['platform'].unique())\n",
    "print(last_year_platforms,'\\n')\n",
    "data_last_years = game_data.query('year_of_release >= 2014 & platform in @last_year_platforms')\n",
    "print(data_last_years.info())\n",
    "data_last_years"
   ]
  },
  {
   "cell_type": "markdown",
   "id": "70fc7191",
   "metadata": {},
   "source": [
    "##### Анализ данных по платформам за последние годы"
   ]
  },
  {
   "cell_type": "code",
   "execution_count": 34,
   "id": "fc5ce007",
   "metadata": {},
   "outputs": [
    {
     "name": "stdout",
     "output_type": "stream",
     "text": [
      "9\n"
     ]
    },
    {
     "data": {
      "text/plain": [
       "array(['PS4', '3DS', 'XOne', 'WiiU', 'PS3', 'X360', 'PC', 'Wii', 'PSV'],\n",
       "      dtype=object)"
      ]
     },
     "execution_count": 34,
     "metadata": {},
     "output_type": "execute_result"
    }
   ],
   "source": [
    "print(data_last_years['platform'].nunique())\n",
    "data_last_years['platform'].unique()"
   ]
  },
  {
   "cell_type": "code",
   "execution_count": 35,
   "id": "02419d93",
   "metadata": {},
   "outputs": [
    {
     "data": {
      "text/html": [
       "<div>\n",
       "<style scoped>\n",
       "    .dataframe tbody tr th:only-of-type {\n",
       "        vertical-align: middle;\n",
       "    }\n",
       "\n",
       "    .dataframe tbody tr th {\n",
       "        vertical-align: top;\n",
       "    }\n",
       "\n",
       "    .dataframe thead th {\n",
       "        text-align: right;\n",
       "    }\n",
       "</style>\n",
       "<table border=\"1\" class=\"dataframe\">\n",
       "  <thead>\n",
       "    <tr style=\"text-align: right;\">\n",
       "      <th></th>\n",
       "      <th>world_sales</th>\n",
       "    </tr>\n",
       "    <tr>\n",
       "      <th>platform</th>\n",
       "      <th></th>\n",
       "    </tr>\n",
       "  </thead>\n",
       "  <tbody>\n",
       "    <tr>\n",
       "      <th>PS4</th>\n",
       "      <td>288.15</td>\n",
       "    </tr>\n",
       "    <tr>\n",
       "      <th>XOne</th>\n",
       "      <td>140.36</td>\n",
       "    </tr>\n",
       "    <tr>\n",
       "      <th>3DS</th>\n",
       "      <td>86.68</td>\n",
       "    </tr>\n",
       "    <tr>\n",
       "      <th>PS3</th>\n",
       "      <td>68.18</td>\n",
       "    </tr>\n",
       "    <tr>\n",
       "      <th>X360</th>\n",
       "      <td>48.22</td>\n",
       "    </tr>\n",
       "    <tr>\n",
       "      <th>WiiU</th>\n",
       "      <td>42.98</td>\n",
       "    </tr>\n",
       "    <tr>\n",
       "      <th>PC</th>\n",
       "      <td>27.05</td>\n",
       "    </tr>\n",
       "    <tr>\n",
       "      <th>PSV</th>\n",
       "      <td>22.40</td>\n",
       "    </tr>\n",
       "    <tr>\n",
       "      <th>Wii</th>\n",
       "      <td>5.07</td>\n",
       "    </tr>\n",
       "  </tbody>\n",
       "</table>\n",
       "</div>"
      ],
      "text/plain": [
       "          world_sales\n",
       "platform             \n",
       "PS4            288.15\n",
       "XOne           140.36\n",
       "3DS             86.68\n",
       "PS3             68.18\n",
       "X360            48.22\n",
       "WiiU            42.98\n",
       "PC              27.05\n",
       "PSV             22.40\n",
       "Wii              5.07"
      ]
     },
     "execution_count": 35,
     "metadata": {},
     "output_type": "execute_result"
    }
   ],
   "source": [
    "(data_last_years[['platform', 'world_sales']].groupby(by='platform').sum()\n",
    "                                             .sort_values(by='world_sales', ascending=False)\n",
    "                                             .head(data_last_years['platform'].nunique())\n",
    ")"
   ]
  },
  {
   "cell_type": "code",
   "execution_count": 36,
   "id": "2d60101d",
   "metadata": {},
   "outputs": [
    {
     "data": {
      "text/plain": [
       "<AxesSubplot:xlabel='platform', ylabel='world_sales'>"
      ]
     },
     "execution_count": 36,
     "metadata": {},
     "output_type": "execute_result"
    },
    {
     "data": {
      "image/png": "[encoded data removed]",
      "text/plain": [
       "<Figure size 432x288 with 1 Axes>"
      ]
     },
     "metadata": {
      "needs_background": "light"
     },
     "output_type": "display_data"
    }
   ],
   "source": [
    "df = (data_last_years.pivot_table(index=['platform'],\n",
    "                                   values='world_sales',\n",
    "                                   aggfunc='sum').sort_values(by='world_sales', ascending=False)\n",
    "                                                 .reset_index(drop=False)\n",
    ") \n",
    "sns.barplot(data=df, x='platform', y='world_sales')"
   ]
  },
  {
   "cell_type": "markdown",
   "id": "7e139a3e",
   "metadata": {},
   "source": [
    "Явно выделяются лидирующие по продажам платформы, но нам немаловажно найти те, которые растут или падают. Для этого проанализиуруем разницу в продажах на платформах по годам. При этом на Wii продажи почти отсутсвуют."
   ]
  },
  {
   "cell_type": "code",
   "execution_count": 37,
   "id": "a9542ae7",
   "metadata": {
    "scrolled": false
   },
   "outputs": [
    {
     "data": {
      "text/html": [
       "<div>\n",
       "<style scoped>\n",
       "    .dataframe tbody tr th:only-of-type {\n",
       "        vertical-align: middle;\n",
       "    }\n",
       "\n",
       "    .dataframe tbody tr th {\n",
       "        vertical-align: top;\n",
       "    }\n",
       "\n",
       "    .dataframe thead th {\n",
       "        text-align: right;\n",
       "    }\n",
       "</style>\n",
       "<table border=\"1\" class=\"dataframe\">\n",
       "  <thead>\n",
       "    <tr style=\"text-align: right;\">\n",
       "      <th></th>\n",
       "      <th>year_of_release</th>\n",
       "      <th>platform</th>\n",
       "      <th>world_sales</th>\n",
       "    </tr>\n",
       "  </thead>\n",
       "  <tbody>\n",
       "    <tr>\n",
       "      <th>0</th>\n",
       "      <td>2016</td>\n",
       "      <td>XOne</td>\n",
       "      <td>26.15</td>\n",
       "    </tr>\n",
       "    <tr>\n",
       "      <th>1</th>\n",
       "      <td>2014</td>\n",
       "      <td>XOne</td>\n",
       "      <td>54.07</td>\n",
       "    </tr>\n",
       "    <tr>\n",
       "      <th>2</th>\n",
       "      <td>2015</td>\n",
       "      <td>XOne</td>\n",
       "      <td>60.14</td>\n",
       "    </tr>\n",
       "    <tr>\n",
       "      <th>3</th>\n",
       "      <td>2016</td>\n",
       "      <td>X360</td>\n",
       "      <td>1.52</td>\n",
       "    </tr>\n",
       "    <tr>\n",
       "      <th>4</th>\n",
       "      <td>2014</td>\n",
       "      <td>X360</td>\n",
       "      <td>34.74</td>\n",
       "    </tr>\n",
       "    <tr>\n",
       "      <th>5</th>\n",
       "      <td>2015</td>\n",
       "      <td>X360</td>\n",
       "      <td>11.96</td>\n",
       "    </tr>\n",
       "    <tr>\n",
       "      <th>6</th>\n",
       "      <td>2016</td>\n",
       "      <td>WiiU</td>\n",
       "      <td>4.60</td>\n",
       "    </tr>\n",
       "    <tr>\n",
       "      <th>7</th>\n",
       "      <td>2014</td>\n",
       "      <td>WiiU</td>\n",
       "      <td>22.03</td>\n",
       "    </tr>\n",
       "    <tr>\n",
       "      <th>8</th>\n",
       "      <td>2015</td>\n",
       "      <td>WiiU</td>\n",
       "      <td>16.35</td>\n",
       "    </tr>\n",
       "    <tr>\n",
       "      <th>9</th>\n",
       "      <td>2015</td>\n",
       "      <td>Wii</td>\n",
       "      <td>1.14</td>\n",
       "    </tr>\n",
       "    <tr>\n",
       "      <th>10</th>\n",
       "      <td>2016</td>\n",
       "      <td>Wii</td>\n",
       "      <td>0.18</td>\n",
       "    </tr>\n",
       "    <tr>\n",
       "      <th>11</th>\n",
       "      <td>2014</td>\n",
       "      <td>Wii</td>\n",
       "      <td>3.75</td>\n",
       "    </tr>\n",
       "    <tr>\n",
       "      <th>12</th>\n",
       "      <td>2016</td>\n",
       "      <td>PSV</td>\n",
       "      <td>4.25</td>\n",
       "    </tr>\n",
       "    <tr>\n",
       "      <th>13</th>\n",
       "      <td>2015</td>\n",
       "      <td>PSV</td>\n",
       "      <td>6.25</td>\n",
       "    </tr>\n",
       "    <tr>\n",
       "      <th>14</th>\n",
       "      <td>2014</td>\n",
       "      <td>PSV</td>\n",
       "      <td>11.90</td>\n",
       "    </tr>\n",
       "    <tr>\n",
       "      <th>15</th>\n",
       "      <td>2015</td>\n",
       "      <td>PS4</td>\n",
       "      <td>118.90</td>\n",
       "    </tr>\n",
       "    <tr>\n",
       "      <th>16</th>\n",
       "      <td>2016</td>\n",
       "      <td>PS4</td>\n",
       "      <td>69.25</td>\n",
       "    </tr>\n",
       "    <tr>\n",
       "      <th>17</th>\n",
       "      <td>2014</td>\n",
       "      <td>PS4</td>\n",
       "      <td>100.00</td>\n",
       "    </tr>\n",
       "    <tr>\n",
       "      <th>18</th>\n",
       "      <td>2015</td>\n",
       "      <td>PS3</td>\n",
       "      <td>16.82</td>\n",
       "    </tr>\n",
       "    <tr>\n",
       "      <th>19</th>\n",
       "      <td>2016</td>\n",
       "      <td>PS3</td>\n",
       "      <td>3.60</td>\n",
       "    </tr>\n",
       "    <tr>\n",
       "      <th>20</th>\n",
       "      <td>2014</td>\n",
       "      <td>PS3</td>\n",
       "      <td>47.76</td>\n",
       "    </tr>\n",
       "    <tr>\n",
       "      <th>21</th>\n",
       "      <td>2014</td>\n",
       "      <td>PC</td>\n",
       "      <td>13.28</td>\n",
       "    </tr>\n",
       "    <tr>\n",
       "      <th>22</th>\n",
       "      <td>2015</td>\n",
       "      <td>PC</td>\n",
       "      <td>8.52</td>\n",
       "    </tr>\n",
       "    <tr>\n",
       "      <th>23</th>\n",
       "      <td>2016</td>\n",
       "      <td>PC</td>\n",
       "      <td>5.25</td>\n",
       "    </tr>\n",
       "    <tr>\n",
       "      <th>24</th>\n",
       "      <td>2016</td>\n",
       "      <td>3DS</td>\n",
       "      <td>15.14</td>\n",
       "    </tr>\n",
       "    <tr>\n",
       "      <th>25</th>\n",
       "      <td>2015</td>\n",
       "      <td>3DS</td>\n",
       "      <td>27.78</td>\n",
       "    </tr>\n",
       "    <tr>\n",
       "      <th>26</th>\n",
       "      <td>2014</td>\n",
       "      <td>3DS</td>\n",
       "      <td>43.76</td>\n",
       "    </tr>\n",
       "  </tbody>\n",
       "</table>\n",
       "</div>"
      ],
      "text/plain": [
       "    year_of_release platform  world_sales\n",
       "0              2016     XOne        26.15\n",
       "1              2014     XOne        54.07\n",
       "2              2015     XOne        60.14\n",
       "3              2016     X360         1.52\n",
       "4              2014     X360        34.74\n",
       "5              2015     X360        11.96\n",
       "6              2016     WiiU         4.60\n",
       "7              2014     WiiU        22.03\n",
       "8              2015     WiiU        16.35\n",
       "9              2015      Wii         1.14\n",
       "10             2016      Wii         0.18\n",
       "11             2014      Wii         3.75\n",
       "12             2016      PSV         4.25\n",
       "13             2015      PSV         6.25\n",
       "14             2014      PSV        11.90\n",
       "15             2015      PS4       118.90\n",
       "16             2016      PS4        69.25\n",
       "17             2014      PS4       100.00\n",
       "18             2015      PS3        16.82\n",
       "19             2016      PS3         3.60\n",
       "20             2014      PS3        47.76\n",
       "21             2014       PC        13.28\n",
       "22             2015       PC         8.52\n",
       "23             2016       PC         5.25\n",
       "24             2016      3DS        15.14\n",
       "25             2015      3DS        27.78\n",
       "26             2014      3DS        43.76"
      ]
     },
     "execution_count": 37,
     "metadata": {},
     "output_type": "execute_result"
    }
   ],
   "source": [
    "data_last_years_dynamic = (data_last_years.pivot_table(index=['year_of_release', 'platform'],\n",
    "                                                       values='world_sales',\n",
    "                                                       aggfunc='sum').sort_values(by='platform', ascending=False)\n",
    "                                                                     .reset_index(drop=False)\n",
    ")\n",
    "data_last_years_dynamic"
   ]
  },
  {
   "cell_type": "code",
   "execution_count": 38,
   "id": "f658d510",
   "metadata": {},
   "outputs": [
    {
     "name": "stdout",
     "output_type": "stream",
     "text": [
      "разница продаж 2015-2016гг\n"
     ]
    },
    {
     "data": {
      "text/html": [
       "<div>\n",
       "<style scoped>\n",
       "    .dataframe tbody tr th:only-of-type {\n",
       "        vertical-align: middle;\n",
       "    }\n",
       "\n",
       "    .dataframe tbody tr th {\n",
       "        vertical-align: top;\n",
       "    }\n",
       "\n",
       "    .dataframe thead th {\n",
       "        text-align: right;\n",
       "    }\n",
       "</style>\n",
       "<table border=\"1\" class=\"dataframe\">\n",
       "  <thead>\n",
       "    <tr style=\"text-align: right;\">\n",
       "      <th></th>\n",
       "      <th>sales_dynamic</th>\n",
       "    </tr>\n",
       "  </thead>\n",
       "  <tbody>\n",
       "    <tr>\n",
       "      <th>X360</th>\n",
       "      <td>-6.868421</td>\n",
       "    </tr>\n",
       "    <tr>\n",
       "      <th>Wii</th>\n",
       "      <td>-5.333333</td>\n",
       "    </tr>\n",
       "    <tr>\n",
       "      <th>PS3</th>\n",
       "      <td>-3.672222</td>\n",
       "    </tr>\n",
       "    <tr>\n",
       "      <th>WiiU</th>\n",
       "      <td>-2.554348</td>\n",
       "    </tr>\n",
       "    <tr>\n",
       "      <th>XOne</th>\n",
       "      <td>-1.299809</td>\n",
       "    </tr>\n",
       "    <tr>\n",
       "      <th>3DS</th>\n",
       "      <td>-0.834875</td>\n",
       "    </tr>\n",
       "    <tr>\n",
       "      <th>PS4</th>\n",
       "      <td>-0.716968</td>\n",
       "    </tr>\n",
       "    <tr>\n",
       "      <th>PC</th>\n",
       "      <td>-0.622857</td>\n",
       "    </tr>\n",
       "    <tr>\n",
       "      <th>PSV</th>\n",
       "      <td>-0.470588</td>\n",
       "    </tr>\n",
       "  </tbody>\n",
       "</table>\n",
       "</div>"
      ],
      "text/plain": [
       "      sales_dynamic\n",
       "X360      -6.868421\n",
       "Wii       -5.333333\n",
       "PS3       -3.672222\n",
       "WiiU      -2.554348\n",
       "XOne      -1.299809\n",
       "3DS       -0.834875\n",
       "PS4       -0.716968\n",
       "PC        -0.622857\n",
       "PSV       -0.470588"
      ]
     },
     "execution_count": 38,
     "metadata": {},
     "output_type": "execute_result"
    }
   ],
   "source": [
    "sales_changes_dict = {}\n",
    "for platform in last_year_platforms:\n",
    "    last_year = data_last_years_dynamic.query('platform == @platform & year_of_release == 2016')['world_sales'].iloc[0]\n",
    "    first_year = data_last_years_dynamic.query('platform == @platform & year_of_release == 2015')['world_sales'].iloc[0]\n",
    "    sale_changes = (last_year - first_year) / last_year\n",
    "    sales_changes_dict[platform] = sale_changes\n",
    "sales_changes_dict\n",
    "sales_changes_data = (pd.DataFrame.from_dict(sales_changes_dict, orient='index', columns=['sales_dynamic'])\n",
    "                                  .sort_values(by='sales_dynamic'))\n",
    "print('разница продаж 2015-2016гг')\n",
    "sales_changes_data"
   ]
  },
  {
   "cell_type": "code",
   "execution_count": 39,
   "id": "2d4c04ee",
   "metadata": {},
   "outputs": [
    {
     "name": "stdout",
     "output_type": "stream",
     "text": [
      "разница продаж 2014-2015гг\n"
     ]
    },
    {
     "data": {
      "text/html": [
       "<div>\n",
       "<style scoped>\n",
       "    .dataframe tbody tr th:only-of-type {\n",
       "        vertical-align: middle;\n",
       "    }\n",
       "\n",
       "    .dataframe tbody tr th {\n",
       "        vertical-align: top;\n",
       "    }\n",
       "\n",
       "    .dataframe thead th {\n",
       "        text-align: right;\n",
       "    }\n",
       "</style>\n",
       "<table border=\"1\" class=\"dataframe\">\n",
       "  <thead>\n",
       "    <tr style=\"text-align: right;\">\n",
       "      <th></th>\n",
       "      <th>sales_dynamic</th>\n",
       "    </tr>\n",
       "  </thead>\n",
       "  <tbody>\n",
       "    <tr>\n",
       "      <th>Wii</th>\n",
       "      <td>-2.289474</td>\n",
       "    </tr>\n",
       "    <tr>\n",
       "      <th>X360</th>\n",
       "      <td>-1.904682</td>\n",
       "    </tr>\n",
       "    <tr>\n",
       "      <th>PS3</th>\n",
       "      <td>-1.839477</td>\n",
       "    </tr>\n",
       "    <tr>\n",
       "      <th>PSV</th>\n",
       "      <td>-0.904000</td>\n",
       "    </tr>\n",
       "    <tr>\n",
       "      <th>3DS</th>\n",
       "      <td>-0.575234</td>\n",
       "    </tr>\n",
       "    <tr>\n",
       "      <th>PC</th>\n",
       "      <td>-0.558685</td>\n",
       "    </tr>\n",
       "    <tr>\n",
       "      <th>WiiU</th>\n",
       "      <td>-0.347401</td>\n",
       "    </tr>\n",
       "    <tr>\n",
       "      <th>XOne</th>\n",
       "      <td>0.100931</td>\n",
       "    </tr>\n",
       "    <tr>\n",
       "      <th>PS4</th>\n",
       "      <td>0.158957</td>\n",
       "    </tr>\n",
       "  </tbody>\n",
       "</table>\n",
       "</div>"
      ],
      "text/plain": [
       "      sales_dynamic\n",
       "Wii       -2.289474\n",
       "X360      -1.904682\n",
       "PS3       -1.839477\n",
       "PSV       -0.904000\n",
       "3DS       -0.575234\n",
       "PC        -0.558685\n",
       "WiiU      -0.347401\n",
       "XOne       0.100931\n",
       "PS4        0.158957"
      ]
     },
     "execution_count": 39,
     "metadata": {},
     "output_type": "execute_result"
    }
   ],
   "source": [
    "sales_changes_dict = {}\n",
    "for platform in last_year_platforms:\n",
    "    last_year = data_last_years_dynamic.query('platform == @platform & year_of_release == 2015')['world_sales'].iloc[0]\n",
    "    first_year = data_last_years_dynamic.query('platform == @platform & year_of_release == 2014')['world_sales'].iloc[0]\n",
    "    sale_changes = (last_year - first_year) / last_year\n",
    "    sales_changes_dict[platform] = sale_changes\n",
    "sales_changes_dict\n",
    "sales_changes_data = (pd.DataFrame.from_dict(sales_changes_dict, orient='index', columns=['sales_dynamic'])\n",
    "                                  .sort_values(by='sales_dynamic'))\n",
    "print('разница продаж 2014-2015гг')\n",
    "sales_changes_data"
   ]
  },
  {
   "cell_type": "markdown",
   "id": "5ed60170",
   "metadata": {},
   "source": [
    "Можем видеть падение продаж по всем платформам, но наиболее сильное у 3 платформ: X360, Wii, PS3. Они точно прибыльными не будут, так как очень сильно теряют популярность. Потенциально прибыльными являются платформы:\n",
    "- PS4\n",
    "- XOne\n",
    "- 3DS\n",
    "- PC\n",
    "- WiiU\n",
    "\n",
    "Это связано с тем, что у первых двух как наибольшее число продаж, так и наименьшее падение количества покупок по статистике 2014-2016гг. Вторые две выбраны на основании того, что входят в тройку лучших по продажам или по динамике продаж количества покупок игр, имея при этом немалые продажи в 2016г.\n",
    "\n",
    "Далее будем рассматривать эти пять платформ."
   ]
  },
  {
   "cell_type": "markdown",
   "id": "2049db4c",
   "metadata": {},
   "source": [
    "##### Построение ящиков с усами для игр по платформам"
   ]
  },
  {
   "cell_type": "code",
   "execution_count": 40,
   "id": "d0def6f7",
   "metadata": {
    "scrolled": false
   },
   "outputs": [
    {
     "data": {
      "image/png": "[encoded data removed]",
      "text/plain": [
       "<Figure size 720x360 with 1 Axes>"
      ]
     },
     "metadata": {
      "needs_background": "light"
     },
     "output_type": "display_data"
    }
   ],
   "source": [
    "data_last_years.boxplot(column=['world_sales'], by=['platform'], figsize=(10,5))\n",
    "plt.ylim(0, 2)\n",
    "plt.show()"
   ]
  },
  {
   "cell_type": "markdown",
   "id": "4357540b",
   "metadata": {},
   "source": [
    "По полученной диаграмме видим, как распределены глобальные продажи игр по платформам. Здесь явно выделяется платформа PS4, имея самые большие усы. От нее немного отстает XOne. Также видим, что у всех платформ имеются выбросы наверх. При этом медиана продаж по играм наибольшая у XOne, но при этом самый высокий 3й квартиль у Wii. Наиболее низкие показатели у PSV - по всем параметрам."
   ]
  },
  {
   "cell_type": "markdown",
   "id": "3e0cf616",
   "metadata": {},
   "source": [
    "##### Оценка влияния отзывов пользователей и критиков внутри одной платформы"
   ]
  },
  {
   "cell_type": "code",
   "execution_count": 41,
   "id": "7578bf3b",
   "metadata": {},
   "outputs": [
    {
     "data": {
      "text/plain": [
       "Text(0.5, 1.0, 'Диаграмма рассеяния для продаж  в зависимости от отзывов критиков для PS4')"
      ]
     },
     "execution_count": 41,
     "metadata": {},
     "output_type": "execute_result"
    },
    {
     "data": {
      "image/png": "[encoded data removed]",
      "text/plain": [
       "<Figure size 432x288 with 1 Axes>"
      ]
     },
     "metadata": {
      "needs_background": "light"
     },
     "output_type": "display_data"
    }
   ],
   "source": [
    "(data_last_years.query('platform == \"PS4\"')\n",
    "                .plot(x='critic_score', y='world_sales', kind='scatter', alpha=0.5)\n",
    ")\n",
    "plt.title(\"Диаграмма рассеяния для продаж  в зависимости от отзывов критиков для PS4\")"
   ]
  },
  {
   "cell_type": "code",
   "execution_count": 42,
   "id": "667907fe",
   "metadata": {},
   "outputs": [
    {
     "data": {
      "text/plain": [
       "Text(0.5, 1.0, 'Диаграмма рассеяния для продаж  в зависимости от отзывов пользователей  для PS4')"
      ]
     },
     "execution_count": 42,
     "metadata": {},
     "output_type": "execute_result"
    },
    {
     "data": {
      "image/png": "[encoded data removed]",
      "text/plain": [
       "<Figure size 432x288 with 1 Axes>"
      ]
     },
     "metadata": {
      "needs_background": "light"
     },
     "output_type": "display_data"
    }
   ],
   "source": [
    "(data_last_years.query('platform == \"PS4\"')\n",
    "                .plot(x='user_score', y='world_sales', kind='scatter', alpha=0.5)\n",
    ")\n",
    "plt.title(\"Диаграмма рассеяния для продаж  в зависимости от отзывов пользователей  для PS4\")"
   ]
  },
  {
   "cell_type": "code",
   "execution_count": 43,
   "id": "a470eb64",
   "metadata": {},
   "outputs": [
    {
     "name": "stdout",
     "output_type": "stream",
     "text": [
      "Корреляция для оценок критиков для PS4: 0.40266141068104083\n",
      "Корреляция для оценок пользователей для PS4: -0.040131589472697356\n"
     ]
    }
   ],
   "source": [
    "print('Корреляция для оценок критиков для PS4:',\n",
    "      data_last_years.query('platform == \"PS4\"')['critic_score']\n",
    "      .corr(data_last_years.query('platform == \"PS4\"')['world_sales']))\n",
    "print('Корреляция для оценок пользователей для PS4:',\n",
    "      data_last_years.query('platform == \"PS4\"')['user_score']\n",
    "      .corr(data_last_years.query('platform == \"PS4\"')['world_sales']))"
   ]
  },
  {
   "cell_type": "markdown",
   "id": "340017bd",
   "metadata": {},
   "source": [
    "В результате может наблюдать наличие умеренной корреляции между продажами и отзывами критиков. При этом корреляция между отзывами пользователей и продажами практически отсутствует. Из этого делается вывод, что лучше ориентироваться на критиков, чем на пользователей."
   ]
  },
  {
   "cell_type": "markdown",
   "id": "a5283289",
   "metadata": {},
   "source": [
    "##### Проверка корреляции для других платформ"
   ]
  },
  {
   "cell_type": "code",
   "execution_count": 44,
   "id": "acb30164",
   "metadata": {
    "scrolled": false
   },
   "outputs": [
    {
     "data": {
      "image/png": "[encoded data removed]",
      "text/plain": [
       "<Figure size 432x288 with 1 Axes>"
      ]
     },
     "metadata": {
      "needs_background": "light"
     },
     "output_type": "display_data"
    },
    {
     "data": {
      "image/png": "[encoded data removed]",
      "text/plain": [
       "<Figure size 432x288 with 1 Axes>"
      ]
     },
     "metadata": {
      "needs_background": "light"
     },
     "output_type": "display_data"
    },
    {
     "name": "stdout",
     "output_type": "stream",
     "text": [
      "Корреляция для оценок критиков для XOne: 0.42867694370333226\n",
      "Корреляция для оценок пользователей для XOne: -0.0703839280647581\n"
     ]
    },
    {
     "data": {
      "image/png": "[encoded data removed]",
      "text/plain": [
       "<Figure size 432x288 with 1 Axes>"
      ]
     },
     "metadata": {
      "needs_background": "light"
     },
     "output_type": "display_data"
    },
    {
     "data": {
      "image/png": "[encoded data removed]",
      "text/plain": [
       "<Figure size 432x288 with 1 Axes>"
      ]
     },
     "metadata": {
      "needs_background": "light"
     },
     "output_type": "display_data"
    },
    {
     "name": "stdout",
     "output_type": "stream",
     "text": [
      "Корреляция для оценок критиков для 3DS: 0.314117492869051\n",
      "Корреляция для оценок пользователей для 3DS: 0.2151932718527028\n"
     ]
    },
    {
     "data": {
      "image/png": "[encoded data removed]",
      "text/plain": [
       "<Figure size 432x288 with 1 Axes>"
      ]
     },
     "metadata": {
      "needs_background": "light"
     },
     "output_type": "display_data"
    },
    {
     "data": {
      "image/png": "[encoded data removed]",
      "text/plain": [
       "<Figure size 432x288 with 1 Axes>"
      ]
     },
     "metadata": {
      "needs_background": "light"
     },
     "output_type": "display_data"
    },
    {
     "name": "stdout",
     "output_type": "stream",
     "text": [
      "Корреляция для оценок критиков для PC: 0.17463413769350036\n",
      "Корреляция для оценок пользователей для PC: -0.07159665703472451\n"
     ]
    },
    {
     "data": {
      "image/png": "[encoded data removed]",
      "text/plain": [
       "<Figure size 432x288 with 1 Axes>"
      ]
     },
     "metadata": {
      "needs_background": "light"
     },
     "output_type": "display_data"
    },
    {
     "data": {
      "image/png": "[encoded data removed]",
      "text/plain": [
       "<Figure size 432x288 with 1 Axes>"
      ]
     },
     "metadata": {
      "needs_background": "light"
     },
     "output_type": "display_data"
    },
    {
     "name": "stdout",
     "output_type": "stream",
     "text": [
      "Корреляция для оценок критиков для WiiU: 0.370201412480884\n",
      "Корреляция для оценок пользователей для WiiU: 0.40792645792170773\n"
     ]
    }
   ],
   "source": [
    "names = [\"XOne\", \"3DS\", \"PC\", \"WiiU\"]\n",
    "for name in names:\n",
    "    (data_last_years.query('platform == @name')\n",
    "                    .plot(x='critic_score', y='world_sales', kind='scatter', alpha=0.5)\n",
    "    )\n",
    "    plt.title(f\"Диаграмма рассеяния для продаж  в зависимости от отзывов критиков для {name}\")\n",
    "    plt.show()\n",
    "    (data_last_years.query('platform == @name')\n",
    "                    .plot(x='user_score', y='world_sales', kind='scatter', alpha=0.5)\n",
    "    )\n",
    "    plt.title(f\"Диаграмма рассеяния для продаж  в зависимости от отзывов пользователей для {name}\")\n",
    "    plt.show()\n",
    "    print(f'Корреляция для оценок критиков для {name}:',\n",
    "          data_last_years.query('platform == @name')['critic_score']\n",
    "          .corr(data_last_years.query('platform == @name')['world_sales']))\n",
    "    print(f'Корреляция для оценок пользователей для {name}:',\n",
    "          data_last_years.query('platform == @name')['user_score']\n",
    "          .corr(data_last_years.query('platform == @name')['world_sales']))"
   ]
  },
  {
   "cell_type": "markdown",
   "id": "ef252a9b",
   "metadata": {},
   "source": [
    "На других платформах корреляция также наблюдается относительно отзывов критиков и почти отсутствует для оценок пользователей. При этом на платформе PC зависимость продаж от отзывов критиков довольно мала, это может быть связано со спецификой данной платформы, так как она предназначена для большого спектра задач, а не только игр, из-за чего игры могут приобретаться как дополнение к основной задаче платформы с целью короткого время препровождения в них, чтобы немного отдохнуть от работы. На платформе WiiU следует выделять корреляцию с отзывами пользователей: она есть и даже сильнее, чем с отзывами критиков."
   ]
  },
  {
   "cell_type": "markdown",
   "id": "69e98a2a",
   "metadata": {},
   "source": [
    "##### Распределение игр по жанрам"
   ]
  },
  {
   "cell_type": "code",
   "execution_count": 45,
   "id": "bb2b28db",
   "metadata": {},
   "outputs": [
    {
     "data": {
      "text/plain": [
       "array(['Shooter', 'Action', 'Role-Playing', 'Sports', 'Fighting',\n",
       "       'Racing', 'Misc', 'Platform', 'Simulation', 'Adventure', 'Puzzle',\n",
       "       'Strategy'], dtype=object)"
      ]
     },
     "execution_count": 45,
     "metadata": {},
     "output_type": "execute_result"
    }
   ],
   "source": [
    "data_last_years['genre'].unique()"
   ]
  },
  {
   "cell_type": "code",
   "execution_count": 46,
   "id": "f6d4b9b8",
   "metadata": {},
   "outputs": [
    {
     "data": {
      "text/html": [
       "<div>\n",
       "<style scoped>\n",
       "    .dataframe tbody tr th:only-of-type {\n",
       "        vertical-align: middle;\n",
       "    }\n",
       "\n",
       "    .dataframe tbody tr th {\n",
       "        vertical-align: top;\n",
       "    }\n",
       "\n",
       "    .dataframe thead th {\n",
       "        text-align: right;\n",
       "    }\n",
       "</style>\n",
       "<table border=\"1\" class=\"dataframe\">\n",
       "  <thead>\n",
       "    <tr style=\"text-align: right;\">\n",
       "      <th></th>\n",
       "      <th>world_sales</th>\n",
       "    </tr>\n",
       "    <tr>\n",
       "      <th>genre</th>\n",
       "      <th></th>\n",
       "    </tr>\n",
       "  </thead>\n",
       "  <tbody>\n",
       "    <tr>\n",
       "      <th>Puzzle</th>\n",
       "      <td>2.21</td>\n",
       "    </tr>\n",
       "    <tr>\n",
       "      <th>Strategy</th>\n",
       "      <td>3.96</td>\n",
       "    </tr>\n",
       "    <tr>\n",
       "      <th>Simulation</th>\n",
       "      <td>13.13</td>\n",
       "    </tr>\n",
       "    <tr>\n",
       "      <th>Adventure</th>\n",
       "      <td>17.50</td>\n",
       "    </tr>\n",
       "    <tr>\n",
       "      <th>Platform</th>\n",
       "      <td>18.09</td>\n",
       "    </tr>\n",
       "    <tr>\n",
       "      <th>Racing</th>\n",
       "      <td>27.52</td>\n",
       "    </tr>\n",
       "    <tr>\n",
       "      <th>Fighting</th>\n",
       "      <td>28.22</td>\n",
       "    </tr>\n",
       "    <tr>\n",
       "      <th>Misc</th>\n",
       "      <td>37.53</td>\n",
       "    </tr>\n",
       "    <tr>\n",
       "      <th>Role-Playing</th>\n",
       "      <td>101.44</td>\n",
       "    </tr>\n",
       "    <tr>\n",
       "      <th>Sports</th>\n",
       "      <td>109.39</td>\n",
       "    </tr>\n",
       "    <tr>\n",
       "      <th>Shooter</th>\n",
       "      <td>170.94</td>\n",
       "    </tr>\n",
       "    <tr>\n",
       "      <th>Action</th>\n",
       "      <td>199.16</td>\n",
       "    </tr>\n",
       "  </tbody>\n",
       "</table>\n",
       "</div>"
      ],
      "text/plain": [
       "              world_sales\n",
       "genre                    \n",
       "Puzzle               2.21\n",
       "Strategy             3.96\n",
       "Simulation          13.13\n",
       "Adventure           17.50\n",
       "Platform            18.09\n",
       "Racing              27.52\n",
       "Fighting            28.22\n",
       "Misc                37.53\n",
       "Role-Playing       101.44\n",
       "Sports             109.39\n",
       "Shooter            170.94\n",
       "Action             199.16"
      ]
     },
     "execution_count": 46,
     "metadata": {},
     "output_type": "execute_result"
    }
   ],
   "source": [
    "sales_by_genre = data_last_years.pivot_table(index='genre',\n",
    "                                             values='world_sales',\n",
    "                                             aggfunc='sum').sort_values(by='world_sales')\n",
    "sales_by_genre"
   ]
  },
  {
   "cell_type": "code",
   "execution_count": 47,
   "id": "4764f86d",
   "metadata": {},
   "outputs": [
    {
     "data": {
      "text/plain": [
       "Text(0, 0.5, 'Число игр, млн')"
      ]
     },
     "execution_count": 47,
     "metadata": {},
     "output_type": "execute_result"
    },
    {
     "data": {
      "image/png": "[encoded data removed]",
      "text/plain": [
       "<Figure size 432x288 with 1 Axes>"
      ]
     },
     "metadata": {
      "needs_background": "light"
     },
     "output_type": "display_data"
    }
   ],
   "source": [
    "sales_by_genre.plot(kind='bar').grid(axis='y')\n",
    "plt.title(\"Продажи игр по годам за 2014-2016гг\")\n",
    "plt.xlabel('Жанр', fontsize=14)\n",
    "plt.ylabel('Число игр, млн', fontsize=14)"
   ]
  },
  {
   "cell_type": "code",
   "execution_count": 48,
   "id": "71d09600",
   "metadata": {},
   "outputs": [
    {
     "data": {
      "text/html": [
       "<div>\n",
       "<style scoped>\n",
       "    .dataframe tbody tr th:only-of-type {\n",
       "        vertical-align: middle;\n",
       "    }\n",
       "\n",
       "    .dataframe tbody tr th {\n",
       "        vertical-align: top;\n",
       "    }\n",
       "\n",
       "    .dataframe thead th {\n",
       "        text-align: right;\n",
       "    }\n",
       "</style>\n",
       "<table border=\"1\" class=\"dataframe\">\n",
       "  <thead>\n",
       "    <tr style=\"text-align: right;\">\n",
       "      <th></th>\n",
       "      <th>world_sales</th>\n",
       "    </tr>\n",
       "    <tr>\n",
       "      <th>genre</th>\n",
       "      <th></th>\n",
       "    </tr>\n",
       "  </thead>\n",
       "  <tbody>\n",
       "    <tr>\n",
       "      <th>Adventure</th>\n",
       "      <td>0.030</td>\n",
       "    </tr>\n",
       "    <tr>\n",
       "      <th>Puzzle</th>\n",
       "      <td>0.045</td>\n",
       "    </tr>\n",
       "    <tr>\n",
       "      <th>Strategy</th>\n",
       "      <td>0.060</td>\n",
       "    </tr>\n",
       "    <tr>\n",
       "      <th>Action</th>\n",
       "      <td>0.090</td>\n",
       "    </tr>\n",
       "    <tr>\n",
       "      <th>Misc</th>\n",
       "      <td>0.090</td>\n",
       "    </tr>\n",
       "    <tr>\n",
       "      <th>Racing</th>\n",
       "      <td>0.090</td>\n",
       "    </tr>\n",
       "    <tr>\n",
       "      <th>Simulation</th>\n",
       "      <td>0.100</td>\n",
       "    </tr>\n",
       "    <tr>\n",
       "      <th>Role-Playing</th>\n",
       "      <td>0.110</td>\n",
       "    </tr>\n",
       "    <tr>\n",
       "      <th>Fighting</th>\n",
       "      <td>0.125</td>\n",
       "    </tr>\n",
       "    <tr>\n",
       "      <th>Platform</th>\n",
       "      <td>0.140</td>\n",
       "    </tr>\n",
       "    <tr>\n",
       "      <th>Sports</th>\n",
       "      <td>0.190</td>\n",
       "    </tr>\n",
       "    <tr>\n",
       "      <th>Shooter</th>\n",
       "      <td>0.515</td>\n",
       "    </tr>\n",
       "  </tbody>\n",
       "</table>\n",
       "</div>"
      ],
      "text/plain": [
       "              world_sales\n",
       "genre                    \n",
       "Adventure           0.030\n",
       "Puzzle              0.045\n",
       "Strategy            0.060\n",
       "Action              0.090\n",
       "Misc                0.090\n",
       "Racing              0.090\n",
       "Simulation          0.100\n",
       "Role-Playing        0.110\n",
       "Fighting            0.125\n",
       "Platform            0.140\n",
       "Sports              0.190\n",
       "Shooter             0.515"
      ]
     },
     "execution_count": 48,
     "metadata": {},
     "output_type": "execute_result"
    }
   ],
   "source": [
    "sales_by_genre = data_last_years.pivot_table(index='genre',\n",
    "                                             values='world_sales',\n",
    "                                             aggfunc='median').sort_values(by='world_sales')\n",
    "sales_by_genre"
   ]
  },
  {
   "cell_type": "code",
   "execution_count": 49,
   "id": "b19fc6fe",
   "metadata": {},
   "outputs": [
    {
     "data": {
      "text/plain": [
       "Text(0, 0.5, 'Число игр, млн')"
      ]
     },
     "execution_count": 49,
     "metadata": {},
     "output_type": "execute_result"
    },
    {
     "data": {
      "image/png": "[encoded data removed]",
      "text/plain": [
       "<Figure size 432x288 with 1 Axes>"
      ]
     },
     "metadata": {
      "needs_background": "light"
     },
     "output_type": "display_data"
    }
   ],
   "source": [
    "sales_by_genre.plot(kind='bar').grid(axis='y')\n",
    "plt.title(\"Продажи игр по годам за 2014-2016гг\")\n",
    "plt.xlabel('Жанр', fontsize=14)\n",
    "plt.ylabel('Число игр, млн', fontsize=14)"
   ]
  },
  {
   "cell_type": "markdown",
   "id": "d4c86f22",
   "metadata": {},
   "source": [
    "Как мы можем видеть самый популярный жанр - action, за ним идет shooter, так же сильно отрываясь от конкурентов. Role-Playing и Misc занимают 3 и 4 позицию, имея почти равные продажи. А вот продажи всех остальных жанров игр существенно меньше. Самые не популярные: Puzzle и Strategy. Но это по сумме всех продаж. Если же рассмотреть медианнные продажи, то картина сильно меняется. На первое место становиться жанр shooter, который опережает всех. А вот жанр action уходит из топа, это говорит о том, что там либо очень много проектов, либо есть какая-то игра или пара игр, которые подняли все его продажи."
   ]
  },
  {
   "cell_type": "code",
   "execution_count": 50,
   "id": "bf03a26f",
   "metadata": {},
   "outputs": [
    {
     "data": {
      "text/html": [
       "<div>\n",
       "<style scoped>\n",
       "    .dataframe tbody tr th:only-of-type {\n",
       "        vertical-align: middle;\n",
       "    }\n",
       "\n",
       "    .dataframe tbody tr th {\n",
       "        vertical-align: top;\n",
       "    }\n",
       "\n",
       "    .dataframe thead th {\n",
       "        text-align: right;\n",
       "    }\n",
       "</style>\n",
       "<table border=\"1\" class=\"dataframe\">\n",
       "  <thead>\n",
       "    <tr style=\"text-align: right;\">\n",
       "      <th></th>\n",
       "      <th>name</th>\n",
       "      <th>platform</th>\n",
       "      <th>year_of_release</th>\n",
       "      <th>genre</th>\n",
       "      <th>na_sales</th>\n",
       "      <th>eu_sales</th>\n",
       "      <th>jp_sales</th>\n",
       "      <th>other_sales</th>\n",
       "      <th>critic_score</th>\n",
       "      <th>user_score</th>\n",
       "      <th>rating</th>\n",
       "      <th>world_sales</th>\n",
       "    </tr>\n",
       "  </thead>\n",
       "  <tbody>\n",
       "    <tr>\n",
       "      <th>42</th>\n",
       "      <td>Grand Theft Auto V</td>\n",
       "      <td>PS4</td>\n",
       "      <td>2014</td>\n",
       "      <td>Action</td>\n",
       "      <td>3.96</td>\n",
       "      <td>6.31</td>\n",
       "      <td>0.38</td>\n",
       "      <td>1.97</td>\n",
       "      <td>97.0</td>\n",
       "      <td>8.3</td>\n",
       "      <td>M</td>\n",
       "      <td>12.62</td>\n",
       "    </tr>\n",
       "    <tr>\n",
       "      <th>165</th>\n",
       "      <td>Grand Theft Auto V</td>\n",
       "      <td>XOne</td>\n",
       "      <td>2014</td>\n",
       "      <td>Action</td>\n",
       "      <td>2.81</td>\n",
       "      <td>2.19</td>\n",
       "      <td>0.00</td>\n",
       "      <td>0.47</td>\n",
       "      <td>97.0</td>\n",
       "      <td>7.9</td>\n",
       "      <td>M</td>\n",
       "      <td>5.47</td>\n",
       "    </tr>\n",
       "    <tr>\n",
       "      <th>224</th>\n",
       "      <td>The Last of Us</td>\n",
       "      <td>PS4</td>\n",
       "      <td>2014</td>\n",
       "      <td>Action</td>\n",
       "      <td>1.88</td>\n",
       "      <td>2.00</td>\n",
       "      <td>0.07</td>\n",
       "      <td>0.77</td>\n",
       "      <td>NaN</td>\n",
       "      <td>NaN</td>\n",
       "      <td>tbd</td>\n",
       "      <td>4.72</td>\n",
       "    </tr>\n",
       "    <tr>\n",
       "      <th>230</th>\n",
       "      <td>Uncharted: The Nathan Drake Collection</td>\n",
       "      <td>PS4</td>\n",
       "      <td>2015</td>\n",
       "      <td>Action</td>\n",
       "      <td>2.07</td>\n",
       "      <td>1.71</td>\n",
       "      <td>0.08</td>\n",
       "      <td>0.76</td>\n",
       "      <td>86.0</td>\n",
       "      <td>8.1</td>\n",
       "      <td>T</td>\n",
       "      <td>4.62</td>\n",
       "    </tr>\n",
       "    <tr>\n",
       "      <th>294</th>\n",
       "      <td>Watch Dogs</td>\n",
       "      <td>PS4</td>\n",
       "      <td>2014</td>\n",
       "      <td>Action</td>\n",
       "      <td>1.40</td>\n",
       "      <td>1.90</td>\n",
       "      <td>0.11</td>\n",
       "      <td>0.64</td>\n",
       "      <td>80.0</td>\n",
       "      <td>6.3</td>\n",
       "      <td>M</td>\n",
       "      <td>4.05</td>\n",
       "    </tr>\n",
       "    <tr>\n",
       "      <th>...</th>\n",
       "      <td>...</td>\n",
       "      <td>...</td>\n",
       "      <td>...</td>\n",
       "      <td>...</td>\n",
       "      <td>...</td>\n",
       "      <td>...</td>\n",
       "      <td>...</td>\n",
       "      <td>...</td>\n",
       "      <td>...</td>\n",
       "      <td>...</td>\n",
       "      <td>...</td>\n",
       "      <td>...</td>\n",
       "    </tr>\n",
       "    <tr>\n",
       "      <th>16071</th>\n",
       "      <td>Dance with Devils</td>\n",
       "      <td>PSV</td>\n",
       "      <td>2016</td>\n",
       "      <td>Action</td>\n",
       "      <td>0.00</td>\n",
       "      <td>0.00</td>\n",
       "      <td>0.01</td>\n",
       "      <td>0.00</td>\n",
       "      <td>NaN</td>\n",
       "      <td>NaN</td>\n",
       "      <td>tbd</td>\n",
       "      <td>0.01</td>\n",
       "    </tr>\n",
       "    <tr>\n",
       "      <th>16080</th>\n",
       "      <td>Farming Simulator 15 Expansion Pack</td>\n",
       "      <td>PC</td>\n",
       "      <td>2015</td>\n",
       "      <td>Action</td>\n",
       "      <td>0.00</td>\n",
       "      <td>0.01</td>\n",
       "      <td>0.00</td>\n",
       "      <td>0.00</td>\n",
       "      <td>NaN</td>\n",
       "      <td>NaN</td>\n",
       "      <td>tbd</td>\n",
       "      <td>0.01</td>\n",
       "    </tr>\n",
       "    <tr>\n",
       "      <th>16082</th>\n",
       "      <td>Chou Ezaru wa Akai Hana: Koi wa Tsuki ni Shiru...</td>\n",
       "      <td>PSV</td>\n",
       "      <td>2016</td>\n",
       "      <td>Action</td>\n",
       "      <td>0.00</td>\n",
       "      <td>0.00</td>\n",
       "      <td>0.01</td>\n",
       "      <td>0.00</td>\n",
       "      <td>NaN</td>\n",
       "      <td>NaN</td>\n",
       "      <td>tbd</td>\n",
       "      <td>0.01</td>\n",
       "    </tr>\n",
       "    <tr>\n",
       "      <th>16096</th>\n",
       "      <td>Crows: Burning Edge</td>\n",
       "      <td>PS4</td>\n",
       "      <td>2016</td>\n",
       "      <td>Action</td>\n",
       "      <td>0.00</td>\n",
       "      <td>0.00</td>\n",
       "      <td>0.01</td>\n",
       "      <td>0.00</td>\n",
       "      <td>NaN</td>\n",
       "      <td>NaN</td>\n",
       "      <td>tbd</td>\n",
       "      <td>0.01</td>\n",
       "    </tr>\n",
       "    <tr>\n",
       "      <th>16439</th>\n",
       "      <td>Samurai Warriors: Sanada Maru</td>\n",
       "      <td>PS3</td>\n",
       "      <td>2016</td>\n",
       "      <td>Action</td>\n",
       "      <td>0.00</td>\n",
       "      <td>0.00</td>\n",
       "      <td>0.01</td>\n",
       "      <td>0.00</td>\n",
       "      <td>NaN</td>\n",
       "      <td>NaN</td>\n",
       "      <td>tbd</td>\n",
       "      <td>0.01</td>\n",
       "    </tr>\n",
       "  </tbody>\n",
       "</table>\n",
       "<p>613 rows × 12 columns</p>\n",
       "</div>"
      ],
      "text/plain": [
       "                                                    name platform  \\\n",
       "42                                    Grand Theft Auto V      PS4   \n",
       "165                                   Grand Theft Auto V     XOne   \n",
       "224                                       The Last of Us      PS4   \n",
       "230               Uncharted: The Nathan Drake Collection      PS4   \n",
       "294                                           Watch Dogs      PS4   \n",
       "...                                                  ...      ...   \n",
       "16071                                  Dance with Devils      PSV   \n",
       "16080                Farming Simulator 15 Expansion Pack       PC   \n",
       "16082  Chou Ezaru wa Akai Hana: Koi wa Tsuki ni Shiru...      PSV   \n",
       "16096                                Crows: Burning Edge      PS4   \n",
       "16439                      Samurai Warriors: Sanada Maru      PS3   \n",
       "\n",
       "       year_of_release   genre  na_sales  eu_sales  jp_sales  other_sales  \\\n",
       "42                2014  Action      3.96      6.31      0.38         1.97   \n",
       "165               2014  Action      2.81      2.19      0.00         0.47   \n",
       "224               2014  Action      1.88      2.00      0.07         0.77   \n",
       "230               2015  Action      2.07      1.71      0.08         0.76   \n",
       "294               2014  Action      1.40      1.90      0.11         0.64   \n",
       "...                ...     ...       ...       ...       ...          ...   \n",
       "16071             2016  Action      0.00      0.00      0.01         0.00   \n",
       "16080             2015  Action      0.00      0.01      0.00         0.00   \n",
       "16082             2016  Action      0.00      0.00      0.01         0.00   \n",
       "16096             2016  Action      0.00      0.00      0.01         0.00   \n",
       "16439             2016  Action      0.00      0.00      0.01         0.00   \n",
       "\n",
       "       critic_score  user_score rating  world_sales  \n",
       "42             97.0         8.3      M        12.62  \n",
       "165            97.0         7.9      M         5.47  \n",
       "224             NaN         NaN    tbd         4.72  \n",
       "230            86.0         8.1      T         4.62  \n",
       "294            80.0         6.3      M         4.05  \n",
       "...             ...         ...    ...          ...  \n",
       "16071           NaN         NaN    tbd         0.01  \n",
       "16080           NaN         NaN    tbd         0.01  \n",
       "16082           NaN         NaN    tbd         0.01  \n",
       "16096           NaN         NaN    tbd         0.01  \n",
       "16439           NaN         NaN    tbd         0.01  \n",
       "\n",
       "[613 rows x 12 columns]"
      ]
     },
     "execution_count": 50,
     "metadata": {},
     "output_type": "execute_result"
    }
   ],
   "source": [
    "data_last_years.query('genre == \"Action\"').sort_values(by='world_sales', ascending=False)"
   ]
  },
  {
   "cell_type": "code",
   "execution_count": 51,
   "id": "fc805dc5",
   "metadata": {},
   "outputs": [
    {
     "data": {
      "text/html": [
       "<div>\n",
       "<style scoped>\n",
       "    .dataframe tbody tr th:only-of-type {\n",
       "        vertical-align: middle;\n",
       "    }\n",
       "\n",
       "    .dataframe tbody tr th {\n",
       "        vertical-align: top;\n",
       "    }\n",
       "\n",
       "    .dataframe thead th {\n",
       "        text-align: right;\n",
       "    }\n",
       "</style>\n",
       "<table border=\"1\" class=\"dataframe\">\n",
       "  <thead>\n",
       "    <tr style=\"text-align: right;\">\n",
       "      <th></th>\n",
       "      <th>name</th>\n",
       "      <th>platform</th>\n",
       "      <th>year_of_release</th>\n",
       "      <th>genre</th>\n",
       "      <th>na_sales</th>\n",
       "      <th>eu_sales</th>\n",
       "      <th>jp_sales</th>\n",
       "      <th>other_sales</th>\n",
       "      <th>critic_score</th>\n",
       "      <th>user_score</th>\n",
       "      <th>rating</th>\n",
       "      <th>world_sales</th>\n",
       "    </tr>\n",
       "  </thead>\n",
       "  <tbody>\n",
       "    <tr>\n",
       "      <th>31</th>\n",
       "      <td>Call of Duty: Black Ops 3</td>\n",
       "      <td>PS4</td>\n",
       "      <td>2015</td>\n",
       "      <td>Shooter</td>\n",
       "      <td>6.03</td>\n",
       "      <td>5.86</td>\n",
       "      <td>0.36</td>\n",
       "      <td>2.38</td>\n",
       "      <td>NaN</td>\n",
       "      <td>NaN</td>\n",
       "      <td>tbd</td>\n",
       "      <td>14.63</td>\n",
       "    </tr>\n",
       "    <tr>\n",
       "      <th>87</th>\n",
       "      <td>Star Wars Battlefront (2015)</td>\n",
       "      <td>PS4</td>\n",
       "      <td>2015</td>\n",
       "      <td>Shooter</td>\n",
       "      <td>2.99</td>\n",
       "      <td>3.49</td>\n",
       "      <td>0.22</td>\n",
       "      <td>1.28</td>\n",
       "      <td>NaN</td>\n",
       "      <td>NaN</td>\n",
       "      <td>tbd</td>\n",
       "      <td>7.98</td>\n",
       "    </tr>\n",
       "    <tr>\n",
       "      <th>92</th>\n",
       "      <td>Call of Duty: Advanced Warfare</td>\n",
       "      <td>PS4</td>\n",
       "      <td>2014</td>\n",
       "      <td>Shooter</td>\n",
       "      <td>2.81</td>\n",
       "      <td>3.48</td>\n",
       "      <td>0.14</td>\n",
       "      <td>1.23</td>\n",
       "      <td>83.0</td>\n",
       "      <td>5.7</td>\n",
       "      <td>M</td>\n",
       "      <td>7.66</td>\n",
       "    </tr>\n",
       "    <tr>\n",
       "      <th>99</th>\n",
       "      <td>Call of Duty: Black Ops 3</td>\n",
       "      <td>XOne</td>\n",
       "      <td>2015</td>\n",
       "      <td>Shooter</td>\n",
       "      <td>4.59</td>\n",
       "      <td>2.11</td>\n",
       "      <td>0.01</td>\n",
       "      <td>0.68</td>\n",
       "      <td>NaN</td>\n",
       "      <td>NaN</td>\n",
       "      <td>tbd</td>\n",
       "      <td>7.39</td>\n",
       "    </tr>\n",
       "    <tr>\n",
       "      <th>154</th>\n",
       "      <td>Destiny</td>\n",
       "      <td>PS4</td>\n",
       "      <td>2014</td>\n",
       "      <td>Shooter</td>\n",
       "      <td>2.49</td>\n",
       "      <td>2.07</td>\n",
       "      <td>0.16</td>\n",
       "      <td>0.92</td>\n",
       "      <td>76.0</td>\n",
       "      <td>6.1</td>\n",
       "      <td>T</td>\n",
       "      <td>5.64</td>\n",
       "    </tr>\n",
       "    <tr>\n",
       "      <th>...</th>\n",
       "      <td>...</td>\n",
       "      <td>...</td>\n",
       "      <td>...</td>\n",
       "      <td>...</td>\n",
       "      <td>...</td>\n",
       "      <td>...</td>\n",
       "      <td>...</td>\n",
       "      <td>...</td>\n",
       "      <td>...</td>\n",
       "      <td>...</td>\n",
       "      <td>...</td>\n",
       "      <td>...</td>\n",
       "    </tr>\n",
       "    <tr>\n",
       "      <th>15031</th>\n",
       "      <td>Call of Duty: Modern Warfare Trilogy</td>\n",
       "      <td>PS3</td>\n",
       "      <td>2016</td>\n",
       "      <td>Shooter</td>\n",
       "      <td>0.01</td>\n",
       "      <td>0.01</td>\n",
       "      <td>0.00</td>\n",
       "      <td>0.00</td>\n",
       "      <td>NaN</td>\n",
       "      <td>7.0</td>\n",
       "      <td>M</td>\n",
       "      <td>0.02</td>\n",
       "    </tr>\n",
       "    <tr>\n",
       "      <th>15115</th>\n",
       "      <td>Touhou Genso Rondo: Bullet Ballet</td>\n",
       "      <td>PS4</td>\n",
       "      <td>2016</td>\n",
       "      <td>Shooter</td>\n",
       "      <td>0.02</td>\n",
       "      <td>0.00</td>\n",
       "      <td>0.00</td>\n",
       "      <td>0.00</td>\n",
       "      <td>55.0</td>\n",
       "      <td>4.7</td>\n",
       "      <td>E10+</td>\n",
       "      <td>0.02</td>\n",
       "    </tr>\n",
       "    <tr>\n",
       "      <th>15223</th>\n",
       "      <td>Resident Evil 4 HD</td>\n",
       "      <td>XOne</td>\n",
       "      <td>2016</td>\n",
       "      <td>Shooter</td>\n",
       "      <td>0.02</td>\n",
       "      <td>0.00</td>\n",
       "      <td>0.00</td>\n",
       "      <td>0.00</td>\n",
       "      <td>NaN</td>\n",
       "      <td>NaN</td>\n",
       "      <td>tbd</td>\n",
       "      <td>0.02</td>\n",
       "    </tr>\n",
       "    <tr>\n",
       "      <th>15590</th>\n",
       "      <td>Cabela's Big Game Hunter: Pro Hunts</td>\n",
       "      <td>WiiU</td>\n",
       "      <td>2014</td>\n",
       "      <td>Shooter</td>\n",
       "      <td>0.02</td>\n",
       "      <td>0.00</td>\n",
       "      <td>0.00</td>\n",
       "      <td>0.00</td>\n",
       "      <td>NaN</td>\n",
       "      <td>NaN</td>\n",
       "      <td>T</td>\n",
       "      <td>0.02</td>\n",
       "    </tr>\n",
       "    <tr>\n",
       "      <th>15877</th>\n",
       "      <td>Super Stardust Ultra VR</td>\n",
       "      <td>PS4</td>\n",
       "      <td>2016</td>\n",
       "      <td>Shooter</td>\n",
       "      <td>0.00</td>\n",
       "      <td>0.01</td>\n",
       "      <td>0.00</td>\n",
       "      <td>0.00</td>\n",
       "      <td>66.0</td>\n",
       "      <td>6.2</td>\n",
       "      <td>E10+</td>\n",
       "      <td>0.01</td>\n",
       "    </tr>\n",
       "  </tbody>\n",
       "</table>\n",
       "<p>128 rows × 12 columns</p>\n",
       "</div>"
      ],
      "text/plain": [
       "                                       name platform  year_of_release  \\\n",
       "31                Call of Duty: Black Ops 3      PS4             2015   \n",
       "87             Star Wars Battlefront (2015)      PS4             2015   \n",
       "92           Call of Duty: Advanced Warfare      PS4             2014   \n",
       "99                Call of Duty: Black Ops 3     XOne             2015   \n",
       "154                                 Destiny      PS4             2014   \n",
       "...                                     ...      ...              ...   \n",
       "15031  Call of Duty: Modern Warfare Trilogy      PS3             2016   \n",
       "15115     Touhou Genso Rondo: Bullet Ballet      PS4             2016   \n",
       "15223                    Resident Evil 4 HD     XOne             2016   \n",
       "15590   Cabela's Big Game Hunter: Pro Hunts     WiiU             2014   \n",
       "15877               Super Stardust Ultra VR      PS4             2016   \n",
       "\n",
       "         genre  na_sales  eu_sales  jp_sales  other_sales  critic_score  \\\n",
       "31     Shooter      6.03      5.86      0.36         2.38           NaN   \n",
       "87     Shooter      2.99      3.49      0.22         1.28           NaN   \n",
       "92     Shooter      2.81      3.48      0.14         1.23          83.0   \n",
       "99     Shooter      4.59      2.11      0.01         0.68           NaN   \n",
       "154    Shooter      2.49      2.07      0.16         0.92          76.0   \n",
       "...        ...       ...       ...       ...          ...           ...   \n",
       "15031  Shooter      0.01      0.01      0.00         0.00           NaN   \n",
       "15115  Shooter      0.02      0.00      0.00         0.00          55.0   \n",
       "15223  Shooter      0.02      0.00      0.00         0.00           NaN   \n",
       "15590  Shooter      0.02      0.00      0.00         0.00           NaN   \n",
       "15877  Shooter      0.00      0.01      0.00         0.00          66.0   \n",
       "\n",
       "       user_score rating  world_sales  \n",
       "31            NaN    tbd        14.63  \n",
       "87            NaN    tbd         7.98  \n",
       "92            5.7      M         7.66  \n",
       "99            NaN    tbd         7.39  \n",
       "154           6.1      T         5.64  \n",
       "...           ...    ...          ...  \n",
       "15031         7.0      M         0.02  \n",
       "15115         4.7   E10+         0.02  \n",
       "15223         NaN    tbd         0.02  \n",
       "15590         NaN      T         0.02  \n",
       "15877         6.2   E10+         0.01  \n",
       "\n",
       "[128 rows x 12 columns]"
      ]
     },
     "execution_count": 51,
     "metadata": {},
     "output_type": "execute_result"
    }
   ],
   "source": [
    "data_last_years.query('genre == \"Shooter\"').sort_values(by='world_sales', ascending=False)"
   ]
  },
  {
   "cell_type": "markdown",
   "id": "0d12143f",
   "metadata": {},
   "source": [
    "Собственно получается, что в Action создают очень мнгого игр, в 6 раз больше, чем shooter, в результате общие продажи высоки, а вот медианные - нет. Поэтому жанр Shooter продается лучше."
   ]
  },
  {
   "cell_type": "markdown",
   "id": "a78dbb5d",
   "metadata": {},
   "source": [
    "#### Составление портрета пользователя по регионам"
   ]
  },
  {
   "cell_type": "markdown",
   "id": "d3416385",
   "metadata": {},
   "source": [
    "##### Распределение игр по платформам"
   ]
  },
  {
   "cell_type": "code",
   "execution_count": 52,
   "id": "d9fa0fcb",
   "metadata": {},
   "outputs": [
    {
     "data": {
      "text/html": [
       "<div>\n",
       "<style scoped>\n",
       "    .dataframe tbody tr th:only-of-type {\n",
       "        vertical-align: middle;\n",
       "    }\n",
       "\n",
       "    .dataframe tbody tr th {\n",
       "        vertical-align: top;\n",
       "    }\n",
       "\n",
       "    .dataframe thead th {\n",
       "        text-align: right;\n",
       "    }\n",
       "</style>\n",
       "<table border=\"1\" class=\"dataframe\">\n",
       "  <thead>\n",
       "    <tr style=\"text-align: right;\">\n",
       "      <th></th>\n",
       "      <th>eu_sales</th>\n",
       "      <th>jp_sales</th>\n",
       "      <th>na_sales</th>\n",
       "      <th>world_sales</th>\n",
       "    </tr>\n",
       "    <tr>\n",
       "      <th>platform</th>\n",
       "      <th></th>\n",
       "      <th></th>\n",
       "      <th></th>\n",
       "      <th></th>\n",
       "    </tr>\n",
       "  </thead>\n",
       "  <tbody>\n",
       "    <tr>\n",
       "      <th>Wii</th>\n",
       "      <td>2.59</td>\n",
       "      <td>0.00</td>\n",
       "      <td>2.08</td>\n",
       "      <td>5.07</td>\n",
       "    </tr>\n",
       "    <tr>\n",
       "      <th>PSV</th>\n",
       "      <td>3.53</td>\n",
       "      <td>14.54</td>\n",
       "      <td>2.52</td>\n",
       "      <td>22.40</td>\n",
       "    </tr>\n",
       "    <tr>\n",
       "      <th>PC</th>\n",
       "      <td>17.97</td>\n",
       "      <td>0.00</td>\n",
       "      <td>7.23</td>\n",
       "      <td>27.05</td>\n",
       "    </tr>\n",
       "    <tr>\n",
       "      <th>WiiU</th>\n",
       "      <td>13.15</td>\n",
       "      <td>7.31</td>\n",
       "      <td>19.36</td>\n",
       "      <td>42.98</td>\n",
       "    </tr>\n",
       "    <tr>\n",
       "      <th>X360</th>\n",
       "      <td>15.49</td>\n",
       "      <td>0.08</td>\n",
       "      <td>28.30</td>\n",
       "      <td>48.22</td>\n",
       "    </tr>\n",
       "    <tr>\n",
       "      <th>PS3</th>\n",
       "      <td>25.54</td>\n",
       "      <td>11.22</td>\n",
       "      <td>22.05</td>\n",
       "      <td>68.18</td>\n",
       "    </tr>\n",
       "    <tr>\n",
       "      <th>3DS</th>\n",
       "      <td>16.12</td>\n",
       "      <td>44.24</td>\n",
       "      <td>22.64</td>\n",
       "      <td>86.68</td>\n",
       "    </tr>\n",
       "    <tr>\n",
       "      <th>XOne</th>\n",
       "      <td>46.25</td>\n",
       "      <td>0.32</td>\n",
       "      <td>81.27</td>\n",
       "      <td>140.36</td>\n",
       "    </tr>\n",
       "    <tr>\n",
       "      <th>PS4</th>\n",
       "      <td>130.04</td>\n",
       "      <td>15.02</td>\n",
       "      <td>98.61</td>\n",
       "      <td>288.15</td>\n",
       "    </tr>\n",
       "  </tbody>\n",
       "</table>\n",
       "</div>"
      ],
      "text/plain": [
       "          eu_sales  jp_sales  na_sales  world_sales\n",
       "platform                                           \n",
       "Wii           2.59      0.00      2.08         5.07\n",
       "PSV           3.53     14.54      2.52        22.40\n",
       "PC           17.97      0.00      7.23        27.05\n",
       "WiiU         13.15      7.31     19.36        42.98\n",
       "X360         15.49      0.08     28.30        48.22\n",
       "PS3          25.54     11.22     22.05        68.18\n",
       "3DS          16.12     44.24     22.64        86.68\n",
       "XOne         46.25      0.32     81.27       140.36\n",
       "PS4         130.04     15.02     98.61       288.15"
      ]
     },
     "execution_count": 52,
     "metadata": {},
     "output_type": "execute_result"
    }
   ],
   "source": [
    "region_sales_platforms = data_last_years.pivot_table(index='platform',\n",
    "                                                     values=['na_sales', 'eu_sales', 'jp_sales', 'world_sales'],\n",
    "                                                     aggfunc='sum').sort_values(by='world_sales')\n",
    "region_sales_platforms"
   ]
  },
  {
   "cell_type": "code",
   "execution_count": 53,
   "id": "ca39abb0",
   "metadata": {},
   "outputs": [
    {
     "name": "stdout",
     "output_type": "stream",
     "text": [
      "Не попали в диаграмму ['Wii', 'PSV']\n"
     ]
    },
    {
     "data": {
      "image/png": "[encoded data removed]",
      "text/plain": [
       "<Figure size 432x288 with 1 Axes>"
      ]
     },
     "metadata": {},
     "output_type": "display_data"
    }
   ],
   "source": [
    "total_sales = region_sales_platforms['eu_sales'].sum()\n",
    "(region_sales_platforms[region_sales_platforms['eu_sales'] >= total_sales/50]['eu_sales'].sort_values()\n",
    "                                                      .plot(kind='pie',\n",
    "                                                      colormap='summer',\n",
    "                                                      autopct='%.0f',\n",
    "                                                      wedgeprops = {\"edgecolor\" : \"black\", \n",
    "                                                                    'linewidth': 1, \n",
    "                                                                    'antialiased': True},\n",
    "                                                      subplots=True)\n",
    ")\n",
    "plt.title(\"Распределение продаж по платформам в процентах для eu\")\n",
    "plt.legend(bbox_to_anchor=(1.04, 0.5), loc=\"center left\", borderaxespad=0)\n",
    "plt.axis('off')\n",
    "sales_not_in = list(region_sales_platforms[region_sales_platforms['eu_sales'] < total_sales/50].index)\n",
    "print(f'Не попали в диаграмму {sales_not_in}')"
   ]
  },
  {
   "cell_type": "code",
   "execution_count": 54,
   "id": "5356cef5",
   "metadata": {},
   "outputs": [
    {
     "name": "stdout",
     "output_type": "stream",
     "text": [
      "Не попали в диаграмму ['Wii', 'PC', 'X360', 'XOne']\n"
     ]
    },
    {
     "data": {
      "image/png": "[encoded data removed]",
      "text/plain": [
       "<Figure size 432x288 with 1 Axes>"
      ]
     },
     "metadata": {},
     "output_type": "display_data"
    }
   ],
   "source": [
    "total_sales = region_sales_platforms['jp_sales'].sum()\n",
    "(region_sales_platforms[region_sales_platforms['jp_sales'] >= total_sales/50]['jp_sales'].sort_values()\n",
    "                                                      .plot(kind='pie',\n",
    "                                                      colormap='summer',\n",
    "                                                      autopct='%.0f',\n",
    "                                                      wedgeprops = {\"edgecolor\" : \"black\", \n",
    "                                                                    'linewidth': 1, \n",
    "                                                                    'antialiased': True},\n",
    "                                                      subplots=True)\n",
    ")\n",
    "plt.title(\"Распределение продаж по платформам в процентах для jp\")\n",
    "plt.legend(bbox_to_anchor=(1.04, 0.5), loc=\"center left\", borderaxespad=0)\n",
    "plt.axis('off')\n",
    "sales_not_in = list(region_sales_platforms[region_sales_platforms['jp_sales'] < total_sales/50].index)\n",
    "print(f'Не попали в диаграмму {sales_not_in}')"
   ]
  },
  {
   "cell_type": "code",
   "execution_count": 55,
   "id": "e8867a82",
   "metadata": {},
   "outputs": [
    {
     "name": "stdout",
     "output_type": "stream",
     "text": [
      "Не попали в диаграмму ['Wii', 'PSV']\n"
     ]
    },
    {
     "data": {
      "text/plain": [
       "(-1.25, 1.25, -1.25, 1.25)"
      ]
     },
     "execution_count": 55,
     "metadata": {},
     "output_type": "execute_result"
    },
    {
     "data": {
      "image/png": "[encoded data removed]",
      "text/plain": [
       "<Figure size 432x288 with 1 Axes>"
      ]
     },
     "metadata": {},
     "output_type": "display_data"
    }
   ],
   "source": [
    "total_sales = region_sales_platforms['na_sales'].sum()\n",
    "(region_sales_platforms[region_sales_platforms['na_sales'] >= total_sales/50]['na_sales'].sort_values()\n",
    "                                                      .plot(kind='pie',\n",
    "                                                      colormap='summer',\n",
    "                                                      autopct='%.0f',\n",
    "                                                      wedgeprops = {\"edgecolor\" : \"black\", \n",
    "                                                                    'linewidth': 1, \n",
    "                                                                    'antialiased': True},\n",
    "                                                      subplots=True)\n",
    ")\n",
    "plt.title(\"Распределение продаж по платформам в процентах для na\")\n",
    "plt.legend(bbox_to_anchor=(1.04, 0.5), loc=\"center left\", borderaxespad=0)\n",
    "sales_not_in = list(region_sales_platforms[region_sales_platforms['na_sales'] < total_sales/50].index)\n",
    "print(f'Не попали в диаграмму {sales_not_in}')\n",
    "plt.axis('off')"
   ]
  },
  {
   "cell_type": "markdown",
   "id": "63d704c9",
   "metadata": {},
   "source": [
    "Построили круговые диаграммы для наглядности процентов продаж игр по платформам для трех регионов, учитывая только те платформы, где было продано более 2% от общего числа игр. В результате получили, что в eu самая популярная платформа - PS4, занимает около 49% рынка игр, при этом на диаграмму не попали платформы 'Wii', 'PSV': игр на них продано очень мало. В jp самая популярная платформа - 3DS, занимает около 48% рынка игр, при этом на диаграмму не попали платформы 'Wii', 'PC', 'X360', 'XOne': игр на них продано очень мало. В na самая популярная платформа - PS4, занимает около 35% рынка игр, XOne отстал от нее немного: 29% игр продано на этой платформе, при этом на диаграмму не попали платформы 'Wii', 'PSV': игр на них продано очень мало. Отсюда делается вывод - PSV крайне не популярная платформа, во всех регионах процент игр на нее менее 2%. Лучше продавать игры на PS4 в eu и na, а в jp - на 3DS."
   ]
  },
  {
   "cell_type": "markdown",
   "id": "0db72328",
   "metadata": {},
   "source": [
    "##### Распределение игр по жанрам"
   ]
  },
  {
   "cell_type": "code",
   "execution_count": 56,
   "id": "aa4c3000",
   "metadata": {},
   "outputs": [
    {
     "data": {
      "text/html": [
       "<div>\n",
       "<style scoped>\n",
       "    .dataframe tbody tr th:only-of-type {\n",
       "        vertical-align: middle;\n",
       "    }\n",
       "\n",
       "    .dataframe tbody tr th {\n",
       "        vertical-align: top;\n",
       "    }\n",
       "\n",
       "    .dataframe thead th {\n",
       "        text-align: right;\n",
       "    }\n",
       "</style>\n",
       "<table border=\"1\" class=\"dataframe\">\n",
       "  <thead>\n",
       "    <tr style=\"text-align: right;\">\n",
       "      <th></th>\n",
       "      <th>eu_sales</th>\n",
       "      <th>jp_sales</th>\n",
       "      <th>na_sales</th>\n",
       "      <th>world_sales</th>\n",
       "    </tr>\n",
       "    <tr>\n",
       "      <th>genre</th>\n",
       "      <th></th>\n",
       "      <th></th>\n",
       "      <th></th>\n",
       "      <th></th>\n",
       "    </tr>\n",
       "  </thead>\n",
       "  <tbody>\n",
       "    <tr>\n",
       "      <th>Adventure</th>\n",
       "      <td>0.035856</td>\n",
       "      <td>0.019613</td>\n",
       "      <td>0.031160</td>\n",
       "      <td>0.096685</td>\n",
       "    </tr>\n",
       "    <tr>\n",
       "      <th>Strategy</th>\n",
       "      <td>0.048378</td>\n",
       "      <td>0.025676</td>\n",
       "      <td>0.026486</td>\n",
       "      <td>0.107027</td>\n",
       "    </tr>\n",
       "    <tr>\n",
       "      <th>Puzzle</th>\n",
       "      <td>0.037143</td>\n",
       "      <td>0.066429</td>\n",
       "      <td>0.046429</td>\n",
       "      <td>0.157857</td>\n",
       "    </tr>\n",
       "    <tr>\n",
       "      <th>Simulation</th>\n",
       "      <td>0.165909</td>\n",
       "      <td>0.052500</td>\n",
       "      <td>0.059773</td>\n",
       "      <td>0.298409</td>\n",
       "    </tr>\n",
       "    <tr>\n",
       "      <th>Action</th>\n",
       "      <td>0.121827</td>\n",
       "      <td>0.047928</td>\n",
       "      <td>0.118320</td>\n",
       "      <td>0.324894</td>\n",
       "    </tr>\n",
       "    <tr>\n",
       "      <th>Misc</th>\n",
       "      <td>0.115856</td>\n",
       "      <td>0.050360</td>\n",
       "      <td>0.135586</td>\n",
       "      <td>0.338108</td>\n",
       "    </tr>\n",
       "    <tr>\n",
       "      <th>Racing</th>\n",
       "      <td>0.204783</td>\n",
       "      <td>0.025507</td>\n",
       "      <td>0.126667</td>\n",
       "      <td>0.398841</td>\n",
       "    </tr>\n",
       "    <tr>\n",
       "      <th>Role-Playing</th>\n",
       "      <td>0.127466</td>\n",
       "      <td>0.140995</td>\n",
       "      <td>0.151448</td>\n",
       "      <td>0.459005</td>\n",
       "    </tr>\n",
       "    <tr>\n",
       "      <th>Fighting</th>\n",
       "      <td>0.111500</td>\n",
       "      <td>0.106167</td>\n",
       "      <td>0.207167</td>\n",
       "      <td>0.470333</td>\n",
       "    </tr>\n",
       "    <tr>\n",
       "      <th>Platform</th>\n",
       "      <td>0.178947</td>\n",
       "      <td>0.070789</td>\n",
       "      <td>0.178684</td>\n",
       "      <td>0.476053</td>\n",
       "    </tr>\n",
       "    <tr>\n",
       "      <th>Sports</th>\n",
       "      <td>0.285813</td>\n",
       "      <td>0.019813</td>\n",
       "      <td>0.288313</td>\n",
       "      <td>0.683688</td>\n",
       "    </tr>\n",
       "    <tr>\n",
       "      <th>Shooter</th>\n",
       "      <td>0.511875</td>\n",
       "      <td>0.038047</td>\n",
       "      <td>0.617344</td>\n",
       "      <td>1.335469</td>\n",
       "    </tr>\n",
       "  </tbody>\n",
       "</table>\n",
       "</div>"
      ],
      "text/plain": [
       "              eu_sales  jp_sales  na_sales  world_sales\n",
       "genre                                                  \n",
       "Adventure     0.035856  0.019613  0.031160     0.096685\n",
       "Strategy      0.048378  0.025676  0.026486     0.107027\n",
       "Puzzle        0.037143  0.066429  0.046429     0.157857\n",
       "Simulation    0.165909  0.052500  0.059773     0.298409\n",
       "Action        0.121827  0.047928  0.118320     0.324894\n",
       "Misc          0.115856  0.050360  0.135586     0.338108\n",
       "Racing        0.204783  0.025507  0.126667     0.398841\n",
       "Role-Playing  0.127466  0.140995  0.151448     0.459005\n",
       "Fighting      0.111500  0.106167  0.207167     0.470333\n",
       "Platform      0.178947  0.070789  0.178684     0.476053\n",
       "Sports        0.285813  0.019813  0.288313     0.683688\n",
       "Shooter       0.511875  0.038047  0.617344     1.335469"
      ]
     },
     "execution_count": 56,
     "metadata": {},
     "output_type": "execute_result"
    }
   ],
   "source": [
    "region_sales_genres = data_last_years.pivot_table(index='genre',\n",
    "                                                     values=['na_sales', 'eu_sales', 'jp_sales', 'world_sales'],\n",
    "                                                     aggfunc='mean').sort_values(by='world_sales')\n",
    "region_sales_genres"
   ]
  },
  {
   "cell_type": "code",
   "execution_count": 57,
   "id": "773da516",
   "metadata": {
    "scrolled": true
   },
   "outputs": [
    {
     "name": "stdout",
     "output_type": "stream",
     "text": [
      "Не попали в диаграмму ['Adventure', 'Puzzle']\n"
     ]
    },
    {
     "data": {
      "image/png": "[encoded data removed]",
      "text/plain": [
       "<Figure size 432x288 with 1 Axes>"
      ]
     },
     "metadata": {},
     "output_type": "display_data"
    }
   ],
   "source": [
    "total_sales = region_sales_genres['eu_sales'].sum()\n",
    "(region_sales_genres[region_sales_genres['eu_sales'] >= total_sales/50]['eu_sales'].sort_values()\n",
    "                                                      .plot(kind='pie',\n",
    "                                                      colormap='summer',\n",
    "                                                      autopct='%.0f',\n",
    "                                                      wedgeprops = {\"edgecolor\" : \"black\", \n",
    "                                                                    'linewidth': 1, \n",
    "                                                                    'antialiased': True},\n",
    "                                                      subplots=True)\n",
    ")\n",
    "plt.title(\"Распределение продаж по жанрам в процентах для eu\")\n",
    "plt.axis('off')\n",
    "sales_not_in = list(region_sales_genres[region_sales_genres['eu_sales'] < total_sales/50].index)\n",
    "print(f'Не попали в диаграмму {sales_not_in}')"
   ]
  },
  {
   "cell_type": "code",
   "execution_count": 58,
   "id": "2e044fbf",
   "metadata": {},
   "outputs": [
    {
     "name": "stdout",
     "output_type": "stream",
     "text": [
      "Не попали в диаграмму []\n"
     ]
    },
    {
     "data": {
      "image/png": "[encoded data removed]",
      "text/plain": [
       "<Figure size 432x288 with 1 Axes>"
      ]
     },
     "metadata": {},
     "output_type": "display_data"
    }
   ],
   "source": [
    "total_sales = region_sales_genres['jp_sales'].sum()\n",
    "(region_sales_genres[region_sales_genres['jp_sales'] >= total_sales/50]['jp_sales'].sort_values()\n",
    "                                                      .plot(kind='pie',\n",
    "                                                      colormap='summer',\n",
    "                                                      autopct='%.0f',\n",
    "                                                      wedgeprops = {\"edgecolor\" : \"black\", \n",
    "                                                                    'linewidth': 1, \n",
    "                                                                    'antialiased': True},\n",
    "                                                      subplots=True,\n",
    "                                                      normalize=True)\n",
    ")\n",
    "plt.title(\"Распределение продаж по жанрам в процентах для jp\")\n",
    "plt.axis('off')\n",
    "sales_not_in = list(region_sales_genres[region_sales_genres['jp_sales'] < total_sales/50].index)\n",
    "print(f'Не попали в диаграмму {sales_not_in}')"
   ]
  },
  {
   "cell_type": "code",
   "execution_count": 59,
   "id": "8278e02f",
   "metadata": {},
   "outputs": [
    {
     "name": "stdout",
     "output_type": "stream",
     "text": [
      "Не попали в диаграмму ['Adventure', 'Strategy']\n"
     ]
    },
    {
     "data": {
      "image/png": "[encoded data removed]",
      "text/plain": [
       "<Figure size 432x288 with 1 Axes>"
      ]
     },
     "metadata": {},
     "output_type": "display_data"
    }
   ],
   "source": [
    "total_sales = region_sales_genres['na_sales'].sum()\n",
    "(region_sales_genres[region_sales_genres['na_sales'] >= total_sales/50]['na_sales'].sort_values()\n",
    "                                                      .plot(kind='pie',\n",
    "                                                      colormap='summer',\n",
    "                                                      autopct='%.0f',\n",
    "                                                      wedgeprops = {\"edgecolor\" : \"black\", \n",
    "                                                                    'linewidth': 1, \n",
    "                                                                    'antialiased': True},\n",
    "                                                      subplots=True)\n",
    ")\n",
    "plt.title(\"Распределение продаж по жанрам в процентах для na\")\n",
    "plt.axis('off')\n",
    "sales_not_in = list(region_sales_genres[region_sales_genres['na_sales'] < total_sales/50].index)\n",
    "print(f'Не попали в диаграмму {sales_not_in}')"
   ]
  },
  {
   "cell_type": "markdown",
   "id": "bf09acda",
   "metadata": {},
   "source": [
    "По данным диаграммам видно, что медианный заработок по жанрам в eu распределен слудующим образом: Shooter(27%), Sports(15%), Racing(11%); менее 2% от всех продаж - 'Puzzle', 'Adventure'. В jp самые продаваемые жанры: Role-playing(21%) и Fighting(16%). В na самые продаваемые жанры: Shooter(32%), Sports(15%); менее 2% от всех продаж - 'Strategy', 'Adventure'. Таким образом лучший жанр - Action, худшие - 'Puzzle', 'Strategy'."
   ]
  },
  {
   "cell_type": "markdown",
   "id": "8ad515eb",
   "metadata": {},
   "source": [
    "##### Влияние ESRB на продажи"
   ]
  },
  {
   "cell_type": "code",
   "execution_count": 60,
   "id": "72e44abb",
   "metadata": {},
   "outputs": [
    {
     "data": {
      "text/html": [
       "<div>\n",
       "<style scoped>\n",
       "    .dataframe tbody tr th:only-of-type {\n",
       "        vertical-align: middle;\n",
       "    }\n",
       "\n",
       "    .dataframe tbody tr th {\n",
       "        vertical-align: top;\n",
       "    }\n",
       "\n",
       "    .dataframe thead th {\n",
       "        text-align: right;\n",
       "    }\n",
       "</style>\n",
       "<table border=\"1\" class=\"dataframe\">\n",
       "  <thead>\n",
       "    <tr style=\"text-align: right;\">\n",
       "      <th></th>\n",
       "      <th>eu_sales</th>\n",
       "      <th>jp_sales</th>\n",
       "      <th>na_sales</th>\n",
       "      <th>world_sales</th>\n",
       "    </tr>\n",
       "    <tr>\n",
       "      <th>rating</th>\n",
       "      <th></th>\n",
       "      <th></th>\n",
       "      <th></th>\n",
       "      <th></th>\n",
       "    </tr>\n",
       "  </thead>\n",
       "  <tbody>\n",
       "    <tr>\n",
       "      <th>E10+</th>\n",
       "      <td>26.16</td>\n",
       "      <td>4.46</td>\n",
       "      <td>33.23</td>\n",
       "      <td>71.68</td>\n",
       "    </tr>\n",
       "    <tr>\n",
       "      <th>T</th>\n",
       "      <td>34.07</td>\n",
       "      <td>14.78</td>\n",
       "      <td>38.95</td>\n",
       "      <td>99.13</td>\n",
       "    </tr>\n",
       "    <tr>\n",
       "      <th>E</th>\n",
       "      <td>58.06</td>\n",
       "      <td>8.94</td>\n",
       "      <td>50.74</td>\n",
       "      <td>133.13</td>\n",
       "    </tr>\n",
       "    <tr>\n",
       "      <th>tbd</th>\n",
       "      <td>58.95</td>\n",
       "      <td>56.54</td>\n",
       "      <td>64.72</td>\n",
       "      <td>198.61</td>\n",
       "    </tr>\n",
       "    <tr>\n",
       "      <th>M</th>\n",
       "      <td>93.44</td>\n",
       "      <td>8.01</td>\n",
       "      <td>96.42</td>\n",
       "      <td>226.54</td>\n",
       "    </tr>\n",
       "  </tbody>\n",
       "</table>\n",
       "</div>"
      ],
      "text/plain": [
       "        eu_sales  jp_sales  na_sales  world_sales\n",
       "rating                                           \n",
       "E10+       26.16      4.46     33.23        71.68\n",
       "T          34.07     14.78     38.95        99.13\n",
       "E          58.06      8.94     50.74       133.13\n",
       "tbd        58.95     56.54     64.72       198.61\n",
       "M          93.44      8.01     96.42       226.54"
      ]
     },
     "execution_count": 60,
     "metadata": {},
     "output_type": "execute_result"
    }
   ],
   "source": [
    "region_sales_ESRB = data_last_years.pivot_table(index='rating',\n",
    "                                                     values=['na_sales', 'eu_sales', 'jp_sales', 'world_sales'],\n",
    "                                                     aggfunc='sum').sort_values(by='world_sales')\n",
    "region_sales_ESRB"
   ]
  },
  {
   "cell_type": "markdown",
   "id": "9725ff6c",
   "metadata": {},
   "source": [
    "Рейтингов не так много, поэтому сделаем вывод на основе полученной таблицы. Для eu и na лучше всего продвались игры с рейтингом M, а хуже всего - с рейтингом E10+. В jp же малы продажи игр с рейтингами M, E, E10+, но довольно много продано с рейтингом T на их фоне. С неизвестным рейтангом tbd продажи в jp лидируют, в то время как в eu и na они находятся где-то по середине. В дальнейшем этот рейтинг появиться, и игры из него будут внесены в другие возрастные категории, но текущая статистика говорит о том, что новые игры, для которых еще не данного рейтинга, весьма популярны во всех регионах."
   ]
  },
  {
   "cell_type": "markdown",
   "id": "633eebed",
   "metadata": {},
   "source": [
    "##### Портреты пользователей"
   ]
  },
  {
   "cell_type": "markdown",
   "id": "24d9f4a0",
   "metadata": {},
   "source": [
    "Пользователь в eu: предпочитает платформу PS4; жанры Shooter, Sports. Рейтинг игр ESRB чаще всего M.\n",
    "\n",
    "Пользователь в jp: предпочитает платформу 3DS; жанры Role-Playing, Fighting. Рейтинг игр ESRB чаще всего tbd, но если известный, то T.\n",
    "\n",
    "Пользователь в na: предпочитает платформы PS4, XOne; жанры Shooter, Sports. Рейтинг игр ESRB чаще всего M."
   ]
  },
  {
   "cell_type": "markdown",
   "id": "6ed696de",
   "metadata": {},
   "source": [
    "#### Проверка гипотез"
   ]
  },
  {
   "cell_type": "markdown",
   "id": "c077cedb",
   "metadata": {},
   "source": [
    "##### Средние пользовательские рейтинги платформ Xbox One и PC одинаковые"
   ]
  },
  {
   "cell_type": "markdown",
   "id": "91ac929c",
   "metadata": {},
   "source": [
    "Нулевая гипотеза: средние пользовательские рейтинги платформ Xbox One и PC одинаковые\n",
    "\n",
    "Альтернативная гипотеза: средние пользовательские рейтинги платформ Xbox One и PC разные"
   ]
  },
  {
   "cell_type": "code",
   "execution_count": 61,
   "id": "264898ed",
   "metadata": {},
   "outputs": [
    {
     "data": {
      "text/plain": [
       "count    165.000000\n",
       "mean       6.594545\n",
       "std        1.375139\n",
       "min        1.600000\n",
       "25%        5.800000\n",
       "50%        6.800000\n",
       "75%        7.600000\n",
       "max        9.200000\n",
       "Name: user_score, dtype: float64"
      ]
     },
     "execution_count": 61,
     "metadata": {},
     "output_type": "execute_result"
    }
   ],
   "source": [
    "data_last_years.query('platform == \"XOne\"')['user_score'].describe()"
   ]
  },
  {
   "cell_type": "code",
   "execution_count": 62,
   "id": "d3b8f015",
   "metadata": {},
   "outputs": [
    {
     "data": {
      "text/plain": [
       "count    122.000000\n",
       "mean       6.298361\n",
       "std        1.703278\n",
       "min        1.400000\n",
       "25%        5.325000\n",
       "50%        6.800000\n",
       "75%        7.600000\n",
       "max        9.300000\n",
       "Name: user_score, dtype: float64"
      ]
     },
     "execution_count": 62,
     "metadata": {},
     "output_type": "execute_result"
    }
   ],
   "source": [
    "data_last_years.query('platform == \"PC\"')['user_score'].describe()"
   ]
  },
  {
   "cell_type": "code",
   "execution_count": 63,
   "id": "99caffae",
   "metadata": {},
   "outputs": [
    {
     "name": "stdout",
     "output_type": "stream",
     "text": [
      "p-значение: 0.10450507919348513\n",
      "Не получилось отвергнуть нулевую гипотезу\n"
     ]
    }
   ],
   "source": [
    "alpha = 0.05\n",
    "results = st.ttest_ind(data_last_years.query('platform == \"XOne\"')['user_score'],\n",
    "                       data_last_years.query('platform == \"PC\"')['user_score'],\n",
    "                       alternative='two-sided',\n",
    "                       nan_policy='omit')\n",
    "\n",
    "print('p-значение:', results.pvalue)\n",
    "\n",
    "if results.pvalue < alpha:\n",
    "    print('Отвергаем нулевую гипотезу')\n",
    "else:\n",
    "    print('Не получилось отвергнуть нулевую гипотезу')"
   ]
  },
  {
   "cell_type": "markdown",
   "id": "cf21b8d9",
   "metadata": {},
   "source": [
    "Так как нулевую гипотезу отвергнуть не получилось, можем предполагать, что средние пользовательские рейтинги платформ Xbox One и PC одинаковые."
   ]
  },
  {
   "cell_type": "markdown",
   "id": "95087faf",
   "metadata": {},
   "source": [
    "##### Средние пользовательские рейтинги жанров Action и Sports разные"
   ]
  },
  {
   "cell_type": "markdown",
   "id": "2466028f",
   "metadata": {},
   "source": [
    "Нулевая гипотеза: средние пользовательские рейтинги жанров Action и Sports одинаковые\n",
    "\n",
    "Альтернативная гипотеза: средние пользовательские рейтинги жанров Action и Sports разные"
   ]
  },
  {
   "cell_type": "code",
   "execution_count": 64,
   "id": "653c0c7f",
   "metadata": {},
   "outputs": [
    {
     "data": {
      "text/plain": [
       "count    297.000000\n",
       "mean       6.760606\n",
       "std        1.377852\n",
       "min        2.000000\n",
       "25%        6.100000\n",
       "50%        7.100000\n",
       "75%        7.700000\n",
       "max        9.000000\n",
       "Name: user_score, dtype: float64"
      ]
     },
     "execution_count": 64,
     "metadata": {},
     "output_type": "execute_result"
    }
   ],
   "source": [
    "data_last_years.query('genre == \"Action\"')['user_score'].describe()"
   ]
  },
  {
   "cell_type": "code",
   "execution_count": 65,
   "id": "cf5cd403",
   "metadata": {},
   "outputs": [
    {
     "data": {
      "text/plain": [
       "count    127.000000\n",
       "mean       5.225197\n",
       "std        1.856604\n",
       "min        0.200000\n",
       "25%        4.000000\n",
       "50%        5.500000\n",
       "75%        6.650000\n",
       "max        8.800000\n",
       "Name: user_score, dtype: float64"
      ]
     },
     "execution_count": 65,
     "metadata": {},
     "output_type": "execute_result"
    }
   ],
   "source": [
    "data_last_years.query('genre == \"Sports\"')['user_score'].describe()"
   ]
  },
  {
   "cell_type": "code",
   "execution_count": 66,
   "id": "e47ed5b3",
   "metadata": {},
   "outputs": [
    {
     "name": "stdout",
     "output_type": "stream",
     "text": [
      "p-значение: 2.8711147985107304e-19\n",
      "Отвергаем нулевую гипотезу\n"
     ]
    }
   ],
   "source": [
    "alpha = 0.05\n",
    "results = st.ttest_ind(data_last_years.query('genre == \"Action\"')['user_score'],\n",
    "                       data_last_years.query('genre == \"Sports\"')['user_score'],\n",
    "                       alternative='two-sided',\n",
    "                       nan_policy='omit')\n",
    "\n",
    "print('p-значение:', results.pvalue)\n",
    "\n",
    "if results.pvalue < alpha:\n",
    "    print('Отвергаем нулевую гипотезу')\n",
    "else:\n",
    "    print('Не получилось отвергнуть нулевую гипотезу')"
   ]
  },
  {
   "cell_type": "markdown",
   "id": "b0a972b4",
   "metadata": {},
   "source": [
    "Так как p-value получилось очень низким, отвергаем нулевуюгипотезу в пользу альтернативной: следовательно, предполагаем, что средние пользовательские рейтинги жанров Action и Sports разные"
   ]
  },
  {
   "cell_type": "markdown",
   "id": "9f1bddf5",
   "metadata": {},
   "source": [
    "#### Общий вывод"
   ]
  },
  {
   "cell_type": "markdown",
   "id": "d598e9c9",
   "metadata": {},
   "source": [
    "Был проведен анализ данных интернет-магазина «Стримчик». Полученные данные в начале были обработаны: заполнены пропуски, где возможно, удалены дубликаты и изменены типы данных в столбцах. Затем были посчитаны суммарные продажи игр во всех регионах, соответствующая информация добавлена в отдельный столбец. \n",
    "\n",
    "Далее был проведен анализ данных:\n",
    "- построено распределение выпуска игр по годам, из него видно, что большинство игр выпускалось в 2008-2009 годах\n",
    "- проведен анализ продаж по платформам: построены гистограммы, по ним получили вывод, что в основном появляются новые и исчезают старые платформы за 6-10 лет\n",
    "Потом был выбран актуальный период - 3 года (2014-2016). По этим данным проведен анали и получены выводы:\n",
    "- Построено распределение продаж по платформам и оценено падение/рост продаж по этим платформам. Потенциально прибыльными являются платформы: PS4, XOne, 3DS, PC\n",
    "- Построен ящик с усами для продаж по платформам: здесь явно выделяется платформа PS4, имея самые большие усы. От нее немного отстает XOne. Также видим, что у всех платформ имеются выбросы наверх. При этом медиана продаж по играм наибольшая у XOne, но при этом самый высокий 3й квартиль у Wii. Наиболее низкие показатели у PSV - по всем параметрам.\n",
    "- Оценено влияния отзывов пользователей и критиков для платформы PS4. Продажи умеренно коррелируют с отзывами критиков, а вот с отзывами пользователй корреляция продаж не наблюдается. Для остальных платформ наблюдается похожая ситуация, за исключением пары случаев. На платформе PC зависимость продаж от отзывов критиков довольно мала, это может быть связано со спецификой данной платформы. На платформе WiiU следует выделять корреляцию с отзывами пользователей: она есть и даже сильнее, чем с отзывами критиков.\n",
    "- Проанализировано распределение игр по жанрам: самый популярный жанр - shooter, за ним идут sports, platform, fighting, имея почти равные продажи. А вот продажи всех остальных жанров игр существенно меньше. Самые не популярные: Puzzle и Adventure.\n",
    "\n",
    "После были составлены протреты пользователей по регионам:\n",
    "- Пользователь в eu: предпочитает платформу PS4; жанры Shooter, Sports. Рейтинг игр ESRB чаще всего M.\n",
    "- Пользователь в jp: предпочитает платформу 3DS; жанры Role-Playing, Fighting. Рейтинг игр ESRB чаще всего tbd, но если известный, то T.\n",
    "- Пользователь в na: предпочитает платформы PS4, XOne; жанры Shooter, Sports. Рейтинг игр ESRB чаще всего M.\n",
    "\n",
    "Затем проверены гипотезы про рейтинги и сделаны следующие выводы:\n",
    "- Можем предполагать, что средние пользовательские рейтинги платформ Xbox One и PC одинаковые с большой вероятностью\n",
    "- Можем предполагать, что средние пользовательские рейтинги жанров Action и Sports разные с большой вероятностью\n",
    "\n",
    "По полученным данным рекомендуется проводить рекламную компанию для игр в жанре Shooter, Sports для PS4 в eu и na. А для jp следует сделать упор на 3DS, а жанры - Role-Playing, Fighting. "
   ]
  }
 ],
 "metadata": {
  "ExecuteTimeLog": [
   {
    "duration": 1206,
    "start_time": "2025-01-30T19:13:32.501Z"
   },
   {
    "duration": 115,
    "start_time": "2025-01-30T19:13:33.709Z"
   },
   {
    "duration": 37,
    "start_time": "2025-01-30T19:13:33.826Z"
   },
   {
    "duration": 20,
    "start_time": "2025-01-30T19:13:33.865Z"
   },
   {
    "duration": 23,
    "start_time": "2025-01-30T19:13:33.886Z"
   },
   {
    "duration": 19,
    "start_time": "2025-01-30T19:13:33.910Z"
   },
   {
    "duration": 5,
    "start_time": "2025-01-30T19:13:33.948Z"
   },
   {
    "duration": 37,
    "start_time": "2025-01-30T19:13:33.954Z"
   },
   {
    "duration": 38,
    "start_time": "2025-01-30T19:13:33.992Z"
   },
   {
    "duration": 17,
    "start_time": "2025-01-30T19:13:34.032Z"
   },
   {
    "duration": 5,
    "start_time": "2025-01-30T19:13:34.050Z"
   },
   {
    "duration": 23,
    "start_time": "2025-01-30T19:13:34.056Z"
   },
   {
    "duration": 12,
    "start_time": "2025-01-30T19:13:34.080Z"
   },
   {
    "duration": 14,
    "start_time": "2025-01-30T19:13:34.094Z"
   },
   {
    "duration": 20,
    "start_time": "2025-01-30T19:13:34.109Z"
   },
   {
    "duration": 12,
    "start_time": "2025-01-30T19:13:34.131Z"
   },
   {
    "duration": 7,
    "start_time": "2025-01-30T19:13:34.148Z"
   },
   {
    "duration": 48,
    "start_time": "2025-01-30T19:13:34.156Z"
   },
   {
    "duration": 21,
    "start_time": "2025-01-30T19:13:34.205Z"
   },
   {
    "duration": 31,
    "start_time": "2025-01-30T19:13:34.227Z"
   },
   {
    "duration": 31,
    "start_time": "2025-01-30T19:13:34.259Z"
   },
   {
    "duration": 15,
    "start_time": "2025-01-30T19:13:34.292Z"
   },
   {
    "duration": 346,
    "start_time": "2025-01-30T19:13:34.308Z"
   },
   {
    "duration": 11,
    "start_time": "2025-01-30T19:13:34.656Z"
   },
   {
    "duration": 214,
    "start_time": "2025-01-30T19:13:34.668Z"
   },
   {
    "duration": 173,
    "start_time": "2025-01-30T19:13:34.884Z"
   },
   {
    "duration": 167,
    "start_time": "2025-01-30T19:13:35.059Z"
   },
   {
    "duration": 159,
    "start_time": "2025-01-30T19:13:35.230Z"
   },
   {
    "duration": 159,
    "start_time": "2025-01-30T19:13:35.391Z"
   },
   {
    "duration": 15,
    "start_time": "2025-01-30T19:13:35.551Z"
   },
   {
    "duration": 32,
    "start_time": "2025-01-30T19:13:35.568Z"
   },
   {
    "duration": 58,
    "start_time": "2025-01-30T19:13:35.602Z"
   },
   {
    "duration": 5,
    "start_time": "2025-01-30T19:13:35.662Z"
   },
   {
    "duration": 180,
    "start_time": "2025-01-30T19:13:35.668Z"
   },
   {
    "duration": 227,
    "start_time": "2025-01-30T19:13:35.849Z"
   },
   {
    "duration": 27,
    "start_time": "2025-01-30T19:13:36.078Z"
   },
   {
    "duration": 61,
    "start_time": "2025-01-30T19:13:36.107Z"
   },
   {
    "duration": 73,
    "start_time": "2025-01-30T19:13:36.170Z"
   },
   {
    "duration": 112,
    "start_time": "2025-01-30T19:13:36.245Z"
   },
   {
    "duration": 157,
    "start_time": "2025-01-30T19:13:36.359Z"
   },
   {
    "duration": 223,
    "start_time": "2025-01-30T19:13:36.517Z"
   },
   {
    "duration": 15,
    "start_time": "2025-01-30T19:13:36.742Z"
   },
   {
    "duration": 97,
    "start_time": "2025-01-30T19:13:36.759Z"
   },
   {
    "duration": 5,
    "start_time": "2025-01-30T19:13:36.857Z"
   },
   {
    "duration": 102,
    "start_time": "2025-01-30T19:13:36.863Z"
   },
   {
    "duration": 185,
    "start_time": "2025-01-30T19:13:36.966Z"
   },
   {
    "duration": 19,
    "start_time": "2025-01-30T19:13:37.153Z"
   },
   {
    "duration": 179,
    "start_time": "2025-01-30T19:13:37.174Z"
   },
   {
    "duration": 135,
    "start_time": "2025-01-30T19:13:37.355Z"
   },
   {
    "duration": 166,
    "start_time": "2025-01-30T19:13:37.492Z"
   },
   {
    "duration": 17,
    "start_time": "2025-01-30T19:13:37.660Z"
   },
   {
    "duration": 145,
    "start_time": "2025-01-30T19:13:37.679Z"
   },
   {
    "duration": 134,
    "start_time": "2025-01-30T19:13:37.826Z"
   },
   {
    "duration": 118,
    "start_time": "2025-01-30T19:13:37.962Z"
   },
   {
    "duration": 14,
    "start_time": "2025-01-30T19:13:38.082Z"
   },
   {
    "duration": 23,
    "start_time": "2025-01-30T19:13:38.098Z"
   },
   {
    "duration": 10,
    "start_time": "2025-01-30T19:13:38.123Z"
   },
   {
    "duration": 11,
    "start_time": "2025-01-30T19:13:38.147Z"
   },
   {
    "duration": 9,
    "start_time": "2025-01-30T19:13:38.159Z"
   },
   {
    "duration": 8,
    "start_time": "2025-01-30T19:13:38.169Z"
   },
   {
    "duration": 10,
    "start_time": "2025-01-30T19:13:38.178Z"
   },
   {
    "duration": 2439,
    "start_time": "2025-02-01T12:41:33.597Z"
   },
   {
    "duration": 58,
    "start_time": "2025-02-01T12:41:36.038Z"
   },
   {
    "duration": 38,
    "start_time": "2025-02-01T12:41:36.098Z"
   },
   {
    "duration": 20,
    "start_time": "2025-02-01T12:41:36.138Z"
   },
   {
    "duration": 82,
    "start_time": "2025-02-01T12:41:36.160Z"
   },
   {
    "duration": 34,
    "start_time": "2025-02-01T12:41:36.244Z"
   },
   {
    "duration": 9,
    "start_time": "2025-02-01T12:41:36.279Z"
   },
   {
    "duration": 24,
    "start_time": "2025-02-01T12:41:36.290Z"
   },
   {
    "duration": 27,
    "start_time": "2025-02-01T12:41:36.316Z"
   },
   {
    "duration": 49,
    "start_time": "2025-02-01T12:41:36.346Z"
   },
   {
    "duration": 26,
    "start_time": "2025-02-01T12:41:36.397Z"
   },
   {
    "duration": 14,
    "start_time": "2025-02-01T12:41:36.425Z"
   },
   {
    "duration": 36,
    "start_time": "2025-02-01T12:41:36.441Z"
   },
   {
    "duration": 5,
    "start_time": "2025-02-01T12:41:36.479Z"
   },
   {
    "duration": 40,
    "start_time": "2025-02-01T12:41:36.486Z"
   },
   {
    "duration": 5,
    "start_time": "2025-02-01T12:41:36.527Z"
   },
   {
    "duration": 19,
    "start_time": "2025-02-01T12:41:36.534Z"
   },
   {
    "duration": 46,
    "start_time": "2025-02-01T12:41:36.555Z"
   },
   {
    "duration": 64,
    "start_time": "2025-02-01T12:41:36.603Z"
   },
   {
    "duration": 24,
    "start_time": "2025-02-01T12:41:36.669Z"
   },
   {
    "duration": 28,
    "start_time": "2025-02-01T12:41:36.695Z"
   },
   {
    "duration": 34,
    "start_time": "2025-02-01T12:41:36.725Z"
   },
   {
    "duration": 19,
    "start_time": "2025-02-01T12:41:36.760Z"
   },
   {
    "duration": 354,
    "start_time": "2025-02-01T12:41:36.800Z"
   },
   {
    "duration": 14,
    "start_time": "2025-02-01T12:41:37.156Z"
   },
   {
    "duration": 189,
    "start_time": "2025-02-01T12:41:37.171Z"
   },
   {
    "duration": 193,
    "start_time": "2025-02-01T12:41:37.362Z"
   },
   {
    "duration": 182,
    "start_time": "2025-02-01T12:41:37.559Z"
   },
   {
    "duration": 165,
    "start_time": "2025-02-01T12:41:37.743Z"
   },
   {
    "duration": 181,
    "start_time": "2025-02-01T12:41:37.910Z"
   },
   {
    "duration": 23,
    "start_time": "2025-02-01T12:41:38.092Z"
   },
   {
    "duration": 18,
    "start_time": "2025-02-01T12:41:38.117Z"
   },
   {
    "duration": 41,
    "start_time": "2025-02-01T12:41:38.137Z"
   },
   {
    "duration": 7,
    "start_time": "2025-02-01T12:41:38.199Z"
   },
   {
    "duration": 12,
    "start_time": "2025-02-01T12:41:38.208Z"
   },
   {
    "duration": 190,
    "start_time": "2025-02-01T12:41:38.222Z"
   },
   {
    "duration": 21,
    "start_time": "2025-02-01T12:41:38.414Z"
   },
   {
    "duration": 67,
    "start_time": "2025-02-01T12:41:38.437Z"
   },
   {
    "duration": 51,
    "start_time": "2025-02-01T12:41:38.505Z"
   },
   {
    "duration": 354,
    "start_time": "2025-02-01T12:41:38.558Z"
   },
   {
    "duration": 187,
    "start_time": "2025-02-01T12:41:38.914Z"
   },
   {
    "duration": 185,
    "start_time": "2025-02-01T12:41:39.103Z"
   },
   {
    "duration": 20,
    "start_time": "2025-02-01T12:41:39.290Z"
   },
   {
    "duration": 1371,
    "start_time": "2025-02-01T12:41:39.312Z"
   },
   {
    "duration": 4,
    "start_time": "2025-02-01T12:41:40.685Z"
   },
   {
    "duration": 15,
    "start_time": "2025-02-01T12:41:40.700Z"
   },
   {
    "duration": 227,
    "start_time": "2025-02-01T12:41:40.717Z"
   },
   {
    "duration": 15,
    "start_time": "2025-02-01T12:41:40.946Z"
   },
   {
    "duration": 239,
    "start_time": "2025-02-01T12:41:40.962Z"
   },
   {
    "duration": 27,
    "start_time": "2025-02-01T12:41:41.202Z"
   },
   {
    "duration": 24,
    "start_time": "2025-02-01T12:41:41.231Z"
   },
   {
    "duration": 27,
    "start_time": "2025-02-01T12:41:41.257Z"
   },
   {
    "duration": 190,
    "start_time": "2025-02-01T12:41:41.298Z"
   },
   {
    "duration": 163,
    "start_time": "2025-02-01T12:41:41.490Z"
   },
   {
    "duration": 319,
    "start_time": "2025-02-01T12:41:41.655Z"
   },
   {
    "duration": 27,
    "start_time": "2025-02-01T12:41:41.976Z"
   },
   {
    "duration": 196,
    "start_time": "2025-02-01T12:41:42.004Z"
   },
   {
    "duration": 172,
    "start_time": "2025-02-01T12:41:42.202Z"
   },
   {
    "duration": 165,
    "start_time": "2025-02-01T12:41:42.376Z"
   },
   {
    "duration": 18,
    "start_time": "2025-02-01T12:41:42.543Z"
   },
   {
    "duration": 10,
    "start_time": "2025-02-01T12:41:42.563Z"
   },
   {
    "duration": 32,
    "start_time": "2025-02-01T12:41:42.575Z"
   },
   {
    "duration": 13,
    "start_time": "2025-02-01T12:41:42.609Z"
   },
   {
    "duration": 14,
    "start_time": "2025-02-01T12:41:42.624Z"
   },
   {
    "duration": 10,
    "start_time": "2025-02-01T12:41:42.639Z"
   },
   {
    "duration": 12,
    "start_time": "2025-02-01T12:41:42.651Z"
   },
   {
    "duration": 1209,
    "start_time": "2025-02-01T15:38:28.524Z"
   },
   {
    "duration": 46,
    "start_time": "2025-02-01T15:38:29.735Z"
   },
   {
    "duration": 43,
    "start_time": "2025-02-01T15:38:29.782Z"
   },
   {
    "duration": 24,
    "start_time": "2025-02-01T15:38:29.827Z"
   },
   {
    "duration": 15,
    "start_time": "2025-02-01T15:38:29.854Z"
   },
   {
    "duration": 26,
    "start_time": "2025-02-01T15:38:29.871Z"
   },
   {
    "duration": 9,
    "start_time": "2025-02-01T15:38:29.898Z"
   },
   {
    "duration": 34,
    "start_time": "2025-02-01T15:38:29.909Z"
   },
   {
    "duration": 17,
    "start_time": "2025-02-01T15:38:29.944Z"
   },
   {
    "duration": 36,
    "start_time": "2025-02-01T15:38:29.963Z"
   },
   {
    "duration": 19,
    "start_time": "2025-02-01T15:38:30.001Z"
   },
   {
    "duration": 72,
    "start_time": "2025-02-01T15:38:30.022Z"
   },
   {
    "duration": 45,
    "start_time": "2025-02-01T15:38:30.095Z"
   },
   {
    "duration": 7,
    "start_time": "2025-02-01T15:38:30.143Z"
   },
   {
    "duration": 40,
    "start_time": "2025-02-01T15:38:30.152Z"
   },
   {
    "duration": 34,
    "start_time": "2025-02-01T15:38:30.193Z"
   },
   {
    "duration": 42,
    "start_time": "2025-02-01T15:38:30.229Z"
   },
   {
    "duration": 36,
    "start_time": "2025-02-01T15:38:30.273Z"
   },
   {
    "duration": 86,
    "start_time": "2025-02-01T15:38:30.311Z"
   },
   {
    "duration": 23,
    "start_time": "2025-02-01T15:38:30.399Z"
   },
   {
    "duration": 26,
    "start_time": "2025-02-01T15:38:30.423Z"
   },
   {
    "duration": 50,
    "start_time": "2025-02-01T15:38:30.451Z"
   },
   {
    "duration": 20,
    "start_time": "2025-02-01T15:38:30.503Z"
   },
   {
    "duration": 328,
    "start_time": "2025-02-01T15:38:30.533Z"
   },
   {
    "duration": 12,
    "start_time": "2025-02-01T15:38:30.862Z"
   },
   {
    "duration": 251,
    "start_time": "2025-02-01T15:38:30.876Z"
   },
   {
    "duration": 183,
    "start_time": "2025-02-01T15:38:31.129Z"
   },
   {
    "duration": 168,
    "start_time": "2025-02-01T15:38:31.314Z"
   },
   {
    "duration": 166,
    "start_time": "2025-02-01T15:38:31.484Z"
   },
   {
    "duration": 168,
    "start_time": "2025-02-01T15:38:31.651Z"
   },
   {
    "duration": 23,
    "start_time": "2025-02-01T15:38:31.821Z"
   },
   {
    "duration": 28,
    "start_time": "2025-02-01T15:38:31.845Z"
   },
   {
    "duration": 36,
    "start_time": "2025-02-01T15:38:31.875Z"
   },
   {
    "duration": 80,
    "start_time": "2025-02-01T15:38:31.913Z"
   },
   {
    "duration": 30,
    "start_time": "2025-02-01T15:38:31.994Z"
   },
   {
    "duration": 174,
    "start_time": "2025-02-01T15:38:32.026Z"
   },
   {
    "duration": 31,
    "start_time": "2025-02-01T15:38:32.202Z"
   },
   {
    "duration": 56,
    "start_time": "2025-02-01T15:38:32.236Z"
   },
   {
    "duration": 57,
    "start_time": "2025-02-01T15:38:32.294Z"
   },
   {
    "duration": 313,
    "start_time": "2025-02-01T15:38:32.353Z"
   },
   {
    "duration": 175,
    "start_time": "2025-02-01T15:38:32.672Z"
   },
   {
    "duration": 176,
    "start_time": "2025-02-01T15:38:32.849Z"
   },
   {
    "duration": 15,
    "start_time": "2025-02-01T15:38:33.027Z"
   },
   {
    "duration": 1274,
    "start_time": "2025-02-01T15:38:33.044Z"
   },
   {
    "duration": 13,
    "start_time": "2025-02-01T15:38:34.320Z"
   },
   {
    "duration": 13,
    "start_time": "2025-02-01T15:38:34.335Z"
   },
   {
    "duration": 220,
    "start_time": "2025-02-01T15:38:34.350Z"
   },
   {
    "duration": 14,
    "start_time": "2025-02-01T15:38:34.572Z"
   },
   {
    "duration": 212,
    "start_time": "2025-02-01T15:38:34.587Z"
   },
   {
    "duration": 37,
    "start_time": "2025-02-01T15:38:34.801Z"
   },
   {
    "duration": 24,
    "start_time": "2025-02-01T15:38:34.839Z"
   },
   {
    "duration": 87,
    "start_time": "2025-02-01T15:38:34.865Z"
   },
   {
    "duration": 169,
    "start_time": "2025-02-01T15:38:34.954Z"
   },
   {
    "duration": 241,
    "start_time": "2025-02-01T15:38:35.124Z"
   },
   {
    "duration": 183,
    "start_time": "2025-02-01T15:38:35.367Z"
   },
   {
    "duration": 17,
    "start_time": "2025-02-01T15:38:35.551Z"
   },
   {
    "duration": 166,
    "start_time": "2025-02-01T15:38:35.569Z"
   },
   {
    "duration": 173,
    "start_time": "2025-02-01T15:38:35.737Z"
   },
   {
    "duration": 164,
    "start_time": "2025-02-01T15:38:35.912Z"
   },
   {
    "duration": 16,
    "start_time": "2025-02-01T15:38:36.078Z"
   },
   {
    "duration": 18,
    "start_time": "2025-02-01T15:38:36.096Z"
   },
   {
    "duration": 23,
    "start_time": "2025-02-01T15:38:36.116Z"
   },
   {
    "duration": 13,
    "start_time": "2025-02-01T15:38:36.140Z"
   },
   {
    "duration": 10,
    "start_time": "2025-02-01T15:38:36.154Z"
   },
   {
    "duration": 9,
    "start_time": "2025-02-01T15:38:36.166Z"
   },
   {
    "duration": 51,
    "start_time": "2025-02-01T15:38:36.177Z"
   }
  ],
  "kernelspec": {
   "display_name": "Python 3 (ipykernel)",
   "language": "python",
   "name": "python3"
  },
  "language_info": {
   "codemirror_mode": {
    "name": "ipython",
    "version": 3
   },
   "file_extension": ".py",
   "mimetype": "text/x-python",
   "name": "python",
   "nbconvert_exporter": "python",
   "pygments_lexer": "ipython3",
   "version": "3.9.20"
  },
  "toc": {
   "base_numbering": 1,
   "nav_menu": {},
   "number_sections": true,
   "sideBar": true,
   "skip_h1_title": true,
   "title_cell": "Table of Contents",
   "title_sidebar": "Contents",
   "toc_cell": true,
   "toc_position": {
    "height": "calc(100% - 180px)",
    "left": "10px",
    "top": "150px",
    "width": "288px"
   },
   "toc_section_display": true,
   "toc_window_display": true
  }
 },
 "nbformat": 4,
 "nbformat_minor": 5
}
