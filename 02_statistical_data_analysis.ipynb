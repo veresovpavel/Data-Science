{
 "cells": [
  {
   "cell_type": "markdown",
   "id": "51a75604",
   "metadata": {},
   "source": [
    "# Статистический анализ данных сервиса аренды самокатов GoFast\n",
    "\n",
    "Нам передали данные о некоторых пользователях из нескольких городов, а также об их поездках. Проанализируем данные и проверим некоторые гипотезы, которые могут помочь бизнесу вырасти.\n",
    "\n",
    "***Цель исследования***:\n",
    "1. Описать и визуализировать информацию о пользователях и поездках\n",
    "2. Подсчитать помесячную выручку для пользователей\n",
    "3. Проверить гипотезы продакт-менеджеров, которые они хотят использовать для увеличения количества пользователей с подпиской\n",
    "4. Построить распределения и проанализировать раздачу промокодов и рассылку push-уведомлений\n",
    "\n",
    "***Ход исследования***:\n",
    "1. Получим данные из исходных датасетов о пользователях ('datasets/users_go.csv'), подписках ('datasets/subscriptions_go.csv') и поездках ('datasets/rides_go.csv').\n",
    "2. Обработаем исходные данные: поищем в них ошибки, пропуски и дубликаты, в случае необходимости исправим.\n",
    "3. Проведем исследование: \n",
    "- частоты встречаемости городов \n",
    "- соотношения пользователей с подпиской и без\n",
    "- возраста пользователей\n",
    "- расстояние пользователей за поездку\n",
    "- продолжительности поездок\n",
    "4. Объеденим данные в один датафрейм, затем сделаем 2 отдельных датафрейма для пользователей с подписками и без, визуализируем информацию о расстоянии и времени поездок для пользователей обеих категорий\n",
    "5. Посчитаем выручку\n",
    "6. Проверем гипотезы о пользователях, полученные от продакт-менеджеров\n",
    "7. Построим для раздачи промокодов и рассылки push-уведомлений"
   ]
  },
  {
   "cell_type": "code",
   "execution_count": 1,
   "id": "72576667",
   "metadata": {},
   "outputs": [],
   "source": [
    "import pandas as pd\n",
    "from scipy import stats as st\n",
    "import numpy as np\n",
    "import matplotlib.pyplot as plt\n",
    "pd.options.mode.chained_assignment = None"
   ]
  },
  {
   "cell_type": "markdown",
   "id": "c42cbe00",
   "metadata": {},
   "source": [
    "#### Шаг 1. Загрузка данных"
   ]
  },
  {
   "cell_type": "code",
   "execution_count": 2,
   "id": "f2ddf223",
   "metadata": {},
   "outputs": [
    {
     "name": "stdout",
     "output_type": "stream",
     "text": [
      "Код выполняется локально\n"
     ]
    }
   ],
   "source": [
    "try:\n",
    "    users_go = pd.read_csv('/datasets/users_go.csv')\n",
    "    print('Код выполняется на платформе')\n",
    "except FileNotFoundError:\n",
    "    users_go = pd.read_csv('datasets/users_go.csv')\n",
    "    print('Код выполняется локально')"
   ]
  },
  {
   "cell_type": "code",
   "execution_count": 3,
   "id": "507ee1f4",
   "metadata": {},
   "outputs": [
    {
     "name": "stdout",
     "output_type": "stream",
     "text": [
      "Код выполняется локально\n"
     ]
    }
   ],
   "source": [
    "try:\n",
    "    subscriptions_go = pd.read_csv('/datasets/subscriptions_go.csv')\n",
    "    print('Код выполняется на платформе')\n",
    "except FileNotFoundError:\n",
    "    subscriptions_go = pd.read_csv('datasets/subscriptions_go.csv')\n",
    "    print('Код выполняется локально')"
   ]
  },
  {
   "cell_type": "code",
   "execution_count": 4,
   "id": "c27aadbd",
   "metadata": {},
   "outputs": [
    {
     "name": "stdout",
     "output_type": "stream",
     "text": [
      "Код выполняется локально\n"
     ]
    }
   ],
   "source": [
    "try:\n",
    "    rides_go = pd.read_csv('/datasets/rides_go.csv')\n",
    "    print('Код выполняется на платформе')\n",
    "except FileNotFoundError:\n",
    "    rides_go = pd.read_csv('datasets/rides_go.csv')\n",
    "    print('Код выполняется локально')"
   ]
  },
  {
   "cell_type": "code",
   "execution_count": 5,
   "id": "3905bd32",
   "metadata": {},
   "outputs": [
    {
     "name": "stdout",
     "output_type": "stream",
     "text": [
      "<class 'pandas.core.frame.DataFrame'>\n",
      "RangeIndex: 1565 entries, 0 to 1564\n",
      "Data columns (total 5 columns):\n",
      " #   Column             Non-Null Count  Dtype \n",
      "---  ------             --------------  ----- \n",
      " 0   user_id            1565 non-null   int64 \n",
      " 1   name               1565 non-null   object\n",
      " 2   age                1565 non-null   int64 \n",
      " 3   city               1565 non-null   object\n",
      " 4   subscription_type  1565 non-null   object\n",
      "dtypes: int64(2), object(3)\n",
      "memory usage: 61.3+ KB\n",
      "None\n"
     ]
    },
    {
     "data": {
      "text/html": [
       "<div>\n",
       "<style scoped>\n",
       "    .dataframe tbody tr th:only-of-type {\n",
       "        vertical-align: middle;\n",
       "    }\n",
       "\n",
       "    .dataframe tbody tr th {\n",
       "        vertical-align: top;\n",
       "    }\n",
       "\n",
       "    .dataframe thead th {\n",
       "        text-align: right;\n",
       "    }\n",
       "</style>\n",
       "<table border=\"1\" class=\"dataframe\">\n",
       "  <thead>\n",
       "    <tr style=\"text-align: right;\">\n",
       "      <th></th>\n",
       "      <th>user_id</th>\n",
       "      <th>name</th>\n",
       "      <th>age</th>\n",
       "      <th>city</th>\n",
       "      <th>subscription_type</th>\n",
       "    </tr>\n",
       "  </thead>\n",
       "  <tbody>\n",
       "    <tr>\n",
       "      <th>0</th>\n",
       "      <td>1</td>\n",
       "      <td>Кира</td>\n",
       "      <td>22</td>\n",
       "      <td>Тюмень</td>\n",
       "      <td>ultra</td>\n",
       "    </tr>\n",
       "    <tr>\n",
       "      <th>1</th>\n",
       "      <td>2</td>\n",
       "      <td>Станислав</td>\n",
       "      <td>31</td>\n",
       "      <td>Омск</td>\n",
       "      <td>ultra</td>\n",
       "    </tr>\n",
       "    <tr>\n",
       "      <th>2</th>\n",
       "      <td>3</td>\n",
       "      <td>Алексей</td>\n",
       "      <td>20</td>\n",
       "      <td>Москва</td>\n",
       "      <td>ultra</td>\n",
       "    </tr>\n",
       "    <tr>\n",
       "      <th>3</th>\n",
       "      <td>4</td>\n",
       "      <td>Константин</td>\n",
       "      <td>26</td>\n",
       "      <td>Ростов-на-Дону</td>\n",
       "      <td>ultra</td>\n",
       "    </tr>\n",
       "    <tr>\n",
       "      <th>4</th>\n",
       "      <td>5</td>\n",
       "      <td>Адель</td>\n",
       "      <td>28</td>\n",
       "      <td>Омск</td>\n",
       "      <td>ultra</td>\n",
       "    </tr>\n",
       "    <tr>\n",
       "      <th>5</th>\n",
       "      <td>6</td>\n",
       "      <td>Регина</td>\n",
       "      <td>25</td>\n",
       "      <td>Краснодар</td>\n",
       "      <td>ultra</td>\n",
       "    </tr>\n",
       "    <tr>\n",
       "      <th>6</th>\n",
       "      <td>7</td>\n",
       "      <td>Игорь</td>\n",
       "      <td>23</td>\n",
       "      <td>Омск</td>\n",
       "      <td>ultra</td>\n",
       "    </tr>\n",
       "    <tr>\n",
       "      <th>7</th>\n",
       "      <td>8</td>\n",
       "      <td>Юрий</td>\n",
       "      <td>23</td>\n",
       "      <td>Краснодар</td>\n",
       "      <td>ultra</td>\n",
       "    </tr>\n",
       "    <tr>\n",
       "      <th>8</th>\n",
       "      <td>9</td>\n",
       "      <td>Ян</td>\n",
       "      <td>21</td>\n",
       "      <td>Пятигорск</td>\n",
       "      <td>ultra</td>\n",
       "    </tr>\n",
       "    <tr>\n",
       "      <th>9</th>\n",
       "      <td>10</td>\n",
       "      <td>Валерий</td>\n",
       "      <td>18</td>\n",
       "      <td>Екатеринбург</td>\n",
       "      <td>ultra</td>\n",
       "    </tr>\n",
       "  </tbody>\n",
       "</table>\n",
       "</div>"
      ],
      "text/plain": [
       "   user_id        name  age            city subscription_type\n",
       "0        1        Кира   22          Тюмень             ultra\n",
       "1        2   Станислав   31            Омск             ultra\n",
       "2        3     Алексей   20          Москва             ultra\n",
       "3        4  Константин   26  Ростов-на-Дону             ultra\n",
       "4        5       Адель   28            Омск             ultra\n",
       "5        6      Регина   25       Краснодар             ultra\n",
       "6        7       Игорь   23            Омск             ultra\n",
       "7        8        Юрий   23       Краснодар             ultra\n",
       "8        9          Ян   21       Пятигорск             ultra\n",
       "9       10     Валерий   18    Екатеринбург             ultra"
      ]
     },
     "execution_count": 5,
     "metadata": {},
     "output_type": "execute_result"
    }
   ],
   "source": [
    "print(users_go.info())\n",
    "users_go.head(10)"
   ]
  },
  {
   "cell_type": "code",
   "execution_count": 6,
   "id": "956870a6",
   "metadata": {},
   "outputs": [
    {
     "name": "stdout",
     "output_type": "stream",
     "text": [
      "<class 'pandas.core.frame.DataFrame'>\n",
      "RangeIndex: 2 entries, 0 to 1\n",
      "Data columns (total 4 columns):\n",
      " #   Column             Non-Null Count  Dtype \n",
      "---  ------             --------------  ----- \n",
      " 0   subscription_type  2 non-null      object\n",
      " 1   minute_price       2 non-null      int64 \n",
      " 2   start_ride_price   2 non-null      int64 \n",
      " 3   subscription_fee   2 non-null      int64 \n",
      "dtypes: int64(3), object(1)\n",
      "memory usage: 192.0+ bytes\n",
      "None\n"
     ]
    },
    {
     "data": {
      "text/html": [
       "<div>\n",
       "<style scoped>\n",
       "    .dataframe tbody tr th:only-of-type {\n",
       "        vertical-align: middle;\n",
       "    }\n",
       "\n",
       "    .dataframe tbody tr th {\n",
       "        vertical-align: top;\n",
       "    }\n",
       "\n",
       "    .dataframe thead th {\n",
       "        text-align: right;\n",
       "    }\n",
       "</style>\n",
       "<table border=\"1\" class=\"dataframe\">\n",
       "  <thead>\n",
       "    <tr style=\"text-align: right;\">\n",
       "      <th></th>\n",
       "      <th>subscription_type</th>\n",
       "      <th>minute_price</th>\n",
       "      <th>start_ride_price</th>\n",
       "      <th>subscription_fee</th>\n",
       "    </tr>\n",
       "  </thead>\n",
       "  <tbody>\n",
       "    <tr>\n",
       "      <th>0</th>\n",
       "      <td>free</td>\n",
       "      <td>8</td>\n",
       "      <td>50</td>\n",
       "      <td>0</td>\n",
       "    </tr>\n",
       "    <tr>\n",
       "      <th>1</th>\n",
       "      <td>ultra</td>\n",
       "      <td>6</td>\n",
       "      <td>0</td>\n",
       "      <td>199</td>\n",
       "    </tr>\n",
       "  </tbody>\n",
       "</table>\n",
       "</div>"
      ],
      "text/plain": [
       "  subscription_type  minute_price  start_ride_price  subscription_fee\n",
       "0              free             8                50                 0\n",
       "1             ultra             6                 0               199"
      ]
     },
     "execution_count": 6,
     "metadata": {},
     "output_type": "execute_result"
    }
   ],
   "source": [
    "print(subscriptions_go.info())\n",
    "subscriptions_go.head(10)"
   ]
  },
  {
   "cell_type": "code",
   "execution_count": 7,
   "id": "16b8b4fc",
   "metadata": {},
   "outputs": [
    {
     "name": "stdout",
     "output_type": "stream",
     "text": [
      "<class 'pandas.core.frame.DataFrame'>\n",
      "RangeIndex: 18068 entries, 0 to 18067\n",
      "Data columns (total 4 columns):\n",
      " #   Column    Non-Null Count  Dtype  \n",
      "---  ------    --------------  -----  \n",
      " 0   user_id   18068 non-null  int64  \n",
      " 1   distance  18068 non-null  float64\n",
      " 2   duration  18068 non-null  float64\n",
      " 3   date      18068 non-null  object \n",
      "dtypes: float64(2), int64(1), object(1)\n",
      "memory usage: 564.8+ KB\n",
      "None\n"
     ]
    },
    {
     "data": {
      "text/html": [
       "<div>\n",
       "<style scoped>\n",
       "    .dataframe tbody tr th:only-of-type {\n",
       "        vertical-align: middle;\n",
       "    }\n",
       "\n",
       "    .dataframe tbody tr th {\n",
       "        vertical-align: top;\n",
       "    }\n",
       "\n",
       "    .dataframe thead th {\n",
       "        text-align: right;\n",
       "    }\n",
       "</style>\n",
       "<table border=\"1\" class=\"dataframe\">\n",
       "  <thead>\n",
       "    <tr style=\"text-align: right;\">\n",
       "      <th></th>\n",
       "      <th>user_id</th>\n",
       "      <th>distance</th>\n",
       "      <th>duration</th>\n",
       "      <th>date</th>\n",
       "    </tr>\n",
       "  </thead>\n",
       "  <tbody>\n",
       "    <tr>\n",
       "      <th>0</th>\n",
       "      <td>1</td>\n",
       "      <td>4409.919140</td>\n",
       "      <td>25.599769</td>\n",
       "      <td>2021-01-01</td>\n",
       "    </tr>\n",
       "    <tr>\n",
       "      <th>1</th>\n",
       "      <td>1</td>\n",
       "      <td>2617.592153</td>\n",
       "      <td>15.816871</td>\n",
       "      <td>2021-01-18</td>\n",
       "    </tr>\n",
       "    <tr>\n",
       "      <th>2</th>\n",
       "      <td>1</td>\n",
       "      <td>754.159807</td>\n",
       "      <td>6.232113</td>\n",
       "      <td>2021-04-20</td>\n",
       "    </tr>\n",
       "    <tr>\n",
       "      <th>3</th>\n",
       "      <td>1</td>\n",
       "      <td>2694.783254</td>\n",
       "      <td>18.511000</td>\n",
       "      <td>2021-08-11</td>\n",
       "    </tr>\n",
       "    <tr>\n",
       "      <th>4</th>\n",
       "      <td>1</td>\n",
       "      <td>4028.687306</td>\n",
       "      <td>26.265803</td>\n",
       "      <td>2021-08-28</td>\n",
       "    </tr>\n",
       "    <tr>\n",
       "      <th>5</th>\n",
       "      <td>1</td>\n",
       "      <td>2770.890808</td>\n",
       "      <td>16.650138</td>\n",
       "      <td>2021-10-09</td>\n",
       "    </tr>\n",
       "    <tr>\n",
       "      <th>6</th>\n",
       "      <td>1</td>\n",
       "      <td>3039.020292</td>\n",
       "      <td>14.927879</td>\n",
       "      <td>2021-10-19</td>\n",
       "    </tr>\n",
       "    <tr>\n",
       "      <th>7</th>\n",
       "      <td>1</td>\n",
       "      <td>2842.118050</td>\n",
       "      <td>23.117468</td>\n",
       "      <td>2021-11-06</td>\n",
       "    </tr>\n",
       "    <tr>\n",
       "      <th>8</th>\n",
       "      <td>1</td>\n",
       "      <td>3412.690668</td>\n",
       "      <td>15.238072</td>\n",
       "      <td>2021-11-14</td>\n",
       "    </tr>\n",
       "    <tr>\n",
       "      <th>9</th>\n",
       "      <td>1</td>\n",
       "      <td>748.690645</td>\n",
       "      <td>15.041884</td>\n",
       "      <td>2021-11-22</td>\n",
       "    </tr>\n",
       "  </tbody>\n",
       "</table>\n",
       "</div>"
      ],
      "text/plain": [
       "   user_id     distance   duration        date\n",
       "0        1  4409.919140  25.599769  2021-01-01\n",
       "1        1  2617.592153  15.816871  2021-01-18\n",
       "2        1   754.159807   6.232113  2021-04-20\n",
       "3        1  2694.783254  18.511000  2021-08-11\n",
       "4        1  4028.687306  26.265803  2021-08-28\n",
       "5        1  2770.890808  16.650138  2021-10-09\n",
       "6        1  3039.020292  14.927879  2021-10-19\n",
       "7        1  2842.118050  23.117468  2021-11-06\n",
       "8        1  3412.690668  15.238072  2021-11-14\n",
       "9        1   748.690645  15.041884  2021-11-22"
      ]
     },
     "execution_count": 7,
     "metadata": {},
     "output_type": "execute_result"
    }
   ],
   "source": [
    "print(rides_go.info())\n",
    "rides_go.head(10)"
   ]
  },
  {
   "cell_type": "markdown",
   "id": "38e17269",
   "metadata": {},
   "source": [
    "Считали данные из файлов, информация выглядит полной, но далее займемся ее предобработкой: поищем пропуски, дубликаты, нулевые значения."
   ]
  },
  {
   "cell_type": "markdown",
   "id": "e95ebca7",
   "metadata": {},
   "source": [
    "#### Шаг 2. Предобработка данных"
   ]
  },
  {
   "cell_type": "markdown",
   "id": "da8954fa",
   "metadata": {},
   "source": [
    "##### Просмотр информации о данных, приведение к нужному типу "
   ]
  },
  {
   "cell_type": "code",
   "execution_count": 8,
   "id": "af6d202c",
   "metadata": {},
   "outputs": [
    {
     "name": "stdout",
     "output_type": "stream",
     "text": [
      "<class 'pandas.core.frame.DataFrame'>\n",
      "RangeIndex: 1565 entries, 0 to 1564\n",
      "Data columns (total 5 columns):\n",
      " #   Column             Non-Null Count  Dtype \n",
      "---  ------             --------------  ----- \n",
      " 0   user_id            1565 non-null   int64 \n",
      " 1   name               1565 non-null   object\n",
      " 2   age                1565 non-null   int64 \n",
      " 3   city               1565 non-null   object\n",
      " 4   subscription_type  1565 non-null   object\n",
      "dtypes: int64(2), object(3)\n",
      "memory usage: 61.3+ KB\n"
     ]
    },
    {
     "data": {
      "text/html": [
       "<div>\n",
       "<style scoped>\n",
       "    .dataframe tbody tr th:only-of-type {\n",
       "        vertical-align: middle;\n",
       "    }\n",
       "\n",
       "    .dataframe tbody tr th {\n",
       "        vertical-align: top;\n",
       "    }\n",
       "\n",
       "    .dataframe thead th {\n",
       "        text-align: right;\n",
       "    }\n",
       "</style>\n",
       "<table border=\"1\" class=\"dataframe\">\n",
       "  <thead>\n",
       "    <tr style=\"text-align: right;\">\n",
       "      <th></th>\n",
       "      <th>user_id</th>\n",
       "      <th>name</th>\n",
       "      <th>age</th>\n",
       "      <th>city</th>\n",
       "      <th>subscription_type</th>\n",
       "    </tr>\n",
       "  </thead>\n",
       "  <tbody>\n",
       "    <tr>\n",
       "      <th>0</th>\n",
       "      <td>1</td>\n",
       "      <td>Кира</td>\n",
       "      <td>22</td>\n",
       "      <td>Тюмень</td>\n",
       "      <td>ultra</td>\n",
       "    </tr>\n",
       "    <tr>\n",
       "      <th>1</th>\n",
       "      <td>2</td>\n",
       "      <td>Станислав</td>\n",
       "      <td>31</td>\n",
       "      <td>Омск</td>\n",
       "      <td>ultra</td>\n",
       "    </tr>\n",
       "    <tr>\n",
       "      <th>2</th>\n",
       "      <td>3</td>\n",
       "      <td>Алексей</td>\n",
       "      <td>20</td>\n",
       "      <td>Москва</td>\n",
       "      <td>ultra</td>\n",
       "    </tr>\n",
       "    <tr>\n",
       "      <th>3</th>\n",
       "      <td>4</td>\n",
       "      <td>Константин</td>\n",
       "      <td>26</td>\n",
       "      <td>Ростов-на-Дону</td>\n",
       "      <td>ultra</td>\n",
       "    </tr>\n",
       "    <tr>\n",
       "      <th>4</th>\n",
       "      <td>5</td>\n",
       "      <td>Адель</td>\n",
       "      <td>28</td>\n",
       "      <td>Омск</td>\n",
       "      <td>ultra</td>\n",
       "    </tr>\n",
       "    <tr>\n",
       "      <th>...</th>\n",
       "      <td>...</td>\n",
       "      <td>...</td>\n",
       "      <td>...</td>\n",
       "      <td>...</td>\n",
       "      <td>...</td>\n",
       "    </tr>\n",
       "    <tr>\n",
       "      <th>1560</th>\n",
       "      <td>829</td>\n",
       "      <td>Федор</td>\n",
       "      <td>29</td>\n",
       "      <td>Пятигорск</td>\n",
       "      <td>free</td>\n",
       "    </tr>\n",
       "    <tr>\n",
       "      <th>1561</th>\n",
       "      <td>809</td>\n",
       "      <td>Юрий</td>\n",
       "      <td>26</td>\n",
       "      <td>Сочи</td>\n",
       "      <td>free</td>\n",
       "    </tr>\n",
       "    <tr>\n",
       "      <th>1562</th>\n",
       "      <td>307</td>\n",
       "      <td>Ясмина</td>\n",
       "      <td>19</td>\n",
       "      <td>Краснодар</td>\n",
       "      <td>ultra</td>\n",
       "    </tr>\n",
       "    <tr>\n",
       "      <th>1563</th>\n",
       "      <td>47</td>\n",
       "      <td>Юрий</td>\n",
       "      <td>28</td>\n",
       "      <td>Тюмень</td>\n",
       "      <td>ultra</td>\n",
       "    </tr>\n",
       "    <tr>\n",
       "      <th>1564</th>\n",
       "      <td>1045</td>\n",
       "      <td>Артемий</td>\n",
       "      <td>28</td>\n",
       "      <td>Ростов-на-Дону</td>\n",
       "      <td>free</td>\n",
       "    </tr>\n",
       "  </tbody>\n",
       "</table>\n",
       "<p>1565 rows × 5 columns</p>\n",
       "</div>"
      ],
      "text/plain": [
       "      user_id        name  age            city subscription_type\n",
       "0           1        Кира   22          Тюмень             ultra\n",
       "1           2   Станислав   31            Омск             ultra\n",
       "2           3     Алексей   20          Москва             ultra\n",
       "3           4  Константин   26  Ростов-на-Дону             ultra\n",
       "4           5       Адель   28            Омск             ultra\n",
       "...       ...         ...  ...             ...               ...\n",
       "1560      829       Федор   29       Пятигорск              free\n",
       "1561      809        Юрий   26            Сочи              free\n",
       "1562      307      Ясмина   19       Краснодар             ultra\n",
       "1563       47        Юрий   28          Тюмень             ultra\n",
       "1564     1045     Артемий   28  Ростов-на-Дону              free\n",
       "\n",
       "[1565 rows x 5 columns]"
      ]
     },
     "execution_count": 8,
     "metadata": {},
     "output_type": "execute_result"
    }
   ],
   "source": [
    "users_go.info()\n",
    "users_go"
   ]
  },
  {
   "cell_type": "markdown",
   "id": "cb4fc865",
   "metadata": {},
   "source": [
    "Информация о пользователях полная, без пропусков, что очень хорошо. user_id конечно в int64, а не int32, но места датафрейм не занимает, преобразовывать не будем. "
   ]
  },
  {
   "cell_type": "code",
   "execution_count": 9,
   "id": "bf593167",
   "metadata": {},
   "outputs": [
    {
     "name": "stdout",
     "output_type": "stream",
     "text": [
      "<class 'pandas.core.frame.DataFrame'>\n",
      "RangeIndex: 2 entries, 0 to 1\n",
      "Data columns (total 4 columns):\n",
      " #   Column             Non-Null Count  Dtype \n",
      "---  ------             --------------  ----- \n",
      " 0   subscription_type  2 non-null      object\n",
      " 1   minute_price       2 non-null      int64 \n",
      " 2   start_ride_price   2 non-null      int64 \n",
      " 3   subscription_fee   2 non-null      int64 \n",
      "dtypes: int64(3), object(1)\n",
      "memory usage: 192.0+ bytes\n"
     ]
    },
    {
     "data": {
      "text/html": [
       "<div>\n",
       "<style scoped>\n",
       "    .dataframe tbody tr th:only-of-type {\n",
       "        vertical-align: middle;\n",
       "    }\n",
       "\n",
       "    .dataframe tbody tr th {\n",
       "        vertical-align: top;\n",
       "    }\n",
       "\n",
       "    .dataframe thead th {\n",
       "        text-align: right;\n",
       "    }\n",
       "</style>\n",
       "<table border=\"1\" class=\"dataframe\">\n",
       "  <thead>\n",
       "    <tr style=\"text-align: right;\">\n",
       "      <th></th>\n",
       "      <th>subscription_type</th>\n",
       "      <th>minute_price</th>\n",
       "      <th>start_ride_price</th>\n",
       "      <th>subscription_fee</th>\n",
       "    </tr>\n",
       "  </thead>\n",
       "  <tbody>\n",
       "    <tr>\n",
       "      <th>0</th>\n",
       "      <td>free</td>\n",
       "      <td>8</td>\n",
       "      <td>50</td>\n",
       "      <td>0</td>\n",
       "    </tr>\n",
       "    <tr>\n",
       "      <th>1</th>\n",
       "      <td>ultra</td>\n",
       "      <td>6</td>\n",
       "      <td>0</td>\n",
       "      <td>199</td>\n",
       "    </tr>\n",
       "  </tbody>\n",
       "</table>\n",
       "</div>"
      ],
      "text/plain": [
       "  subscription_type  minute_price  start_ride_price  subscription_fee\n",
       "0              free             8                50                 0\n",
       "1             ultra             6                 0               199"
      ]
     },
     "execution_count": 9,
     "metadata": {},
     "output_type": "execute_result"
    }
   ],
   "source": [
    "subscriptions_go.info()\n",
    "subscriptions_go"
   ]
  },
  {
   "cell_type": "markdown",
   "id": "cec626a8",
   "metadata": {},
   "source": [
    "Это вообще информация о подписках, места не занимает, данные видны сразу все, ошибок нет"
   ]
  },
  {
   "cell_type": "code",
   "execution_count": 10,
   "id": "5a101421",
   "metadata": {},
   "outputs": [
    {
     "name": "stdout",
     "output_type": "stream",
     "text": [
      "<class 'pandas.core.frame.DataFrame'>\n",
      "RangeIndex: 18068 entries, 0 to 18067\n",
      "Data columns (total 4 columns):\n",
      " #   Column    Non-Null Count  Dtype  \n",
      "---  ------    --------------  -----  \n",
      " 0   user_id   18068 non-null  int64  \n",
      " 1   distance  18068 non-null  float64\n",
      " 2   duration  18068 non-null  float64\n",
      " 3   date      18068 non-null  object \n",
      "dtypes: float64(2), int64(1), object(1)\n",
      "memory usage: 564.8+ KB\n"
     ]
    },
    {
     "data": {
      "text/html": [
       "<div>\n",
       "<style scoped>\n",
       "    .dataframe tbody tr th:only-of-type {\n",
       "        vertical-align: middle;\n",
       "    }\n",
       "\n",
       "    .dataframe tbody tr th {\n",
       "        vertical-align: top;\n",
       "    }\n",
       "\n",
       "    .dataframe thead th {\n",
       "        text-align: right;\n",
       "    }\n",
       "</style>\n",
       "<table border=\"1\" class=\"dataframe\">\n",
       "  <thead>\n",
       "    <tr style=\"text-align: right;\">\n",
       "      <th></th>\n",
       "      <th>user_id</th>\n",
       "      <th>distance</th>\n",
       "      <th>duration</th>\n",
       "      <th>date</th>\n",
       "    </tr>\n",
       "  </thead>\n",
       "  <tbody>\n",
       "    <tr>\n",
       "      <th>0</th>\n",
       "      <td>1</td>\n",
       "      <td>4409.919140</td>\n",
       "      <td>25.599769</td>\n",
       "      <td>2021-01-01</td>\n",
       "    </tr>\n",
       "    <tr>\n",
       "      <th>1</th>\n",
       "      <td>1</td>\n",
       "      <td>2617.592153</td>\n",
       "      <td>15.816871</td>\n",
       "      <td>2021-01-18</td>\n",
       "    </tr>\n",
       "    <tr>\n",
       "      <th>2</th>\n",
       "      <td>1</td>\n",
       "      <td>754.159807</td>\n",
       "      <td>6.232113</td>\n",
       "      <td>2021-04-20</td>\n",
       "    </tr>\n",
       "    <tr>\n",
       "      <th>3</th>\n",
       "      <td>1</td>\n",
       "      <td>2694.783254</td>\n",
       "      <td>18.511000</td>\n",
       "      <td>2021-08-11</td>\n",
       "    </tr>\n",
       "    <tr>\n",
       "      <th>4</th>\n",
       "      <td>1</td>\n",
       "      <td>4028.687306</td>\n",
       "      <td>26.265803</td>\n",
       "      <td>2021-08-28</td>\n",
       "    </tr>\n",
       "    <tr>\n",
       "      <th>...</th>\n",
       "      <td>...</td>\n",
       "      <td>...</td>\n",
       "      <td>...</td>\n",
       "      <td>...</td>\n",
       "    </tr>\n",
       "    <tr>\n",
       "      <th>18063</th>\n",
       "      <td>1534</td>\n",
       "      <td>3781.098080</td>\n",
       "      <td>19.822962</td>\n",
       "      <td>2021-11-04</td>\n",
       "    </tr>\n",
       "    <tr>\n",
       "      <th>18064</th>\n",
       "      <td>1534</td>\n",
       "      <td>2840.423057</td>\n",
       "      <td>21.409799</td>\n",
       "      <td>2021-11-16</td>\n",
       "    </tr>\n",
       "    <tr>\n",
       "      <th>18065</th>\n",
       "      <td>1534</td>\n",
       "      <td>3826.185507</td>\n",
       "      <td>18.435051</td>\n",
       "      <td>2021-11-18</td>\n",
       "    </tr>\n",
       "    <tr>\n",
       "      <th>18066</th>\n",
       "      <td>1534</td>\n",
       "      <td>2902.308661</td>\n",
       "      <td>16.674362</td>\n",
       "      <td>2021-11-27</td>\n",
       "    </tr>\n",
       "    <tr>\n",
       "      <th>18067</th>\n",
       "      <td>1534</td>\n",
       "      <td>2371.711192</td>\n",
       "      <td>15.893917</td>\n",
       "      <td>2021-12-29</td>\n",
       "    </tr>\n",
       "  </tbody>\n",
       "</table>\n",
       "<p>18068 rows × 4 columns</p>\n",
       "</div>"
      ],
      "text/plain": [
       "       user_id     distance   duration        date\n",
       "0            1  4409.919140  25.599769  2021-01-01\n",
       "1            1  2617.592153  15.816871  2021-01-18\n",
       "2            1   754.159807   6.232113  2021-04-20\n",
       "3            1  2694.783254  18.511000  2021-08-11\n",
       "4            1  4028.687306  26.265803  2021-08-28\n",
       "...        ...          ...        ...         ...\n",
       "18063     1534  3781.098080  19.822962  2021-11-04\n",
       "18064     1534  2840.423057  21.409799  2021-11-16\n",
       "18065     1534  3826.185507  18.435051  2021-11-18\n",
       "18066     1534  2902.308661  16.674362  2021-11-27\n",
       "18067     1534  2371.711192  15.893917  2021-12-29\n",
       "\n",
       "[18068 rows x 4 columns]"
      ]
     },
     "execution_count": 10,
     "metadata": {},
     "output_type": "execute_result"
    }
   ],
   "source": [
    "rides_go.info()\n",
    "rides_go"
   ]
  },
  {
   "cell_type": "markdown",
   "id": "8d0863af",
   "metadata": {},
   "source": [
    "Информация о поездках полная, без пропусков, что очень хорошо. user_id конечно в int64, а не int32, но места датафрейм не занимает, преобразовывать не будем. А вот дату из объекта переделаем в формат дата время."
   ]
  },
  {
   "cell_type": "code",
   "execution_count": 11,
   "id": "0eb9379d",
   "metadata": {},
   "outputs": [],
   "source": [
    "rides_go['date'] = pd.to_datetime(rides_go['date'], format='%Y-%m-%d')"
   ]
  },
  {
   "cell_type": "code",
   "execution_count": 12,
   "id": "e651b697",
   "metadata": {},
   "outputs": [
    {
     "name": "stdout",
     "output_type": "stream",
     "text": [
      "<class 'pandas.core.frame.DataFrame'>\n",
      "RangeIndex: 18068 entries, 0 to 18067\n",
      "Data columns (total 5 columns):\n",
      " #   Column    Non-Null Count  Dtype         \n",
      "---  ------    --------------  -----         \n",
      " 0   user_id   18068 non-null  int64         \n",
      " 1   distance  18068 non-null  float64       \n",
      " 2   duration  18068 non-null  float64       \n",
      " 3   date      18068 non-null  datetime64[ns]\n",
      " 4   month     18068 non-null  int64         \n",
      "dtypes: datetime64[ns](1), float64(2), int64(2)\n",
      "memory usage: 705.9 KB\n"
     ]
    },
    {
     "data": {
      "text/html": [
       "<div>\n",
       "<style scoped>\n",
       "    .dataframe tbody tr th:only-of-type {\n",
       "        vertical-align: middle;\n",
       "    }\n",
       "\n",
       "    .dataframe tbody tr th {\n",
       "        vertical-align: top;\n",
       "    }\n",
       "\n",
       "    .dataframe thead th {\n",
       "        text-align: right;\n",
       "    }\n",
       "</style>\n",
       "<table border=\"1\" class=\"dataframe\">\n",
       "  <thead>\n",
       "    <tr style=\"text-align: right;\">\n",
       "      <th></th>\n",
       "      <th>user_id</th>\n",
       "      <th>distance</th>\n",
       "      <th>duration</th>\n",
       "      <th>date</th>\n",
       "      <th>month</th>\n",
       "    </tr>\n",
       "  </thead>\n",
       "  <tbody>\n",
       "    <tr>\n",
       "      <th>0</th>\n",
       "      <td>1</td>\n",
       "      <td>4409.919140</td>\n",
       "      <td>25.599769</td>\n",
       "      <td>2021-01-01</td>\n",
       "      <td>1</td>\n",
       "    </tr>\n",
       "    <tr>\n",
       "      <th>1</th>\n",
       "      <td>1</td>\n",
       "      <td>2617.592153</td>\n",
       "      <td>15.816871</td>\n",
       "      <td>2021-01-18</td>\n",
       "      <td>1</td>\n",
       "    </tr>\n",
       "    <tr>\n",
       "      <th>2</th>\n",
       "      <td>1</td>\n",
       "      <td>754.159807</td>\n",
       "      <td>6.232113</td>\n",
       "      <td>2021-04-20</td>\n",
       "      <td>4</td>\n",
       "    </tr>\n",
       "    <tr>\n",
       "      <th>3</th>\n",
       "      <td>1</td>\n",
       "      <td>2694.783254</td>\n",
       "      <td>18.511000</td>\n",
       "      <td>2021-08-11</td>\n",
       "      <td>8</td>\n",
       "    </tr>\n",
       "    <tr>\n",
       "      <th>4</th>\n",
       "      <td>1</td>\n",
       "      <td>4028.687306</td>\n",
       "      <td>26.265803</td>\n",
       "      <td>2021-08-28</td>\n",
       "      <td>8</td>\n",
       "    </tr>\n",
       "    <tr>\n",
       "      <th>...</th>\n",
       "      <td>...</td>\n",
       "      <td>...</td>\n",
       "      <td>...</td>\n",
       "      <td>...</td>\n",
       "      <td>...</td>\n",
       "    </tr>\n",
       "    <tr>\n",
       "      <th>18063</th>\n",
       "      <td>1534</td>\n",
       "      <td>3781.098080</td>\n",
       "      <td>19.822962</td>\n",
       "      <td>2021-11-04</td>\n",
       "      <td>11</td>\n",
       "    </tr>\n",
       "    <tr>\n",
       "      <th>18064</th>\n",
       "      <td>1534</td>\n",
       "      <td>2840.423057</td>\n",
       "      <td>21.409799</td>\n",
       "      <td>2021-11-16</td>\n",
       "      <td>11</td>\n",
       "    </tr>\n",
       "    <tr>\n",
       "      <th>18065</th>\n",
       "      <td>1534</td>\n",
       "      <td>3826.185507</td>\n",
       "      <td>18.435051</td>\n",
       "      <td>2021-11-18</td>\n",
       "      <td>11</td>\n",
       "    </tr>\n",
       "    <tr>\n",
       "      <th>18066</th>\n",
       "      <td>1534</td>\n",
       "      <td>2902.308661</td>\n",
       "      <td>16.674362</td>\n",
       "      <td>2021-11-27</td>\n",
       "      <td>11</td>\n",
       "    </tr>\n",
       "    <tr>\n",
       "      <th>18067</th>\n",
       "      <td>1534</td>\n",
       "      <td>2371.711192</td>\n",
       "      <td>15.893917</td>\n",
       "      <td>2021-12-29</td>\n",
       "      <td>12</td>\n",
       "    </tr>\n",
       "  </tbody>\n",
       "</table>\n",
       "<p>18068 rows × 5 columns</p>\n",
       "</div>"
      ],
      "text/plain": [
       "       user_id     distance   duration       date  month\n",
       "0            1  4409.919140  25.599769 2021-01-01      1\n",
       "1            1  2617.592153  15.816871 2021-01-18      1\n",
       "2            1   754.159807   6.232113 2021-04-20      4\n",
       "3            1  2694.783254  18.511000 2021-08-11      8\n",
       "4            1  4028.687306  26.265803 2021-08-28      8\n",
       "...        ...          ...        ...        ...    ...\n",
       "18063     1534  3781.098080  19.822962 2021-11-04     11\n",
       "18064     1534  2840.423057  21.409799 2021-11-16     11\n",
       "18065     1534  3826.185507  18.435051 2021-11-18     11\n",
       "18066     1534  2902.308661  16.674362 2021-11-27     11\n",
       "18067     1534  2371.711192  15.893917 2021-12-29     12\n",
       "\n",
       "[18068 rows x 5 columns]"
      ]
     },
     "execution_count": 12,
     "metadata": {},
     "output_type": "execute_result"
    }
   ],
   "source": [
    "rides_go['month'] = pd.DatetimeIndex(rides_go['date']).month\n",
    "rides_go.info()\n",
    "rides_go"
   ]
  },
  {
   "cell_type": "code",
   "execution_count": 13,
   "id": "c44471c2",
   "metadata": {},
   "outputs": [
    {
     "data": {
      "text/plain": [
       "Int64Index([2021], dtype='int64', name='date')"
      ]
     },
     "execution_count": 13,
     "metadata": {},
     "output_type": "execute_result"
    }
   ],
   "source": [
    "pd.DatetimeIndex(rides_go['date']).year.unique()"
   ]
  },
  {
   "cell_type": "markdown",
   "id": "79d0b7a3",
   "metadata": {},
   "source": [
    "##### Поиск пропущенных значений и дубликатов"
   ]
  },
  {
   "cell_type": "markdown",
   "id": "deae2782",
   "metadata": {},
   "source": [
    "Пропусков нет, поищем дубликаты"
   ]
  },
  {
   "cell_type": "code",
   "execution_count": 14,
   "id": "e26b1707",
   "metadata": {},
   "outputs": [
    {
     "name": "stdout",
     "output_type": "stream",
     "text": [
      "1565\n",
      "user_id              1534\n",
      "name                  194\n",
      "age                    29\n",
      "city                    8\n",
      "subscription_type       2\n",
      "dtype: int64\n"
     ]
    }
   ],
   "source": [
    "print(len(users_go))\n",
    "print(users_go.nunique())"
   ]
  },
  {
   "cell_type": "code",
   "execution_count": 15,
   "id": "d3dbb621",
   "metadata": {
    "scrolled": false
   },
   "outputs": [
    {
     "name": "stdout",
     "output_type": "stream",
     "text": [
      "<class 'pandas.core.frame.DataFrame'>\n",
      "RangeIndex: 1534 entries, 0 to 1533\n",
      "Data columns (total 5 columns):\n",
      " #   Column             Non-Null Count  Dtype \n",
      "---  ------             --------------  ----- \n",
      " 0   user_id            1534 non-null   int64 \n",
      " 1   name               1534 non-null   object\n",
      " 2   age                1534 non-null   int64 \n",
      " 3   city               1534 non-null   object\n",
      " 4   subscription_type  1534 non-null   object\n",
      "dtypes: int64(2), object(3)\n",
      "memory usage: 60.0+ KB\n",
      "\n",
      " 1534 \n",
      "\n",
      "user_id              1534\n",
      "name                  194\n",
      "age                    29\n",
      "city                    8\n",
      "subscription_type       2\n",
      "dtype: int64\n"
     ]
    }
   ],
   "source": [
    "users_go = users_go.drop_duplicates().reset_index(drop=True)\n",
    "users_go.info()\n",
    "print(\"\\n\", len(users_go), \"\\n\")\n",
    "print(users_go.nunique())"
   ]
  },
  {
   "cell_type": "code",
   "execution_count": 16,
   "id": "b8ca9ead",
   "metadata": {},
   "outputs": [
    {
     "name": "stdout",
     "output_type": "stream",
     "text": [
      "18068\n",
      "user_id      1534\n",
      "distance    18068\n",
      "duration    17974\n",
      "date          364\n",
      "month          12\n",
      "dtype: int64\n"
     ]
    }
   ],
   "source": [
    "print(len(rides_go))\n",
    "print(rides_go.nunique())"
   ]
  },
  {
   "cell_type": "markdown",
   "id": "47ca8be4",
   "metadata": {},
   "source": [
    "Дубликаты были найдены только в информации о пользователях и удалены. Индексы в датафрейме об информации о пользователях сброшены."
   ]
  },
  {
   "cell_type": "markdown",
   "id": "212593c7",
   "metadata": {},
   "source": [
    "#### Шаг 3. Исследовательский анализ данных"
   ]
  },
  {
   "cell_type": "markdown",
   "id": "4f08174f",
   "metadata": {},
   "source": [
    "##### Частота встречаемости городов"
   ]
  },
  {
   "cell_type": "code",
   "execution_count": 17,
   "id": "b8682624",
   "metadata": {},
   "outputs": [
    {
     "data": {
      "text/plain": [
       "Пятигорск         219\n",
       "Екатеринбург      204\n",
       "Ростов-на-Дону    198\n",
       "Краснодар         193\n",
       "Сочи              189\n",
       "Омск              183\n",
       "Тюмень            180\n",
       "Москва            168\n",
       "Name: city, dtype: int64"
      ]
     },
     "execution_count": 17,
     "metadata": {},
     "output_type": "execute_result"
    }
   ],
   "source": [
    "users_go['city'].value_counts()"
   ]
  },
  {
   "cell_type": "code",
   "execution_count": 18,
   "id": "05d76cc9",
   "metadata": {
    "scrolled": false
   },
   "outputs": [
    {
     "data": {
      "text/plain": [
       "Text(0, 0.5, 'Число пользователей')"
      ]
     },
     "execution_count": 18,
     "metadata": {},
     "output_type": "execute_result"
    },
    {
     "data": {
      "image/png": "[encoded data removed]",
      "text/plain": [
       "<Figure size 640x480 with 1 Axes>"
      ]
     },
     "metadata": {},
     "output_type": "display_data"
    }
   ],
   "source": [
    "users_go['city'].value_counts().plot(kind='bar').grid(axis='y')\n",
    "plt.title(\"Число пользователей по городам\")\n",
    "plt.xlabel('город', fontsize=14)\n",
    "plt.ylabel('Число пользователей', fontsize=14)"
   ]
  },
  {
   "cell_type": "markdown",
   "id": "eea96644",
   "metadata": {},
   "source": [
    "По полученному графику видно, что больше всего пользователей из г. Пятигорск (219 пользователей), меньше всего - из Москвы (168 пользователей). "
   ]
  },
  {
   "cell_type": "markdown",
   "id": "f2a16f53",
   "metadata": {},
   "source": [
    "##### Соотношение пользователей с подпиской и без подписки"
   ]
  },
  {
   "cell_type": "code",
   "execution_count": 19,
   "id": "e5c711b9",
   "metadata": {},
   "outputs": [
    {
     "data": {
      "text/plain": [
       "free     835\n",
       "ultra    699\n",
       "Name: subscription_type, dtype: int64"
      ]
     },
     "execution_count": 19,
     "metadata": {},
     "output_type": "execute_result"
    }
   ],
   "source": [
    "users_go['subscription_type'].value_counts()"
   ]
  },
  {
   "cell_type": "code",
   "execution_count": 20,
   "id": "abcd80cc",
   "metadata": {},
   "outputs": [
    {
     "data": {
      "text/plain": [
       "Text(0.5, 1.0, 'Число пользователей по подпискам в %')"
      ]
     },
     "execution_count": 20,
     "metadata": {},
     "output_type": "execute_result"
    },
    {
     "data": {
      "image/png": "[encoded data removed]",
      "text/plain": [
       "<Figure size 640x480 with 1 Axes>"
      ]
     },
     "metadata": {},
     "output_type": "display_data"
    }
   ],
   "source": [
    "sub_user_distr = users_go['subscription_type'].value_counts()\n",
    "sub_users = sub_user_distr['ultra']\n",
    "non_sub_users = sub_user_distr['free']\n",
    "all_users = sub_users + non_sub_users\n",
    "autopact_values = [sub_users, non_sub_users]\n",
    "sub_user_distr.plot(kind='pie',\n",
    "                    colormap='summer',\n",
    "                    autopct='%.0f',\n",
    "                    wedgeprops = {\"edgecolor\" : \"black\", \n",
    "                                  'linewidth': 1, \n",
    "                                  'antialiased': True})\n",
    "plt.title(\"Число пользователей по подпискам в %\")"
   ]
  },
  {
   "cell_type": "code",
   "execution_count": 21,
   "id": "98ff046e",
   "metadata": {},
   "outputs": [
    {
     "name": "stdout",
     "output_type": "stream",
     "text": [
      "Количество пользователей составляет:\n",
      "с подпиской ультра: 45.57% (699 пользователей)\n",
      "без подписки: 54.43% (835 пользователей)\n",
      "Пользователей без подписки на 16.29% больше.\n"
     ]
    },
    {
     "data": {
      "text/plain": [
       "free     835\n",
       "ultra    699\n",
       "Name: subscription_type, dtype: int64"
      ]
     },
     "execution_count": 21,
     "metadata": {},
     "output_type": "execute_result"
    }
   ],
   "source": [
    "print(f'''Количество пользователей составляет:\n",
    "с подпиской ультра: {round(sub_users / all_users * 100, 2)}% ({sub_users} пользователей)\n",
    "без подписки: {round(non_sub_users / all_users * 100, 2)}% ({non_sub_users} пользователей)\n",
    "Пользователей без подписки на {round(100 * (non_sub_users - sub_users) / non_sub_users, 2)}% больше.''')\n",
    "sub_user_distr"
   ]
  },
  {
   "cell_type": "markdown",
   "id": "0e8bb0e9",
   "metadata": {},
   "source": [
    "Получилось соотношение пользователей, показанное на диаграмме. Пользователей с подпиской 46%, без - 54%."
   ]
  },
  {
   "cell_type": "markdown",
   "id": "13f9034b",
   "metadata": {},
   "source": [
    "##### Возраст пользователей"
   ]
  },
  {
   "cell_type": "code",
   "execution_count": 22,
   "id": "43066aef",
   "metadata": {},
   "outputs": [
    {
     "name": "stdout",
     "output_type": "stream",
     "text": [
      "29 31\n"
     ]
    }
   ],
   "source": [
    "print(users_go['age'].nunique(),\n",
    "      users_go['age'].max() - users_go['age'].min())"
   ]
  },
  {
   "cell_type": "code",
   "execution_count": 23,
   "id": "1a6b691d",
   "metadata": {
    "scrolled": false
   },
   "outputs": [
    {
     "data": {
      "text/plain": [
       "Text(0, 0.5, 'Число пользователей')"
      ]
     },
     "execution_count": 23,
     "metadata": {},
     "output_type": "execute_result"
    },
    {
     "data": {
      "image/png": "[encoded data removed]",
      "text/plain": [
       "<Figure size 1000x500 with 1 Axes>"
      ]
     },
     "metadata": {},
     "output_type": "display_data"
    }
   ],
   "source": [
    "users_go['age'].value_counts().sort_index().plot(kind='bar', colormap='summer', figsize=(10,5)).grid(axis='y')\n",
    "plt.title(\"Число пользователей по возрасту\")\n",
    "plt.xlabel('Возраст', fontsize=14)\n",
    "plt.ylabel('Число пользователей', fontsize=14)"
   ]
  },
  {
   "cell_type": "markdown",
   "id": "07bdb5c5",
   "metadata": {},
   "source": [
    "Можем наблюдать большинство пользователей в возрасте 22-27 лет."
   ]
  },
  {
   "cell_type": "markdown",
   "id": "bba69c4f",
   "metadata": {},
   "source": [
    "##### Расстояние, которое пользователь преодолел за одну поездку"
   ]
  },
  {
   "cell_type": "code",
   "execution_count": 24,
   "id": "4bbd62e7",
   "metadata": {},
   "outputs": [
    {
     "name": "stdout",
     "output_type": "stream",
     "text": [
      "count    18068.000000\n",
      "mean      3070.659976\n",
      "std       1116.831209\n",
      "min          0.855683\n",
      "25%       2543.226360\n",
      "50%       3133.609994\n",
      "75%       3776.222735\n",
      "max       7211.007745\n",
      "Name: distance, dtype: float64\n"
     ]
    },
    {
     "data": {
      "text/plain": [
       "Text(0, 0.5, 'Число пользователей')"
      ]
     },
     "execution_count": 24,
     "metadata": {},
     "output_type": "execute_result"
    },
    {
     "data": {
      "image/png": "[encoded data removed]",
      "text/plain": [
       "<Figure size 1000x500 with 1 Axes>"
      ]
     },
     "metadata": {},
     "output_type": "display_data"
    }
   ],
   "source": [
    "print(rides_go['distance'].describe())\n",
    "rides_go['distance'].hist(bins=50, figsize=(10,5)).minorticks_on()\n",
    "plt.title(\"Расстояние за поездку\")\n",
    "plt.xlabel('расстояние', fontsize=14)\n",
    "plt.ylabel('Число пользователей', fontsize=14)"
   ]
  },
  {
   "cell_type": "code",
   "execution_count": 25,
   "id": "580f4e8d",
   "metadata": {},
   "outputs": [
    {
     "data": {
      "text/plain": [
       "count    78.000000\n",
       "mean     57.404311\n",
       "std      28.569031\n",
       "min       0.855683\n",
       "25%      32.424553\n",
       "50%      63.859570\n",
       "75%      84.357564\n",
       "max      99.744889\n",
       "Name: distance, dtype: float64"
      ]
     },
     "execution_count": 25,
     "metadata": {},
     "output_type": "execute_result"
    }
   ],
   "source": [
    "rides_go[rides_go['distance'] < 100]['distance'].describe()"
   ]
  },
  {
   "cell_type": "markdown",
   "id": "a0496676",
   "metadata": {},
   "source": [
    "Есть пользователи, которые проехали меньше 100 м, то есть скорее всего взяли самокат и отказались от поездки. Таких всего 78. При этом можно наблюдать два пика - в районе 700м и в районе 3км. На эти расстояния пользователи чаще всего берут самокаты."
   ]
  },
  {
   "cell_type": "markdown",
   "id": "9af81ddb",
   "metadata": {},
   "source": [
    "##### Продолжительность поездок"
   ]
  },
  {
   "cell_type": "code",
   "execution_count": 26,
   "id": "51ba8297",
   "metadata": {},
   "outputs": [
    {
     "name": "stdout",
     "output_type": "stream",
     "text": [
      "count    18068.000000\n",
      "mean        17.805011\n",
      "std          6.091051\n",
      "min          0.500000\n",
      "25%         13.597563\n",
      "50%         17.678395\n",
      "75%         21.724800\n",
      "max         40.823963\n",
      "Name: duration, dtype: float64\n"
     ]
    },
    {
     "data": {
      "text/plain": [
       "Text(0, 0.5, 'Число пользователей')"
      ]
     },
     "execution_count": 26,
     "metadata": {},
     "output_type": "execute_result"
    },
    {
     "data": {
      "image/png": "[encoded data removed]",
      "text/plain": [
       "<Figure size 1000x500 with 1 Axes>"
      ]
     },
     "metadata": {},
     "output_type": "display_data"
    }
   ],
   "source": [
    "print(rides_go['duration'].describe())\n",
    "rides_go['duration'].hist(bins=50, figsize=(10,5)).minorticks_on()\n",
    "plt.title(\"Число пользователей в зависимости от времени поездки\")\n",
    "plt.xlabel('Время поездки', fontsize=14)\n",
    "plt.ylabel('Число пользователей', fontsize=14)"
   ]
  },
  {
   "cell_type": "code",
   "execution_count": 27,
   "id": "501307e0",
   "metadata": {},
   "outputs": [
    {
     "data": {
      "text/plain": [
       "count    95.0\n",
       "mean      0.5\n",
       "std       0.0\n",
       "min       0.5\n",
       "25%       0.5\n",
       "50%       0.5\n",
       "75%       0.5\n",
       "max       0.5\n",
       "Name: duration, dtype: float64"
      ]
     },
     "execution_count": 27,
     "metadata": {},
     "output_type": "execute_result"
    }
   ],
   "source": [
    "rides_go[rides_go['duration'] < 2.01]['duration'].describe()"
   ]
  },
  {
   "cell_type": "code",
   "execution_count": 28,
   "id": "0baad0ac",
   "metadata": {},
   "outputs": [
    {
     "data": {
      "text/plain": [
       "count      95.000000\n",
       "mean     5113.176549\n",
       "std       658.254104\n",
       "min      4030.308008\n",
       "25%      4611.510820\n",
       "50%      5052.769411\n",
       "75%      5488.459099\n",
       "max      7211.007745\n",
       "Name: distance, dtype: float64"
      ]
     },
     "execution_count": 28,
     "metadata": {},
     "output_type": "execute_result"
    }
   ],
   "source": [
    "rides_go[rides_go['duration'] < 2.01]['distance'].describe()"
   ]
  },
  {
   "cell_type": "markdown",
   "id": "61be0361",
   "metadata": {},
   "source": [
    "На данном графике виден уже только один пик, на времени, равном 17-19 мин. Второго пика, как на графике длины поездки, не наблюдается. Это скорее всего связано с тем, что пользователи тратят время на поиск самоката, его парковку и прочие вещи. Также виден стобик на гистограмме около 0. Его мы рассмотрели отдельно, и в нем пользователи берут самокат и почти сразу же возвращают, но при этом проезжают каким-то образом минимум 4км. Видимо, здесь ошибка в данных, поэтому эти строки лучше удалить. Из-за этого придется заново построить графики."
   ]
  },
  {
   "cell_type": "code",
   "execution_count": 29,
   "id": "83ffe56c",
   "metadata": {},
   "outputs": [],
   "source": [
    "rides_go = rides_go[rides_go['duration'] > 2]"
   ]
  },
  {
   "cell_type": "code",
   "execution_count": 30,
   "id": "b4163c7d",
   "metadata": {
    "scrolled": false
   },
   "outputs": [
    {
     "name": "stdout",
     "output_type": "stream",
     "text": [
      "count    17973.000000\n",
      "mean      3059.863833\n",
      "std       1108.814612\n",
      "min          0.855683\n",
      "25%       2538.839628\n",
      "50%       3129.029255\n",
      "75%       3762.636244\n",
      "max       7066.003772\n",
      "Name: distance, dtype: float64\n"
     ]
    },
    {
     "data": {
      "text/plain": [
       "Text(0, 0.5, 'Число пользователей')"
      ]
     },
     "execution_count": 30,
     "metadata": {},
     "output_type": "execute_result"
    },
    {
     "data": {
      "image/png": "[encoded data removed]",
      "text/plain": [
       "<Figure size 1000x500 with 1 Axes>"
      ]
     },
     "metadata": {},
     "output_type": "display_data"
    }
   ],
   "source": [
    "print(rides_go['distance'].describe())\n",
    "rides_go['distance'].hist(bins=50, figsize=(10,5)).minorticks_on()\n",
    "plt.title(\"Расстояние за поездку\")\n",
    "plt.xlabel('расстояние', fontsize=14)\n",
    "plt.ylabel('Число пользователей', fontsize=14)"
   ]
  },
  {
   "cell_type": "code",
   "execution_count": 31,
   "id": "447dc535",
   "metadata": {
    "scrolled": false
   },
   "outputs": [
    {
     "name": "stdout",
     "output_type": "stream",
     "text": [
      "count    17973.000000\n",
      "mean        17.896480\n",
      "std          5.975424\n",
      "min          2.035632\n",
      "25%         13.670439\n",
      "50%         17.714122\n",
      "75%         21.747016\n",
      "max         40.823963\n",
      "Name: duration, dtype: float64\n"
     ]
    },
    {
     "data": {
      "text/plain": [
       "Text(0, 0.5, 'Число пользователей')"
      ]
     },
     "execution_count": 31,
     "metadata": {},
     "output_type": "execute_result"
    },
    {
     "data": {
      "image/png": "[encoded data removed]",
      "text/plain": [
       "<Figure size 1000x500 with 1 Axes>"
      ]
     },
     "metadata": {},
     "output_type": "display_data"
    }
   ],
   "source": [
    "print(rides_go['duration'].describe())\n",
    "rides_go['duration'].hist(bins=50, figsize=(10,5)).minorticks_on()\n",
    "plt.title(\"Число пользователей в зависимости от времени поездки\")\n",
    "plt.xlabel('Время поездки', fontsize=14)\n",
    "plt.ylabel('Число пользователей', fontsize=14)"
   ]
  },
  {
   "cell_type": "markdown",
   "id": "f4fd1aec",
   "metadata": {},
   "source": [
    "Вид графика для расстояния поездок почти не изменился, а вот на графике со временем мы убрали часть неверных данных и график стал лучше. \n",
    "\n",
    "Оба распределения - как расстояния, так и времени, похожи на нормальное распределение, хотя у графика расстояния имеется небольшой пик в начале, что говорит о том, что могут присутствовать выбросы в данных."
   ]
  },
  {
   "cell_type": "markdown",
   "id": "6267aa67",
   "metadata": {},
   "source": [
    "Вывод: графики по пользователям, построенные ранее - говорят о том, что в основном пользуются люди от 21 до 28 лет, больщинство в Пятигорске, меньше всего в Москве, пользователей без подписки - больше, но не намного."
   ]
  },
  {
   "cell_type": "code",
   "execution_count": 32,
   "id": "1f08084a",
   "metadata": {},
   "outputs": [
    {
     "data": {
      "text/plain": [
       "Text(0.5, 1.0, 'Диаграмма размаха для расстояния поездок')"
      ]
     },
     "execution_count": 32,
     "metadata": {},
     "output_type": "execute_result"
    },
    {
     "data": {
      "image/png": "[encoded data removed]",
      "text/plain": [
       "<Figure size 640x480 with 1 Axes>"
      ]
     },
     "metadata": {},
     "output_type": "display_data"
    }
   ],
   "source": [
    "rides_go.boxplot('distance')\n",
    "plt.title(\"Диаграмма размаха для расстояния поездок\")"
   ]
  },
  {
   "cell_type": "code",
   "execution_count": 33,
   "id": "067ff055",
   "metadata": {},
   "outputs": [
    {
     "data": {
      "text/plain": [
       "Text(0.5, 1.0, 'Диаграмма размаха для длительности поездок')"
      ]
     },
     "execution_count": 33,
     "metadata": {},
     "output_type": "execute_result"
    },
    {
     "data": {
      "image/png": "[encoded data removed]",
      "text/plain": [
       "<Figure size 640x480 with 1 Axes>"
      ]
     },
     "metadata": {},
     "output_type": "display_data"
    }
   ],
   "source": [
    "rides_go.boxplot('duration')\n",
    "plt.title(\"Диаграмма размаха для длительности поездок\")"
   ]
  },
  {
   "cell_type": "markdown",
   "id": "531a670b",
   "metadata": {},
   "source": [
    "Также привели диаграммы размаха, по котором видно, что для поездок имеется двольно много значений, выходящих за рамки 1,5 квартильного размаха. Это говорит о том что довольно много пользователей, сильно отличающихся от основной массы. По диаграмме размаха времени поездок выбросы видны только в сторону увеличения времени. Это связано с тем, что данные по поездкам на очень короткое время были удалены в связи с их некорректностью. Удаленные данные попали бы на эту диаграмму в нижнюю часть. "
   ]
  },
  {
   "cell_type": "markdown",
   "id": "4ef51331",
   "metadata": {},
   "source": [
    "#### Шаг 4. Объединение данных"
   ]
  },
  {
   "cell_type": "code",
   "execution_count": 34,
   "id": "d27f1a37",
   "metadata": {},
   "outputs": [
    {
     "data": {
      "text/plain": [
       "1534"
      ]
     },
     "execution_count": 34,
     "metadata": {},
     "output_type": "execute_result"
    }
   ],
   "source": [
    "rides_go['user_id'].nunique()"
   ]
  },
  {
   "cell_type": "code",
   "execution_count": 35,
   "id": "aaff8d9e",
   "metadata": {},
   "outputs": [
    {
     "data": {
      "text/plain": [
       "1534"
      ]
     },
     "execution_count": 35,
     "metadata": {},
     "output_type": "execute_result"
    }
   ],
   "source": [
    "users_go['user_id'].nunique()"
   ]
  },
  {
   "cell_type": "code",
   "execution_count": 36,
   "id": "ddde955a",
   "metadata": {},
   "outputs": [
    {
     "data": {
      "text/plain": [
       "2"
      ]
     },
     "execution_count": 36,
     "metadata": {},
     "output_type": "execute_result"
    }
   ],
   "source": [
    "subscriptions_go['subscription_type'].nunique()"
   ]
  },
  {
   "cell_type": "code",
   "execution_count": 37,
   "id": "4c0356fa",
   "metadata": {},
   "outputs": [
    {
     "data": {
      "text/plain": [
       "2"
      ]
     },
     "execution_count": 37,
     "metadata": {},
     "output_type": "execute_result"
    }
   ],
   "source": [
    "users_go['subscription_type'].nunique()"
   ]
  },
  {
   "cell_type": "code",
   "execution_count": 38,
   "id": "ed85db98",
   "metadata": {},
   "outputs": [
    {
     "data": {
      "text/plain": [
       "17973"
      ]
     },
     "execution_count": 38,
     "metadata": {},
     "output_type": "execute_result"
    }
   ],
   "source": [
    "len(rides_go)"
   ]
  },
  {
   "cell_type": "code",
   "execution_count": 39,
   "id": "6bf288b5",
   "metadata": {},
   "outputs": [
    {
     "data": {
      "text/html": [
       "<div>\n",
       "<style scoped>\n",
       "    .dataframe tbody tr th:only-of-type {\n",
       "        vertical-align: middle;\n",
       "    }\n",
       "\n",
       "    .dataframe tbody tr th {\n",
       "        vertical-align: top;\n",
       "    }\n",
       "\n",
       "    .dataframe thead th {\n",
       "        text-align: right;\n",
       "    }\n",
       "</style>\n",
       "<table border=\"1\" class=\"dataframe\">\n",
       "  <thead>\n",
       "    <tr style=\"text-align: right;\">\n",
       "      <th></th>\n",
       "      <th>user_id</th>\n",
       "      <th>distance</th>\n",
       "      <th>duration</th>\n",
       "      <th>date</th>\n",
       "      <th>month</th>\n",
       "      <th>name</th>\n",
       "      <th>age</th>\n",
       "      <th>city</th>\n",
       "      <th>subscription_type</th>\n",
       "      <th>minute_price</th>\n",
       "      <th>start_ride_price</th>\n",
       "      <th>subscription_fee</th>\n",
       "    </tr>\n",
       "  </thead>\n",
       "  <tbody>\n",
       "    <tr>\n",
       "      <th>0</th>\n",
       "      <td>1</td>\n",
       "      <td>4409.919140</td>\n",
       "      <td>25.599769</td>\n",
       "      <td>2021-01-01</td>\n",
       "      <td>1</td>\n",
       "      <td>Кира</td>\n",
       "      <td>22</td>\n",
       "      <td>Тюмень</td>\n",
       "      <td>ultra</td>\n",
       "      <td>6</td>\n",
       "      <td>0</td>\n",
       "      <td>199</td>\n",
       "    </tr>\n",
       "    <tr>\n",
       "      <th>1</th>\n",
       "      <td>1</td>\n",
       "      <td>2617.592153</td>\n",
       "      <td>15.816871</td>\n",
       "      <td>2021-01-18</td>\n",
       "      <td>1</td>\n",
       "      <td>Кира</td>\n",
       "      <td>22</td>\n",
       "      <td>Тюмень</td>\n",
       "      <td>ultra</td>\n",
       "      <td>6</td>\n",
       "      <td>0</td>\n",
       "      <td>199</td>\n",
       "    </tr>\n",
       "    <tr>\n",
       "      <th>2</th>\n",
       "      <td>1</td>\n",
       "      <td>754.159807</td>\n",
       "      <td>6.232113</td>\n",
       "      <td>2021-04-20</td>\n",
       "      <td>4</td>\n",
       "      <td>Кира</td>\n",
       "      <td>22</td>\n",
       "      <td>Тюмень</td>\n",
       "      <td>ultra</td>\n",
       "      <td>6</td>\n",
       "      <td>0</td>\n",
       "      <td>199</td>\n",
       "    </tr>\n",
       "    <tr>\n",
       "      <th>3</th>\n",
       "      <td>1</td>\n",
       "      <td>2694.783254</td>\n",
       "      <td>18.511000</td>\n",
       "      <td>2021-08-11</td>\n",
       "      <td>8</td>\n",
       "      <td>Кира</td>\n",
       "      <td>22</td>\n",
       "      <td>Тюмень</td>\n",
       "      <td>ultra</td>\n",
       "      <td>6</td>\n",
       "      <td>0</td>\n",
       "      <td>199</td>\n",
       "    </tr>\n",
       "    <tr>\n",
       "      <th>4</th>\n",
       "      <td>1</td>\n",
       "      <td>4028.687306</td>\n",
       "      <td>26.265803</td>\n",
       "      <td>2021-08-28</td>\n",
       "      <td>8</td>\n",
       "      <td>Кира</td>\n",
       "      <td>22</td>\n",
       "      <td>Тюмень</td>\n",
       "      <td>ultra</td>\n",
       "      <td>6</td>\n",
       "      <td>0</td>\n",
       "      <td>199</td>\n",
       "    </tr>\n",
       "    <tr>\n",
       "      <th>...</th>\n",
       "      <td>...</td>\n",
       "      <td>...</td>\n",
       "      <td>...</td>\n",
       "      <td>...</td>\n",
       "      <td>...</td>\n",
       "      <td>...</td>\n",
       "      <td>...</td>\n",
       "      <td>...</td>\n",
       "      <td>...</td>\n",
       "      <td>...</td>\n",
       "      <td>...</td>\n",
       "      <td>...</td>\n",
       "    </tr>\n",
       "    <tr>\n",
       "      <th>17968</th>\n",
       "      <td>1534</td>\n",
       "      <td>3781.098080</td>\n",
       "      <td>19.822962</td>\n",
       "      <td>2021-11-04</td>\n",
       "      <td>11</td>\n",
       "      <td>Альберт</td>\n",
       "      <td>25</td>\n",
       "      <td>Краснодар</td>\n",
       "      <td>free</td>\n",
       "      <td>8</td>\n",
       "      <td>50</td>\n",
       "      <td>0</td>\n",
       "    </tr>\n",
       "    <tr>\n",
       "      <th>17969</th>\n",
       "      <td>1534</td>\n",
       "      <td>2840.423057</td>\n",
       "      <td>21.409799</td>\n",
       "      <td>2021-11-16</td>\n",
       "      <td>11</td>\n",
       "      <td>Альберт</td>\n",
       "      <td>25</td>\n",
       "      <td>Краснодар</td>\n",
       "      <td>free</td>\n",
       "      <td>8</td>\n",
       "      <td>50</td>\n",
       "      <td>0</td>\n",
       "    </tr>\n",
       "    <tr>\n",
       "      <th>17970</th>\n",
       "      <td>1534</td>\n",
       "      <td>3826.185507</td>\n",
       "      <td>18.435051</td>\n",
       "      <td>2021-11-18</td>\n",
       "      <td>11</td>\n",
       "      <td>Альберт</td>\n",
       "      <td>25</td>\n",
       "      <td>Краснодар</td>\n",
       "      <td>free</td>\n",
       "      <td>8</td>\n",
       "      <td>50</td>\n",
       "      <td>0</td>\n",
       "    </tr>\n",
       "    <tr>\n",
       "      <th>17971</th>\n",
       "      <td>1534</td>\n",
       "      <td>2902.308661</td>\n",
       "      <td>16.674362</td>\n",
       "      <td>2021-11-27</td>\n",
       "      <td>11</td>\n",
       "      <td>Альберт</td>\n",
       "      <td>25</td>\n",
       "      <td>Краснодар</td>\n",
       "      <td>free</td>\n",
       "      <td>8</td>\n",
       "      <td>50</td>\n",
       "      <td>0</td>\n",
       "    </tr>\n",
       "    <tr>\n",
       "      <th>17972</th>\n",
       "      <td>1534</td>\n",
       "      <td>2371.711192</td>\n",
       "      <td>15.893917</td>\n",
       "      <td>2021-12-29</td>\n",
       "      <td>12</td>\n",
       "      <td>Альберт</td>\n",
       "      <td>25</td>\n",
       "      <td>Краснодар</td>\n",
       "      <td>free</td>\n",
       "      <td>8</td>\n",
       "      <td>50</td>\n",
       "      <td>0</td>\n",
       "    </tr>\n",
       "  </tbody>\n",
       "</table>\n",
       "<p>17973 rows × 12 columns</p>\n",
       "</div>"
      ],
      "text/plain": [
       "       user_id     distance   duration       date  month     name  age  \\\n",
       "0            1  4409.919140  25.599769 2021-01-01      1     Кира   22   \n",
       "1            1  2617.592153  15.816871 2021-01-18      1     Кира   22   \n",
       "2            1   754.159807   6.232113 2021-04-20      4     Кира   22   \n",
       "3            1  2694.783254  18.511000 2021-08-11      8     Кира   22   \n",
       "4            1  4028.687306  26.265803 2021-08-28      8     Кира   22   \n",
       "...        ...          ...        ...        ...    ...      ...  ...   \n",
       "17968     1534  3781.098080  19.822962 2021-11-04     11  Альберт   25   \n",
       "17969     1534  2840.423057  21.409799 2021-11-16     11  Альберт   25   \n",
       "17970     1534  3826.185507  18.435051 2021-11-18     11  Альберт   25   \n",
       "17971     1534  2902.308661  16.674362 2021-11-27     11  Альберт   25   \n",
       "17972     1534  2371.711192  15.893917 2021-12-29     12  Альберт   25   \n",
       "\n",
       "            city subscription_type  minute_price  start_ride_price  \\\n",
       "0         Тюмень             ultra             6                 0   \n",
       "1         Тюмень             ultra             6                 0   \n",
       "2         Тюмень             ultra             6                 0   \n",
       "3         Тюмень             ultra             6                 0   \n",
       "4         Тюмень             ultra             6                 0   \n",
       "...          ...               ...           ...               ...   \n",
       "17968  Краснодар              free             8                50   \n",
       "17969  Краснодар              free             8                50   \n",
       "17970  Краснодар              free             8                50   \n",
       "17971  Краснодар              free             8                50   \n",
       "17972  Краснодар              free             8                50   \n",
       "\n",
       "       subscription_fee  \n",
       "0                   199  \n",
       "1                   199  \n",
       "2                   199  \n",
       "3                   199  \n",
       "4                   199  \n",
       "...                 ...  \n",
       "17968                 0  \n",
       "17969                 0  \n",
       "17970                 0  \n",
       "17971                 0  \n",
       "17972                 0  \n",
       "\n",
       "[17973 rows x 12 columns]"
      ]
     },
     "execution_count": 39,
     "metadata": {},
     "output_type": "execute_result"
    }
   ],
   "source": [
    "all_data = (rides_go.merge(users_go, on='user_id', how='left')\n",
    "                    .merge(subscriptions_go, on='subscription_type', how='left')\n",
    ")\n",
    "all_data"
   ]
  },
  {
   "cell_type": "code",
   "execution_count": 40,
   "id": "016743e9",
   "metadata": {},
   "outputs": [
    {
     "name": "stdout",
     "output_type": "stream",
     "text": [
      "<class 'pandas.core.frame.DataFrame'>\n",
      "Int64Index: 17973 entries, 0 to 17972\n",
      "Data columns (total 12 columns):\n",
      " #   Column             Non-Null Count  Dtype         \n",
      "---  ------             --------------  -----         \n",
      " 0   user_id            17973 non-null  int64         \n",
      " 1   distance           17973 non-null  float64       \n",
      " 2   duration           17973 non-null  float64       \n",
      " 3   date               17973 non-null  datetime64[ns]\n",
      " 4   month              17973 non-null  int64         \n",
      " 5   name               17973 non-null  object        \n",
      " 6   age                17973 non-null  int64         \n",
      " 7   city               17973 non-null  object        \n",
      " 8   subscription_type  17973 non-null  object        \n",
      " 9   minute_price       17973 non-null  int64         \n",
      " 10  start_ride_price   17973 non-null  int64         \n",
      " 11  subscription_fee   17973 non-null  int64         \n",
      "dtypes: datetime64[ns](1), float64(2), int64(6), object(3)\n",
      "memory usage: 1.8+ MB\n"
     ]
    }
   ],
   "source": [
    "all_data.info()"
   ]
  },
  {
   "cell_type": "markdown",
   "id": "020d8e4f",
   "metadata": {},
   "source": [
    "Датафреймы хорошо объединились, нулевых значений нет, значит в процессе объединения были найдены все данные по ключам были найдены в объединяемых датафреймах. Количество строк не поменялось, и не могло поменяться в данном случае, так как ключами были сделаны значения в левых датафреймах."
   ]
  },
  {
   "cell_type": "code",
   "execution_count": 41,
   "id": "30f7d28f",
   "metadata": {},
   "outputs": [
    {
     "data": {
      "text/html": [
       "<div>\n",
       "<style scoped>\n",
       "    .dataframe tbody tr th:only-of-type {\n",
       "        vertical-align: middle;\n",
       "    }\n",
       "\n",
       "    .dataframe tbody tr th {\n",
       "        vertical-align: top;\n",
       "    }\n",
       "\n",
       "    .dataframe thead th {\n",
       "        text-align: right;\n",
       "    }\n",
       "</style>\n",
       "<table border=\"1\" class=\"dataframe\">\n",
       "  <thead>\n",
       "    <tr style=\"text-align: right;\">\n",
       "      <th></th>\n",
       "      <th>user_id</th>\n",
       "      <th>distance</th>\n",
       "      <th>duration</th>\n",
       "      <th>date</th>\n",
       "      <th>month</th>\n",
       "      <th>name</th>\n",
       "      <th>age</th>\n",
       "      <th>city</th>\n",
       "      <th>subscription_type</th>\n",
       "      <th>minute_price</th>\n",
       "      <th>start_ride_price</th>\n",
       "      <th>subscription_fee</th>\n",
       "    </tr>\n",
       "  </thead>\n",
       "  <tbody>\n",
       "    <tr>\n",
       "      <th>0</th>\n",
       "      <td>1</td>\n",
       "      <td>4409.919140</td>\n",
       "      <td>25.599769</td>\n",
       "      <td>2021-01-01</td>\n",
       "      <td>1</td>\n",
       "      <td>Кира</td>\n",
       "      <td>22</td>\n",
       "      <td>Тюмень</td>\n",
       "      <td>ultra</td>\n",
       "      <td>6</td>\n",
       "      <td>0</td>\n",
       "      <td>199</td>\n",
       "    </tr>\n",
       "    <tr>\n",
       "      <th>1</th>\n",
       "      <td>1</td>\n",
       "      <td>2617.592153</td>\n",
       "      <td>15.816871</td>\n",
       "      <td>2021-01-18</td>\n",
       "      <td>1</td>\n",
       "      <td>Кира</td>\n",
       "      <td>22</td>\n",
       "      <td>Тюмень</td>\n",
       "      <td>ultra</td>\n",
       "      <td>6</td>\n",
       "      <td>0</td>\n",
       "      <td>199</td>\n",
       "    </tr>\n",
       "    <tr>\n",
       "      <th>2</th>\n",
       "      <td>1</td>\n",
       "      <td>754.159807</td>\n",
       "      <td>6.232113</td>\n",
       "      <td>2021-04-20</td>\n",
       "      <td>4</td>\n",
       "      <td>Кира</td>\n",
       "      <td>22</td>\n",
       "      <td>Тюмень</td>\n",
       "      <td>ultra</td>\n",
       "      <td>6</td>\n",
       "      <td>0</td>\n",
       "      <td>199</td>\n",
       "    </tr>\n",
       "    <tr>\n",
       "      <th>3</th>\n",
       "      <td>1</td>\n",
       "      <td>2694.783254</td>\n",
       "      <td>18.511000</td>\n",
       "      <td>2021-08-11</td>\n",
       "      <td>8</td>\n",
       "      <td>Кира</td>\n",
       "      <td>22</td>\n",
       "      <td>Тюмень</td>\n",
       "      <td>ultra</td>\n",
       "      <td>6</td>\n",
       "      <td>0</td>\n",
       "      <td>199</td>\n",
       "    </tr>\n",
       "    <tr>\n",
       "      <th>4</th>\n",
       "      <td>1</td>\n",
       "      <td>4028.687306</td>\n",
       "      <td>26.265803</td>\n",
       "      <td>2021-08-28</td>\n",
       "      <td>8</td>\n",
       "      <td>Кира</td>\n",
       "      <td>22</td>\n",
       "      <td>Тюмень</td>\n",
       "      <td>ultra</td>\n",
       "      <td>6</td>\n",
       "      <td>0</td>\n",
       "      <td>199</td>\n",
       "    </tr>\n",
       "    <tr>\n",
       "      <th>...</th>\n",
       "      <td>...</td>\n",
       "      <td>...</td>\n",
       "      <td>...</td>\n",
       "      <td>...</td>\n",
       "      <td>...</td>\n",
       "      <td>...</td>\n",
       "      <td>...</td>\n",
       "      <td>...</td>\n",
       "      <td>...</td>\n",
       "      <td>...</td>\n",
       "      <td>...</td>\n",
       "      <td>...</td>\n",
       "    </tr>\n",
       "    <tr>\n",
       "      <th>6495</th>\n",
       "      <td>699</td>\n",
       "      <td>3973.046497</td>\n",
       "      <td>24.671163</td>\n",
       "      <td>2021-08-29</td>\n",
       "      <td>8</td>\n",
       "      <td>Оксана</td>\n",
       "      <td>22</td>\n",
       "      <td>Москва</td>\n",
       "      <td>ultra</td>\n",
       "      <td>6</td>\n",
       "      <td>0</td>\n",
       "      <td>199</td>\n",
       "    </tr>\n",
       "    <tr>\n",
       "      <th>6496</th>\n",
       "      <td>699</td>\n",
       "      <td>3288.702563</td>\n",
       "      <td>15.892886</td>\n",
       "      <td>2021-09-12</td>\n",
       "      <td>9</td>\n",
       "      <td>Оксана</td>\n",
       "      <td>22</td>\n",
       "      <td>Москва</td>\n",
       "      <td>ultra</td>\n",
       "      <td>6</td>\n",
       "      <td>0</td>\n",
       "      <td>199</td>\n",
       "    </tr>\n",
       "    <tr>\n",
       "      <th>6497</th>\n",
       "      <td>699</td>\n",
       "      <td>3076.159348</td>\n",
       "      <td>14.389525</td>\n",
       "      <td>2021-09-26</td>\n",
       "      <td>9</td>\n",
       "      <td>Оксана</td>\n",
       "      <td>22</td>\n",
       "      <td>Москва</td>\n",
       "      <td>ultra</td>\n",
       "      <td>6</td>\n",
       "      <td>0</td>\n",
       "      <td>199</td>\n",
       "    </tr>\n",
       "    <tr>\n",
       "      <th>6498</th>\n",
       "      <td>699</td>\n",
       "      <td>4707.845501</td>\n",
       "      <td>15.839579</td>\n",
       "      <td>2021-10-17</td>\n",
       "      <td>10</td>\n",
       "      <td>Оксана</td>\n",
       "      <td>22</td>\n",
       "      <td>Москва</td>\n",
       "      <td>ultra</td>\n",
       "      <td>6</td>\n",
       "      <td>0</td>\n",
       "      <td>199</td>\n",
       "    </tr>\n",
       "    <tr>\n",
       "      <th>6499</th>\n",
       "      <td>699</td>\n",
       "      <td>3202.890770</td>\n",
       "      <td>25.217345</td>\n",
       "      <td>2021-12-03</td>\n",
       "      <td>12</td>\n",
       "      <td>Оксана</td>\n",
       "      <td>22</td>\n",
       "      <td>Москва</td>\n",
       "      <td>ultra</td>\n",
       "      <td>6</td>\n",
       "      <td>0</td>\n",
       "      <td>199</td>\n",
       "    </tr>\n",
       "  </tbody>\n",
       "</table>\n",
       "<p>6500 rows × 12 columns</p>\n",
       "</div>"
      ],
      "text/plain": [
       "      user_id     distance   duration       date  month    name  age    city  \\\n",
       "0           1  4409.919140  25.599769 2021-01-01      1    Кира   22  Тюмень   \n",
       "1           1  2617.592153  15.816871 2021-01-18      1    Кира   22  Тюмень   \n",
       "2           1   754.159807   6.232113 2021-04-20      4    Кира   22  Тюмень   \n",
       "3           1  2694.783254  18.511000 2021-08-11      8    Кира   22  Тюмень   \n",
       "4           1  4028.687306  26.265803 2021-08-28      8    Кира   22  Тюмень   \n",
       "...       ...          ...        ...        ...    ...     ...  ...     ...   \n",
       "6495      699  3973.046497  24.671163 2021-08-29      8  Оксана   22  Москва   \n",
       "6496      699  3288.702563  15.892886 2021-09-12      9  Оксана   22  Москва   \n",
       "6497      699  3076.159348  14.389525 2021-09-26      9  Оксана   22  Москва   \n",
       "6498      699  4707.845501  15.839579 2021-10-17     10  Оксана   22  Москва   \n",
       "6499      699  3202.890770  25.217345 2021-12-03     12  Оксана   22  Москва   \n",
       "\n",
       "     subscription_type  minute_price  start_ride_price  subscription_fee  \n",
       "0                ultra             6                 0               199  \n",
       "1                ultra             6                 0               199  \n",
       "2                ultra             6                 0               199  \n",
       "3                ultra             6                 0               199  \n",
       "4                ultra             6                 0               199  \n",
       "...                ...           ...               ...               ...  \n",
       "6495             ultra             6                 0               199  \n",
       "6496             ultra             6                 0               199  \n",
       "6497             ultra             6                 0               199  \n",
       "6498             ultra             6                 0               199  \n",
       "6499             ultra             6                 0               199  \n",
       "\n",
       "[6500 rows x 12 columns]"
      ]
     },
     "execution_count": 41,
     "metadata": {},
     "output_type": "execute_result"
    }
   ],
   "source": [
    "data_subscribed = all_data.query('subscription_type == \"ultra\"')\n",
    "data_subscribed"
   ]
  },
  {
   "cell_type": "code",
   "execution_count": 42,
   "id": "e0e48ee3",
   "metadata": {},
   "outputs": [
    {
     "data": {
      "text/html": [
       "<div>\n",
       "<style scoped>\n",
       "    .dataframe tbody tr th:only-of-type {\n",
       "        vertical-align: middle;\n",
       "    }\n",
       "\n",
       "    .dataframe tbody tr th {\n",
       "        vertical-align: top;\n",
       "    }\n",
       "\n",
       "    .dataframe thead th {\n",
       "        text-align: right;\n",
       "    }\n",
       "</style>\n",
       "<table border=\"1\" class=\"dataframe\">\n",
       "  <thead>\n",
       "    <tr style=\"text-align: right;\">\n",
       "      <th></th>\n",
       "      <th>user_id</th>\n",
       "      <th>distance</th>\n",
       "      <th>duration</th>\n",
       "      <th>date</th>\n",
       "      <th>month</th>\n",
       "      <th>name</th>\n",
       "      <th>age</th>\n",
       "      <th>city</th>\n",
       "      <th>subscription_type</th>\n",
       "      <th>minute_price</th>\n",
       "      <th>start_ride_price</th>\n",
       "      <th>subscription_fee</th>\n",
       "    </tr>\n",
       "  </thead>\n",
       "  <tbody>\n",
       "    <tr>\n",
       "      <th>6500</th>\n",
       "      <td>700</td>\n",
       "      <td>2515.690719</td>\n",
       "      <td>14.944286</td>\n",
       "      <td>2021-01-02</td>\n",
       "      <td>1</td>\n",
       "      <td>Айдар</td>\n",
       "      <td>22</td>\n",
       "      <td>Омск</td>\n",
       "      <td>free</td>\n",
       "      <td>8</td>\n",
       "      <td>50</td>\n",
       "      <td>0</td>\n",
       "    </tr>\n",
       "    <tr>\n",
       "      <th>6501</th>\n",
       "      <td>700</td>\n",
       "      <td>846.932642</td>\n",
       "      <td>16.234663</td>\n",
       "      <td>2021-02-01</td>\n",
       "      <td>2</td>\n",
       "      <td>Айдар</td>\n",
       "      <td>22</td>\n",
       "      <td>Омск</td>\n",
       "      <td>free</td>\n",
       "      <td>8</td>\n",
       "      <td>50</td>\n",
       "      <td>0</td>\n",
       "    </tr>\n",
       "    <tr>\n",
       "      <th>6502</th>\n",
       "      <td>700</td>\n",
       "      <td>4004.434142</td>\n",
       "      <td>20.016628</td>\n",
       "      <td>2021-02-04</td>\n",
       "      <td>2</td>\n",
       "      <td>Айдар</td>\n",
       "      <td>22</td>\n",
       "      <td>Омск</td>\n",
       "      <td>free</td>\n",
       "      <td>8</td>\n",
       "      <td>50</td>\n",
       "      <td>0</td>\n",
       "    </tr>\n",
       "    <tr>\n",
       "      <th>6503</th>\n",
       "      <td>700</td>\n",
       "      <td>1205.911290</td>\n",
       "      <td>9.782872</td>\n",
       "      <td>2021-02-10</td>\n",
       "      <td>2</td>\n",
       "      <td>Айдар</td>\n",
       "      <td>22</td>\n",
       "      <td>Омск</td>\n",
       "      <td>free</td>\n",
       "      <td>8</td>\n",
       "      <td>50</td>\n",
       "      <td>0</td>\n",
       "    </tr>\n",
       "    <tr>\n",
       "      <th>6504</th>\n",
       "      <td>700</td>\n",
       "      <td>3047.379435</td>\n",
       "      <td>17.427673</td>\n",
       "      <td>2021-02-14</td>\n",
       "      <td>2</td>\n",
       "      <td>Айдар</td>\n",
       "      <td>22</td>\n",
       "      <td>Омск</td>\n",
       "      <td>free</td>\n",
       "      <td>8</td>\n",
       "      <td>50</td>\n",
       "      <td>0</td>\n",
       "    </tr>\n",
       "    <tr>\n",
       "      <th>...</th>\n",
       "      <td>...</td>\n",
       "      <td>...</td>\n",
       "      <td>...</td>\n",
       "      <td>...</td>\n",
       "      <td>...</td>\n",
       "      <td>...</td>\n",
       "      <td>...</td>\n",
       "      <td>...</td>\n",
       "      <td>...</td>\n",
       "      <td>...</td>\n",
       "      <td>...</td>\n",
       "      <td>...</td>\n",
       "    </tr>\n",
       "    <tr>\n",
       "      <th>17968</th>\n",
       "      <td>1534</td>\n",
       "      <td>3781.098080</td>\n",
       "      <td>19.822962</td>\n",
       "      <td>2021-11-04</td>\n",
       "      <td>11</td>\n",
       "      <td>Альберт</td>\n",
       "      <td>25</td>\n",
       "      <td>Краснодар</td>\n",
       "      <td>free</td>\n",
       "      <td>8</td>\n",
       "      <td>50</td>\n",
       "      <td>0</td>\n",
       "    </tr>\n",
       "    <tr>\n",
       "      <th>17969</th>\n",
       "      <td>1534</td>\n",
       "      <td>2840.423057</td>\n",
       "      <td>21.409799</td>\n",
       "      <td>2021-11-16</td>\n",
       "      <td>11</td>\n",
       "      <td>Альберт</td>\n",
       "      <td>25</td>\n",
       "      <td>Краснодар</td>\n",
       "      <td>free</td>\n",
       "      <td>8</td>\n",
       "      <td>50</td>\n",
       "      <td>0</td>\n",
       "    </tr>\n",
       "    <tr>\n",
       "      <th>17970</th>\n",
       "      <td>1534</td>\n",
       "      <td>3826.185507</td>\n",
       "      <td>18.435051</td>\n",
       "      <td>2021-11-18</td>\n",
       "      <td>11</td>\n",
       "      <td>Альберт</td>\n",
       "      <td>25</td>\n",
       "      <td>Краснодар</td>\n",
       "      <td>free</td>\n",
       "      <td>8</td>\n",
       "      <td>50</td>\n",
       "      <td>0</td>\n",
       "    </tr>\n",
       "    <tr>\n",
       "      <th>17971</th>\n",
       "      <td>1534</td>\n",
       "      <td>2902.308661</td>\n",
       "      <td>16.674362</td>\n",
       "      <td>2021-11-27</td>\n",
       "      <td>11</td>\n",
       "      <td>Альберт</td>\n",
       "      <td>25</td>\n",
       "      <td>Краснодар</td>\n",
       "      <td>free</td>\n",
       "      <td>8</td>\n",
       "      <td>50</td>\n",
       "      <td>0</td>\n",
       "    </tr>\n",
       "    <tr>\n",
       "      <th>17972</th>\n",
       "      <td>1534</td>\n",
       "      <td>2371.711192</td>\n",
       "      <td>15.893917</td>\n",
       "      <td>2021-12-29</td>\n",
       "      <td>12</td>\n",
       "      <td>Альберт</td>\n",
       "      <td>25</td>\n",
       "      <td>Краснодар</td>\n",
       "      <td>free</td>\n",
       "      <td>8</td>\n",
       "      <td>50</td>\n",
       "      <td>0</td>\n",
       "    </tr>\n",
       "  </tbody>\n",
       "</table>\n",
       "<p>11473 rows × 12 columns</p>\n",
       "</div>"
      ],
      "text/plain": [
       "       user_id     distance   duration       date  month     name  age  \\\n",
       "6500       700  2515.690719  14.944286 2021-01-02      1    Айдар   22   \n",
       "6501       700   846.932642  16.234663 2021-02-01      2    Айдар   22   \n",
       "6502       700  4004.434142  20.016628 2021-02-04      2    Айдар   22   \n",
       "6503       700  1205.911290   9.782872 2021-02-10      2    Айдар   22   \n",
       "6504       700  3047.379435  17.427673 2021-02-14      2    Айдар   22   \n",
       "...        ...          ...        ...        ...    ...      ...  ...   \n",
       "17968     1534  3781.098080  19.822962 2021-11-04     11  Альберт   25   \n",
       "17969     1534  2840.423057  21.409799 2021-11-16     11  Альберт   25   \n",
       "17970     1534  3826.185507  18.435051 2021-11-18     11  Альберт   25   \n",
       "17971     1534  2902.308661  16.674362 2021-11-27     11  Альберт   25   \n",
       "17972     1534  2371.711192  15.893917 2021-12-29     12  Альберт   25   \n",
       "\n",
       "            city subscription_type  minute_price  start_ride_price  \\\n",
       "6500        Омск              free             8                50   \n",
       "6501        Омск              free             8                50   \n",
       "6502        Омск              free             8                50   \n",
       "6503        Омск              free             8                50   \n",
       "6504        Омск              free             8                50   \n",
       "...          ...               ...           ...               ...   \n",
       "17968  Краснодар              free             8                50   \n",
       "17969  Краснодар              free             8                50   \n",
       "17970  Краснодар              free             8                50   \n",
       "17971  Краснодар              free             8                50   \n",
       "17972  Краснодар              free             8                50   \n",
       "\n",
       "       subscription_fee  \n",
       "6500                  0  \n",
       "6501                  0  \n",
       "6502                  0  \n",
       "6503                  0  \n",
       "6504                  0  \n",
       "...                 ...  \n",
       "17968                 0  \n",
       "17969                 0  \n",
       "17970                 0  \n",
       "17971                 0  \n",
       "17972                 0  \n",
       "\n",
       "[11473 rows x 12 columns]"
      ]
     },
     "execution_count": 42,
     "metadata": {},
     "output_type": "execute_result"
    }
   ],
   "source": [
    "data_not_subscribed = all_data.query('subscription_type != \"ultra\"')\n",
    "data_not_subscribed"
   ]
  },
  {
   "cell_type": "code",
   "execution_count": 43,
   "id": "7e2ae9c0",
   "metadata": {
    "scrolled": false
   },
   "outputs": [
    {
     "name": "stdout",
     "output_type": "stream",
     "text": [
      "count    6500.000000\n",
      "mean     3115.445388\n",
      "std       836.895330\n",
      "min       244.210438\n",
      "25%      2785.444017\n",
      "50%      3148.637229\n",
      "75%      3560.574425\n",
      "max      5699.769662\n",
      "Name: distance, dtype: float64\n"
     ]
    },
    {
     "data": {
      "text/plain": [
       "Text(0, 0.5, 'Число пользователей')"
      ]
     },
     "execution_count": 43,
     "metadata": {},
     "output_type": "execute_result"
    },
    {
     "data": {
      "image/png": "[encoded data removed]",
      "text/plain": [
       "<Figure size 1000x500 with 1 Axes>"
      ]
     },
     "metadata": {},
     "output_type": "display_data"
    }
   ],
   "source": [
    "print(data_subscribed['distance'].describe())\n",
    "data_subscribed['distance'].hist(bins=50, figsize=(10,5)).minorticks_on()\n",
    "plt.title(\"Расстояние за поездку для пользователей с подпиской\")\n",
    "plt.xlabel('расстояние', fontsize=14)\n",
    "plt.ylabel('Число пользователей', fontsize=14)"
   ]
  },
  {
   "cell_type": "code",
   "execution_count": 44,
   "id": "69967490",
   "metadata": {
    "scrolled": false
   },
   "outputs": [
    {
     "name": "stdout",
     "output_type": "stream",
     "text": [
      "count    6500.000000\n",
      "mean       18.541985\n",
      "std         5.572048\n",
      "min         3.760353\n",
      "25%        14.524654\n",
      "50%        18.178153\n",
      "75%        21.884129\n",
      "max        40.823963\n",
      "Name: duration, dtype: float64\n"
     ]
    },
    {
     "data": {
      "text/plain": [
       "Text(0, 0.5, 'Число пользователей')"
      ]
     },
     "execution_count": 44,
     "metadata": {},
     "output_type": "execute_result"
    },
    {
     "data": {
      "image/png": "[encoded data removed]",
      "text/plain": [
       "<Figure size 1000x500 with 1 Axes>"
      ]
     },
     "metadata": {},
     "output_type": "display_data"
    }
   ],
   "source": [
    "print(data_subscribed['duration'].describe())\n",
    "data_subscribed['duration'].hist(bins=50, figsize=(10,5)).minorticks_on()\n",
    "plt.title(\"Число пользователей в зависимости от времени поездки для пользователей с подпиской\")\n",
    "plt.xlabel('Время поездки', fontsize=14)\n",
    "plt.ylabel('Число пользователей', fontsize=14)"
   ]
  },
  {
   "cell_type": "code",
   "execution_count": 45,
   "id": "4b8df409",
   "metadata": {
    "scrolled": false
   },
   "outputs": [
    {
     "name": "stdout",
     "output_type": "stream",
     "text": [
      "count    11473.000000\n",
      "mean      3028.374239\n",
      "std       1235.541051\n",
      "min          0.855683\n",
      "25%       2360.878149\n",
      "50%       3102.083025\n",
      "75%       3883.979311\n",
      "max       7066.003772\n",
      "Name: distance, dtype: float64\n"
     ]
    },
    {
     "data": {
      "text/plain": [
       "Text(0, 0.5, 'Число пользователей')"
      ]
     },
     "execution_count": 45,
     "metadata": {},
     "output_type": "execute_result"
    },
    {
     "data": {
      "image/png": "[encoded data removed]",
      "text/plain": [
       "<Figure size 1000x500 with 1 Axes>"
      ]
     },
     "metadata": {},
     "output_type": "display_data"
    }
   ],
   "source": [
    "print(data_not_subscribed['distance'].describe())\n",
    "data_not_subscribed['distance'].hist(bins=50, figsize=(10,5)).minorticks_on()\n",
    "plt.title(\"Расстояние за поездку для пользователей без подписки\")\n",
    "plt.xlabel('расстояние', fontsize=14)\n",
    "plt.ylabel('Число пользователей', fontsize=14)"
   ]
  },
  {
   "cell_type": "code",
   "execution_count": 46,
   "id": "fba64541",
   "metadata": {
    "scrolled": false
   },
   "outputs": [
    {
     "name": "stdout",
     "output_type": "stream",
     "text": [
      "count    11473.000000\n",
      "mean        17.530771\n",
      "std          6.162609\n",
      "min          2.035632\n",
      "25%         13.085688\n",
      "50%         17.383807\n",
      "75%         21.638038\n",
      "max         34.948498\n",
      "Name: duration, dtype: float64\n"
     ]
    },
    {
     "data": {
      "text/plain": [
       "Text(0, 0.5, 'Число пользователей')"
      ]
     },
     "execution_count": 46,
     "metadata": {},
     "output_type": "execute_result"
    },
    {
     "data": {
      "image/png": "[encoded data removed]",
      "text/plain": [
       "<Figure size 1000x500 with 1 Axes>"
      ]
     },
     "metadata": {},
     "output_type": "display_data"
    }
   ],
   "source": [
    "print(data_not_subscribed['duration'].describe())\n",
    "data_not_subscribed['duration'].hist(bins=50, figsize=(10,5)).minorticks_on()\n",
    "plt.title(\"Число пользователей в зависимости от времени поездки для пользователей без подписки\")\n",
    "plt.xlabel('Время поездки', fontsize=14)\n",
    "plt.ylabel('Число пользователей', fontsize=14)"
   ]
  },
  {
   "cell_type": "markdown",
   "id": "21f798b9",
   "metadata": {},
   "source": [
    "На данном этапе были объединены все данные в один датайрейм, а похже разделены на 2: пользователи с подпиской и без. Есть информация о 6500 поездках пользователей с подпиской и 11473 поездках пользователей без подписки. У пользователей с подпиской есть два пика на графике - около 1 км (чуть меньше 100 поездок) и около 3.2 км (около 500 поездок). Время поездки у них имеет только 1 пик в районе 15-20 минут. У пользователей без подписки ситуация очень похожа, но первый пик в районе 600-800м (примерно 200 поездок) и второй в районе также 3 км (примерно 500-600 поездок) хотя и имеет две вершины при дистанции 2500 м и 3500 м. Время поездки у них имеет также 1 пик в районе 15-20 минут."
   ]
  },
  {
   "cell_type": "markdown",
   "id": "402d620f",
   "metadata": {},
   "source": [
    "#### Шаг 5. Подсчёт выручки"
   ]
  },
  {
   "cell_type": "code",
   "execution_count": 47,
   "id": "2febec6b",
   "metadata": {},
   "outputs": [
    {
     "name": "stdout",
     "output_type": "stream",
     "text": [
      "<class 'pandas.core.frame.DataFrame'>\n",
      "Int64Index: 17973 entries, 0 to 17972\n",
      "Data columns (total 12 columns):\n",
      " #   Column             Non-Null Count  Dtype         \n",
      "---  ------             --------------  -----         \n",
      " 0   user_id            17973 non-null  int64         \n",
      " 1   distance           17973 non-null  float64       \n",
      " 2   duration           17973 non-null  float64       \n",
      " 3   date               17973 non-null  datetime64[ns]\n",
      " 4   month              17973 non-null  int64         \n",
      " 5   name               17973 non-null  object        \n",
      " 6   age                17973 non-null  int64         \n",
      " 7   city               17973 non-null  object        \n",
      " 8   subscription_type  17973 non-null  object        \n",
      " 9   minute_price       17973 non-null  int64         \n",
      " 10  start_ride_price   17973 non-null  int64         \n",
      " 11  subscription_fee   17973 non-null  int64         \n",
      "dtypes: datetime64[ns](1), float64(2), int64(6), object(3)\n",
      "memory usage: 1.8+ MB\n"
     ]
    }
   ],
   "source": [
    "all_data.info()"
   ]
  },
  {
   "cell_type": "markdown",
   "id": "a857f5e4",
   "metadata": {},
   "source": [
    "Нулевых значений в датафрейме нет, можем приступать к расчетам"
   ]
  },
  {
   "cell_type": "code",
   "execution_count": 48,
   "id": "53049e0a",
   "metadata": {},
   "outputs": [
    {
     "data": {
      "text/html": [
       "<div>\n",
       "<style scoped>\n",
       "    .dataframe tbody tr th:only-of-type {\n",
       "        vertical-align: middle;\n",
       "    }\n",
       "\n",
       "    .dataframe tbody tr th {\n",
       "        vertical-align: top;\n",
       "    }\n",
       "\n",
       "    .dataframe thead th {\n",
       "        text-align: right;\n",
       "    }\n",
       "</style>\n",
       "<table border=\"1\" class=\"dataframe\">\n",
       "  <thead>\n",
       "    <tr style=\"text-align: right;\">\n",
       "      <th></th>\n",
       "      <th>user_id</th>\n",
       "      <th>distance</th>\n",
       "      <th>duration</th>\n",
       "      <th>date</th>\n",
       "      <th>month</th>\n",
       "      <th>name</th>\n",
       "      <th>age</th>\n",
       "      <th>city</th>\n",
       "      <th>subscription_type</th>\n",
       "      <th>minute_price</th>\n",
       "      <th>start_ride_price</th>\n",
       "      <th>subscription_fee</th>\n",
       "    </tr>\n",
       "  </thead>\n",
       "  <tbody>\n",
       "    <tr>\n",
       "      <th>0</th>\n",
       "      <td>1</td>\n",
       "      <td>4409.919140</td>\n",
       "      <td>26</td>\n",
       "      <td>2021-01-01</td>\n",
       "      <td>1</td>\n",
       "      <td>Кира</td>\n",
       "      <td>22</td>\n",
       "      <td>Тюмень</td>\n",
       "      <td>ultra</td>\n",
       "      <td>6</td>\n",
       "      <td>0</td>\n",
       "      <td>199</td>\n",
       "    </tr>\n",
       "    <tr>\n",
       "      <th>1</th>\n",
       "      <td>1</td>\n",
       "      <td>2617.592153</td>\n",
       "      <td>16</td>\n",
       "      <td>2021-01-18</td>\n",
       "      <td>1</td>\n",
       "      <td>Кира</td>\n",
       "      <td>22</td>\n",
       "      <td>Тюмень</td>\n",
       "      <td>ultra</td>\n",
       "      <td>6</td>\n",
       "      <td>0</td>\n",
       "      <td>199</td>\n",
       "    </tr>\n",
       "    <tr>\n",
       "      <th>2</th>\n",
       "      <td>1</td>\n",
       "      <td>754.159807</td>\n",
       "      <td>7</td>\n",
       "      <td>2021-04-20</td>\n",
       "      <td>4</td>\n",
       "      <td>Кира</td>\n",
       "      <td>22</td>\n",
       "      <td>Тюмень</td>\n",
       "      <td>ultra</td>\n",
       "      <td>6</td>\n",
       "      <td>0</td>\n",
       "      <td>199</td>\n",
       "    </tr>\n",
       "    <tr>\n",
       "      <th>3</th>\n",
       "      <td>1</td>\n",
       "      <td>2694.783254</td>\n",
       "      <td>19</td>\n",
       "      <td>2021-08-11</td>\n",
       "      <td>8</td>\n",
       "      <td>Кира</td>\n",
       "      <td>22</td>\n",
       "      <td>Тюмень</td>\n",
       "      <td>ultra</td>\n",
       "      <td>6</td>\n",
       "      <td>0</td>\n",
       "      <td>199</td>\n",
       "    </tr>\n",
       "    <tr>\n",
       "      <th>4</th>\n",
       "      <td>1</td>\n",
       "      <td>4028.687306</td>\n",
       "      <td>27</td>\n",
       "      <td>2021-08-28</td>\n",
       "      <td>8</td>\n",
       "      <td>Кира</td>\n",
       "      <td>22</td>\n",
       "      <td>Тюмень</td>\n",
       "      <td>ultra</td>\n",
       "      <td>6</td>\n",
       "      <td>0</td>\n",
       "      <td>199</td>\n",
       "    </tr>\n",
       "    <tr>\n",
       "      <th>...</th>\n",
       "      <td>...</td>\n",
       "      <td>...</td>\n",
       "      <td>...</td>\n",
       "      <td>...</td>\n",
       "      <td>...</td>\n",
       "      <td>...</td>\n",
       "      <td>...</td>\n",
       "      <td>...</td>\n",
       "      <td>...</td>\n",
       "      <td>...</td>\n",
       "      <td>...</td>\n",
       "      <td>...</td>\n",
       "    </tr>\n",
       "    <tr>\n",
       "      <th>17968</th>\n",
       "      <td>1534</td>\n",
       "      <td>3781.098080</td>\n",
       "      <td>20</td>\n",
       "      <td>2021-11-04</td>\n",
       "      <td>11</td>\n",
       "      <td>Альберт</td>\n",
       "      <td>25</td>\n",
       "      <td>Краснодар</td>\n",
       "      <td>free</td>\n",
       "      <td>8</td>\n",
       "      <td>50</td>\n",
       "      <td>0</td>\n",
       "    </tr>\n",
       "    <tr>\n",
       "      <th>17969</th>\n",
       "      <td>1534</td>\n",
       "      <td>2840.423057</td>\n",
       "      <td>22</td>\n",
       "      <td>2021-11-16</td>\n",
       "      <td>11</td>\n",
       "      <td>Альберт</td>\n",
       "      <td>25</td>\n",
       "      <td>Краснодар</td>\n",
       "      <td>free</td>\n",
       "      <td>8</td>\n",
       "      <td>50</td>\n",
       "      <td>0</td>\n",
       "    </tr>\n",
       "    <tr>\n",
       "      <th>17970</th>\n",
       "      <td>1534</td>\n",
       "      <td>3826.185507</td>\n",
       "      <td>19</td>\n",
       "      <td>2021-11-18</td>\n",
       "      <td>11</td>\n",
       "      <td>Альберт</td>\n",
       "      <td>25</td>\n",
       "      <td>Краснодар</td>\n",
       "      <td>free</td>\n",
       "      <td>8</td>\n",
       "      <td>50</td>\n",
       "      <td>0</td>\n",
       "    </tr>\n",
       "    <tr>\n",
       "      <th>17971</th>\n",
       "      <td>1534</td>\n",
       "      <td>2902.308661</td>\n",
       "      <td>17</td>\n",
       "      <td>2021-11-27</td>\n",
       "      <td>11</td>\n",
       "      <td>Альберт</td>\n",
       "      <td>25</td>\n",
       "      <td>Краснодар</td>\n",
       "      <td>free</td>\n",
       "      <td>8</td>\n",
       "      <td>50</td>\n",
       "      <td>0</td>\n",
       "    </tr>\n",
       "    <tr>\n",
       "      <th>17972</th>\n",
       "      <td>1534</td>\n",
       "      <td>2371.711192</td>\n",
       "      <td>16</td>\n",
       "      <td>2021-12-29</td>\n",
       "      <td>12</td>\n",
       "      <td>Альберт</td>\n",
       "      <td>25</td>\n",
       "      <td>Краснодар</td>\n",
       "      <td>free</td>\n",
       "      <td>8</td>\n",
       "      <td>50</td>\n",
       "      <td>0</td>\n",
       "    </tr>\n",
       "  </tbody>\n",
       "</table>\n",
       "<p>17973 rows × 12 columns</p>\n",
       "</div>"
      ],
      "text/plain": [
       "       user_id     distance  duration       date  month     name  age  \\\n",
       "0            1  4409.919140        26 2021-01-01      1     Кира   22   \n",
       "1            1  2617.592153        16 2021-01-18      1     Кира   22   \n",
       "2            1   754.159807         7 2021-04-20      4     Кира   22   \n",
       "3            1  2694.783254        19 2021-08-11      8     Кира   22   \n",
       "4            1  4028.687306        27 2021-08-28      8     Кира   22   \n",
       "...        ...          ...       ...        ...    ...      ...  ...   \n",
       "17968     1534  3781.098080        20 2021-11-04     11  Альберт   25   \n",
       "17969     1534  2840.423057        22 2021-11-16     11  Альберт   25   \n",
       "17970     1534  3826.185507        19 2021-11-18     11  Альберт   25   \n",
       "17971     1534  2902.308661        17 2021-11-27     11  Альберт   25   \n",
       "17972     1534  2371.711192        16 2021-12-29     12  Альберт   25   \n",
       "\n",
       "            city subscription_type  minute_price  start_ride_price  \\\n",
       "0         Тюмень             ultra             6                 0   \n",
       "1         Тюмень             ultra             6                 0   \n",
       "2         Тюмень             ultra             6                 0   \n",
       "3         Тюмень             ultra             6                 0   \n",
       "4         Тюмень             ultra             6                 0   \n",
       "...          ...               ...           ...               ...   \n",
       "17968  Краснодар              free             8                50   \n",
       "17969  Краснодар              free             8                50   \n",
       "17970  Краснодар              free             8                50   \n",
       "17971  Краснодар              free             8                50   \n",
       "17972  Краснодар              free             8                50   \n",
       "\n",
       "       subscription_fee  \n",
       "0                   199  \n",
       "1                   199  \n",
       "2                   199  \n",
       "3                   199  \n",
       "4                   199  \n",
       "...                 ...  \n",
       "17968                 0  \n",
       "17969                 0  \n",
       "17970                 0  \n",
       "17971                 0  \n",
       "17972                 0  \n",
       "\n",
       "[17973 rows x 12 columns]"
      ]
     },
     "execution_count": 48,
     "metadata": {},
     "output_type": "execute_result"
    }
   ],
   "source": [
    "all_data['duration'] = np.ceil(all_data['duration']).astype('int32')\n",
    "data_subscribed['duration'] = np.ceil(data_subscribed['duration']).astype('int32')\n",
    "data_not_subscribed['duration'] = np.ceil(data_not_subscribed['duration']).astype('int32')\n",
    "all_data"
   ]
  },
  {
   "cell_type": "code",
   "execution_count": 49,
   "id": "1df60080",
   "metadata": {},
   "outputs": [
    {
     "name": "stdout",
     "output_type": "stream",
     "text": [
      "<class 'pandas.core.frame.DataFrame'>\n",
      "RangeIndex: 11300 entries, 0 to 11299\n",
      "Data columns (total 5 columns):\n",
      " #   Column    Non-Null Count  Dtype  \n",
      "---  ------    --------------  -----  \n",
      " 0   month     11300 non-null  int64  \n",
      " 1   user_id   11300 non-null  int64  \n",
      " 2   distance  11300 non-null  float64\n",
      " 3   duration  11300 non-null  int32  \n",
      " 4   quantity  11300 non-null  int64  \n",
      "dtypes: float64(1), int32(1), int64(3)\n",
      "memory usage: 397.4 KB\n",
      "None\n"
     ]
    },
    {
     "data": {
      "text/html": [
       "<div>\n",
       "<style scoped>\n",
       "    .dataframe tbody tr th:only-of-type {\n",
       "        vertical-align: middle;\n",
       "    }\n",
       "\n",
       "    .dataframe tbody tr th {\n",
       "        vertical-align: top;\n",
       "    }\n",
       "\n",
       "    .dataframe thead th {\n",
       "        text-align: right;\n",
       "    }\n",
       "</style>\n",
       "<table border=\"1\" class=\"dataframe\">\n",
       "  <thead>\n",
       "    <tr style=\"text-align: right;\">\n",
       "      <th></th>\n",
       "      <th>month</th>\n",
       "      <th>user_id</th>\n",
       "      <th>distance</th>\n",
       "      <th>duration</th>\n",
       "      <th>quantity</th>\n",
       "    </tr>\n",
       "  </thead>\n",
       "  <tbody>\n",
       "    <tr>\n",
       "      <th>0</th>\n",
       "      <td>1</td>\n",
       "      <td>1</td>\n",
       "      <td>7027.511294</td>\n",
       "      <td>42</td>\n",
       "      <td>2</td>\n",
       "    </tr>\n",
       "    <tr>\n",
       "      <th>1</th>\n",
       "      <td>1</td>\n",
       "      <td>3</td>\n",
       "      <td>3061.777147</td>\n",
       "      <td>13</td>\n",
       "      <td>1</td>\n",
       "    </tr>\n",
       "    <tr>\n",
       "      <th>2</th>\n",
       "      <td>1</td>\n",
       "      <td>5</td>\n",
       "      <td>3914.646990</td>\n",
       "      <td>13</td>\n",
       "      <td>1</td>\n",
       "    </tr>\n",
       "    <tr>\n",
       "      <th>3</th>\n",
       "      <td>1</td>\n",
       "      <td>7</td>\n",
       "      <td>6478.080979</td>\n",
       "      <td>28</td>\n",
       "      <td>2</td>\n",
       "    </tr>\n",
       "    <tr>\n",
       "      <th>4</th>\n",
       "      <td>1</td>\n",
       "      <td>12</td>\n",
       "      <td>3577.151148</td>\n",
       "      <td>33</td>\n",
       "      <td>1</td>\n",
       "    </tr>\n",
       "    <tr>\n",
       "      <th>...</th>\n",
       "      <td>...</td>\n",
       "      <td>...</td>\n",
       "      <td>...</td>\n",
       "      <td>...</td>\n",
       "      <td>...</td>\n",
       "    </tr>\n",
       "    <tr>\n",
       "      <th>11295</th>\n",
       "      <td>12</td>\n",
       "      <td>1525</td>\n",
       "      <td>4597.854350</td>\n",
       "      <td>34</td>\n",
       "      <td>1</td>\n",
       "    </tr>\n",
       "    <tr>\n",
       "      <th>11296</th>\n",
       "      <td>12</td>\n",
       "      <td>1526</td>\n",
       "      <td>3644.121544</td>\n",
       "      <td>23</td>\n",
       "      <td>1</td>\n",
       "    </tr>\n",
       "    <tr>\n",
       "      <th>11297</th>\n",
       "      <td>12</td>\n",
       "      <td>1528</td>\n",
       "      <td>3998.569324</td>\n",
       "      <td>11</td>\n",
       "      <td>1</td>\n",
       "    </tr>\n",
       "    <tr>\n",
       "      <th>11298</th>\n",
       "      <td>12</td>\n",
       "      <td>1532</td>\n",
       "      <td>6111.889853</td>\n",
       "      <td>42</td>\n",
       "      <td>2</td>\n",
       "    </tr>\n",
       "    <tr>\n",
       "      <th>11299</th>\n",
       "      <td>12</td>\n",
       "      <td>1534</td>\n",
       "      <td>2371.711192</td>\n",
       "      <td>16</td>\n",
       "      <td>1</td>\n",
       "    </tr>\n",
       "  </tbody>\n",
       "</table>\n",
       "<p>11300 rows × 5 columns</p>\n",
       "</div>"
      ],
      "text/plain": [
       "       month  user_id     distance  duration  quantity\n",
       "0          1        1  7027.511294        42         2\n",
       "1          1        3  3061.777147        13         1\n",
       "2          1        5  3914.646990        13         1\n",
       "3          1        7  6478.080979        28         2\n",
       "4          1       12  3577.151148        33         1\n",
       "...      ...      ...          ...       ...       ...\n",
       "11295     12     1525  4597.854350        34         1\n",
       "11296     12     1526  3644.121544        23         1\n",
       "11297     12     1528  3998.569324        11         1\n",
       "11298     12     1532  6111.889853        42         2\n",
       "11299     12     1534  2371.711192        16         1\n",
       "\n",
       "[11300 rows x 5 columns]"
      ]
     },
     "execution_count": 49,
     "metadata": {},
     "output_type": "execute_result"
    }
   ],
   "source": [
    "all_data_revenue = all_data.pivot_table(index=['month', 'user_id'],\n",
    "                                        values=['distance', 'duration'],\n",
    "                                        aggfunc={'distance':'sum', 'duration':'sum', 'user_id':'count'})\n",
    "all_data_revenue = all_data_revenue.rename(columns={'user_id':'quantity'})\n",
    "all_data_revenue = all_data_revenue.reset_index()\n",
    "print(all_data_revenue.info())\n",
    "all_data_revenue"
   ]
  },
  {
   "cell_type": "code",
   "execution_count": 50,
   "id": "e8c9d0ad",
   "metadata": {},
   "outputs": [
    {
     "data": {
      "text/html": [
       "<div>\n",
       "<style scoped>\n",
       "    .dataframe tbody tr th:only-of-type {\n",
       "        vertical-align: middle;\n",
       "    }\n",
       "\n",
       "    .dataframe tbody tr th {\n",
       "        vertical-align: top;\n",
       "    }\n",
       "\n",
       "    .dataframe thead th {\n",
       "        text-align: right;\n",
       "    }\n",
       "</style>\n",
       "<table border=\"1\" class=\"dataframe\">\n",
       "  <thead>\n",
       "    <tr style=\"text-align: right;\">\n",
       "      <th></th>\n",
       "      <th>month</th>\n",
       "      <th>user_id</th>\n",
       "      <th>distance</th>\n",
       "      <th>duration</th>\n",
       "      <th>quantity</th>\n",
       "      <th>revenue</th>\n",
       "    </tr>\n",
       "  </thead>\n",
       "  <tbody>\n",
       "    <tr>\n",
       "      <th>0</th>\n",
       "      <td>1</td>\n",
       "      <td>1</td>\n",
       "      <td>7027.511294</td>\n",
       "      <td>42</td>\n",
       "      <td>2</td>\n",
       "      <td>451.0</td>\n",
       "    </tr>\n",
       "    <tr>\n",
       "      <th>1</th>\n",
       "      <td>1</td>\n",
       "      <td>3</td>\n",
       "      <td>3061.777147</td>\n",
       "      <td>13</td>\n",
       "      <td>1</td>\n",
       "      <td>277.0</td>\n",
       "    </tr>\n",
       "    <tr>\n",
       "      <th>2</th>\n",
       "      <td>1</td>\n",
       "      <td>5</td>\n",
       "      <td>3914.646990</td>\n",
       "      <td>13</td>\n",
       "      <td>1</td>\n",
       "      <td>277.0</td>\n",
       "    </tr>\n",
       "    <tr>\n",
       "      <th>3</th>\n",
       "      <td>1</td>\n",
       "      <td>7</td>\n",
       "      <td>6478.080979</td>\n",
       "      <td>28</td>\n",
       "      <td>2</td>\n",
       "      <td>367.0</td>\n",
       "    </tr>\n",
       "    <tr>\n",
       "      <th>4</th>\n",
       "      <td>1</td>\n",
       "      <td>12</td>\n",
       "      <td>3577.151148</td>\n",
       "      <td>33</td>\n",
       "      <td>1</td>\n",
       "      <td>397.0</td>\n",
       "    </tr>\n",
       "    <tr>\n",
       "      <th>...</th>\n",
       "      <td>...</td>\n",
       "      <td>...</td>\n",
       "      <td>...</td>\n",
       "      <td>...</td>\n",
       "      <td>...</td>\n",
       "      <td>...</td>\n",
       "    </tr>\n",
       "    <tr>\n",
       "      <th>11295</th>\n",
       "      <td>12</td>\n",
       "      <td>1525</td>\n",
       "      <td>4597.854350</td>\n",
       "      <td>34</td>\n",
       "      <td>1</td>\n",
       "      <td>322.0</td>\n",
       "    </tr>\n",
       "    <tr>\n",
       "      <th>11296</th>\n",
       "      <td>12</td>\n",
       "      <td>1526</td>\n",
       "      <td>3644.121544</td>\n",
       "      <td>23</td>\n",
       "      <td>1</td>\n",
       "      <td>234.0</td>\n",
       "    </tr>\n",
       "    <tr>\n",
       "      <th>11297</th>\n",
       "      <td>12</td>\n",
       "      <td>1528</td>\n",
       "      <td>3998.569324</td>\n",
       "      <td>11</td>\n",
       "      <td>1</td>\n",
       "      <td>138.0</td>\n",
       "    </tr>\n",
       "    <tr>\n",
       "      <th>11298</th>\n",
       "      <td>12</td>\n",
       "      <td>1532</td>\n",
       "      <td>6111.889853</td>\n",
       "      <td>42</td>\n",
       "      <td>2</td>\n",
       "      <td>436.0</td>\n",
       "    </tr>\n",
       "    <tr>\n",
       "      <th>11299</th>\n",
       "      <td>12</td>\n",
       "      <td>1534</td>\n",
       "      <td>2371.711192</td>\n",
       "      <td>16</td>\n",
       "      <td>1</td>\n",
       "      <td>178.0</td>\n",
       "    </tr>\n",
       "  </tbody>\n",
       "</table>\n",
       "<p>11300 rows × 6 columns</p>\n",
       "</div>"
      ],
      "text/plain": [
       "       month  user_id     distance  duration  quantity  revenue\n",
       "0          1        1  7027.511294        42         2    451.0\n",
       "1          1        3  3061.777147        13         1    277.0\n",
       "2          1        5  3914.646990        13         1    277.0\n",
       "3          1        7  6478.080979        28         2    367.0\n",
       "4          1       12  3577.151148        33         1    397.0\n",
       "...      ...      ...          ...       ...       ...      ...\n",
       "11295     12     1525  4597.854350        34         1    322.0\n",
       "11296     12     1526  3644.121544        23         1    234.0\n",
       "11297     12     1528  3998.569324        11         1    138.0\n",
       "11298     12     1532  6111.889853        42         2    436.0\n",
       "11299     12     1534  2371.711192        16         1    178.0\n",
       "\n",
       "[11300 rows x 6 columns]"
      ]
     },
     "execution_count": 50,
     "metadata": {},
     "output_type": "execute_result"
    }
   ],
   "source": [
    "sub_minute_price = subscriptions_go.loc[subscriptions_go['subscription_type'] == 'ultra']['minute_price'].iloc[0]\n",
    "sub_price = subscriptions_go.loc[subscriptions_go['subscription_type'] == 'ultra']['subscription_fee'].iloc[0]\n",
    "sub_start_price = subscriptions_go.loc[subscriptions_go['subscription_type'] == 'ultra']['start_ride_price'].iloc[0]\n",
    "free_minute_price = subscriptions_go.loc[subscriptions_go['subscription_type'] == 'free']['minute_price'].iloc[0]\n",
    "free_price = subscriptions_go.loc[subscriptions_go['subscription_type'] == 'free']['subscription_fee'].iloc[0]\n",
    "free_start_price = subscriptions_go.loc[subscriptions_go['subscription_type'] == 'free']['start_ride_price'].iloc[0]\n",
    "subscribed_users = set(data_subscribed['user_id'])\n",
    "def revenue_count(row):\n",
    "    duration = row['duration']\n",
    "    quantity = row['quantity']\n",
    "    user_id = row['user_id']\n",
    "    if user_id in subscribed_users:\n",
    "        total_price = duration * sub_minute_price + quantity * sub_start_price + sub_price\n",
    "    else:\n",
    "        total_price = duration * free_minute_price + quantity * free_start_price + free_price\n",
    "    return total_price\n",
    "\n",
    "all_data_revenue['revenue'] = all_data_revenue.apply(revenue_count, axis=1)\n",
    "all_data_revenue"
   ]
  },
  {
   "cell_type": "markdown",
   "id": "f15bedd5",
   "metadata": {},
   "source": [
    "Создали датафрейм с затратами пользователей по месяцам. Траты пользователей добавили в колонку revenue. Далее проанализируем эти данные."
   ]
  },
  {
   "cell_type": "markdown",
   "id": "41545ac0",
   "metadata": {},
   "source": [
    "#### Шаг 6. Проверка гипотез"
   ]
  },
  {
   "cell_type": "markdown",
   "id": "b23450b1",
   "metadata": {},
   "source": [
    "##### Затраты времени на поездку"
   ]
  },
  {
   "cell_type": "code",
   "execution_count": 51,
   "id": "a8532220",
   "metadata": {},
   "outputs": [
    {
     "name": "stdout",
     "output_type": "stream",
     "text": [
      "count    6500.000000\n",
      "mean       19.037692\n",
      "std         5.577439\n",
      "min         4.000000\n",
      "25%        15.000000\n",
      "50%        19.000000\n",
      "75%        22.000000\n",
      "max        41.000000\n",
      "Name: duration, dtype: float64\n",
      "count    11473.000000\n",
      "mean        18.030855\n",
      "std          6.166175\n",
      "min          3.000000\n",
      "25%         14.000000\n",
      "50%         18.000000\n",
      "75%         22.000000\n",
      "max         35.000000\n",
      "Name: duration, dtype: float64\n"
     ]
    }
   ],
   "source": [
    "print(data_subscribed['duration'].describe())\n",
    "print(data_not_subscribed['duration'].describe())"
   ]
  },
  {
   "cell_type": "markdown",
   "id": "787052fb",
   "metadata": {},
   "source": [
    "Среднее время поездки за одну сессию больше у пользователей с подпиской - примерно на 1 минуту. Также как и медиана поездки. Далее проверим гипотезу, используя односторонние гипотезы для средних двух генеральных совокупностей. \n",
    "\n",
    "Нулевая гипотеза: время поездок пользователей одинаково. \n",
    "\n",
    "Альтернативная гипотеза: среднее время поездки за одну сессию больше у пользователей с подпиской. \n",
    "\n",
    "Альфа (уровень значимости), использованное здесь, будет использоваться и вдальнейшем - на уровне 5%."
   ]
  },
  {
   "cell_type": "code",
   "execution_count": 52,
   "id": "e9272764",
   "metadata": {},
   "outputs": [
    {
     "name": "stdout",
     "output_type": "stream",
     "text": [
      "p-значение: 8.577910347796266e-28\n",
      "Отвергаем нулевую гипотезу\n"
     ]
    }
   ],
   "source": [
    "alpha = 0.05\n",
    "results = st.ttest_ind(data_subscribed['duration'], data_not_subscribed['duration'], alternative='greater')\n",
    "\n",
    "print('p-значение:', results.pvalue)\n",
    "\n",
    "if results.pvalue < alpha:\n",
    "    print('Отвергаем нулевую гипотезу')\n",
    "else:\n",
    "    print('Не получилось отвергнуть нулевую гипотезу') "
   ]
  },
  {
   "cell_type": "markdown",
   "id": "b850fcd4",
   "metadata": {},
   "source": [
    "Проведя тест, отвергаем нулевую гипотезе о равном среднем времени - получается, что пользователи с подпиской тратят больше времени на поездки."
   ]
  },
  {
   "cell_type": "markdown",
   "id": "541ceac3",
   "metadata": {},
   "source": [
    "##### Проверка гипотоезы: расстояние за поездку не превышает 3130м"
   ]
  },
  {
   "cell_type": "code",
   "execution_count": 53,
   "id": "23ea867b",
   "metadata": {},
   "outputs": [
    {
     "data": {
      "text/plain": [
       "count    6500.000000\n",
       "mean     3115.445388\n",
       "std       836.895330\n",
       "min       244.210438\n",
       "25%      2785.444017\n",
       "50%      3148.637229\n",
       "75%      3560.574425\n",
       "max      5699.769662\n",
       "Name: distance, dtype: float64"
      ]
     },
     "execution_count": 53,
     "metadata": {},
     "output_type": "execute_result"
    }
   ],
   "source": [
    "data_subscribed['distance'].describe()"
   ]
  },
  {
   "cell_type": "markdown",
   "id": "9d736b9f",
   "metadata": {},
   "source": [
    " Нулевая гипотеза: расстояние одной поездки 3130м. Альтернативная гипотеза: расстояние превышает 3130м."
   ]
  },
  {
   "cell_type": "code",
   "execution_count": 54,
   "id": "d1d31c3a",
   "metadata": {},
   "outputs": [
    {
     "name": "stdout",
     "output_type": "stream",
     "text": [
      "p-значение: 0.9195368847849785\n",
      "Не получилось отвергнуть нулевую гипотезу\n"
     ]
    }
   ],
   "source": [
    "interested_value = 3130\n",
    "results = st.ttest_1samp(data_subscribed['distance'], interested_value, alternative='greater')\n",
    "\n",
    "print('p-значение:', results.pvalue)\n",
    "\n",
    "if results.pvalue < alpha:\n",
    "    print('Отвергаем нулевую гипотезу')\n",
    "else:\n",
    "    print('Не получилось отвергнуть нулевую гипотезу') "
   ]
  },
  {
   "cell_type": "markdown",
   "id": "6b703b68",
   "metadata": {},
   "source": [
    "В результате делаем вывод, что пользователи с подпиской в среднем проезжают около 3130м, то есть расстояние не превышает 3130м с очень высокой вероятностью."
   ]
  },
  {
   "cell_type": "markdown",
   "id": "11695fa5",
   "metadata": {},
   "source": [
    "##### Затраты пользователей"
   ]
  },
  {
   "cell_type": "markdown",
   "id": "18afdfce",
   "metadata": {},
   "source": [
    " Нулевая гипотеза: затраты пользователей одинаковы. Альтернативная гипотеза: затраты с подпиской больше."
   ]
  },
  {
   "cell_type": "code",
   "execution_count": 55,
   "id": "8a322287",
   "metadata": {},
   "outputs": [
    {
     "name": "stdout",
     "output_type": "stream",
     "text": [
      "count    4533.000000\n",
      "mean      362.792191\n",
      "std        88.262737\n",
      "min       223.000000\n",
      "25%       301.000000\n",
      "50%       337.000000\n",
      "75%       409.000000\n",
      "max       955.000000\n",
      "Name: revenue, dtype: float64\n",
      "count    6767.000000\n",
      "mean      329.332644\n",
      "std       183.268419\n",
      "min        74.000000\n",
      "25%       194.000000\n",
      "50%       274.000000\n",
      "75%       428.000000\n",
      "max      1444.000000\n",
      "Name: revenue, dtype: float64\n"
     ]
    }
   ],
   "source": [
    "all_data_revenue['subscription_type'] = all_data_revenue.apply(lambda row:\n",
    "                                                               'ultra' if row['user_id'] in subscribed_users \n",
    "                                                               else 'free',\n",
    "                                                               axis=1)\n",
    "print(all_data_revenue.query(\"subscription_type == 'ultra'\")['revenue'].describe())\n",
    "print(all_data_revenue.query(\"subscription_type == 'free'\")['revenue'].describe())"
   ]
  },
  {
   "cell_type": "code",
   "execution_count": 56,
   "id": "bb7c927d",
   "metadata": {},
   "outputs": [
    {
     "name": "stdout",
     "output_type": "stream",
     "text": [
      "p-значение: 2.0314113674862713e-30\n",
      "Отвергаем нулевую гипотезу\n"
     ]
    }
   ],
   "source": [
    "results = st.ttest_ind(all_data_revenue.query(\"subscription_type == 'ultra'\")['revenue'],\n",
    "                       all_data_revenue.query(\"subscription_type == 'free'\")['revenue'],\n",
    "                       alternative='greater')\n",
    "\n",
    "print('p-значение:', results.pvalue)\n",
    "\n",
    "if results.pvalue < alpha:\n",
    "    print('Отвергаем нулевую гипотезу')\n",
    "else:\n",
    "    print('Не получилось отвергнуть нулевую гипотезу')"
   ]
  },
  {
   "cell_type": "markdown",
   "id": "d2fdc1a9",
   "metadata": {},
   "source": [
    "Получилось значение около нуля - это говорит о том что затраты с подпиской наверняка больше, чем без нее."
   ]
  },
  {
   "cell_type": "markdown",
   "id": "61213c5e",
   "metadata": {},
   "source": [
    "#### Шаг 7. Распределения"
   ]
  },
  {
   "cell_type": "markdown",
   "id": "09256756",
   "metadata": {},
   "source": [
    "##### Поиск минимального числа промокодов"
   ]
  },
  {
   "cell_type": "code",
   "execution_count": 57,
   "id": "5ab1e82e",
   "metadata": {},
   "outputs": [
    {
     "name": "stdout",
     "output_type": "stream",
     "text": [
      "1173 101.0 0.9504520478979693\n"
     ]
    }
   ],
   "source": [
    "target_p = 0.95\n",
    "target = 100\n",
    "p = 0.1\n",
    "n = 100\n",
    "result = 0\n",
    "while result < target_p:\n",
    "    distr = st.binom(n, p)\n",
    "    result = 1 - distr.cdf(target)\n",
    "    n += 1\n",
    "print(n, distr.ppf(1 - target_p), 1 - distr.cdf(target))"
   ]
  },
  {
   "cell_type": "markdown",
   "id": "02f1be4e",
   "metadata": {},
   "source": [
    "Таким образом, если дать промокод на подписку 1170 пользователем 100 из них с вероятностью 95% продлят подписку. Проверим эти значения на биномиальном распределении. Это распределение можно было аппроксимировать нормальным. Покажем это на примере ниже."
   ]
  },
  {
   "cell_type": "code",
   "execution_count": 58,
   "id": "1f907cf0",
   "metadata": {},
   "outputs": [
    {
     "name": "stdout",
     "output_type": "stream",
     "text": [
      "mu:10.0\n",
      "sigma:3.0\n",
      "mu - 3 * sigma: 1.0\n",
      "mu + 3 * sigma: 19.0\n",
      "n:100\n"
     ]
    }
   ],
   "source": [
    "p = 0.1\n",
    "n = 100\n",
    "mu = p * n\n",
    "sigma = (n * p * (1 - p))**0.5\n",
    "distr = st.norm(mu, sigma)\n",
    "print(f\"\"\"mu:{mu}\n",
    "sigma:{sigma}\n",
    "mu - 3 * sigma: {mu - 3 * sigma}\n",
    "mu + 3 * sigma: {mu + 3 * sigma}\n",
    "n:{n}\"\"\")"
   ]
  },
  {
   "cell_type": "code",
   "execution_count": 59,
   "id": "2e24bc12",
   "metadata": {},
   "outputs": [
    {
     "name": "stdout",
     "output_type": "stream",
     "text": [
      "1170 100.02841955223583 0.9502851068730583\n"
     ]
    }
   ],
   "source": [
    "target_p = 0.95\n",
    "target = 100\n",
    "p = 0.1\n",
    "n = 100\n",
    "result = 0\n",
    "while result < target_p:\n",
    "    mu = n * p\n",
    "    sigma = (n * p * (1 - p))**0.5\n",
    "    distr = st.norm(mu, sigma)\n",
    "    result = 1 - distr.cdf(target)\n",
    "    n += 1\n",
    "print(n, distr.ppf(1 - target_p), 1 - distr.cdf(target))"
   ]
  },
  {
   "cell_type": "markdown",
   "id": "7d4323a6",
   "metadata": {},
   "source": [
    "Проверили условия аппроксимации биномиального распределения нормальным для 100 (их конечно будет больше, но нам надо узнать необходимое количество, поэтому начальной точкой отсчета будет 100). Оно не вышло за требуемый диапозон для нормального распределения и можно использовать его."
   ]
  },
  {
   "cell_type": "code",
   "execution_count": 60,
   "id": "b480862d",
   "metadata": {},
   "outputs": [
    {
     "name": "stdout",
     "output_type": "stream",
     "text": [
      "1170 100.0 0.9484850832625835\n"
     ]
    }
   ],
   "source": [
    "distr = st.binom(n, p)\n",
    "print(n, distr.ppf(1 - target_p), 1 - distr.cdf(target))"
   ]
  },
  {
   "cell_type": "code",
   "execution_count": 61,
   "id": "a6c00cfa",
   "metadata": {},
   "outputs": [
    {
     "data": {
      "image/png": "[encoded data removed]",
      "text/plain": [
       "<Figure size 640x480 with 1 Axes>"
      ]
     },
     "metadata": {},
     "output_type": "display_data"
    }
   ],
   "source": [
    "graph = []\n",
    "for i in range(75, 175):\n",
    "    a = distr.pmf(i)\n",
    "    graph.append(a)    \n",
    "plt.plot(range(75, 175), graph, 'bo')\n",
    "plt.xticks(range(75, 175, 25))\n",
    "plt.show() "
   ]
  },
  {
   "cell_type": "markdown",
   "id": "c437199a",
   "metadata": {},
   "source": [
    "Как мы можем видеть, для расчетов с биномиальным распределением мы получили 1173 пользователя для достижения нашей цели: получить 100 подписок с вероятностью 95%. При аппроксимации биномиального распределения нормальным мы получили, что необходимо дать 1170 бесплатных подписок, что почти соответствует результату биномиального распределения.\n"
   ]
  },
  {
   "cell_type": "markdown",
   "id": "5dfc0c2b",
   "metadata": {},
   "source": [
    "##### Оценка вероятности открытия уведомления"
   ]
  },
  {
   "cell_type": "code",
   "execution_count": 62,
   "id": "d8182f4f",
   "metadata": {},
   "outputs": [],
   "source": [
    "p_open = 0.4\n",
    "n_notifications = 1000000\n",
    "n_open = 399500"
   ]
  },
  {
   "cell_type": "markdown",
   "id": "bb60ecf7",
   "metadata": {},
   "source": [
    "Так как значение n велико, а вероятность близка к 0.5, воспользуемся нормальной аппроксимацией."
   ]
  },
  {
   "cell_type": "code",
   "execution_count": 63,
   "id": "102d81f6",
   "metadata": {},
   "outputs": [
    {
     "data": {
      "image/png": "[encoded data removed]",
      "text/plain": [
       "<Figure size 640x480 with 1 Axes>"
      ]
     },
     "metadata": {},
     "output_type": "display_data"
    }
   ],
   "source": [
    "mu = n_notifications * p_open\n",
    "sigma =  (n_notifications * p_open * (1 - p_open))**0.5\n",
    "left = int(mu - 4 * sigma)\n",
    "right = int(mu + 4 * sigma)\n",
    "x = range(left, right)\n",
    "norm_plot = plt.subplot()\n",
    "norm_plot.plot(x, st.norm.pdf(x, mu, sigma), 'b-', lw=2)\n",
    "x_ticks = range(int(mu - 3 * sigma), int(mu + 3 * sigma))\n",
    "plt.title(\"Распределение вероятности открыть уведомление\")\n",
    "plt.show()"
   ]
  },
  {
   "cell_type": "code",
   "execution_count": 64,
   "id": "ff26cf68",
   "metadata": {},
   "outputs": [
    {
     "name": "stdout",
     "output_type": "stream",
     "text": [
      "вероятность, что уведомление откроют не более 355,9 тыс. пользователей: 0.15371708296369768\n"
     ]
    }
   ],
   "source": [
    "print(f'вероятность, что уведомление откроют не более 355,9 тыс. пользователей: {st.norm.cdf(n_open, mu, sigma)}')"
   ]
  },
  {
   "cell_type": "markdown",
   "id": "8c5b7fb0",
   "metadata": {},
   "source": [
    "Таким образом, были рассмотрены два биномиальных распределения и получены результаты: нужно отправить промокод на бесплатную подписку 1173 людям, чтобы получить желаемый результат в 100 и более подписок с вероятностью 95%; вероятность, что уведомление откроют не более 355,9 тыс. пользователей 15,4%"
   ]
  },
  {
   "cell_type": "markdown",
   "id": "83d56de4",
   "metadata": {},
   "source": [
    "#### Общий вывод"
   ]
  },
  {
   "cell_type": "markdown",
   "id": "24f5ccb8",
   "metadata": {},
   "source": [
    "**Общий вывод**:\n",
    "\n",
    "В данной работе был проведен статистический анализ данных о пользователях самоката. \n",
    "Были получены данные из исходных датасетов о пользователях, подписках и поездках. Затем они были обработаны: устранены ошибки, пропуски и дубликаты.\n",
    "Далее в результате проведенных исследований получено, что:\n",
    "- Больше всего в данных пользователей из г. Пятигорск (219 пользователей), меньше всего - из Москвы (168 пользователей). \n",
    "- Пользователей без подписки больше на 16%, чем с подпиской (54% - без подписки, 46% с подпиской).\n",
    "- В полученных нами данных можем наблюдать большинство пользователей в возрасте 22-27 лет.\n",
    "- Основная часть поездок занимает от 2500 до 3800 метров. Очень редко пользователи ездят на расстояние более 5км.\n",
    "- Основная часть поездок занимает от 14 до 22 минут. Очень редко пользователи ездят более 30 минут.\n",
    "Для каждой величины были построены соответствующие графики/гистограммы.\n",
    "\n",
    "Потом датафреймы были объединены в один и подсчитана выручка для каждого пользователя по месяцам, а также визуализирована информация о дистанции и времени поездок для пользователей двух категорий: с подпиской и без нее. \n",
    "\n",
    "После этого были проверены гипотезы продакт-менеджеров и получили результат:\n",
    "- Пользователи с подпиской тратят больше времени на поездки.\n",
    "- Оптимальное расстояние с точки зрения износа в 3130м больше, чем пользователи проезжают в среднем за одну поездку.\n",
    "- Затраты пользователей с подпиской больше, чем без нее.\n",
    "\n",
    "Затем были построены распределения для достижения целей менеджеров и получены следующие результаты:\n",
    "- Для выполнения плана в 100 продленных  подписок после их бесплатной раздачи с вероятностью 95% надо дать бесплатную подписку 1173 пользователям, при условии, что подписку в среднем продлевают 10% пользователей.\n",
    "- Если разослать push-уведомление 1млн клиентов, то при условии, что его открывают 40% пользователей, то более 399,5тыс. пользователей не откроют это уведомление с вероятностью 15,4%.\n",
    "\n",
    "Общая рекомендация: попробовать увеличить количество пользователей с подписками - так будет выгоднее для компании."
   ]
  }
 ],
 "metadata": {
  "ExecuteTimeLog": [
   {
    "duration": 1285,
    "start_time": "2025-01-22T09:22:30.214Z"
   },
   {
    "duration": 259,
    "start_time": "2025-01-22T09:22:31.501Z"
   },
   {
    "duration": 0,
    "start_time": "2025-01-22T09:22:31.772Z"
   },
   {
    "duration": 0,
    "start_time": "2025-01-22T09:22:31.785Z"
   },
   {
    "duration": 0,
    "start_time": "2025-01-22T09:22:31.787Z"
   },
   {
    "duration": 0,
    "start_time": "2025-01-22T09:22:31.788Z"
   },
   {
    "duration": 0,
    "start_time": "2025-01-22T09:22:31.790Z"
   },
   {
    "duration": 0,
    "start_time": "2025-01-22T09:22:31.792Z"
   },
   {
    "duration": 0,
    "start_time": "2025-01-22T09:22:31.794Z"
   },
   {
    "duration": 0,
    "start_time": "2025-01-22T09:22:31.795Z"
   },
   {
    "duration": 0,
    "start_time": "2025-01-22T09:22:31.797Z"
   },
   {
    "duration": 0,
    "start_time": "2025-01-22T09:22:31.798Z"
   },
   {
    "duration": 0,
    "start_time": "2025-01-22T09:22:31.800Z"
   },
   {
    "duration": 0,
    "start_time": "2025-01-22T09:22:31.802Z"
   },
   {
    "duration": 0,
    "start_time": "2025-01-22T09:22:31.804Z"
   },
   {
    "duration": 0,
    "start_time": "2025-01-22T09:22:31.806Z"
   },
   {
    "duration": 0,
    "start_time": "2025-01-22T09:22:31.807Z"
   },
   {
    "duration": 0,
    "start_time": "2025-01-22T09:22:31.809Z"
   },
   {
    "duration": 0,
    "start_time": "2025-01-22T09:22:31.811Z"
   },
   {
    "duration": 0,
    "start_time": "2025-01-22T09:22:31.812Z"
   },
   {
    "duration": 0,
    "start_time": "2025-01-22T09:22:31.813Z"
   },
   {
    "duration": 0,
    "start_time": "2025-01-22T09:22:31.814Z"
   },
   {
    "duration": 0,
    "start_time": "2025-01-22T09:22:31.816Z"
   },
   {
    "duration": 0,
    "start_time": "2025-01-22T09:22:31.816Z"
   },
   {
    "duration": 0,
    "start_time": "2025-01-22T09:22:31.818Z"
   },
   {
    "duration": 0,
    "start_time": "2025-01-22T09:22:31.861Z"
   },
   {
    "duration": 0,
    "start_time": "2025-01-22T09:22:31.862Z"
   },
   {
    "duration": 0,
    "start_time": "2025-01-22T09:22:31.864Z"
   },
   {
    "duration": 0,
    "start_time": "2025-01-22T09:22:31.866Z"
   },
   {
    "duration": 0,
    "start_time": "2025-01-22T09:22:31.867Z"
   },
   {
    "duration": 0,
    "start_time": "2025-01-22T09:22:31.870Z"
   },
   {
    "duration": 0,
    "start_time": "2025-01-22T09:22:31.871Z"
   },
   {
    "duration": 0,
    "start_time": "2025-01-22T09:22:31.872Z"
   },
   {
    "duration": 0,
    "start_time": "2025-01-22T09:22:31.873Z"
   },
   {
    "duration": 0,
    "start_time": "2025-01-22T09:22:31.874Z"
   },
   {
    "duration": 0,
    "start_time": "2025-01-22T09:22:31.875Z"
   },
   {
    "duration": 0,
    "start_time": "2025-01-22T09:22:31.876Z"
   },
   {
    "duration": 0,
    "start_time": "2025-01-22T09:22:31.878Z"
   },
   {
    "duration": 0,
    "start_time": "2025-01-22T09:22:31.879Z"
   },
   {
    "duration": 1,
    "start_time": "2025-01-22T09:22:31.879Z"
   },
   {
    "duration": 0,
    "start_time": "2025-01-22T09:22:31.881Z"
   },
   {
    "duration": 0,
    "start_time": "2025-01-22T09:22:31.883Z"
   },
   {
    "duration": 0,
    "start_time": "2025-01-22T09:22:31.885Z"
   },
   {
    "duration": 0,
    "start_time": "2025-01-22T09:22:31.887Z"
   },
   {
    "duration": 0,
    "start_time": "2025-01-22T09:22:31.888Z"
   },
   {
    "duration": 0,
    "start_time": "2025-01-22T09:22:31.890Z"
   },
   {
    "duration": 0,
    "start_time": "2025-01-22T09:22:31.891Z"
   },
   {
    "duration": 0,
    "start_time": "2025-01-22T09:22:31.892Z"
   },
   {
    "duration": 0,
    "start_time": "2025-01-22T09:22:31.893Z"
   },
   {
    "duration": 0,
    "start_time": "2025-01-22T09:22:31.894Z"
   },
   {
    "duration": 1246,
    "start_time": "2025-01-22T09:22:52.672Z"
   },
   {
    "duration": 184,
    "start_time": "2025-01-22T09:22:53.920Z"
   },
   {
    "duration": 77,
    "start_time": "2025-01-22T09:22:54.106Z"
   },
   {
    "duration": 150,
    "start_time": "2025-01-22T09:22:54.185Z"
   },
   {
    "duration": 30,
    "start_time": "2025-01-22T09:22:54.337Z"
   },
   {
    "duration": 25,
    "start_time": "2025-01-22T09:22:54.370Z"
   },
   {
    "duration": 22,
    "start_time": "2025-01-22T09:22:54.396Z"
   },
   {
    "duration": 42,
    "start_time": "2025-01-22T09:22:54.420Z"
   },
   {
    "duration": 31,
    "start_time": "2025-01-22T09:22:54.466Z"
   },
   {
    "duration": 8,
    "start_time": "2025-01-22T09:22:54.499Z"
   },
   {
    "duration": 17,
    "start_time": "2025-01-22T09:22:54.508Z"
   },
   {
    "duration": 18,
    "start_time": "2025-01-22T09:22:54.560Z"
   },
   {
    "duration": 7,
    "start_time": "2025-01-22T09:22:54.580Z"
   },
   {
    "duration": 238,
    "start_time": "2025-01-22T09:22:54.590Z"
   },
   {
    "duration": 6,
    "start_time": "2025-01-22T09:22:54.830Z"
   },
   {
    "duration": 185,
    "start_time": "2025-01-22T09:22:54.838Z"
   },
   {
    "duration": 5,
    "start_time": "2025-01-22T09:22:55.025Z"
   },
   {
    "duration": 353,
    "start_time": "2025-01-22T09:22:55.031Z"
   },
   {
    "duration": 431,
    "start_time": "2025-01-22T09:22:55.387Z"
   },
   {
    "duration": 10,
    "start_time": "2025-01-22T09:22:55.820Z"
   },
   {
    "duration": 422,
    "start_time": "2025-01-22T09:22:55.832Z"
   },
   {
    "duration": 13,
    "start_time": "2025-01-22T09:22:56.259Z"
   },
   {
    "duration": 17,
    "start_time": "2025-01-22T09:22:56.274Z"
   },
   {
    "duration": 14,
    "start_time": "2025-01-22T09:22:56.293Z"
   },
   {
    "duration": 383,
    "start_time": "2025-01-22T09:22:56.309Z"
   },
   {
    "duration": 468,
    "start_time": "2025-01-22T09:22:56.694Z"
   },
   {
    "duration": 36,
    "start_time": "2025-01-22T09:22:57.164Z"
   },
   {
    "duration": 26,
    "start_time": "2025-01-22T09:22:57.202Z"
   },
   {
    "duration": 57,
    "start_time": "2025-01-22T09:22:57.230Z"
   },
   {
    "duration": 397,
    "start_time": "2025-01-22T09:22:57.289Z"
   },
   {
    "duration": 472,
    "start_time": "2025-01-22T09:22:57.688Z"
   },
   {
    "duration": 438,
    "start_time": "2025-01-22T09:22:58.162Z"
   },
   {
    "duration": 409,
    "start_time": "2025-01-22T09:22:58.601Z"
   },
   {
    "duration": 22,
    "start_time": "2025-01-22T09:22:59.012Z"
   },
   {
    "duration": 70,
    "start_time": "2025-01-22T09:22:59.036Z"
   },
   {
    "duration": 206,
    "start_time": "2025-01-22T09:22:59.108Z"
   },
   {
    "duration": 13,
    "start_time": "2025-01-22T09:22:59.316Z"
   },
   {
    "duration": 7,
    "start_time": "2025-01-22T09:22:59.331Z"
   },
   {
    "duration": 17,
    "start_time": "2025-01-22T09:22:59.360Z"
   },
   {
    "duration": 9,
    "start_time": "2025-01-22T09:22:59.381Z"
   },
   {
    "duration": 135,
    "start_time": "2025-01-22T09:22:59.395Z"
   },
   {
    "duration": 28,
    "start_time": "2025-01-22T09:22:59.532Z"
   },
   {
    "duration": 1094,
    "start_time": "2025-01-22T09:22:59.563Z"
   },
   {
    "duration": 6,
    "start_time": "2025-01-22T09:23:00.660Z"
   },
   {
    "duration": 1057,
    "start_time": "2025-01-22T09:23:00.668Z"
   },
   {
    "duration": 6,
    "start_time": "2025-01-22T09:23:01.727Z"
   },
   {
    "duration": 192,
    "start_time": "2025-01-22T09:23:01.735Z"
   },
   {
    "duration": 3,
    "start_time": "2025-01-22T09:23:01.929Z"
   },
   {
    "duration": 200,
    "start_time": "2025-01-22T09:23:01.933Z"
   },
   {
    "duration": 5,
    "start_time": "2025-01-22T09:23:02.135Z"
   },
   {
    "duration": 1217,
    "start_time": "2025-01-23T04:37:23.013Z"
   },
   {
    "duration": 190,
    "start_time": "2025-01-23T04:37:24.232Z"
   },
   {
    "duration": 0,
    "start_time": "2025-01-23T04:37:24.426Z"
   },
   {
    "duration": 0,
    "start_time": "2025-01-23T04:37:24.427Z"
   },
   {
    "duration": 0,
    "start_time": "2025-01-23T04:37:24.428Z"
   },
   {
    "duration": 0,
    "start_time": "2025-01-23T04:37:24.429Z"
   },
   {
    "duration": 0,
    "start_time": "2025-01-23T04:37:24.430Z"
   },
   {
    "duration": 0,
    "start_time": "2025-01-23T04:37:24.431Z"
   },
   {
    "duration": 0,
    "start_time": "2025-01-23T04:37:24.432Z"
   },
   {
    "duration": 0,
    "start_time": "2025-01-23T04:37:24.433Z"
   },
   {
    "duration": 0,
    "start_time": "2025-01-23T04:37:24.434Z"
   },
   {
    "duration": 0,
    "start_time": "2025-01-23T04:37:24.435Z"
   },
   {
    "duration": 0,
    "start_time": "2025-01-23T04:37:24.436Z"
   },
   {
    "duration": 0,
    "start_time": "2025-01-23T04:37:24.438Z"
   },
   {
    "duration": 0,
    "start_time": "2025-01-23T04:37:24.439Z"
   },
   {
    "duration": 0,
    "start_time": "2025-01-23T04:37:24.440Z"
   },
   {
    "duration": 0,
    "start_time": "2025-01-23T04:37:24.441Z"
   },
   {
    "duration": 0,
    "start_time": "2025-01-23T04:37:24.442Z"
   },
   {
    "duration": 0,
    "start_time": "2025-01-23T04:37:24.443Z"
   },
   {
    "duration": 0,
    "start_time": "2025-01-23T04:37:24.444Z"
   },
   {
    "duration": 0,
    "start_time": "2025-01-23T04:37:24.445Z"
   },
   {
    "duration": 0,
    "start_time": "2025-01-23T04:37:24.446Z"
   },
   {
    "duration": 0,
    "start_time": "2025-01-23T04:37:24.447Z"
   },
   {
    "duration": 0,
    "start_time": "2025-01-23T04:37:24.448Z"
   },
   {
    "duration": 0,
    "start_time": "2025-01-23T04:37:24.449Z"
   },
   {
    "duration": 0,
    "start_time": "2025-01-23T04:37:24.450Z"
   },
   {
    "duration": 0,
    "start_time": "2025-01-23T04:37:24.451Z"
   },
   {
    "duration": 0,
    "start_time": "2025-01-23T04:37:24.452Z"
   },
   {
    "duration": 0,
    "start_time": "2025-01-23T04:37:24.453Z"
   },
   {
    "duration": 0,
    "start_time": "2025-01-23T04:37:24.454Z"
   },
   {
    "duration": 0,
    "start_time": "2025-01-23T04:37:24.455Z"
   },
   {
    "duration": 0,
    "start_time": "2025-01-23T04:37:24.456Z"
   },
   {
    "duration": 0,
    "start_time": "2025-01-23T04:37:24.457Z"
   },
   {
    "duration": 0,
    "start_time": "2025-01-23T04:37:24.458Z"
   },
   {
    "duration": 0,
    "start_time": "2025-01-23T04:37:24.459Z"
   },
   {
    "duration": 0,
    "start_time": "2025-01-23T04:37:24.460Z"
   },
   {
    "duration": 0,
    "start_time": "2025-01-23T04:37:24.521Z"
   },
   {
    "duration": 0,
    "start_time": "2025-01-23T04:37:24.522Z"
   },
   {
    "duration": 0,
    "start_time": "2025-01-23T04:37:24.524Z"
   },
   {
    "duration": 0,
    "start_time": "2025-01-23T04:37:24.524Z"
   },
   {
    "duration": 0,
    "start_time": "2025-01-23T04:37:24.526Z"
   },
   {
    "duration": 0,
    "start_time": "2025-01-23T04:37:24.527Z"
   },
   {
    "duration": 0,
    "start_time": "2025-01-23T04:37:24.528Z"
   },
   {
    "duration": 0,
    "start_time": "2025-01-23T04:37:24.529Z"
   },
   {
    "duration": 0,
    "start_time": "2025-01-23T04:37:24.530Z"
   },
   {
    "duration": 0,
    "start_time": "2025-01-23T04:37:24.531Z"
   },
   {
    "duration": 0,
    "start_time": "2025-01-23T04:37:24.532Z"
   },
   {
    "duration": 0,
    "start_time": "2025-01-23T04:37:24.533Z"
   },
   {
    "duration": 0,
    "start_time": "2025-01-23T04:37:24.534Z"
   },
   {
    "duration": 0,
    "start_time": "2025-01-23T04:37:24.535Z"
   },
   {
    "duration": 0,
    "start_time": "2025-01-23T04:37:24.536Z"
   },
   {
    "duration": 0,
    "start_time": "2025-01-23T04:37:24.537Z"
   },
   {
    "duration": 0,
    "start_time": "2025-01-23T04:37:24.538Z"
   },
   {
    "duration": 0,
    "start_time": "2025-01-23T04:37:24.538Z"
   },
   {
    "duration": 1,
    "start_time": "2025-01-23T04:37:24.539Z"
   },
   {
    "duration": 0,
    "start_time": "2025-01-23T04:37:24.541Z"
   },
   {
    "duration": 0,
    "start_time": "2025-01-23T04:37:24.542Z"
   },
   {
    "duration": 0,
    "start_time": "2025-01-23T04:37:24.543Z"
   },
   {
    "duration": 0,
    "start_time": "2025-01-23T04:37:24.544Z"
   },
   {
    "duration": 0,
    "start_time": "2025-01-23T04:37:24.545Z"
   },
   {
    "duration": 0,
    "start_time": "2025-01-23T04:37:24.546Z"
   },
   {
    "duration": 0,
    "start_time": "2025-01-23T04:37:24.547Z"
   },
   {
    "duration": 0,
    "start_time": "2025-01-23T04:37:24.548Z"
   },
   {
    "duration": 0,
    "start_time": "2025-01-23T04:37:24.549Z"
   },
   {
    "duration": 1062,
    "start_time": "2025-01-23T04:38:16.401Z"
   },
   {
    "duration": 132,
    "start_time": "2025-01-23T04:38:17.465Z"
   },
   {
    "duration": 58,
    "start_time": "2025-01-23T04:38:17.602Z"
   },
   {
    "duration": 78,
    "start_time": "2025-01-23T04:38:17.662Z"
   },
   {
    "duration": 20,
    "start_time": "2025-01-23T04:38:17.741Z"
   },
   {
    "duration": 14,
    "start_time": "2025-01-23T04:38:17.762Z"
   },
   {
    "duration": 25,
    "start_time": "2025-01-23T04:38:17.777Z"
   },
   {
    "duration": 28,
    "start_time": "2025-01-23T04:38:17.803Z"
   },
   {
    "duration": 12,
    "start_time": "2025-01-23T04:38:17.834Z"
   },
   {
    "duration": 27,
    "start_time": "2025-01-23T04:38:17.847Z"
   },
   {
    "duration": 11,
    "start_time": "2025-01-23T04:38:17.876Z"
   },
   {
    "duration": 49,
    "start_time": "2025-01-23T04:38:17.888Z"
   },
   {
    "duration": 6,
    "start_time": "2025-01-23T04:38:17.939Z"
   },
   {
    "duration": 13,
    "start_time": "2025-01-23T04:38:17.946Z"
   },
   {
    "duration": 20,
    "start_time": "2025-01-23T04:38:17.961Z"
   },
   {
    "duration": 9,
    "start_time": "2025-01-23T04:38:17.983Z"
   },
   {
    "duration": 6,
    "start_time": "2025-01-23T04:38:18.022Z"
   },
   {
    "duration": 177,
    "start_time": "2025-01-23T04:38:18.030Z"
   },
   {
    "duration": 13,
    "start_time": "2025-01-23T04:38:18.209Z"
   },
   {
    "duration": 98,
    "start_time": "2025-01-23T04:38:18.224Z"
   },
   {
    "duration": 7,
    "start_time": "2025-01-23T04:38:18.324Z"
   },
   {
    "duration": 25,
    "start_time": "2025-01-23T04:38:18.333Z"
   },
   {
    "duration": 273,
    "start_time": "2025-01-23T04:38:18.360Z"
   },
   {
    "duration": 342,
    "start_time": "2025-01-23T04:38:18.635Z"
   },
   {
    "duration": 10,
    "start_time": "2025-01-23T04:38:18.979Z"
   },
   {
    "duration": 344,
    "start_time": "2025-01-23T04:38:18.991Z"
   },
   {
    "duration": 10,
    "start_time": "2025-01-23T04:38:19.340Z"
   },
   {
    "duration": 23,
    "start_time": "2025-01-23T04:38:19.351Z"
   },
   {
    "duration": 10,
    "start_time": "2025-01-23T04:38:19.376Z"
   },
   {
    "duration": 346,
    "start_time": "2025-01-23T04:38:19.387Z"
   },
   {
    "duration": 404,
    "start_time": "2025-01-23T04:38:19.735Z"
   },
   {
    "duration": 152,
    "start_time": "2025-01-23T04:38:20.141Z"
   },
   {
    "duration": 127,
    "start_time": "2025-01-23T04:38:20.295Z"
   },
   {
    "duration": 5,
    "start_time": "2025-01-23T04:38:20.423Z"
   },
   {
    "duration": 52,
    "start_time": "2025-01-23T04:38:20.429Z"
   },
   {
    "duration": 19,
    "start_time": "2025-01-23T04:38:20.483Z"
   },
   {
    "duration": 18,
    "start_time": "2025-01-23T04:38:20.504Z"
   },
   {
    "duration": 18,
    "start_time": "2025-01-23T04:38:20.524Z"
   },
   {
    "duration": 72,
    "start_time": "2025-01-23T04:38:20.544Z"
   },
   {
    "duration": 40,
    "start_time": "2025-01-23T04:38:20.617Z"
   },
   {
    "duration": 31,
    "start_time": "2025-01-23T04:38:20.659Z"
   },
   {
    "duration": 19,
    "start_time": "2025-01-23T04:38:20.692Z"
   },
   {
    "duration": 316,
    "start_time": "2025-01-23T04:38:20.713Z"
   },
   {
    "duration": 370,
    "start_time": "2025-01-23T04:38:21.031Z"
   },
   {
    "duration": 337,
    "start_time": "2025-01-23T04:38:21.402Z"
   },
   {
    "duration": 415,
    "start_time": "2025-01-23T04:38:21.741Z"
   },
   {
    "duration": 13,
    "start_time": "2025-01-23T04:38:22.157Z"
   },
   {
    "duration": 41,
    "start_time": "2025-01-23T04:38:22.171Z"
   },
   {
    "duration": 35,
    "start_time": "2025-01-23T04:38:22.214Z"
   },
   {
    "duration": 173,
    "start_time": "2025-01-23T04:38:22.250Z"
   },
   {
    "duration": 14,
    "start_time": "2025-01-23T04:38:22.425Z"
   },
   {
    "duration": 16,
    "start_time": "2025-01-23T04:38:22.441Z"
   },
   {
    "duration": 11,
    "start_time": "2025-01-23T04:38:22.458Z"
   },
   {
    "duration": 5,
    "start_time": "2025-01-23T04:38:22.470Z"
   },
   {
    "duration": 107,
    "start_time": "2025-01-23T04:38:22.476Z"
   },
   {
    "duration": 9,
    "start_time": "2025-01-23T04:38:22.585Z"
   },
   {
    "duration": 800,
    "start_time": "2025-01-23T04:38:22.595Z"
   },
   {
    "duration": 5,
    "start_time": "2025-01-23T04:38:23.397Z"
   },
   {
    "duration": 883,
    "start_time": "2025-01-23T04:38:23.403Z"
   },
   {
    "duration": 4,
    "start_time": "2025-01-23T04:38:24.287Z"
   },
   {
    "duration": 133,
    "start_time": "2025-01-23T04:38:24.293Z"
   },
   {
    "duration": 3,
    "start_time": "2025-01-23T04:38:24.427Z"
   },
   {
    "duration": 159,
    "start_time": "2025-01-23T04:38:24.431Z"
   },
   {
    "duration": 4,
    "start_time": "2025-01-23T04:38:24.592Z"
   }
  ],
  "kernelspec": {
   "display_name": "Python 3 (ipykernel)",
   "language": "python",
   "name": "python3"
  },
  "language_info": {
   "codemirror_mode": {
    "name": "ipython",
    "version": 3
   },
   "file_extension": ".py",
   "mimetype": "text/x-python",
   "name": "python",
   "nbconvert_exporter": "python",
   "pygments_lexer": "ipython3",
   "version": "3.9.20"
  },
  "toc": {
   "base_numbering": 1,
   "nav_menu": {},
   "number_sections": true,
   "sideBar": true,
   "skip_h1_title": true,
   "title_cell": "Table of Contents",
   "title_sidebar": "Contents",
   "toc_cell": false,
   "toc_position": {
    "height": "551px",
    "left": "27px",
    "top": "111.141px",
    "width": "281px"
   },
   "toc_section_display": true,
   "toc_window_display": true
  }
 },
 "nbformat": 4,
 "nbformat_minor": 5
}
